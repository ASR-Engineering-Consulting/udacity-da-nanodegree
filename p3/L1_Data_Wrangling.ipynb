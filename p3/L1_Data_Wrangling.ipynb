{
 "cells": [
  {
   "cell_type": "markdown",
   "metadata": {},
   "source": [
    "# Lesson 1\n",
    "## Data Wrangling"
   ]
  },
  {
   "cell_type": "code",
   "execution_count": 1,
   "metadata": {
    "collapsed": true
   },
   "outputs": [],
   "source": [
    "# set up environment\n",
    "import numpy as np\n",
    "import pandas as pd"
   ]
  },
  {
   "cell_type": "markdown",
   "metadata": {},
   "source": [
    "### Quizzes\n",
    "Your task is as follows:\n",
    "- read the provided Excel file\n",
    "- find and return the min, max and average values for the COAST region\n",
    "- find and return the time value for the min and max entries\n",
    "- the time values should be returned as Python tuples\n",
    "\n",
    "Please see the test function for the expected return format"
   ]
  },
  {
   "cell_type": "code",
   "execution_count": 14,
   "metadata": {
    "collapsed": false
   },
   "outputs": [
    {
     "data": {
      "text/html": [
       "<div>\n",
       "<table border=\"1\" class=\"dataframe\">\n",
       "  <thead>\n",
       "    <tr style=\"text-align: right;\">\n",
       "      <th></th>\n",
       "      <th>Hour_End</th>\n",
       "      <th>COAST</th>\n",
       "      <th>EAST</th>\n",
       "      <th>FAR_WEST</th>\n",
       "      <th>NORTH</th>\n",
       "      <th>NORTH_C</th>\n",
       "      <th>SOUTHERN</th>\n",
       "      <th>SOUTH_C</th>\n",
       "      <th>WEST</th>\n",
       "      <th>ERCOT</th>\n",
       "    </tr>\n",
       "  </thead>\n",
       "  <tbody>\n",
       "    <tr>\n",
       "      <th>0</th>\n",
       "      <td>2013-01-01 01:00:00</td>\n",
       "      <td>7606.263544</td>\n",
       "      <td>1073.892438</td>\n",
       "      <td>1411.750567</td>\n",
       "      <td>784.978166</td>\n",
       "      <td>10369.094390</td>\n",
       "      <td>2206.675077</td>\n",
       "      <td>4368.490945</td>\n",
       "      <td>882.931901</td>\n",
       "      <td>28704.077028</td>\n",
       "    </tr>\n",
       "    <tr>\n",
       "      <th>1</th>\n",
       "      <td>2013-01-01 02:00:00</td>\n",
       "      <td>7388.082714</td>\n",
       "      <td>1035.021938</td>\n",
       "      <td>1403.472287</td>\n",
       "      <td>776.307387</td>\n",
       "      <td>10152.358518</td>\n",
       "      <td>2159.733208</td>\n",
       "      <td>4233.587967</td>\n",
       "      <td>872.404750</td>\n",
       "      <td>28020.968769</td>\n",
       "    </tr>\n",
       "    <tr>\n",
       "      <th>2</th>\n",
       "      <td>2013-01-01 03:00:00</td>\n",
       "      <td>7178.867878</td>\n",
       "      <td>1036.088697</td>\n",
       "      <td>1395.053150</td>\n",
       "      <td>768.125748</td>\n",
       "      <td>9988.051418</td>\n",
       "      <td>2065.114706</td>\n",
       "      <td>4082.862860</td>\n",
       "      <td>868.853938</td>\n",
       "      <td>27383.018395</td>\n",
       "    </tr>\n",
       "    <tr>\n",
       "      <th>3</th>\n",
       "      <td>2013-01-01 04:00:00</td>\n",
       "      <td>7038.822581</td>\n",
       "      <td>1032.648841</td>\n",
       "      <td>1395.508820</td>\n",
       "      <td>770.937969</td>\n",
       "      <td>9946.658655</td>\n",
       "      <td>1990.903699</td>\n",
       "      <td>4010.489608</td>\n",
       "      <td>865.701201</td>\n",
       "      <td>27051.671374</td>\n",
       "    </tr>\n",
       "    <tr>\n",
       "      <th>4</th>\n",
       "      <td>2013-01-01 05:00:00</td>\n",
       "      <td>6990.857940</td>\n",
       "      <td>1042.823044</td>\n",
       "      <td>1401.216842</td>\n",
       "      <td>779.089313</td>\n",
       "      <td>10096.664190</td>\n",
       "      <td>1954.807585</td>\n",
       "      <td>4038.655997</td>\n",
       "      <td>879.924249</td>\n",
       "      <td>27184.039160</td>\n",
       "    </tr>\n",
       "  </tbody>\n",
       "</table>\n",
       "</div>"
      ],
      "text/plain": [
       "             Hour_End        COAST         EAST     FAR_WEST       NORTH  \\\n",
       "0 2013-01-01 01:00:00  7606.263544  1073.892438  1411.750567  784.978166   \n",
       "1 2013-01-01 02:00:00  7388.082714  1035.021938  1403.472287  776.307387   \n",
       "2 2013-01-01 03:00:00  7178.867878  1036.088697  1395.053150  768.125748   \n",
       "3 2013-01-01 04:00:00  7038.822581  1032.648841  1395.508820  770.937969   \n",
       "4 2013-01-01 05:00:00  6990.857940  1042.823044  1401.216842  779.089313   \n",
       "\n",
       "        NORTH_C     SOUTHERN      SOUTH_C        WEST         ERCOT  \n",
       "0  10369.094390  2206.675077  4368.490945  882.931901  28704.077028  \n",
       "1  10152.358518  2159.733208  4233.587967  872.404750  28020.968769  \n",
       "2   9988.051418  2065.114706  4082.862860  868.853938  27383.018395  \n",
       "3   9946.658655  1990.903699  4010.489608  865.701201  27051.671374  \n",
       "4  10096.664190  1954.807585  4038.655997  879.924249  27184.039160  "
      ]
     },
     "execution_count": 14,
     "metadata": {},
     "output_type": "execute_result"
    }
   ],
   "source": [
    "# read data from local file system\n",
    "data = pd.read_excel(\"2013_ERCOT_Hourly_Load_Data.xls\")\n",
    "data.head()"
   ]
  },
  {
   "cell_type": "code",
   "execution_count": 5,
   "metadata": {
    "collapsed": false
   },
   "outputs": [
    {
     "data": {
      "text/plain": [
       "Hour_End    datetime64[ns]\n",
       "COAST              float64\n",
       "EAST               float64\n",
       "FAR_WEST           float64\n",
       "NORTH              float64\n",
       "NORTH_C            float64\n",
       "SOUTHERN           float64\n",
       "SOUTH_C            float64\n",
       "WEST               float64\n",
       "ERCOT              float64\n",
       "dtype: object"
      ]
     },
     "execution_count": 5,
     "metadata": {},
     "output_type": "execute_result"
    }
   ],
   "source": [
    "data.dtypes"
   ]
  },
  {
   "cell_type": "code",
   "execution_count": 8,
   "metadata": {
    "collapsed": false
   },
   "outputs": [
    {
     "data": {
      "text/plain": [
       "count     7295.000000\n",
       "mean     10976.933461\n",
       "std       2641.539915\n",
       "min       6602.113899\n",
       "25%       9125.688014\n",
       "50%      10265.538541\n",
       "75%      12586.700769\n",
       "max      18779.025510\n",
       "Name: COAST, dtype: float64"
      ]
     },
     "execution_count": 8,
     "metadata": {},
     "output_type": "execute_result"
    }
   ],
   "source": [
    "data[\"COAST\"].describe()"
   ]
  },
  {
   "cell_type": "code",
   "execution_count": 61,
   "metadata": {
    "collapsed": false
   },
   "outputs": [
    {
     "name": "stdout",
     "output_type": "stream",
     "text": [
      "18779.02551 6602.113899 10976.933460679751\n"
     ]
    }
   ],
   "source": [
    "print(data[\"COAST\"].max(), data[\"COAST\"].min(), np.mean(data[\"COAST\"]))"
   ]
  },
  {
   "cell_type": "code",
   "execution_count": 34,
   "metadata": {
    "collapsed": false
   },
   "outputs": [
    {
     "data": {
      "text/html": [
       "<div>\n",
       "<table border=\"1\" class=\"dataframe\">\n",
       "  <thead>\n",
       "    <tr style=\"text-align: right;\">\n",
       "      <th></th>\n",
       "      <th>Hour_End</th>\n",
       "      <th>COAST</th>\n",
       "    </tr>\n",
       "  </thead>\n",
       "  <tbody>\n",
       "    <tr>\n",
       "      <th>5391</th>\n",
       "      <td>2013-08-13 17:00:00</td>\n",
       "      <td>18779.02551</td>\n",
       "    </tr>\n",
       "  </tbody>\n",
       "</table>\n",
       "</div>"
      ],
      "text/plain": [
       "                Hour_End        COAST\n",
       "5391 2013-08-13 17:00:00  18779.02551"
      ]
     },
     "execution_count": 34,
     "metadata": {},
     "output_type": "execute_result"
    }
   ],
   "source": [
    "coast_max = data[[\"Hour_End\", \"COAST\"]].ix[data[\"COAST\"] == np.max(data[\"COAST\"])]\n",
    "coast_max"
   ]
  },
  {
   "cell_type": "code",
   "execution_count": 45,
   "metadata": {
    "collapsed": false
   },
   "outputs": [
    {
     "data": {
      "text/html": [
       "<div>\n",
       "<table border=\"1\" class=\"dataframe\">\n",
       "  <thead>\n",
       "    <tr style=\"text-align: right;\">\n",
       "      <th></th>\n",
       "      <th>Hour_End</th>\n",
       "      <th>COAST</th>\n",
       "    </tr>\n",
       "  </thead>\n",
       "  <tbody>\n",
       "    <tr>\n",
       "      <th>795</th>\n",
       "      <td>2013-02-03 04:00:00</td>\n",
       "      <td>6602.113899</td>\n",
       "    </tr>\n",
       "  </tbody>\n",
       "</table>\n",
       "</div>"
      ],
      "text/plain": [
       "               Hour_End        COAST\n",
       "795 2013-02-03 04:00:00  6602.113899"
      ]
     },
     "execution_count": 45,
     "metadata": {},
     "output_type": "execute_result"
    }
   ],
   "source": [
    "coast_min = data[[\"Hour_End\", \"COAST\"]].ix[data[\"COAST\"] == np.min(data[\"COAST\"])]\n",
    "coast_min"
   ]
  },
  {
   "cell_type": "code",
   "execution_count": 46,
   "metadata": {
    "collapsed": false
   },
   "outputs": [
    {
     "data": {
      "text/plain": [
       "array([[Timestamp('2013-08-13 17:00:00'), 18779.025510000003]], dtype=object)"
      ]
     },
     "execution_count": 46,
     "metadata": {},
     "output_type": "execute_result"
    }
   ],
   "source": [
    "coast_max.values"
   ]
  },
  {
   "cell_type": "code",
   "execution_count": 47,
   "metadata": {
    "collapsed": false
   },
   "outputs": [
    {
     "data": {
      "text/plain": [
       "array([[Timestamp('2013-02-03 04:00:00'), 6602.113898999982]], dtype=object)"
      ]
     },
     "execution_count": 47,
     "metadata": {},
     "output_type": "execute_result"
    }
   ],
   "source": [
    "coast_min.values"
   ]
  },
  {
   "cell_type": "markdown",
   "metadata": {},
   "source": [
    "### Playing around with web services and requests"
   ]
  },
  {
   "cell_type": "code",
   "execution_count": 75,
   "metadata": {
    "collapsed": false
   },
   "outputs": [],
   "source": [
    "# To experiment with this code freely you will have to run this code locally.\n",
    "# Take a look at the main() function for an example of how to use the code.\n",
    "# We have provided example json output in the other code editor tabs for you to\n",
    "# look at, but you will not be able to run any queries through our UI.\n",
    "import json\n",
    "import requests\n",
    "\n",
    "\n",
    "BASE_URL = \"http://musicbrainz.org/ws/2/\"\n",
    "ARTIST_URL = BASE_URL + \"artist/\"\n",
    "\n",
    "# query parameters are given to the requests.get function as a dictionary; this\n",
    "# variable contains some starter parameters.\n",
    "query_type = {  \"simple\": {},\n",
    "                \"atr\": {\"inc\": \"aliases+tags+ratings\"},\n",
    "                \"aliases\": {\"inc\": \"aliases\"},\n",
    "                \"releases\": {\"inc\": \"releases\"}}\n",
    "\n",
    "\n",
    "def query_site(url, params, uid=\"\", fmt=\"json\"):\n",
    "    # This is the main function for making queries to the musicbrainz API.\n",
    "    # A json document should be returned by the query.\n",
    "    params[\"fmt\"] = fmt\n",
    "    r = requests.get(url + uid, params=params)\n",
    "    print(\"requesting\", r.url)\n",
    "\n",
    "    if r.status_code == requests.codes.ok:\n",
    "        return r.json()\n",
    "    else:\n",
    "        r.raise_for_status()\n",
    "\n",
    "\n",
    "def query_by_name(url, params, name):\n",
    "    # This adds an artist name to the query parameters before making\n",
    "    # an API call to the function above.\n",
    "    params[\"query\"] = \"artist:\" + name\n",
    "    return query_site(url, params)\n",
    "\n",
    "\n",
    "def pretty_print(data, indent=4):\n",
    "    # After we get our output, we can format it to be more readable\n",
    "    # by using this function.\n",
    "    if type(data) == dict:\n",
    "        print(json.dumps(data, indent=indent, sort_keys=True))\n",
    "    else:\n",
    "        print(data)\n",
    "\n",
    "\n",
    "def get_info(band):\n",
    "    '''\n",
    "    Modify the function calls and indexing below to answer the questions on\n",
    "    the next quiz. HINT: Note how the output we get from the site is a\n",
    "    multi-level JSON document, so try making print statements to step through\n",
    "    the structure one level at a time or copy the output to a separate output\n",
    "    file.\n",
    "    '''\n",
    "    results = query_by_name(ARTIST_URL, query_type[\"simple\"], band)\n",
    "    pretty_print(results)\n",
    "\n",
    "    artist_id = results[\"artists\"][1][\"id\"]\n",
    "    print(\"\\nARTIST:\")\n",
    "    pretty_print(results[\"artists\"][1])\n",
    "\n",
    "    artist_data = query_site(ARTIST_URL, query_type[\"releases\"], artist_id)\n",
    "    releases = artist_data[\"releases\"]\n",
    "    print(\"\\nONE RELEASE:\")\n",
    "    pretty_print(releases[0], indent=2)\n",
    "    release_titles = [r[\"title\"] for r in releases]\n",
    "\n",
    "    print(\"\\nALL TITLES:\")\n",
    "    for t in release_titles:\n",
    "        print(t)"
   ]
  },
  {
   "cell_type": "markdown",
   "metadata": {
    "collapsed": true
   },
   "source": [
    "### Problem sets"
   ]
  },
  {
   "cell_type": "markdown",
   "metadata": {},
   "source": [
    "Your task is to process the supplied file and use the csv module to extract data from it.\n",
    "The data comes from NREL (National Renewable Energy Laboratory) website. Each file\n",
    "contains information from one meteorological station, in particular - about amount of\n",
    "solar and wind energy for each hour of day.\n",
    "\n",
    "Note that the first line of the datafile is neither data entry, nor header. It is a line\n",
    "describing the data source. You should extract the name of the station from it.\n",
    "\n",
    "The data should be returned as a list of lists (not dictionaries).\n",
    "You can use the csv modules \"reader\" method to get data in such format.\n",
    "Another useful method is next() - to get the next line from the iterator.\n",
    "You should only change the parse_file function."
   ]
  },
  {
   "cell_type": "code",
   "execution_count": 26,
   "metadata": {
    "collapsed": false
   },
   "outputs": [
    {
     "data": {
      "text/html": [
       "<div>\n",
       "<table border=\"1\" class=\"dataframe\">\n",
       "  <thead>\n",
       "    <tr style=\"text-align: right;\">\n",
       "      <th></th>\n",
       "      <th>Date (MM/DD/YYYY)_Time (HH:MM)</th>\n",
       "      <th>ETR (W/m^2)</th>\n",
       "      <th>ETRN (W/m^2)</th>\n",
       "      <th>GHI (W/m^2)</th>\n",
       "      <th>GHI source</th>\n",
       "      <th>GHI uncert (%)</th>\n",
       "      <th>DNI (W/m^2)</th>\n",
       "      <th>DNI source</th>\n",
       "      <th>DNI uncert (%)</th>\n",
       "      <th>DHI (W/m^2)</th>\n",
       "      <th>...</th>\n",
       "      <th>AOD (unitless)</th>\n",
       "      <th>AOD source</th>\n",
       "      <th>AOD uncert (code)</th>\n",
       "      <th>Alb (unitless)</th>\n",
       "      <th>Alb source</th>\n",
       "      <th>Alb uncert (code)</th>\n",
       "      <th>Lprecip depth (mm)</th>\n",
       "      <th>Lprecip quantity (hr)</th>\n",
       "      <th>Lprecip source</th>\n",
       "      <th>Lprecip uncert (code)</th>\n",
       "    </tr>\n",
       "  </thead>\n",
       "  <tbody>\n",
       "    <tr>\n",
       "      <th>0</th>\n",
       "      <td>01/01/2005 01:00</td>\n",
       "      <td>0</td>\n",
       "      <td>0</td>\n",
       "      <td>0</td>\n",
       "      <td>2</td>\n",
       "      <td>0</td>\n",
       "      <td>0</td>\n",
       "      <td>2</td>\n",
       "      <td>0</td>\n",
       "      <td>0</td>\n",
       "      <td>...</td>\n",
       "      <td>0.099</td>\n",
       "      <td>F</td>\n",
       "      <td>8</td>\n",
       "      <td>0.16</td>\n",
       "      <td>F</td>\n",
       "      <td>8</td>\n",
       "      <td>0</td>\n",
       "      <td>1</td>\n",
       "      <td>A</td>\n",
       "      <td>7</td>\n",
       "    </tr>\n",
       "    <tr>\n",
       "      <th>1</th>\n",
       "      <td>01/01/2005 02:00</td>\n",
       "      <td>0</td>\n",
       "      <td>0</td>\n",
       "      <td>0</td>\n",
       "      <td>2</td>\n",
       "      <td>0</td>\n",
       "      <td>0</td>\n",
       "      <td>2</td>\n",
       "      <td>0</td>\n",
       "      <td>0</td>\n",
       "      <td>...</td>\n",
       "      <td>0.099</td>\n",
       "      <td>F</td>\n",
       "      <td>8</td>\n",
       "      <td>0.16</td>\n",
       "      <td>F</td>\n",
       "      <td>8</td>\n",
       "      <td>0</td>\n",
       "      <td>1</td>\n",
       "      <td>A</td>\n",
       "      <td>7</td>\n",
       "    </tr>\n",
       "    <tr>\n",
       "      <th>2</th>\n",
       "      <td>01/01/2005 03:00</td>\n",
       "      <td>0</td>\n",
       "      <td>0</td>\n",
       "      <td>0</td>\n",
       "      <td>2</td>\n",
       "      <td>0</td>\n",
       "      <td>0</td>\n",
       "      <td>2</td>\n",
       "      <td>0</td>\n",
       "      <td>0</td>\n",
       "      <td>...</td>\n",
       "      <td>0.099</td>\n",
       "      <td>F</td>\n",
       "      <td>8</td>\n",
       "      <td>0.16</td>\n",
       "      <td>F</td>\n",
       "      <td>8</td>\n",
       "      <td>0</td>\n",
       "      <td>1</td>\n",
       "      <td>A</td>\n",
       "      <td>7</td>\n",
       "    </tr>\n",
       "    <tr>\n",
       "      <th>3</th>\n",
       "      <td>01/01/2005 04:00</td>\n",
       "      <td>0</td>\n",
       "      <td>0</td>\n",
       "      <td>0</td>\n",
       "      <td>2</td>\n",
       "      <td>0</td>\n",
       "      <td>0</td>\n",
       "      <td>2</td>\n",
       "      <td>0</td>\n",
       "      <td>0</td>\n",
       "      <td>...</td>\n",
       "      <td>0.099</td>\n",
       "      <td>F</td>\n",
       "      <td>8</td>\n",
       "      <td>0.16</td>\n",
       "      <td>F</td>\n",
       "      <td>8</td>\n",
       "      <td>0</td>\n",
       "      <td>1</td>\n",
       "      <td>A</td>\n",
       "      <td>7</td>\n",
       "    </tr>\n",
       "    <tr>\n",
       "      <th>4</th>\n",
       "      <td>01/01/2005 05:00</td>\n",
       "      <td>0</td>\n",
       "      <td>0</td>\n",
       "      <td>0</td>\n",
       "      <td>2</td>\n",
       "      <td>0</td>\n",
       "      <td>0</td>\n",
       "      <td>2</td>\n",
       "      <td>0</td>\n",
       "      <td>0</td>\n",
       "      <td>...</td>\n",
       "      <td>0.099</td>\n",
       "      <td>F</td>\n",
       "      <td>8</td>\n",
       "      <td>0.16</td>\n",
       "      <td>F</td>\n",
       "      <td>8</td>\n",
       "      <td>0</td>\n",
       "      <td>1</td>\n",
       "      <td>A</td>\n",
       "      <td>7</td>\n",
       "    </tr>\n",
       "  </tbody>\n",
       "</table>\n",
       "<p>5 rows × 67 columns</p>\n",
       "</div>"
      ],
      "text/plain": [
       "  Date (MM/DD/YYYY)_Time (HH:MM)  ETR (W/m^2)  ETRN (W/m^2)  GHI (W/m^2)  \\\n",
       "0               01/01/2005 01:00            0             0            0   \n",
       "1               01/01/2005 02:00            0             0            0   \n",
       "2               01/01/2005 03:00            0             0            0   \n",
       "3               01/01/2005 04:00            0             0            0   \n",
       "4               01/01/2005 05:00            0             0            0   \n",
       "\n",
       "   GHI source  GHI uncert (%)  DNI (W/m^2)  DNI source  DNI uncert (%)  \\\n",
       "0           2               0            0           2               0   \n",
       "1           2               0            0           2               0   \n",
       "2           2               0            0           2               0   \n",
       "3           2               0            0           2               0   \n",
       "4           2               0            0           2               0   \n",
       "\n",
       "   DHI (W/m^2)          ...            AOD (unitless)  AOD source  \\\n",
       "0            0          ...                     0.099           F   \n",
       "1            0          ...                     0.099           F   \n",
       "2            0          ...                     0.099           F   \n",
       "3            0          ...                     0.099           F   \n",
       "4            0          ...                     0.099           F   \n",
       "\n",
       "   AOD uncert (code)  Alb (unitless)  Alb source  Alb uncert (code)  \\\n",
       "0                  8            0.16           F                  8   \n",
       "1                  8            0.16           F                  8   \n",
       "2                  8            0.16           F                  8   \n",
       "3                  8            0.16           F                  8   \n",
       "4                  8            0.16           F                  8   \n",
       "\n",
       "   Lprecip depth (mm)  Lprecip quantity (hr)  Lprecip source  \\\n",
       "0                   0                      1               A   \n",
       "1                   0                      1               A   \n",
       "2                   0                      1               A   \n",
       "3                   0                      1               A   \n",
       "4                   0                      1               A   \n",
       "\n",
       "   Lprecip uncert (code)  \n",
       "0                      7  \n",
       "1                      7  \n",
       "2                      7  \n",
       "3                      7  \n",
       "4                      7  \n",
       "\n",
       "[5 rows x 67 columns]"
      ]
     },
     "execution_count": 26,
     "metadata": {},
     "output_type": "execute_result"
    }
   ],
   "source": [
    "data2 = pd.read_csv(\"745090.csv\", header=1, parse_dates=[[0,1]])\n",
    "data2.head()"
   ]
  },
  {
   "cell_type": "code",
   "execution_count": 28,
   "metadata": {
    "collapsed": false
   },
   "outputs": [
    {
     "data": {
      "text/plain": [
       "Date (MM/DD/YYYY)_Time (HH:MM)     object\n",
       "ETR (W/m^2)                         int64\n",
       "ETRN (W/m^2)                        int64\n",
       "GHI (W/m^2)                         int64\n",
       "GHI source                          int64\n",
       "GHI uncert (%)                      int64\n",
       "DNI (W/m^2)                         int64\n",
       "DNI source                          int64\n",
       "DNI uncert (%)                      int64\n",
       "DHI (W/m^2)                         int64\n",
       "DHI source                          int64\n",
       "DHI uncert (%)                      int64\n",
       "GH illum (lx)                       int64\n",
       "GH illum source                     int64\n",
       "Global illum uncert (%)             int64\n",
       "DN illum (lx)                       int64\n",
       "DN illum source                     int64\n",
       "DN illum uncert (%)                 int64\n",
       "DH illum (lx)                       int64\n",
       "DH illum source                     int64\n",
       "DH illum uncert (%)                 int64\n",
       "Zenith lum (cd/m^2)                 int64\n",
       "Zenith lum source                   int64\n",
       "Zenith lum uncert (%)               int64\n",
       "TotCld (tenths)                     int64\n",
       "TotCld source                      object\n",
       "TotCld uncert (code)                int64\n",
       "OpqCld (tenths)                     int64\n",
       "OpqCld source                      object\n",
       "OpqCld uncert (code)                int64\n",
       "                                   ...   \n",
       "RHum source                        object\n",
       "RHum uncert (code)                  int64\n",
       "Pressure (mbar)                     int64\n",
       "Pressure source                    object\n",
       "Pressure uncert (code)              int64\n",
       "Wdir (degrees)                      int64\n",
       "Wdir source                        object\n",
       "Wdir uncert (code)                  int64\n",
       "Wspd (m/s)                        float64\n",
       "Wspd source                        object\n",
       "Wspd uncert (code)                  int64\n",
       "Hvis (m)                            int64\n",
       "Hvis source                        object\n",
       "Hvis uncert (code)                  int64\n",
       "CeilHgt (m)                         int64\n",
       "CeilHgt source                     object\n",
       "CeilHgt uncert (code)               int64\n",
       "Pwat (cm)                         float64\n",
       "Pwat source                        object\n",
       "Pwat uncert (code)                  int64\n",
       "AOD (unitless)                    float64\n",
       "AOD source                         object\n",
       "AOD uncert (code)                   int64\n",
       "Alb (unitless)                    float64\n",
       "Alb source                         object\n",
       "Alb uncert (code)                   int64\n",
       "Lprecip depth (mm)                  int64\n",
       "Lprecip quantity (hr)               int64\n",
       "Lprecip source                     object\n",
       "Lprecip uncert (code)               int64\n",
       "dtype: object"
      ]
     },
     "execution_count": 28,
     "metadata": {},
     "output_type": "execute_result"
    }
   ],
   "source": [
    "data2.dtypes"
   ]
  },
  {
   "cell_type": "code",
   "execution_count": 31,
   "metadata": {
    "collapsed": false
   },
   "outputs": [],
   "source": [
    "data2.rename(index=str, columns={\"Date (MM/DD/YYYY)_Time (HH:MM)\": \"Date\"}, inplace=True)"
   ]
  },
  {
   "cell_type": "markdown",
   "metadata": {},
   "source": [
    "Find the time and value of max load for each of the regions\n",
    "COAST, EAST, FAR_WEST, NORTH, NORTH_C, SOUTHERN, SOUTH_C, WEST\n",
    "and write the result out in a csv file, using pipe character | as the delimiter.\n",
    "\n",
    "An example output can be seen in the \"example.csv\" file."
   ]
  },
  {
   "cell_type": "code",
   "execution_count": 36,
   "metadata": {
    "collapsed": false
   },
   "outputs": [
    {
     "data": {
      "text/html": [
       "<div>\n",
       "<table border=\"1\" class=\"dataframe\">\n",
       "  <thead>\n",
       "    <tr style=\"text-align: right;\">\n",
       "      <th></th>\n",
       "      <th>Hour_End</th>\n",
       "      <th>COAST</th>\n",
       "      <th>EAST</th>\n",
       "      <th>FAR_WEST</th>\n",
       "      <th>NORTH</th>\n",
       "      <th>NORTH_C</th>\n",
       "      <th>SOUTHERN</th>\n",
       "      <th>SOUTH_C</th>\n",
       "      <th>WEST</th>\n",
       "      <th>ERCOT</th>\n",
       "    </tr>\n",
       "  </thead>\n",
       "  <tbody>\n",
       "    <tr>\n",
       "      <th>0</th>\n",
       "      <td>2013-01-01 01:00:00</td>\n",
       "      <td>7606.263544</td>\n",
       "      <td>1073.892438</td>\n",
       "      <td>1411.750567</td>\n",
       "      <td>784.978166</td>\n",
       "      <td>10369.094390</td>\n",
       "      <td>2206.675077</td>\n",
       "      <td>4368.490945</td>\n",
       "      <td>882.931901</td>\n",
       "      <td>28704.077028</td>\n",
       "    </tr>\n",
       "    <tr>\n",
       "      <th>1</th>\n",
       "      <td>2013-01-01 02:00:00</td>\n",
       "      <td>7388.082714</td>\n",
       "      <td>1035.021938</td>\n",
       "      <td>1403.472287</td>\n",
       "      <td>776.307387</td>\n",
       "      <td>10152.358518</td>\n",
       "      <td>2159.733208</td>\n",
       "      <td>4233.587967</td>\n",
       "      <td>872.404750</td>\n",
       "      <td>28020.968769</td>\n",
       "    </tr>\n",
       "    <tr>\n",
       "      <th>2</th>\n",
       "      <td>2013-01-01 03:00:00</td>\n",
       "      <td>7178.867878</td>\n",
       "      <td>1036.088697</td>\n",
       "      <td>1395.053150</td>\n",
       "      <td>768.125748</td>\n",
       "      <td>9988.051418</td>\n",
       "      <td>2065.114706</td>\n",
       "      <td>4082.862860</td>\n",
       "      <td>868.853938</td>\n",
       "      <td>27383.018395</td>\n",
       "    </tr>\n",
       "    <tr>\n",
       "      <th>3</th>\n",
       "      <td>2013-01-01 04:00:00</td>\n",
       "      <td>7038.822581</td>\n",
       "      <td>1032.648841</td>\n",
       "      <td>1395.508820</td>\n",
       "      <td>770.937969</td>\n",
       "      <td>9946.658655</td>\n",
       "      <td>1990.903699</td>\n",
       "      <td>4010.489608</td>\n",
       "      <td>865.701201</td>\n",
       "      <td>27051.671374</td>\n",
       "    </tr>\n",
       "    <tr>\n",
       "      <th>4</th>\n",
       "      <td>2013-01-01 05:00:00</td>\n",
       "      <td>6990.857940</td>\n",
       "      <td>1042.823044</td>\n",
       "      <td>1401.216842</td>\n",
       "      <td>779.089313</td>\n",
       "      <td>10096.664190</td>\n",
       "      <td>1954.807585</td>\n",
       "      <td>4038.655997</td>\n",
       "      <td>879.924249</td>\n",
       "      <td>27184.039160</td>\n",
       "    </tr>\n",
       "  </tbody>\n",
       "</table>\n",
       "</div>"
      ],
      "text/plain": [
       "             Hour_End        COAST         EAST     FAR_WEST       NORTH  \\\n",
       "0 2013-01-01 01:00:00  7606.263544  1073.892438  1411.750567  784.978166   \n",
       "1 2013-01-01 02:00:00  7388.082714  1035.021938  1403.472287  776.307387   \n",
       "2 2013-01-01 03:00:00  7178.867878  1036.088697  1395.053150  768.125748   \n",
       "3 2013-01-01 04:00:00  7038.822581  1032.648841  1395.508820  770.937969   \n",
       "4 2013-01-01 05:00:00  6990.857940  1042.823044  1401.216842  779.089313   \n",
       "\n",
       "        NORTH_C     SOUTHERN      SOUTH_C        WEST         ERCOT  \n",
       "0  10369.094390  2206.675077  4368.490945  882.931901  28704.077028  \n",
       "1  10152.358518  2159.733208  4233.587967  872.404750  28020.968769  \n",
       "2   9988.051418  2065.114706  4082.862860  868.853938  27383.018395  \n",
       "3   9946.658655  1990.903699  4010.489608  865.701201  27051.671374  \n",
       "4  10096.664190  1954.807585  4038.655997  879.924249  27184.039160  "
      ]
     },
     "execution_count": 36,
     "metadata": {},
     "output_type": "execute_result"
    }
   ],
   "source": [
    "data3 = pd.read_excel(\"2013_ERCOT_Hourly_Load_Data.xls\")\n",
    "data3.head()"
   ]
  },
  {
   "cell_type": "code",
   "execution_count": 42,
   "metadata": {
    "collapsed": false
   },
   "outputs": [
    {
     "data": {
      "text/plain": [
       "Hour_End    2013-11-01 00:00:00\n",
       "COAST                     18779\n",
       "EAST                    2380.17\n",
       "FAR_WEST                2281.27\n",
       "NORTH                   1544.77\n",
       "NORTH_C                 24415.6\n",
       "SOUTHERN                5494.16\n",
       "SOUTH_C                 11433.3\n",
       "WEST                    1862.61\n",
       "ERCOT                   67595.8\n",
       "dtype: object"
      ]
     },
     "execution_count": 42,
     "metadata": {},
     "output_type": "execute_result"
    }
   ],
   "source": [
    "data3.apply(np.max)"
   ]
  },
  {
   "cell_type": "code",
   "execution_count": null,
   "metadata": {
    "collapsed": true
   },
   "outputs": [],
   "source": []
  }
 ],
 "metadata": {
  "kernelspec": {
   "display_name": "Python 3",
   "language": "python",
   "name": "python3"
  },
  "language_info": {
   "codemirror_mode": {
    "name": "ipython",
    "version": 3
   },
   "file_extension": ".py",
   "mimetype": "text/x-python",
   "name": "python",
   "nbconvert_exporter": "python",
   "pygments_lexer": "ipython3",
   "version": "3.5.1"
  }
 },
 "nbformat": 4,
 "nbformat_minor": 0
}
