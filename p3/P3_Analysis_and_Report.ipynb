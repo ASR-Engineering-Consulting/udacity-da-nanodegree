{
 "cells": [
  {
   "cell_type": "markdown",
   "metadata": {},
   "source": [
    "# Wrangle OpenStreetMap data\n",
    "## Udacity Data Analyst Nanodegree - Project 3"
   ]
  },
  {
   "cell_type": "markdown",
   "metadata": {},
   "source": [
    "### Introduction\n",
    "\n",
    "#### Map\n",
    "* Cologne, http://www.openstreetmap.org/#map=11/50.9387/6.8740\n",
    "* Before moving to Milan, Italy where I currently live, Cologne has been my home for several years. I know this city quite well and I am curious to improve its OSM data\n",
    "\n",
    "### Resources\n",
    "* Udacity course materials\n",
    "* [Python 3 documentation](https://docs.python.org/3/)\n",
    "* [MongoDB documentation](https://docs.mongodb.com/manual/)\n",
    "* [MongoDB driver documentation](https://docs.mongodb.com/ecosystem/drivers/python/)\n",
    "* [Markdown documentation](https://daringfireball.net/projects/markdown/syntax)"
   ]
  },
  {
   "cell_type": "markdown",
   "metadata": {},
   "source": [
    "#### Generate sample OSM file"
   ]
  },
  {
   "cell_type": "code",
   "execution_count": 243,
   "metadata": {
    "collapsed": false
   },
   "outputs": [
    {
     "name": "stdout",
     "output_type": "stream",
     "text": [
      "-rw-r--r--@ 1 stefan  staff   376M Dec 11 17:14 cologne_germany.osm\r\n"
     ]
    }
   ],
   "source": [
    "# file size of original OSM file: 376 MB\n",
    "!ls -lh cologne_germany.osm"
   ]
  },
  {
   "cell_type": "code",
   "execution_count": 244,
   "metadata": {
    "collapsed": false
   },
   "outputs": [],
   "source": [
    "# !/usr/bin/env python\n",
    "# -*- coding: utf-8 -*-\n",
    "#\n",
    "#import xml.etree.ElementTree as ET  # Use cElementTree or lxml if too slow\n",
    "#\n",
    "#OSM_FILE = \"cologne_germany.osm\"  # Replace this with your osm file\n",
    "#SAMPLE_FILE = \"cologne_germany_sample.osm\"\n",
    "#\n",
    "#k = 10 # Parameter: take every k-th top level element\n",
    "#\n",
    "#def get_element(osm_file, tags=('node', 'way', 'relation')):\n",
    "#    \"\"\"Yield element if it is the right type of tag\n",
    "#\n",
    "#    Reference:\n",
    "#    http://stackoverflow.com/questions/3095434/inserting-newlines-in-xml-file-generated-via-xml-etree-elementtree-in-python\n",
    "#    \"\"\"\n",
    "#    context = iter(ET.iterparse(osm_file, events=('start', 'end')))\n",
    "#    _, root = next(context)\n",
    "#    for event, elem in context:\n",
    "#        if event == 'end' and elem.tag in tags:\n",
    "#            yield elem\n",
    "#            root.clear()\n",
    "#\n",
    "#\n",
    "#with open(SAMPLE_FILE, 'wb') as output:\n",
    "#    \"\"\"\n",
    "#    Changed output of write to byte objects in order to work with Python 3.x\n",
    "#    \n",
    "#    Reference:\n",
    "#    http://stackoverflow.com/questions/33054527/python-3-5-typeerror-a-bytes-like-object-is-required-not-str\n",
    "#    \"\"\"\n",
    "#    output.write(b'<?xml version=\"1.0\" encoding=\"UTF-8\"?>\\n')\n",
    "#    output.write(b'<osm>\\n  ')\n",
    "#\n",
    "#    # Write every kth top level element\n",
    "#    for i, element in enumerate(get_element(OSM_FILE)):\n",
    "#        if i % k == 0:\n",
    "#            output.write(ET.tostring(element, encoding='utf-8'))\n",
    "#\n",
    "#    output.write(b'</osm>')"
   ]
  },
  {
   "cell_type": "code",
   "execution_count": 245,
   "metadata": {
    "collapsed": false
   },
   "outputs": [
    {
     "name": "stdout",
     "output_type": "stream",
     "text": [
      "-rw-r--r--  1 stefan  staff    38M Nov 10 22:08 cologne_germany_sample.osm\r\n"
     ]
    }
   ],
   "source": [
    "# file size of sample OSM file: 38 MB\n",
    "!ls -lh cologne_germany_sample.osm"
   ]
  },
  {
   "cell_type": "markdown",
   "metadata": {},
   "source": [
    "### Data exploration"
   ]
  },
  {
   "cell_type": "code",
   "execution_count": 1,
   "metadata": {
    "collapsed": false
   },
   "outputs": [],
   "source": [
    "# setup environment\n",
    "import xml.etree.ElementTree as ET\n",
    "import pprint\n",
    "import re"
   ]
  },
  {
   "cell_type": "markdown",
   "metadata": {},
   "source": [
    "#### Helper functions"
   ]
  },
  {
   "cell_type": "code",
   "execution_count": 247,
   "metadata": {
    "collapsed": true
   },
   "outputs": [],
   "source": [
    "def head_input(input_in, n=20):\n",
    "    \"\"\"\n",
    "    Returns n (default=20) items of a dict/list\n",
    "    \"\"\"\n",
    "    if type(input_in) == type(dict()):\n",
    "        return dict(list(sorted(input_in.items()))[0:n])\n",
    "    elif type(input_in) == type(list()):\n",
    "        return input_in[0:n]\n",
    "    else:\n",
    "        return \"Non supported input type\""
   ]
  },
  {
   "cell_type": "markdown",
   "metadata": {},
   "source": [
    "#### Get overview of tags"
   ]
  },
  {
   "cell_type": "code",
   "execution_count": 248,
   "metadata": {
    "collapsed": false
   },
   "outputs": [],
   "source": [
    "def get_tag_counts(file=\"cologne_germany_sample.osm\"):\n",
    "    \"\"\"\n",
    "    Given a valid XML input file, the function returns a dict of tags and their respective counts\n",
    "    \"\"\"\n",
    "    # create tags dict\n",
    "    tag_counts = {}\n",
    "    \n",
    "    # open file\n",
    "    with open(file, \"r\", encoding=\"utf8\") as f:\n",
    "        \n",
    "        # loop over file\n",
    "        for event, elem in ET.iterparse(f):\n",
    "        \n",
    "            # check if tag is in dict\n",
    "            if elem.tag not in tag_counts.keys():\n",
    "    \n",
    "                # if not, add tag as new key\n",
    "                tag_counts[elem.tag] = 1\n",
    "        \n",
    "            # if so... \n",
    "            else:\n",
    "                \n",
    "                #increase count of identifed tag\n",
    "                tag_counts[elem.tag] += 1\n",
    "\n",
    "    return tag_counts"
   ]
  },
  {
   "cell_type": "code",
   "execution_count": 249,
   "metadata": {
    "collapsed": false
   },
   "outputs": [
    {
     "data": {
      "text/plain": [
       "{'relation': 353, 'way': 30566, 'member': 4594, 'nd': 235134, 'osm': 1, 'tag': 153299, 'node': 156597}"
      ]
     },
     "execution_count": 249,
     "metadata": {},
     "output_type": "execute_result"
    }
   ],
   "source": [
    "# print tag and counts of sample data\n",
    "get_tag_counts()"
   ]
  },
  {
   "cell_type": "markdown",
   "metadata": {},
   "source": [
    "#### Get overview ot tag keys and values"
   ]
  },
  {
   "cell_type": "code",
   "execution_count": 250,
   "metadata": {
    "collapsed": true
   },
   "outputs": [],
   "source": [
    "def get_tag_types(file=\"cologne_germany_sample.osm\"):\n",
    "    \"\"\"\n",
    "    Given a valid XML input file, the function returns a dict of keys and corresponding counts of the \"tag\" attribute\n",
    "    \"\"\"\n",
    "    # create tags dict\n",
    "    tag_types = {}\n",
    "    \n",
    "    # open file\n",
    "    with open(file, \"r\", encoding=\"utf8\") as f:\n",
    "        \n",
    "        # loop over file\n",
    "        for event, elem in ET.iterparse(f):\n",
    "            \n",
    "            # inspect only \"tag\" elements\n",
    "            if elem.tag == \"tag\":\n",
    "        \n",
    "                # loop over \"tag\" elements\n",
    "                for tag in elem.iter(\"tag\"):\n",
    "                \n",
    "                    # check if tag key not in tags_types dict\n",
    "                    if tag.attrib[\"k\"] not in tag_types.keys():\n",
    "                        \n",
    "                        # if not add key with count 1\n",
    "                        tag_types[tag.attrib[\"k\"]] = 1\n",
    "                    \n",
    "                    else:\n",
    "                        \n",
    "                        # if so increase count\n",
    "                        tag_types[tag.attrib[\"k\"]] += 1      \n",
    "    \n",
    "    return tag_types"
   ]
  },
  {
   "cell_type": "code",
   "execution_count": 251,
   "metadata": {
    "collapsed": true
   },
   "outputs": [],
   "source": [
    "tag_types = get_tag_types()"
   ]
  },
  {
   "cell_type": "code",
   "execution_count": 252,
   "metadata": {
    "collapsed": true
   },
   "outputs": [
    {
     "data": {
      "text/plain": [
       "{'TMC:cid_58:tabcd_1:LCLversion': 46, 'TMC:cid_58:tabcd_1:PrevLocationCode': 28, 'FIXME': 39, 'addr:housename': 18, 'addr:country': 13182, 'TMC:cid_58:tabcd_1:Class': 46, 'abandoned': 3, 'TMC:cid_58:tabcd_1:LocationCode': 46, 'TMC:cid_58:tabcd_1:NextLocationCode': 28, 'TMC:cid_58:tabcd_1:TypeName:loc': 1, 'TMC:cid_58:tabcd_1:TypeName': 1, 'addr:district': 1, 'VRS:ortsteil': 196, 'VRS:name': 57, 'VRS:gemeinde': 196, 'VRS:ref': 195, 'access': 712, 'TMC:cid_58:tabcd_1:Direction': 15, 'addr:city': 13392, 'Denkmalnummer': 2}"
      ]
     },
     "execution_count": 252,
     "metadata": {},
     "output_type": "execute_result"
    }
   ],
   "source": [
    "# get first 20 items in tag_types dict\n",
    "head_input(tag_types)"
   ]
  },
  {
   "cell_type": "code",
   "execution_count": 272,
   "metadata": {
    "collapsed": true
   },
   "outputs": [],
   "source": [
    "# pretty print all items in tag_types dict (produces a long list only used for exploration)\n",
    "#pprint.pprint(tag_types)"
   ]
  },
  {
   "cell_type": "code",
   "execution_count": 254,
   "metadata": {
    "collapsed": true
   },
   "outputs": [
    {
     "name": "stdout",
     "output_type": "stream",
     "text": [
      "{('access', 712),\n",
      " ('addr:city', 13392),\n",
      " ('addr:country', 13182),\n",
      " ('addr:housenumber', 13337),\n",
      " ('addr:postcode', 13351),\n",
      " ('addr:street', 13395),\n",
      " ('addr:suburb', 246),\n",
      " ('amenity', 1414),\n",
      " ('barrier', 888),\n",
      " ('bicycle', 806),\n",
      " ('building', 23639),\n",
      " ('building:colour', 243),\n",
      " ('building:levels', 5789),\n",
      " ('building:part', 353),\n",
      " ('building:use', 10941),\n",
      " ('created_by', 202),\n",
      " ('electrified', 351),\n",
      " ('entrance', 837),\n",
      " ('foot', 767),\n",
      " ('frequency', 334),\n",
      " ('gauge', 429),\n",
      " ('height', 362),\n",
      " ('highway', 5285),\n",
      " ('historic', 256),\n",
      " ('landuse', 409),\n",
      " ('lanes', 596),\n",
      " ('layer', 400),\n",
      " ('leisure', 231),\n",
      " ('lit', 344),\n",
      " ('maxspeed', 1014),\n",
      " ('name', 3704),\n",
      " ('natural', 468),\n",
      " ('note', 298),\n",
      " ('oneway', 938),\n",
      " ('operator', 702),\n",
      " ('public_transport', 280),\n",
      " ('railway', 1124),\n",
      " ('ref', 836),\n",
      " ('roof:colour', 288),\n",
      " ('roof:orientation', 437),\n",
      " ('roof:shape', 1325),\n",
      " ('service', 755),\n",
      " ('shop', 453),\n",
      " ('source', 3033),\n",
      " ('surface', 770),\n",
      " ('type', 357),\n",
      " ('voltage', 335),\n",
      " ('website', 459),\n",
      " ('wheelchair', 562)}\n"
     ]
    }
   ],
   "source": [
    "# print tag_types with more than 200 values\n",
    "pprint.pprint({(k,v) for k,v in tag_types.items() if v > 200})"
   ]
  },
  {
   "cell_type": "markdown",
   "metadata": {},
   "source": [
    "#### Explore \"fixme\" and \"fixed\" tag keys"
   ]
  },
  {
   "cell_type": "code",
   "execution_count": 255,
   "metadata": {
    "collapsed": false
   },
   "outputs": [],
   "source": [
    "def get_tag_key(file=\"cologne_germany_sample.osm\", key=\"FIXME\"):\n",
    "    \"\"\"\n",
    "    Given a valid XML input file, the function returns a list of values for the corresponding key of the \"tag\" attribute\n",
    "    \"\"\"\n",
    "    # create tags dict\n",
    "    tag_keys = []\n",
    "    \n",
    "    # open file\n",
    "    with open(file, \"r\", encoding=\"utf8\") as f:\n",
    "        \n",
    "        # loop over file\n",
    "        for event, elem in ET.iterparse(f):\n",
    "            \n",
    "            # inspect only \"tag\" elements\n",
    "            if elem.tag == \"tag\":\n",
    "        \n",
    "                # loop over \"tag\" elements\n",
    "                for tag in elem.iter(\"tag\"):\n",
    "                \n",
    "                    # check if tag key not in tags_types dict\n",
    "                    if tag.attrib[\"k\"] == key:\n",
    "                        \n",
    "                        # if not add key with count 1\n",
    "                        tag_keys.append(tag.attrib[\"v\"])\n",
    "                    \n",
    "                    else:\n",
    "                        continue     \n",
    "    \n",
    "    return set(tag_keys)"
   ]
  },
  {
   "cell_type": "code",
   "execution_count": 256,
   "metadata": {
    "collapsed": true
   },
   "outputs": [],
   "source": [
    "tag_key_fixme = get_tag_key()"
   ]
  },
  {
   "cell_type": "markdown",
   "metadata": {},
   "source": [
    "Most of the fixme notes are related to errors concerning buildings, e.g. where an entrance is located"
   ]
  },
  {
   "cell_type": "code",
   "execution_count": 259,
   "metadata": {
    "collapsed": true
   },
   "outputs": [
    {
     "name": "stdout",
     "output_type": "stream",
     "text": [
      "{'Bitte Details ergänzen',\n",
      " 'Bitte Existenz des Defi prüfen.',\n",
      " 'Bitte Gebäude, Gebäudeteil oder Eingang zuordnen',\n",
      " 'Bitte näher bezeichnen. barrier=fence?',\n",
      " 'Diese Landuse Relation sollte man verkleinern',\n",
      " 'Gebäudeumrisse prüfen',\n",
      " 'Verbindung?',\n",
      " 'auch Eingang Ehrenstraße 2',\n",
      " 'bessere Beschreibung erforderlich',\n",
      " 'bitte Gebäude oder Gebäudeteil zuordnen',\n",
      " 'bitte Gebäude zuordnen',\n",
      " 'bitte Gebäude zuordnen (auf Bild in 12/2013 nicht vorhanden)',\n",
      " 'bitte Gebäude, Gebäudeteil oder Eingang zuordnen',\n",
      " 'bitte Gebäudeeingang oder Gebäudeteil zuordnen',\n",
      " 'bitte Gebäudeeingang zuordnen',\n",
      " 'bitte Gebäudeingang oder Gebäudeteil zuordnen',\n",
      " 'bitte Hauseingang bzw. Gebäudeteil zuordnen',\n",
      " 'bitte Hauseingang oder Gebäudeteil zuordnen',\n",
      " 'bitte Name und Details ergänzen',\n",
      " 'bitte Nutzungsart ergänzen',\n",
      " 'bitte genau zuordnen',\n",
      " 'bitte richtig zuordnen',\n",
      " 'ist dieser Abschnitt Einbahnstraße?',\n",
      " 'lage geschätzt, Juni 2013',\n",
      " 'landuse=grass für diese großen Planzkästen scheint mir etwas overdressed',\n",
      " 'maxspeed prüfen: unterschiedlich nach Richtung? Wo Grenze zwischen 50 und '\n",
      " '60?',\n",
      " 'route_master sind für PTv2-Member',\n",
      " 'where does this oneway go?',\n",
      " 'wirklich residential und nicht path/track?'}\n"
     ]
    }
   ],
   "source": [
    "# pretty print FIXME notes\n",
    "pprint.pprint(tag_key_fixme)"
   ]
  },
  {
   "cell_type": "code",
   "execution_count": 260,
   "metadata": {
    "collapsed": true
   },
   "outputs": [],
   "source": [
    "tag_key_fixed = get_tag_key(key=\"fixed\")"
   ]
  },
  {
   "cell_type": "markdown",
   "metadata": {},
   "source": [
    "Most of the fixed tages are related to roads and how they are categorized"
   ]
  },
  {
   "cell_type": "code",
   "execution_count": 261,
   "metadata": {
    "collapsed": true
   },
   "outputs": [
    {
     "name": "stdout",
     "output_type": "stream",
     "text": [
      "{'Amsterdamer Straße ist stadteinwärts die Fortsetzung der Industriestr. '\n",
      " '(Trunk)  und liegt auf der optimalen Route für den Fernverkehr aus der '\n",
      " 'Innenstadt in Richtung Ruhrgebiet, Hannover, Bremen, Berlin und Hamburg. '\n",
      " 'Deshalb als primary road kennzeichnen!',\n",
      " 'Amsterdamer Straße ist stadteinwärts die Fortsetzung der Industriestr. '\n",
      " '(Trunk) und liegt auf der optimalen Route für den Fernverkehr aus der '\n",
      " 'Innenstadt in Richtung Ruhrgebiet, Hannover, Bremen, Berlin und Hamburg. '\n",
      " 'Deshalb als primary road kennzeichnen!',\n",
      " 'Auf B 59 stadteinwärts wird Verkehr Ri. Zentrum nach links auf die Äußere '\n",
      " 'Kanalstr. gewiesen (wegen Verkehrsberuhigung) To Do: Steht der Wegweiser '\n",
      " 'noch? Wenn ja, für fixme-Abschnitte highway=secondary setzen, da keine '\n",
      " 'Fern- u. Regionalnetz-Funktion mehr!',\n",
      " 'Auf B 59 stadteinwärts wird Verkehr Ri. Zentrum nach links auf die Äußere '\n",
      " 'Kanalstr. gewiesen. To Do: Steht der Wegweiser noch? Wenn ja, Subbelrather '\n",
      " 'Str. als Parallele zur Venloer Str. (verkehrsberuhigt) regionale '\n",
      " 'Netzfunktion. Deshalb highway=secondary',\n",
      " 'Einseitig isolierte Kennzeichnung als \"tertiary road\" am S-Bahnhof '\n",
      " 'K-Dellbrück. Vorschlag: Kennzeichnung durch die Bahnunterführung und auf '\n",
      " 'der Diepeschrather Str. fortsetzen. Alternative: als \"residental road\" '\n",
      " 'zurückstufen.',\n",
      " 'Kennzeichnung der gesamten Poststraße als \"tertiary road\" um die einseitig '\n",
      " 'isolierte Kennzeichnung als \"tertiary road\" an der Unterführung '\n",
      " 'Bahnstrecke Köln-Troisdorf aufzuheben. Ausbauzustand und Kennzeichnung '\n",
      " '(Verkehrsschilder und Fahrbahnmarkierung) erl',\n",
      " 'Liegt auf einer leistungsfähigeren Umfahrung von Karolingerring, '\n",
      " 'Chlodwigplatz und Ubierring (Rückbau, verkehrsberuhigt) in Richtung '\n",
      " 'Verteilerkreis Süd, was auch durch eine DTV > 20.000 belegt ist. To Do: '\n",
      " 'Survey, ob etwas gegen highway=primary spricht.',\n",
      " 'Liegt auf einer leistungsfähigeren Umfahrung von Karolingerring, '\n",
      " 'Chlodwigplatz und Ubierring (Rückbau, verkehrsberuhigt) in Richtung '\n",
      " 'Verteilerkreis Süd. Survey ergab: Route über Bischofsweg, Marktstr., '\n",
      " 'Bonner Str. eher primary',\n",
      " 'Survey by Google Street View: Rochusstraße zwischen Magaretastraße und '\n",
      " 'Venloer Str. ist keine Vorfahrtstraße, die Geschwindigkeit auf 30 km/h '\n",
      " 'begrenzt, teilweise sehr eng und Einbahnstraße. To Do: Survey by car. '\n",
      " 'Erwartetes Ergebnis: residental road.'}\n"
     ]
    }
   ],
   "source": [
    "# pretty print FIXED tags\n",
    "pprint.pprint(tag_key_fixed)"
   ]
  },
  {
   "cell_type": "markdown",
   "metadata": {},
   "source": [
    "#### Explore other interresting tags"
   ]
  },
  {
   "cell_type": "markdown",
   "metadata": {},
   "source": [
    "The correct key to indicate districts seems to be \"addr:suburb\" since \"addr:district\" yields only district of Cologne"
   ]
  },
  {
   "cell_type": "code",
   "execution_count": 262,
   "metadata": {
    "collapsed": false
   },
   "outputs": [
    {
     "data": {
      "text/plain": [
       "{'Porz'}"
      ]
     },
     "execution_count": 262,
     "metadata": {},
     "output_type": "execute_result"
    }
   ],
   "source": [
    "get_tag_key(key=\"addr:district\")"
   ]
  },
  {
   "cell_type": "code",
   "execution_count": 22,
   "metadata": {
    "collapsed": false
   },
   "outputs": [
    {
     "data": {
      "text/plain": [
       "{'Brück',\n",
       " 'Buchforst',\n",
       " 'Deutz',\n",
       " 'Grengel',\n",
       " 'Kalk',\n",
       " 'Lindenthal',\n",
       " 'Mülheim',\n",
       " 'Nippes',\n",
       " 'Ostheim',\n",
       " 'Poll',\n",
       " 'Sielsdorf',\n",
       " 'Urbach',\n",
       " 'Vingst'}"
      ]
     },
     "execution_count": 22,
     "metadata": {},
     "output_type": "execute_result"
    }
   ],
   "source": [
    "get_tag_key(key=\"addr:suburb\")"
   ]
  },
  {
   "cell_type": "markdown",
   "metadata": {},
   "source": [
    "I was wondering which information was stored with \"addr:housename\". Apparently no standard has been definied, since it is used for clubs, companies, opening times, addresses, etc - an opportunity for improvement? :-)"
   ]
  },
  {
   "cell_type": "code",
   "execution_count": 23,
   "metadata": {
    "collapsed": true
   },
   "outputs": [
    {
     "data": {
      "text/plain": [
       "{'Bayburt Kulturverein',\n",
       " 'Bürgerhaus Stollwerck',\n",
       " 'C103',\n",
       " 'Caritas Hospiz Johannes-Nepomuk-Haus',\n",
       " 'Doc-PT Praxis für Innere- und Allgemeinmedizin',\n",
       " 'Erik Wickberg-Haus',\n",
       " 'Feilenhof',\n",
       " 'HERZBERGMEDIA',\n",
       " 'Jüdisches Wohlfahrtszentrum',\n",
       " 'Kartonagenfabrik Seybold',\n",
       " 'Mo-Fr 09:30-18:30; Sa 09:30-16:00',\n",
       " 'Post Office',\n",
       " 'Raderthalgürtel',\n",
       " 'Schaltwerk',\n",
       " 'SkinWorks',\n",
       " 'TrauerHaus Müschenborn',\n",
       " 'Vereinsheim ESV Olympia Köln e.V.',\n",
       " 'Villa Hahnenburg'}"
      ]
     },
     "execution_count": 23,
     "metadata": {},
     "output_type": "execute_result"
    }
   ],
   "source": [
    "get_tag_key(key=\"addr:housename\")"
   ]
  },
  {
   "cell_type": "markdown",
   "metadata": {},
   "source": [
    "Sanity check passed, all documents containing \"addr:country\" refers to Germany (DE = Deutschland = Germany)"
   ]
  },
  {
   "cell_type": "code",
   "execution_count": 62,
   "metadata": {
    "collapsed": true
   },
   "outputs": [
    {
     "data": {
      "text/plain": [
       "{'DE'}"
      ]
     },
     "execution_count": 62,
     "metadata": {},
     "output_type": "execute_result"
    }
   ],
   "source": [
    "get_tag_key(key=\"addr:country\")"
   ]
  },
  {
   "cell_type": "markdown",
   "metadata": {},
   "source": [
    "The tag \"add:city\" yields another opportunity for improvement. Strictly speaking, the only valid value is \"Köln\" (= Cologne in German). All other values are related to either districts of Cologne or different cities"
   ]
  },
  {
   "cell_type": "code",
   "execution_count": 63,
   "metadata": {
    "collapsed": false
   },
   "outputs": [
    {
     "data": {
      "text/plain": [
       "{'Bergisch Gladbach', 'Hürth', 'Köln', 'Köln Rath/Heumar', 'Köln-Nippes'}"
      ]
     },
     "execution_count": 63,
     "metadata": {},
     "output_type": "execute_result"
    }
   ],
   "source": [
    "get_tag_key(key=\"addr:city\")"
   ]
  },
  {
   "cell_type": "markdown",
   "metadata": {},
   "source": [
    "I was curious about the quality of street names and decided to do an upfront visual check. Suprisingly the quality of street names in Cologne's OSM data is very good: An obvious case for trouble is the spelling of street names in Germany (Strasse vs. Straße, vs Str.) which does not seem to be an issue at all here (Note that <Name> Straße and <name>straße is correct, since we do distinguish between street with identical names this way  in Germany.)"
   ]
  },
  {
   "cell_type": "code",
   "execution_count": 64,
   "metadata": {
    "collapsed": true
   },
   "outputs": [],
   "source": [
    "tag_key_street = get_tag_key(key=\"addr:street\")"
   ]
  },
  {
   "cell_type": "code",
   "execution_count": 279,
   "metadata": {
    "collapsed": true
   },
   "outputs": [],
   "source": [
    "# pretty print tag_key_street (produces a long list only used for exploration)\n",
    "#pprint.pprint(tag_key_street)"
   ]
  },
  {
   "cell_type": "markdown",
   "metadata": {},
   "source": [
    "Unfortunately Cologne's data contains two tags for storing postal codes, \"addr:postcode\" and \"addr:postal_code\". Both should be merged into a single tag"
   ]
  },
  {
   "cell_type": "code",
   "execution_count": 65,
   "metadata": {
    "collapsed": false
   },
   "outputs": [
    {
     "data": {
      "text/plain": [
       "{'50354',\n",
       " '50667',\n",
       " '50668',\n",
       " '50670',\n",
       " '50672',\n",
       " '50674',\n",
       " '50676',\n",
       " '50677',\n",
       " '50678',\n",
       " '50679',\n",
       " '50733',\n",
       " '50735',\n",
       " '50737',\n",
       " '50739',\n",
       " '50765',\n",
       " '50767',\n",
       " '50823',\n",
       " '50825',\n",
       " '50827',\n",
       " '50829',\n",
       " '50858',\n",
       " '50859',\n",
       " '50931',\n",
       " '50933',\n",
       " '50935',\n",
       " '50937',\n",
       " '50939',\n",
       " '50968',\n",
       " '50969',\n",
       " '50996',\n",
       " '50997',\n",
       " '50999',\n",
       " '51061',\n",
       " '51063',\n",
       " '51065',\n",
       " '51067',\n",
       " '51069',\n",
       " '51103',\n",
       " '51105',\n",
       " '51107',\n",
       " '51109',\n",
       " '51143',\n",
       " '51145',\n",
       " '51147',\n",
       " '51149',\n",
       " '51427',\n",
       " '51467',\n",
       " '51469'}"
      ]
     },
     "execution_count": 65,
     "metadata": {},
     "output_type": "execute_result"
    }
   ],
   "source": [
    "get_tag_key(key=\"addr:postcode\")"
   ]
  },
  {
   "cell_type": "code",
   "execution_count": 68,
   "metadata": {
    "collapsed": false
   },
   "outputs": [
    {
     "data": {
      "text/plain": [
       "{'50668',\n",
       " '50672',\n",
       " '50674',\n",
       " '50733',\n",
       " '50765',\n",
       " '50767',\n",
       " '50935',\n",
       " '50937',\n",
       " '50996',\n",
       " '51061',\n",
       " '51063',\n",
       " '51065',\n",
       " '51067',\n",
       " '51069',\n",
       " '51103',\n",
       " '51109',\n",
       " '51143,51145',\n",
       " '51145',\n",
       " '51147'}"
      ]
     },
     "execution_count": 68,
     "metadata": {},
     "output_type": "execute_result"
    }
   ],
   "source": [
    "get_tag_key(key=\"postal_code\")"
   ]
  },
  {
   "cell_type": "markdown",
   "metadata": {},
   "source": [
    "Opening hours are mess lacking any standard"
   ]
  },
  {
   "cell_type": "code",
   "execution_count": 273,
   "metadata": {
    "collapsed": true
   },
   "outputs": [
    {
     "data": {
      "text/plain": [
       "{'20:00-02:00', 'Mo-Fr 08:30-20:00, Sa 08:00-20:00', 'Mo 12:00-19:00; Tu-Fr 10:00-20:00; Sa 09:00-16:00', 'Mo-Fr 09:00-18:00; Sa, Su, PH off', 'Mo-Fr 10:00-13:00; Mo-Fr 14:00-18:00; Sa 10:00-13:00', 'Mo-Sa 12:00-18:00', 'Mo-Sa 06:00-23:00', 'Mo-Fr 08:30-18:30; Sa 09:00-13:00', 'Mo,Tu 08:30-18:30; We 08:30-13:30, 14:30-18:30; We 08:30-18:30; Fr 08:30-13:30, 14:30-18:30; Sa 09:00-13:00', 'Mo-Th 09:00-12:00,14:00-17:00; Fr 09:00-12:00', 'Mo-Fr 08:30-19:00; Sa 08:30-18:30; Su 10:30-18:00', 'Mo-Fr 11:00-19:00; Sa 10:00-16:00; Su, PH off', 'Mo-Th 08:00-19:00; Fr 08:00-18:00; Sa 09:00-14:00', 'Mo-Th 15:00-01:00, Fr 15:00-02:00, Sa 12:00-02:00, Su,PH 12:00-01:00', 'Mo-Sa 11:30-19:00', 'Mo-Fr 09:30-18:00', 'Su-Th 11:00-23:00; Fr,Sa 11:00-02:00', 'Mo-Tu, Th-Fr 10:00-13:00, 15:00-18:30; We, Sa 10:00-13:00', 'Mo-Fr 09:00-18:30; Sa 10:00-14:00', 'Mo-We 06:00-23:00; Fr 06:00-24:00; Sa 07:00-24:00; Su 08:00-23:00', 'Mo,Tu 08:30-13:30, 14:30-18:30; We 08:30-14:00; Th,Fr 08:30-13:30,14:30-18:30; Sa 08:30-14:00', 'Mo-Fr 08:30-19:00; Sa 09:00-14:00', 'Mo, Th, Fr 12:00-20:00; Tu, We 15:00-20:00; Sa 10:00-20:00; Su, PH off', 'Mo-Fr 08:30-19:00; Sa 09:30-16:00', 'Mo-Fr 11:00-23:00; Sa 11:00-22:00', 'Mo-So 22:00 - 05:00, Sa-So ab 06:00', 'Mo-Fr 12:00+; Sa 18:00+', 'Mo-Sa 10:00-20:00', 'Mo-Fr 08:00-20:00; Sa 09:00-20:00', 'Mo-Su, PH 12:00-23:30', 'Feb-Nov: 09:30-17:45', 'Mo-Th 18:00-00:00; Fr, Sa 18:00-03:00', 'Mo-Fr 11:00-18:30', 'Mo-Su 09:00+', 'Mo-Fr 08:00-19:00;Sa 10:00-14:00', 'Mo-Sa 08:00-21:00', 'Mo-Sa 15:00-20:00', 'Mo-Sa 09:00+; Su 11:00+', 'Mo-Th 13:00-18:30; Fr 10:00-18:30; Sa 10:00-14:00', 'Mo-Sa 08:00-20:00; Su, PH off', 'Mo-Fr 08:30-19:00; Sa 09:00-16:00', 'We 15:00-17:00; Su 10:00-12:00', 'Mo-Su 11:00-15:00, 17:00-24:00', 'Mo-Sa 10:30-23:00; Su 09:00-18:00', 'Mo-Fr 10:00-19:00; Sa 10:00-18:00', 'Tu-Su 12:30-22:00', 'Mo-Su 17:00-01:00', 'Tu-Th 17:00-24:00, Fr-Sa 17:00-01:00, Su 17:00-24:00', 'Mo-Sa 07:00-22:00; Su, PH off', 'Mo-Sa 09:00-19:00', 'Mo-Fr 09:30-19:00; Sa 09:30-18:00', '10:00-24:00', 'Mo-Sa 18:00-00:00; Su off', 'Mo-Fr 08:30-17:00', 'Mo-Fr 10:00-19:00; Sa 10:00-18:00; Su, PH off', 'Mo off; Tu-Th 20:00-01:00, Fr-Sa 20:00-03:00, Su 19:00-01:00', 'Mo-Fr 09:00-13:00, 14:00-18:00', 'Mo-Fr 08:00-18:30; Sa 08:00-13:00', 'Mo-Sa 07:00-21:00; Su, PH off', 'Mo off; Tu-Su 10:00-17:00', 'Mo-Fr 10:00-19:00;Sa 10:00-17:00', 'Mo-Fr 08:00-18:30; Sa 07:30-15:00, Sa 07:30-18:00 \"im Außenbereich\"; Su 11:00-13:00', 'Mo,Tu 08:30-13:00,14:30-18:30;We 08:30-13:00;Th,Fr 08:30-13:00,14:30-18:30;Sa 09:00-13:00', 'Mo-Fr 08:00-18:30; Sa 08:30-13:30', 'Tu-Sa 12:00-15:00; 17:00+; Su 12:00+', 'Mo,Tu 08:00-13:00,14:00-18:30; We 08:00-13:00; Th,Fr 08:00-13:00,14:00-18:30;Sa 08:30-13:00', 'Mo-Th 18:00-01:00, Fr-Sa 18:00-03:00', 'Mo-Fr 06:30-18:30; Sa 06:00-13:00; Su 08:00-12:00', 'Mo-Fr 09:00-19:00; Sa 09:00-18:00; Su, PH off', 'We, Fr 08:00-13:00; Mo, Tu, Th 08:00-13:00, 14:30-18:00', '09:30-17:45', 'Tu-Fr 10:00-19:00; Sa 10:00-17:00; Su, PH off', 'Mo 09:00-12:00; We 15:00-17:00', 'Mo-Fr 08:00-17:00', 'Mo-Fr 09:30-19:00; Sa 09:30-16:00', 'Tu 10:00-12:00; We 16:00-18:00; Su 10:00-12:00', 'Mo-Fr 08:30-13:00,15:00-18:30; Sa 08:30-13:00', 'Mo-Fr 10:30 - 18:30, Sa 10:30 - 16:00', 'Mo-Su 11:30-23:30', 'Mo-Fr 08:30-18:30; Sa 08:30-13:00', 'Mo-Fr 10:00-13:00,14:00-18:00; Sa 10:00-14:00', 'Oct-Mar 10:00-16:00; Apr-Sep 10:00-18:00', 'Mo-Sa 11:00-19:30', 'Mo, Tu, Th, Fr 09:00-13:00, 14:00-18:00; Sa 10:00-13:00; We, Su, PH off', 'Mo-Fr 10:00-13:00, 14:00-18:00; Sa 10:30-13:00; Su, PH off', 'Mo', 'Mo-Fr 09:00-19:00; Sa 09:00-18:00', 'Mo-Fr 11:30-24:00; Sa 00:00-01:00,11:30-24:00; Su 00:00-01:00,11:30-23:00', '6:00-23:00', 'Mo-Sa 07:00-19:00', '24/7', 'Mo-Sa 10:00-20:00; Su, PH off', '05:00-24:00', 'Mo-Su 12:00-01:00', 'Mo-Fr 10:00-20:00; Sa 10:00-19:00; Su, PH off', 'Mo-Sa 10:00-19:00', 'Tu-Fr 12:00-18:30; Sa 12:00-16:30; Su,Mo,PH off', 'Mo-Fr 09:00-19:00; Sa 10:00-16:00; Su, PH off', 'Mo-Fr 09:00-20:00;Sa 09:00-16:00', 'Mo-Fr 09:00-19:00; Sa 09:00-17:00', 'Mo-Fr 8:00-18:00; Sa 8:00-12:00', 'Mo off; Tu-Su, PH 11:00-17:00; Dec24, Dec 25, Dec 31, Jan 01 off || \"Jeden ersten Donnerstag im Monat – KölnTag (außer an Feiertagen) 11 - 22 geöffnet; Karneval (Weiberfastnacht bis Karnevalsdienstag) geschlossen\"', 'Mo-Th 12:00-22:00; Fr-Su 12:00-22:30', 'Mo-Fr 07:45-18:00; Sa, Su, PH off', 'Mo-Sa 16:00-24:00; Su 10:00-24:00', 'Mo,Tu 09:00-13:00, 15:00-18:30; We 09:00-13:00; Th,Fr 09:00-13:00, 15:00-18:30; Sa 09:00-13:00', 'Mo-Sa 11:00-14:30,16:00-24:00; Tu off; Su 10:30-14:30,16:30-24:00', 'Mo-Th, Su 11:00-03:00; Fr-Sa 11:00-05:00', 'Mo-Fr 08:30-18:30; Sa 09:00-14:00', 'Mo-Fr 06:00-22:00, Sa 07:00-22:00; Su 08:00-22:00', 'Tu-Fr 12:00-15:00,17:00-23:00; Sa-Su 12:00-23:00; Mo off', 'Fr-Sa 23:00+', 'Mo-Fr 11:00-19:00; Sa 11:00-18:00;Su, PH off', 'Mo-Su 11:00-01:00', 'Mo-Th 10:00-14:00', '11:30-00:30', 'Mo-Fr 11:00-19:00; Sa 10:00-18:00; Su, PH off', 'Mo-Th 07:00-15:30; Fr 07:00-15:00; PH off', 'Mo-Sa 11:00-23:00; Su 14:30-22:30', 'Mo-Fr 12:00-14:00, 18:00-24:00; Sa 18:00-24:00; Su 12:00-14:00, 18:00-24:00', 'Mo-Th,Su off; Fr,Sa 21:00-04:00', 'Mo-Fr 08:00-18:30, Sa 08:30-14:00', 'Fr-Sa 20:00+', 'Mo-Sa 11:00-13:00|| Mo-Fr 09:00-19:00 \"de:nach Vereinbarung; en:on appointment\"', 'Mo-Fr 09:00-18:30; Sa 09:00-13:00', 'Su -Fr 11:45-14:30, 18:00-23:30; Sa 17:30-23:30', 'Mo-Fr 09:00-19:00; Sa-Su 10:00-19:00', 'Mo-Sa 10:00-23:00; Su,PH 10:00-22:00; Dec 24 10:00-15:00; Dec 31 10:00-06:00, Jan 1 12:00-22:00', 'Mo-Su 11:00-03:00', 'Mo-Th 08:00-12:00,14:00-18:00; We,Fr 08:00-12:00', 'Mo off; Tu-Sa 18:30-22:00; Su off', 'Mo 06:00-13:00,14:00-17:00; Tu-We 08:00-13:00; Th 08:00-13:00,14:00-19:00; Fr 08:00-13:00', 'Mo,Tu 08:30-13:00, 15:00-18:30; We 08:30-13:00; Th,Fr 08:30-13:00,15:00-18:30; Sa 08:30-13:00', 'Mo-Su 11:30-24:00', 'Mo-Th 09:00-21:00; Fr,Sa 09:00-22:00', 'Mo-Fr 06:00-18:30; Sa 06:00-13:00; Su 08:00-16:00', 'Mo-Fr 06:45-17:00', 'Mo-Fr 10:00-19:00; Sa 10:00-16:00', 'Mo-Su 08:00-23:00', 'Mo-Fr 05:00-18:00;Sa 06:00-13:00', 'Mo-Fr 08:00-18:30; Sa 07:30-14:00', 'Mo-Th 09:00-13:00,14:00-18:00; We 09:00-13:00,14:00-17:30; Fr 09:30-13:30', 'Mo-Sa 11:00-20:00', 'Mo,Tu 08:30-13:30, 14:30-18:30; We 08:30-13:30, 14:30-18:00; Th,Fr 08:30-13:30, 14:30-18:30; Sa 09:00-13:00', 'Mo,Tu 08:30-13:00, 15:00-18:30; We 08:30-13:0; Th 08:30-13:00, 15:00-18:30; Fr 08:30-13:30, 14:30-18:30; Sa 08:30-13:00', 'Mo-Sa 09:00+; Su 14:00+', 'Mo-Fr 08:30-19:00; Sa 09:00-18:00', 'Mo-Sa 07:00-22:00', 'Mo,We-Su,PH 12:00-17:00; Tu off', 'Tu-We 10:00-19:00; Th 11:00-21:00; Fr 10:00-19:00; Sa 09:00-16:00', 'Tu-Su 11:30-22:00', 'Mo-Sa 09:00-20:00', 'Mo-Fr 10:00-19:00', 'Mo-Fr 09:00-19:00; Sa 09:00-14:30', 'Tu-Sa 12:00-19:00', 'Mo,Tu,Th, Fr 08:00-19:00; Sa, Su 10:00-19:00', 'open; We, Sa 06:00-14:00 off', 'Mo-Sa 07:00-24:00', 'Mo-Fr 09:00-18:30; Sa 09:00-14:00', 'Mo-Fr 09:30-23:30; Sa-Su 10:00-22:00', 'Mo-We 08:30-13:00,14:00-16:30; Th 08:30-13:00,14:00-18:30; Fr 08:30-13:00', 'Mo-Fr 11:00-23:00; Sa 10:00-23:00', 'Mo-Sa 07:00-21:00', 'Mo-Fr 07:00-24:00; Sa 07:00-22:00', 'Su-Th 11:30-23:00; Fr-Sa 11:30-23:30'}"
      ]
     },
     "execution_count": 273,
     "metadata": {},
     "output_type": "execute_result"
    }
   ],
   "source": [
    "get_tag_key(key=\"opening_hours\")"
   ]
  },
  {
   "cell_type": "markdown",
   "metadata": {},
   "source": [
    "Lastly, I was curious about the meaning of \"alt_name\" and \"information\". Whereas \"alt_name\" seems to store names for buildings, information seems to store some data related to hiking"
   ]
  },
  {
   "cell_type": "code",
   "execution_count": 66,
   "metadata": {
    "collapsed": true
   },
   "outputs": [
    {
     "data": {
      "text/plain": [
       "{'Chaussée Brunehaut (BE, F)',\n",
       " 'Deutz-Thermalbad',\n",
       " 'Dorint Sofitel An der Messe',\n",
       " 'Entschlafen der Gottesmutter',\n",
       " 'Gymnasium - Kaiserin-Theophanu-Schule',\n",
       " 'Haus der Begegnung',\n",
       " 'Kölner Seilbahn',\n",
       " 'LVR-Klinik Forensische Psychiatrie',\n",
       " 'Rhine Route - part Germany',\n",
       " 'Stotzheim'}"
      ]
     },
     "execution_count": 66,
     "metadata": {},
     "output_type": "execute_result"
    }
   ],
   "source": [
    "get_tag_key(key=\"alt_name\")"
   ]
  },
  {
   "cell_type": "code",
   "execution_count": 67,
   "metadata": {
    "collapsed": true
   },
   "outputs": [
    {
     "data": {
      "text/plain": [
       "{'board', 'guidepost', 'hikingmap', 'map', 'nature'}"
      ]
     },
     "execution_count": 67,
     "metadata": {},
     "output_type": "execute_result"
    }
   ],
   "source": [
    "get_tag_key(key=\"information\")"
   ]
  },
  {
   "cell_type": "markdown",
   "metadata": {},
   "source": [
    "#### Audit tag keys"
   ]
  },
  {
   "cell_type": "markdown",
   "metadata": {},
   "source": [
    "Using regular expressions definied during the courss the data is audited"
   ]
  },
  {
   "cell_type": "code",
   "execution_count": 10,
   "metadata": {
    "collapsed": false
   },
   "outputs": [],
   "source": [
    "# complie regular expressions\n",
    "lower = re.compile(r'^([a-z]|_)*$')\n",
    "lower_colon = re.compile(r'^([a-z]|_)*:([a-z]|_)*$')\n",
    "problemchars = re.compile(r'[=\\+/&<>;\\'\"\\?%#$@\\,\\. \\t\\r\\n\\-]')"
   ]
  },
  {
   "cell_type": "code",
   "execution_count": 11,
   "metadata": {
    "collapsed": false
   },
   "outputs": [],
   "source": [
    "def get_audit_tags(file=\"cologne_germany_sample.osm\"):\n",
    "    \"\"\"\n",
    "    tbd\n",
    "    \"\"\"\n",
    "    # create tags dict\n",
    "    audit_tags = {\"lower\": 0, \"lower_colon\": 0, \"problemchars\": 0, \"other\": 0}\n",
    "    lower_list_key = []\n",
    "    lower_list_value = []\n",
    "    lower_colon_list_key = []\n",
    "    lower_colon_list_value = []\n",
    "    other_list_key = []\n",
    "    other_list_value = []\n",
    "    problemchars_list_key = []\n",
    "    problemchars_list_value = []\n",
    "    \n",
    "    # open file\n",
    "    with open(file, \"r\", encoding=\"utf8\") as f:\n",
    "        \n",
    "        # loop over file\n",
    "        for _ , elem in ET.iterparse(f):\n",
    "    \n",
    "            if elem.tag == \"tag\":\n",
    "        \n",
    "                # loop over tags of element\n",
    "                for tag in elem.iter(\"tag\"):\n",
    "            \n",
    "                    # check for lower in key\n",
    "                    if re.search(lower, tag.attrib[\"k\"]):\n",
    "                        \n",
    "                        # add value to lower list\n",
    "                        lower_list_key.append(tag.attrib[\"k\"])\n",
    "                        \n",
    "                        # increase count\n",
    "                        audit_tags[\"lower\"] += 1\n",
    "                        \n",
    "                    # check for lower in value\n",
    "                    elif re.search(lower, tag.attrib[\"v\"]):\n",
    "                        \n",
    "                        # add value to lower list\n",
    "                        lower_list_value.append(tag.attrib[\"v\"])\n",
    "                        \n",
    "                        # increase count\n",
    "                        audit_tags[\"lower\"] += 1\n",
    "                        \n",
    "                    # check for lower_colon in key\n",
    "                    elif re.search(lower_colon, tag.attrib[\"k\"]):\n",
    "        \n",
    "                        # add value to lower_colon list\n",
    "                        lower_colon_list_key.append(tag.attrib[\"k\"])\n",
    "            \n",
    "                        # increase count\n",
    "                        audit_tags[\"lower_colon\"] += 1\n",
    "        \n",
    "                    # check for lower_colon in value\n",
    "                    elif re.search(lower_colon, tag.attrib[\"v\"]):\n",
    "        \n",
    "                        # add value to lower_colon list\n",
    "                        lower_colon_list_value.append(tag.attrib[\"v\"])\n",
    "            \n",
    "                        # increase count\n",
    "                        audit_tags[\"lower_colon\"] += 1\n",
    "        \n",
    "                    # check for problemchars in key\n",
    "                    elif re.search(problemchars, tag.attrib[\"k\"]):\n",
    "                        \n",
    "                        # add value to problemchars list\n",
    "                        problemchars_list_key.append(tag.attrib[\"k\"])\n",
    "                        \n",
    "                        # increase count\n",
    "                        audit_tags[\"problemchars\"] += 1        \n",
    "            \n",
    "                    # check for problemchars in value\n",
    "                    elif re.search(problemchars, tag.attrib[\"v\"]):\n",
    "                        \n",
    "                        # add value to problemchars list\n",
    "                        problemchars_list_value.append(tag.attrib[\"v\"])\n",
    "                        \n",
    "                        # increase count\n",
    "                        audit_tags[\"problemchars\"] += 1\n",
    "                  \n",
    "        \n",
    "                    # else assign other\n",
    "                    else:\n",
    "                    \n",
    "                        # add key to other list\n",
    "                        other_list_key.append(tag.attrib[\"k\"])\n",
    "                        \n",
    "                        # increase count   \n",
    "                        audit_tags[\"other\"] += 1\n",
    "                    \n",
    "                        # add value to other list\n",
    "                        other_list_value.append(tag.attrib[\"v\"])\n",
    "                    \n",
    "                        # increase count   \n",
    "                        audit_tags[\"other\"] += 1\n",
    "        \n",
    "    return audit_tags, set(lower_list_key), set(lower_list_value), set(lower_colon_list_key), set(lower_colon_list_value), set(problemchars_list_key), set(problemchars_list_value), set(other_list_key), set(other_list_value)"
   ]
  },
  {
   "cell_type": "code",
   "execution_count": 12,
   "metadata": {
    "collapsed": false
   },
   "outputs": [],
   "source": [
    "problemchars_count, pchars_low_key, pchars_low_value, pchars_low_colon_key, pchars_low_colon_value, pchars_list_key, pchars_list_value, pchars_other_key, pchars_other_value = get_audit_tags()"
   ]
  },
  {
   "cell_type": "code",
   "execution_count": 14,
   "metadata": {
    "collapsed": false
   },
   "outputs": [
    {
     "data": {
      "text/plain": [
       "{'lower': 75642, 'lower_colon': 76328, 'other': 1744, 'problemchars': 457}"
      ]
     },
     "execution_count": 14,
     "metadata": {},
     "output_type": "execute_result"
    }
   ],
   "source": [
    "# print problemchar count per category\n",
    "problemchars_count"
   ]
  },
  {
   "cell_type": "code",
   "execution_count": 15,
   "metadata": {
    "collapsed": false
   },
   "outputs": [
    {
     "data": {
      "text/plain": [
       "{'abandoned',\n",
       " 'access',\n",
       " 'admin_level',\n",
       " 'advertising',\n",
       " 'aerialway',\n",
       " 'aeroway',\n",
       " 'agricultural',\n",
       " 'alt_name',\n",
       " 'amenity',\n",
       " 'animal',\n",
       " 'apartments',\n",
       " 'architect',\n",
       " 'area',\n",
       " 'artist',\n",
       " 'artist_name',\n",
       " 'artwork_type',\n",
       " 'asb',\n",
       " 'atm',\n",
       " 'attraction',\n",
       " 'backrest',\n",
       " 'bakehouse',\n",
       " 'bar',\n",
       " 'barrier',\n",
       " 'basin',\n",
       " 'beer_garden',\n",
       " 'bench',\n",
       " 'bic',\n",
       " 'bicycle',\n",
       " 'bicycle_parking',\n",
       " 'biergarten',\n",
       " 'bike_ride',\n",
       " 'bin',\n",
       " 'biometric',\n",
       " 'board_type',\n",
       " 'boat',\n",
       " 'bollard',\n",
       " 'booking',\n",
       " 'boundary',\n",
       " 'brand',\n",
       " 'breakfast',\n",
       " 'bridge',\n",
       " 'bridleway',\n",
       " 'building',\n",
       " 'buoy',\n",
       " 'bus',\n",
       " 'button_operated',\n",
       " 'by_night',\n",
       " 'cables',\n",
       " 'cafe',\n",
       " 'cake',\n",
       " 'capacity',\n",
       " 'centralkey',\n",
       " 'circumference',\n",
       " 'class_listed',\n",
       " 'club',\n",
       " 'coffee',\n",
       " 'collection_times',\n",
       " 'color',\n",
       " 'colour',\n",
       " 'community',\n",
       " 'community_centre',\n",
       " 'construction',\n",
       " 'construction_end_date',\n",
       " 'content',\n",
       " 'conveying',\n",
       " 'country',\n",
       " 'covered',\n",
       " 'craft',\n",
       " 'created_by',\n",
       " 'crossing',\n",
       " 'crossing_ref',\n",
       " 'cuisine',\n",
       " 'cutting',\n",
       " 'cycleway',\n",
       " 'date',\n",
       " 'delivery',\n",
       " 'demolished',\n",
       " 'denomination',\n",
       " 'denotation',\n",
       " 'description',\n",
       " 'designation',\n",
       " 'destination',\n",
       " 'detail',\n",
       " 'detour',\n",
       " 'diameter',\n",
       " 'dining',\n",
       " 'diplomatic',\n",
       " 'direction',\n",
       " 'direction_east',\n",
       " 'direction_north',\n",
       " 'direction_south',\n",
       " 'dispensing',\n",
       " 'display',\n",
       " 'distance',\n",
       " 'disused',\n",
       " 'dog',\n",
       " 'dogs',\n",
       " 'dormitory',\n",
       " 'drinking_water',\n",
       " 'drinks',\n",
       " 'drive_through',\n",
       " 'education',\n",
       " 'ele',\n",
       " 'electrified',\n",
       " 'email',\n",
       " 'embankment',\n",
       " 'emergency',\n",
       " 'end_date',\n",
       " 'entrance',\n",
       " 'equipment',\n",
       " 'escalator',\n",
       " 'exhibit',\n",
       " 'expected_rcn_route_relations',\n",
       " 'fast_food',\n",
       " 'fax',\n",
       " 'fee',\n",
       " 'fence_type',\n",
       " 'fenced',\n",
       " 'fireplace',\n",
       " 'fixed',\n",
       " 'fixme',\n",
       " 'flowerbed',\n",
       " 'food',\n",
       " 'foot',\n",
       " 'footway',\n",
       " 'frequency',\n",
       " 'from',\n",
       " 'ft_link',\n",
       " 'gauge',\n",
       " 'gay',\n",
       " 'genus',\n",
       " 'goods',\n",
       " 'handrail',\n",
       " 'headway',\n",
       " 'health_facility',\n",
       " 'health_specialty',\n",
       " 'healthcare',\n",
       " 'height',\n",
       " 'heritage',\n",
       " 'hgv',\n",
       " 'highspeed',\n",
       " 'highway',\n",
       " 'historic',\n",
       " 'history',\n",
       " 'horse',\n",
       " 'ice_cream',\n",
       " 'icn_ref',\n",
       " 'image',\n",
       " 'incline',\n",
       " 'indoor',\n",
       " 'indoor_seating',\n",
       " 'information',\n",
       " 'inscription',\n",
       " 'int_name',\n",
       " 'int_ref',\n",
       " 'intermittent',\n",
       " 'internet_access',\n",
       " 'interval',\n",
       " 'is_in',\n",
       " 'junction',\n",
       " 'kerb',\n",
       " 'lamp_mount',\n",
       " 'lamp_ref_swd',\n",
       " 'lamp_type',\n",
       " 'landuse',\n",
       " 'lanes',\n",
       " 'lastcheck',\n",
       " 'layer',\n",
       " 'leaf_cycle',\n",
       " 'leaf_type',\n",
       " 'leaved_type',\n",
       " 'leisure',\n",
       " 'length',\n",
       " 'level',\n",
       " 'levels',\n",
       " 'light_rail',\n",
       " 'line',\n",
       " 'lit',\n",
       " 'loc_name',\n",
       " 'local_ref',\n",
       " 'location',\n",
       " 'lwn',\n",
       " 'male',\n",
       " 'man_made',\n",
       " 'manhole',\n",
       " 'map_size',\n",
       " 'map_type',\n",
       " 'material',\n",
       " 'maxheight',\n",
       " 'maxlength',\n",
       " 'maxspeed',\n",
       " 'maxstay',\n",
       " 'maxweight',\n",
       " 'maxwidth',\n",
       " 'microbrewery',\n",
       " 'military',\n",
       " 'min_age',\n",
       " 'min_height',\n",
       " 'mofa',\n",
       " 'mooring',\n",
       " 'moped',\n",
       " 'motor_vehicle',\n",
       " 'motorcar',\n",
       " 'motorcycle',\n",
       " 'motorroad',\n",
       " 'museum',\n",
       " 'name',\n",
       " 'nat_ref',\n",
       " 'natural',\n",
       " 'network',\n",
       " 'noexit',\n",
       " 'note',\n",
       " 'office',\n",
       " 'official_name',\n",
       " 'old_name',\n",
       " 'old_ref',\n",
       " 'oneway',\n",
       " 'onkz',\n",
       " 'opening_hours',\n",
       " 'operating_rules',\n",
       " 'operator',\n",
       " 'organic',\n",
       " 'organisation',\n",
       " 'origin',\n",
       " 'outdoor_seating',\n",
       " 'overtaking',\n",
       " 'park_ride',\n",
       " 'parking',\n",
       " 'passenger_lines',\n",
       " 'phases',\n",
       " 'phone',\n",
       " 'place',\n",
       " 'placement',\n",
       " 'platform_height',\n",
       " 'platform_ref',\n",
       " 'platform_section_sign_value',\n",
       " 'playground',\n",
       " 'population',\n",
       " 'pos',\n",
       " 'postal_code',\n",
       " 'postal_code_level',\n",
       " 'power',\n",
       " 'power_supply',\n",
       " 'priority_road',\n",
       " 'production_date',\n",
       " 'proposed',\n",
       " 'protect_class',\n",
       " 'protection_title',\n",
       " 'psv',\n",
       " 'pub',\n",
       " 'public_transport',\n",
       " 'public_viewing',\n",
       " 'pump',\n",
       " 'pzb',\n",
       " 'quality',\n",
       " 'rail',\n",
       " 'railway',\n",
       " 'ramp',\n",
       " 'rating',\n",
       " 'rcn_ref',\n",
       " 'real_ale',\n",
       " 'recycling_type',\n",
       " 'ref',\n",
       " 'reg_name',\n",
       " 'reg_ref',\n",
       " 'region',\n",
       " 'religion',\n",
       " 'resolution',\n",
       " 'resource',\n",
       " 'restaurant',\n",
       " 'restriction',\n",
       " 'roof',\n",
       " 'room',\n",
       " 'route',\n",
       " 'route_master',\n",
       " 'route_ref',\n",
       " 'ruins',\n",
       " 'sac_scale',\n",
       " 'screen',\n",
       " 'seamark',\n",
       " 'seats',\n",
       " 'section',\n",
       " 'segregated',\n",
       " 'self_service',\n",
       " 'service',\n",
       " 'services',\n",
       " 'shared_taxi',\n",
       " 'shelter',\n",
       " 'shelter_type',\n",
       " 'shop',\n",
       " 'short',\n",
       " 'short_name',\n",
       " 'shower',\n",
       " 'sidewalk',\n",
       " 'site',\n",
       " 'site_type',\n",
       " 'skateboard',\n",
       " 'ski',\n",
       " 'smoking',\n",
       " 'smoothness',\n",
       " 'snack',\n",
       " 'snacks',\n",
       " 'snowmobile',\n",
       " 'social_facility',\n",
       " 'source',\n",
       " 'source_ref',\n",
       " 'species',\n",
       " 'sport',\n",
       " 'stairwell',\n",
       " 'stars',\n",
       " 'start_date',\n",
       " 'step_count',\n",
       " 'structure',\n",
       " 'subdenomination',\n",
       " 'subject',\n",
       " 'substation',\n",
       " 'subway',\n",
       " 'supervised',\n",
       " 'support',\n",
       " 'surface',\n",
       " 'surface_state',\n",
       " 'surveillance',\n",
       " 'symbol',\n",
       " 'tactile_paving',\n",
       " 'takeaway',\n",
       " 'taxi',\n",
       " 'tenant',\n",
       " 'time',\n",
       " 'timetable',\n",
       " 'tmc',\n",
       " 'to',\n",
       " 'toilets',\n",
       " 'tourism',\n",
       " 'tracks',\n",
       " 'tracktype',\n",
       " 'tractor_type',\n",
       " 'traffic',\n",
       " 'traffic_calming',\n",
       " 'traffic_sign',\n",
       " 'traffic_signals',\n",
       " 'trail_visibility',\n",
       " 'train',\n",
       " 'training',\n",
       " 'tram',\n",
       " 'transformer',\n",
       " 'tree',\n",
       " 'tree_lined',\n",
       " 'tunnel',\n",
       " 'turn',\n",
       " 'tv',\n",
       " 'type',\n",
       " 'uic_ref',\n",
       " 'unisex',\n",
       " 'university',\n",
       " 'url',\n",
       " 'usage',\n",
       " 'use',\n",
       " 'vehicle',\n",
       " 'vending',\n",
       " 'via',\n",
       " 'visibility',\n",
       " 'voltage',\n",
       " 'wall',\n",
       " 'water',\n",
       " 'waterway',\n",
       " 'weather_protection',\n",
       " 'website',\n",
       " 'wheelchair',\n",
       " 'wheelchair_toilet',\n",
       " 'width',\n",
       " 'wifi',\n",
       " 'wiki',\n",
       " 'wikidata',\n",
       " 'wikipedia',\n",
       " 'wires',\n",
       " 'wood',\n",
       " 'workrules',\n",
       " 'wpt_description',\n",
       " 'wpt_symbol',\n",
       " 'year_of_construction',\n",
       " 'zoo'}"
      ]
     },
     "execution_count": 15,
     "metadata": {},
     "output_type": "execute_result"
    }
   ],
   "source": [
    "# print lower key tags\n",
    "pchars_low_key"
   ]
  },
  {
   "cell_type": "code",
   "execution_count": 16,
   "metadata": {
    "collapsed": false
   },
   "outputs": [
    {
     "data": {
      "text/plain": [
       "{'across',\n",
       " 'agricultural',\n",
       " 'airport',\n",
       " 'along',\n",
       " 'anchor',\n",
       " 'anchor_berth',\n",
       " 'asphalt',\n",
       " 'backward',\n",
       " 'beacon_lateral',\n",
       " 'bench',\n",
       " 'between',\n",
       " 'black',\n",
       " 'block',\n",
       " 'blue',\n",
       " 'both',\n",
       " 'bottom_board',\n",
       " 'brick',\n",
       " 'bricks',\n",
       " 'bridge',\n",
       " 'bridge_pier',\n",
       " 'brown',\n",
       " 'building',\n",
       " 'buoy_lateral',\n",
       " 'cable_submarine',\n",
       " 'camera',\n",
       " 'can',\n",
       " 'ceiling',\n",
       " 'chair',\n",
       " 'civic',\n",
       " 'column',\n",
       " 'commercial',\n",
       " 'communication',\n",
       " 'concrete',\n",
       " 'conspicuous',\n",
       " 'crane',\n",
       " 'crosscountry',\n",
       " 'cultural',\n",
       " 'cushion_chair',\n",
       " 'default',\n",
       " 'defensive',\n",
       " 'designated',\n",
       " 'diagonal',\n",
       " 'distance_mark',\n",
       " 'dolphin',\n",
       " 'dome',\n",
       " 'double_half',\n",
       " 'double_slip',\n",
       " 'down',\n",
       " 'dwarf',\n",
       " 'education',\n",
       " 'elevator',\n",
       " 'end_of_catenary',\n",
       " 'entry',\n",
       " 'even',\n",
       " 'exhibition',\n",
       " 'exit',\n",
       " 'extrapolation',\n",
       " 'female',\n",
       " 'fixed',\n",
       " 'fixme',\n",
       " 'flat',\n",
       " 'flowers',\n",
       " 'flush',\n",
       " 'foodservice',\n",
       " 'footway',\n",
       " 'forward',\n",
       " 'fossil',\n",
       " 'free',\n",
       " 'freestanding',\n",
       " 'freight',\n",
       " 'full',\n",
       " 'gabled',\n",
       " 'gambrel',\n",
       " 'garage',\n",
       " 'garden',\n",
       " 'gathering',\n",
       " 'general',\n",
       " 'glass',\n",
       " 'good',\n",
       " 'gravel',\n",
       " 'green',\n",
       " 'grey',\n",
       " 'half',\n",
       " 'harbour',\n",
       " 'hedge',\n",
       " 'hipped',\n",
       " 'historical',\n",
       " 'horizontal',\n",
       " 'hospital',\n",
       " 'hotel',\n",
       " 'in_track',\n",
       " 'industrial',\n",
       " 'inline',\n",
       " 'intermediate',\n",
       " 'kilometer',\n",
       " 'kilometres',\n",
       " 'knowledge',\n",
       " 'lane',\n",
       " 'left',\n",
       " 'leisure',\n",
       " 'light',\n",
       " 'mansard',\n",
       " 'marina',\n",
       " 'mechanical',\n",
       " 'medical',\n",
       " 'metal',\n",
       " 'mixed',\n",
       " 'mooring',\n",
       " 'navigation_restrictions',\n",
       " 'negative',\n",
       " 'no',\n",
       " 'no_anchoring',\n",
       " 'no_parking',\n",
       " 'no_stopping',\n",
       " 'none',\n",
       " 'normal',\n",
       " 'not_installed',\n",
       " 'notice',\n",
       " 'office',\n",
       " 'orthogonal',\n",
       " 'otolaryngology',\n",
       " 'parallel',\n",
       " 'parking',\n",
       " 'parking_lot',\n",
       " 'passage',\n",
       " 'passenger',\n",
       " 'paving_stones',\n",
       " 'peak_traffic',\n",
       " 'perpendicular',\n",
       " 'pile',\n",
       " 'pillar',\n",
       " 'pitched',\n",
       " 'plaster',\n",
       " 'pole',\n",
       " 'positive',\n",
       " 'prohibition',\n",
       " 'psychiatry',\n",
       " 'public',\n",
       " 'public_transport',\n",
       " 'pyramidal',\n",
       " 'radar_reflector',\n",
       " 'rail',\n",
       " 'railway',\n",
       " 'red',\n",
       " 'reflector',\n",
       " 'religious',\n",
       " 'research',\n",
       " 'residential',\n",
       " 'restricted_area',\n",
       " 'restriction',\n",
       " 'reverse_pyramidal',\n",
       " 'right',\n",
       " 'roman',\n",
       " 'romanesque',\n",
       " 'roof',\n",
       " 'roof_tiles',\n",
       " 'round',\n",
       " 'semaphore',\n",
       " 'senior',\n",
       " 'service',\n",
       " 'shadecloth',\n",
       " 'shingels',\n",
       " 'shingles',\n",
       " 'sidewalk',\n",
       " 'sign',\n",
       " 'signal_box',\n",
       " 'single',\n",
       " 'skilion',\n",
       " 'skillion',\n",
       " 'slipway',\n",
       " 'small_craft_facility',\n",
       " 'sport',\n",
       " 'stake',\n",
       " 'stolperstein',\n",
       " 'stone',\n",
       " 'storage',\n",
       " 'survey',\n",
       " 'tar_paper',\n",
       " 'telephone',\n",
       " 'terrace',\n",
       " 'three_way',\n",
       " 'through',\n",
       " 'ticket',\n",
       " 'town',\n",
       " 'track',\n",
       " 'track_diagram',\n",
       " 'traffic',\n",
       " 'underground',\n",
       " 'underprivileged',\n",
       " 'uneven',\n",
       " 'unknown',\n",
       " 'wall',\n",
       " 'waterway_left',\n",
       " 'waterway_right',\n",
       " 'white',\n",
       " 'wood',\n",
       " 'xx',\n",
       " 'y',\n",
       " 'yellow',\n",
       " 'yes'}"
      ]
     },
     "execution_count": 16,
     "metadata": {},
     "output_type": "execute_result"
    }
   ],
   "source": [
    "# print lower value tags\n",
    "pchars_low_value"
   ]
  },
  {
   "cell_type": "code",
   "execution_count": 17,
   "metadata": {
    "collapsed": false
   },
   "outputs": [
    {
     "data": {
      "text/plain": [
       "{'addr:city',\n",
       " 'addr:country',\n",
       " 'addr:district',\n",
       " 'addr:housename',\n",
       " 'addr:housenumber',\n",
       " 'addr:postcode',\n",
       " 'addr:street',\n",
       " 'addr:suburb',\n",
       " 'admin_centre:postal_code',\n",
       " 'aerialway:occupancy',\n",
       " 'bridge:name',\n",
       " 'building:colour',\n",
       " 'building:height',\n",
       " 'building:levels',\n",
       " 'building:min_height',\n",
       " 'building:min_level',\n",
       " 'building:part',\n",
       " 'building:use',\n",
       " 'camera:angle',\n",
       " 'camera:direction',\n",
       " 'capacity:disabled',\n",
       " 'change:lanes',\n",
       " 'class:bicycle',\n",
       " 'collection_times:lastcheck',\n",
       " 'community:de',\n",
       " 'community:en',\n",
       " 'community:fr',\n",
       " 'community_centre:for',\n",
       " 'contact:email',\n",
       " 'contact:fax',\n",
       " 'contact:phone',\n",
       " 'contact:website',\n",
       " 'dance:style',\n",
       " 'de:amtlicher_gemeindeschluessel',\n",
       " 'de:regionalschluessel',\n",
       " 'description:de',\n",
       " 'destination:backward',\n",
       " 'destination:lanes',\n",
       " 'destination:ref',\n",
       " 'destination:symbol',\n",
       " 'election:parliament',\n",
       " 'election:part',\n",
       " 'election:year',\n",
       " 'fee:times',\n",
       " 'fire_hydrant:diameter',\n",
       " 'flowers:height',\n",
       " 'genus:de',\n",
       " 'heritage:ensemble',\n",
       " 'heritage:operator',\n",
       " 'heritage:ref',\n",
       " 'heritage:since',\n",
       " 'hgv:conditional',\n",
       " 'institution:pedagogy',\n",
       " 'interval:evening',\n",
       " 'interval:weekend',\n",
       " 'is_in:state_code',\n",
       " 'kerb:height',\n",
       " 'lanes:backward',\n",
       " 'lanes:forward',\n",
       " 'maxspeed:backward',\n",
       " 'maxspeed:conditional',\n",
       " 'maxspeed:forward',\n",
       " 'maxspeed:hgv',\n",
       " 'maxspeed:note',\n",
       " 'maxspeed:wet',\n",
       " 'memorial:addr',\n",
       " 'memorial:text',\n",
       " 'memorial:website',\n",
       " 'motor_vehicle:conditional',\n",
       " 'mtb:description',\n",
       " 'mtb:scale',\n",
       " 'name:cs',\n",
       " 'name:de',\n",
       " 'name:en',\n",
       " 'name:fr',\n",
       " 'name:hu',\n",
       " 'name:it',\n",
       " 'name:ksh',\n",
       " 'name:local',\n",
       " 'name:nl',\n",
       " 'name:pl',\n",
       " 'name:prefix',\n",
       " 'name:ro',\n",
       " 'name:ru',\n",
       " 'name:tr',\n",
       " 'name:zh',\n",
       " 'note:de',\n",
       " 'note:en',\n",
       " 'note:name',\n",
       " 'note:nutzung',\n",
       " 'note:osm',\n",
       " 'osmc:symbol',\n",
       " 'person:date_of_birth',\n",
       " 'person:date_of_death',\n",
       " 'phone:mobile',\n",
       " 'placement:backward',\n",
       " 'placement:forward',\n",
       " 'public_transport:version',\n",
       " 'railway:note',\n",
       " 'railway:position',\n",
       " 'railway:ref',\n",
       " 'railway:station_category',\n",
       " 'railway:track_ref',\n",
       " 'ref:circulation',\n",
       " 'ref:isil',\n",
       " 'reg_name:wikipedia',\n",
       " 'river:waterway_distance',\n",
       " 'roof:angle',\n",
       " 'roof:colour',\n",
       " 'roof:direction',\n",
       " 'roof:extent',\n",
       " 'roof:height',\n",
       " 'roof:levels',\n",
       " 'roof:orientation',\n",
       " 'roof:shape',\n",
       " 'scenery:rating',\n",
       " 'seamark:name',\n",
       " 'source:date',\n",
       " 'source:destination',\n",
       " 'source:geometry',\n",
       " 'source:lit',\n",
       " 'source:maxspeed',\n",
       " 'source:name',\n",
       " 'source:oneway',\n",
       " 'source:platform_height',\n",
       " 'source:population',\n",
       " 'source:ref',\n",
       " 'species:de',\n",
       " 'species:en',\n",
       " 'survey:date',\n",
       " 'temporary:date_off',\n",
       " 'temporary:date_on',\n",
       " 'temporary:note',\n",
       " 'toilets:position',\n",
       " 'turn:lanes',\n",
       " 'waterway:kilometer',\n",
       " 'website:en',\n",
       " 'wheelchair:description',\n",
       " 'wiki:symbol',\n",
       " 'zone:maxspeed',\n",
       " 'zone:traffic'}"
      ]
     },
     "execution_count": 17,
     "metadata": {},
     "output_type": "execute_result"
    }
   ],
   "source": [
    "# print lower_colon keys\n",
    "pchars_low_colon_key"
   ]
  },
  {
   "cell_type": "code",
   "execution_count": 18,
   "metadata": {
    "collapsed": false
   },
   "outputs": [
    {
     "data": {
      "text/plain": [
       "set()"
      ]
     },
     "execution_count": 18,
     "metadata": {},
     "output_type": "execute_result"
    }
   ],
   "source": [
    "# print lower_colon keys\n",
    "pchars_low_colon_value"
   ]
  },
  {
   "cell_type": "code",
   "execution_count": 20,
   "metadata": {
    "collapsed": false
   },
   "outputs": [
    {
     "data": {
      "text/plain": [
       "{'strassen-nrw:abs'}"
      ]
     },
     "execution_count": 20,
     "metadata": {},
     "output_type": "execute_result"
    }
   ],
   "source": [
    "# print problemchars keys\n",
    "pchars_list_key"
   ]
  },
  {
   "cell_type": "code",
   "execution_count": 21,
   "metadata": {
    "collapsed": false
   },
   "outputs": [
    {
     "data": {
      "text/plain": [
       "{'#222244',\n",
       " '#333355',\n",
       " '#883333',\n",
       " '#D3BAB7',\n",
       " '-1',\n",
       " '05:00-20:00',\n",
       " '1.25',\n",
       " '2.175',\n",
       " '2.5',\n",
       " '2016-03-02: Gebäude ist fertiggestellt, es wird ein Mieter für das Ladengeschäft gesucht',\n",
       " '20:00-05:00',\n",
       " '239.6',\n",
       " '283.4',\n",
       " '30;60',\n",
       " '8.00',\n",
       " '9.00',\n",
       " '91.2',\n",
       " '?',\n",
       " 'A 1|A 1|A 4;B 264',\n",
       " 'A 1|A 1|B 264',\n",
       " 'A 555|A 4',\n",
       " 'A 57|A 1',\n",
       " 'Aeltgen-Dünwald-Straße',\n",
       " 'Alstädten/Burb.',\n",
       " 'Ausgenommen K0-K2 im Muehlheimer Hafen',\n",
       " 'BERGISCH GLADBACH',\n",
       " 'Beseler Straße',\n",
       " 'Beuelsweg Nord',\n",
       " 'Bf Deutz/Messe  LANXESS arena',\n",
       " 'Bf Deutz/Messe LANXESS arena',\n",
       " 'Bf Mülheim',\n",
       " 'Bf Porz',\n",
       " 'Bitte Details ergänzen',\n",
       " 'Bitte Existenz des Defi prüfen.',\n",
       " 'Bitte Gebäude, Gebäudeteil oder Eingang zuordnen',\n",
       " 'Bitte näher bezeichnen. barrier=fence?',\n",
       " 'Brück Mauspfad',\n",
       " 'Christophstraße/Mediapark',\n",
       " 'D;?',\n",
       " 'D;off;?',\n",
       " 'DE-BOStrab:g4',\n",
       " 'DE-BOStrab:h',\n",
       " 'DE-BOStrab:h0;DE-BOStrab:h1',\n",
       " 'DE-ESO:db:zs1',\n",
       " 'DE-ESO:db:zs10',\n",
       " 'DE-ESO:db:zs1;DE-ESO:db:zs7',\n",
       " 'DE-ESO:db:zs6',\n",
       " 'DE-ESO:db:zs7',\n",
       " 'DE-ESO:dr:zs1',\n",
       " 'DE-ESO:dr:zs1;DE-ESO:db:zs7',\n",
       " 'DE-ESO:el6',\n",
       " 'DE-ESO:hp',\n",
       " 'DE-ESO:hp0;DE-ESO:hp1',\n",
       " 'DE-ESO:hp0;DE-ESO:hp1;DE-ESO:hp2',\n",
       " 'DE-ESO:hp0;DE-ESO:hp1;DE-ESO:hp2;DE-ESO:kennlicht',\n",
       " 'DE-ESO:hp0;DE-ESO:hp1;DE-ESO:kennlicht',\n",
       " 'DE-ESO:hp0;DE-ESO:hp2',\n",
       " 'DE-ESO:hp0;DE-ESO:kennlicht',\n",
       " 'DE-ESO:hp0;DE-ESO:ks1',\n",
       " 'DE-ESO:hp0;DE-ESO:ks1;DE-ESO:ks2',\n",
       " 'DE-ESO:hp0;DE-ESO:sh1',\n",
       " 'DE-ESO:hp1;DE-ESO:hp0;DE-ESO:hp2',\n",
       " 'DE-ESO:ks',\n",
       " 'DE-ESO:ks1;DE-ESO:ks2',\n",
       " 'DE-ESO:lf6',\n",
       " 'DE-ESO:lf7',\n",
       " 'DE-ESO:ne1',\n",
       " 'DE-ESO:ne5',\n",
       " 'DE-ESO:ra11',\n",
       " 'DE-ESO:sh',\n",
       " 'DE-ESO:sh0',\n",
       " 'DE-ESO:sh0;DE-ESO:sh1',\n",
       " 'DE-ESO:sh1',\n",
       " 'DE-ESO:sh2',\n",
       " 'DE-ESO:vr',\n",
       " 'DE-ESO:vr0;DE-ESO:vr1',\n",
       " 'DE-ESO:vr0;DE-ESO:vr1;DE-ESO:vr2',\n",
       " 'DE-ESO:vr0;DE-ESO:vr1;DE-ESO:vr2;DE-ESO:kennlicht',\n",
       " 'DE-ESO:vr0;DE-ESO:vr2',\n",
       " 'DE-ESO:vr0;DE-ESO:vr2;DE-ESO:kennlicht',\n",
       " 'DE-ESO:vr1;DE-ESO:vr0;DE-ESO:vr2',\n",
       " 'DE-ESO:zp',\n",
       " 'DE-ESO:zp9',\n",
       " 'DE-ESO:zp9;DE-ESO:zp10',\n",
       " 'DE-ESO:zs2',\n",
       " 'DE-ESO:zs3',\n",
       " 'DE-ESO:zs3v',\n",
       " 'Denkmalamt Köln',\n",
       " 'Diese Landuse Relation sollte man verkleinern',\n",
       " 'Dom/Hbf',\n",
       " 'Duckterath (S)',\n",
       " 'Dürener Straße/Gürtel',\n",
       " 'Ensen Gilgaustraße',\n",
       " 'Escher See',\n",
       " 'F;H',\n",
       " 'Frankfurter Straße',\n",
       " 'Gebäudeumrisse prüfen',\n",
       " 'Hermülheim Rathaus',\n",
       " 'Humboldt/Gremberg',\n",
       " 'Hürth-Hermülheim',\n",
       " 'In der Auen Kirche',\n",
       " 'Kalscheuren Bf',\n",
       " 'Köln Hauptbahnhof',\n",
       " 'L;E',\n",
       " 'L;R',\n",
       " 'Longerich;Weidenpesch;Krefeld;Zentrum',\n",
       " 'Mathias-Brüggen-Straße',\n",
       " 'Mo-Sa 09:00-01:00',\n",
       " 'Neu-Brück',\n",
       " 'Neurather Weg',\n",
       " 'Neusser Straße/Gürtel',\n",
       " 'Porz Steinstraße',\n",
       " 'R;?',\n",
       " 'Rodenkirchen Bf',\n",
       " 'STOP: Da steht zwar leider KEIN Schild. Dort als Radfahrer lang zu fahren ist Lebensgefährlich. Da gehört in der realen Welt ein Verbotsschild für Radfahrer hin, und KEINE Freigabe in OSM.',\n",
       " 'Sankt Vincenz-Haus',\n",
       " 'Sankt Vinzenz-Hospital',\n",
       " 'Segment 1. Ordnung',\n",
       " 'Stufen am Eingang',\n",
       " 'T;?',\n",
       " 'Venloer Straße/Gürtel',\n",
       " 'Verbindung?',\n",
       " 'Vogelsanger Straße/Maarweg',\n",
       " 'Weinsbergstraße/Gürtel',\n",
       " 'Werkstags 9-23 Uhr',\n",
       " 'Werktags 9-23 Uhr',\n",
       " 'Westhoven Kölner Straße',\n",
       " 'Zollstock Südfriedhof',\n",
       " 'auch Eingang Ehrenstraße 2',\n",
       " 'bessere Beschreibung erforderlich',\n",
       " 'bitte Gebäude oder Gebäudeteil zuordnen',\n",
       " 'bitte Gebäude zuordnen',\n",
       " 'bitte Gebäude zuordnen (auf Bild in 12/2013 nicht vorhanden)',\n",
       " 'bitte Gebäude, Gebäudeteil oder Eingang zuordnen',\n",
       " 'bitte Gebäudeeingang oder Gebäudeteil zuordnen',\n",
       " 'bitte Gebäudeeingang zuordnen',\n",
       " 'bitte Gebäudeingang oder Gebäudeteil zuordnen',\n",
       " 'bitte Hauseingang bzw. Gebäudeteil zuordnen',\n",
       " 'bitte Hauseingang oder Gebäudeteil zuordnen',\n",
       " 'bitte Name und Details ergänzen',\n",
       " 'bitte Nutzungsart ergänzen',\n",
       " 'bitte genau zuordnen',\n",
       " 'bitte richtig zuordnen',\n",
       " 'cone, point down',\n",
       " 'cone, point up',\n",
       " 'ist dieser Abschnitt Einbahnstraße?',\n",
       " 'lage geschätzt, Juni 2013',\n",
       " 'landuse=grass für diese großen Planzkästen scheint mir etwas overdressed',\n",
       " 'left;right',\n",
       " 'left|through;right',\n",
       " 'maxspeed prüfen: unterschiedlich nach Richtung? Wo Grenze zwischen 50 und 60?',\n",
       " 'name=* ist der betriebliche Name; auf dem Stationsschild steht lediglich \"Köln Messe/Deutz\"',\n",
       " 'no_ exploration_development',\n",
       " 'none|none|;airport;',\n",
       " 'off;60',\n",
       " 'order 1 segment',\n",
       " 'right_triangle;left_triangle',\n",
       " 'route_master sind für PTv2-Member',\n",
       " 'through|through;right',\n",
       " 'through|through|through;right',\n",
       " 'upstream;downstream',\n",
       " 'where does this oneway go?',\n",
       " 'white;green',\n",
       " 'white;red',\n",
       " 'wirklich residential und nicht path/track?'}"
      ]
     },
     "execution_count": 21,
     "metadata": {},
     "output_type": "execute_result"
    }
   ],
   "source": [
    "# print problemchars value\n",
    "pchars_list_value"
   ]
  },
  {
   "cell_type": "code",
   "execution_count": 22,
   "metadata": {
    "collapsed": false
   },
   "outputs": [
    {
     "data": {
      "text/plain": [
       "{'Denkmalnummer',\n",
       " 'TMC:cid_58:tabcd_1:Class',\n",
       " 'TMC:cid_58:tabcd_1:LocationCode',\n",
       " 'TMC:cid_58:tabcd_1:NextLocationCode',\n",
       " 'TMC:cid_58:tabcd_1:PrevLocationCode',\n",
       " 'VRS:gemeinde',\n",
       " 'VRS:name',\n",
       " 'VRS:ortsteil',\n",
       " 'VRS:ref',\n",
       " 'building:levels:roof',\n",
       " 'building:roof:height',\n",
       " 'bus:lanes:backward',\n",
       " 'change:lanes:backward',\n",
       " 'class:bicycle:commute',\n",
       " 'destination:symbol:lanes',\n",
       " 'disused:railway:ref',\n",
       " 'name:etymology:wikidata',\n",
       " 'operator:VRS',\n",
       " 'railway:platform:section',\n",
       " 'railway:signal:ring',\n",
       " 'railway:signal:speed_limit',\n",
       " 'railway:signal:speed_limit:speed',\n",
       " 'railway:signal:speed_limit_distant',\n",
       " 'railway:signal:speed_limit_distant:speed',\n",
       " 'ref:2',\n",
       " 'ref:AST',\n",
       " 'ref:VRS',\n",
       " 'roof:slope:direction',\n",
       " 'seamark:distance_mark:distance',\n",
       " 'seamark:notice:distance_down',\n",
       " 'seamark:notice:distance_up',\n",
       " 'seamark:notice:information',\n",
       " 'turn:lanes:backward',\n",
       " 'turn:lanes:forward'}"
      ]
     },
     "execution_count": 22,
     "metadata": {},
     "output_type": "execute_result"
    }
   ],
   "source": [
    "# print other keys\n",
    "pchars_other_key"
   ]
  },
  {
   "cell_type": "code",
   "execution_count": 24,
   "metadata": {
    "collapsed": false
   },
   "outputs": [
    {
     "data": {
      "text/plain": [
       "{'1',\n",
       " '100',\n",
       " '10054',\n",
       " '10055',\n",
       " '10056',\n",
       " '10907',\n",
       " '10908',\n",
       " '10909',\n",
       " '10910',\n",
       " '10911',\n",
       " '11113',\n",
       " '11115',\n",
       " '11116',\n",
       " '11121',\n",
       " '11122',\n",
       " '11123',\n",
       " '11201',\n",
       " '11209',\n",
       " '11311',\n",
       " '11451',\n",
       " '11511',\n",
       " '11514',\n",
       " '11610',\n",
       " '11651',\n",
       " '11710',\n",
       " '11712',\n",
       " '11768',\n",
       " '11769',\n",
       " '11809',\n",
       " '11810',\n",
       " '11861',\n",
       " '11901',\n",
       " '11917',\n",
       " '11952',\n",
       " '11953',\n",
       " '120',\n",
       " '12015',\n",
       " '12016',\n",
       " '12051',\n",
       " '12053',\n",
       " '12056',\n",
       " '12151',\n",
       " '12211',\n",
       " '12252',\n",
       " '12361',\n",
       " '12421',\n",
       " '12564',\n",
       " '12711',\n",
       " '12757',\n",
       " '12761',\n",
       " '13011',\n",
       " '13050',\n",
       " '13053',\n",
       " '13111',\n",
       " '13112',\n",
       " '13121',\n",
       " '13122',\n",
       " '13211',\n",
       " '13216',\n",
       " '13311',\n",
       " '13355',\n",
       " '13511',\n",
       " '13512',\n",
       " '13551',\n",
       " '13554',\n",
       " '13671',\n",
       " '13911',\n",
       " '14021',\n",
       " '14031',\n",
       " '14032',\n",
       " '14033',\n",
       " '14201',\n",
       " '14211',\n",
       " '14221',\n",
       " '14263',\n",
       " '14310',\n",
       " '14353',\n",
       " '14452',\n",
       " '14455',\n",
       " '14473',\n",
       " '14511',\n",
       " '14551',\n",
       " '14556',\n",
       " '14611',\n",
       " '14612',\n",
       " '14671',\n",
       " '14672',\n",
       " '15001',\n",
       " '15011',\n",
       " '15012',\n",
       " '15013',\n",
       " '15051',\n",
       " '15054',\n",
       " '15058',\n",
       " '15072',\n",
       " '15073',\n",
       " '15112',\n",
       " '15113',\n",
       " '15121',\n",
       " '15152',\n",
       " '15355',\n",
       " '15413',\n",
       " '15414',\n",
       " '15501',\n",
       " '15553',\n",
       " '15560',\n",
       " '15611',\n",
       " '15613',\n",
       " '15651',\n",
       " '1574',\n",
       " '160',\n",
       " '16054',\n",
       " '16065',\n",
       " '16163',\n",
       " '17013',\n",
       " '17057',\n",
       " '17062',\n",
       " '17111',\n",
       " '17113',\n",
       " '17274',\n",
       " '17275',\n",
       " '17301',\n",
       " '17310',\n",
       " '17311',\n",
       " '17352',\n",
       " '18001',\n",
       " '18011',\n",
       " '18110',\n",
       " '18151',\n",
       " '18152',\n",
       " '18211',\n",
       " '18354',\n",
       " '18363',\n",
       " '18366',\n",
       " '18401',\n",
       " '18552',\n",
       " '18553',\n",
       " '18611',\n",
       " '18864',\n",
       " '19201',\n",
       " '19253',\n",
       " '19312',\n",
       " '19352',\n",
       " '19354',\n",
       " '19413',\n",
       " '19461',\n",
       " '19552',\n",
       " '19569',\n",
       " '19611',\n",
       " '19615',\n",
       " '19631',\n",
       " '19634',\n",
       " '19655',\n",
       " '19661',\n",
       " '19663',\n",
       " '19665',\n",
       " '19675',\n",
       " '19682',\n",
       " '19711',\n",
       " '19713',\n",
       " '19762',\n",
       " '19850',\n",
       " '19861',\n",
       " '19873',\n",
       " '2',\n",
       " '22264',\n",
       " '22277',\n",
       " '24197',\n",
       " '24199',\n",
       " '24200',\n",
       " '24421',\n",
       " '24450',\n",
       " '24451',\n",
       " '24452',\n",
       " '24523',\n",
       " '25242',\n",
       " '25243',\n",
       " '25447',\n",
       " '25448',\n",
       " '25451',\n",
       " '2817',\n",
       " '3',\n",
       " '30',\n",
       " '31133',\n",
       " '31138',\n",
       " '31165',\n",
       " '31168',\n",
       " '31202',\n",
       " '31278',\n",
       " '31651',\n",
       " '323',\n",
       " '39274',\n",
       " '39364',\n",
       " '39366',\n",
       " '39501',\n",
       " '39546',\n",
       " '39547',\n",
       " '39549',\n",
       " '39550',\n",
       " '39551',\n",
       " '39556',\n",
       " '39557',\n",
       " '39576',\n",
       " '39577',\n",
       " '39578',\n",
       " '39585',\n",
       " '39600',\n",
       " '39601',\n",
       " '39602',\n",
       " '39606',\n",
       " '39609',\n",
       " '39610',\n",
       " '39618',\n",
       " '39619',\n",
       " '39620',\n",
       " '39646',\n",
       " '39647',\n",
       " '39651',\n",
       " '39658',\n",
       " '39659',\n",
       " '39660',\n",
       " '39661',\n",
       " '39664',\n",
       " '39665',\n",
       " '39669',\n",
       " '39681',\n",
       " '39682',\n",
       " '39683',\n",
       " '39692',\n",
       " '39693',\n",
       " '39694',\n",
       " '39709',\n",
       " '40076',\n",
       " '40077',\n",
       " '40086',\n",
       " '40095',\n",
       " '40097',\n",
       " '40101',\n",
       " '40103',\n",
       " '40107',\n",
       " '40135',\n",
       " '40143',\n",
       " '40180',\n",
       " '48145',\n",
       " '50143',\n",
       " '50451',\n",
       " '540',\n",
       " '55902',\n",
       " '60',\n",
       " '6010',\n",
       " '679',\n",
       " '689',\n",
       " '70',\n",
       " '7096',\n",
       " '7097',\n",
       " '7099',\n",
       " '7143',\n",
       " '7436',\n",
       " '80',\n",
       " '83344',\n",
       " '83451',\n",
       " '83455',\n",
       " '83562',\n",
       " '83611',\n",
       " '83651',\n",
       " '83664',\n",
       " '83681',\n",
       " '83699',\n",
       " '83901',\n",
       " '83911',\n",
       " '83932',\n",
       " '83944',\n",
       " '83947',\n",
       " '83952',\n",
       " '83964',\n",
       " '83973',\n",
       " '83975',\n",
       " '83981',\n",
       " 'Area',\n",
       " 'Auslaufbauwerk',\n",
       " 'Auweiler',\n",
       " 'B37',\n",
       " 'Bayenthal',\n",
       " 'Belvederestraße',\n",
       " 'Bickendorf',\n",
       " 'Bocklemünd',\n",
       " 'Brück',\n",
       " 'Buchforst',\n",
       " 'Buchheim',\n",
       " 'Campingplatz',\n",
       " 'Cäsarstraße',\n",
       " 'DB',\n",
       " 'Dellbrück',\n",
       " 'Deutz',\n",
       " 'Duckterath',\n",
       " 'Dünnwald',\n",
       " 'E',\n",
       " 'E10',\n",
       " 'E11',\n",
       " 'E22',\n",
       " 'E26',\n",
       " 'E7',\n",
       " 'Efferen',\n",
       " 'Ehrenfeld',\n",
       " 'Ensen',\n",
       " 'F',\n",
       " 'F25',\n",
       " 'Finkenberg',\n",
       " 'Goldregenweg',\n",
       " 'Gremberghoven',\n",
       " 'Hand',\n",
       " 'Hermülheim',\n",
       " 'Holweide',\n",
       " 'HÜRTH',\n",
       " 'Höhenberg',\n",
       " 'Höhenhaus',\n",
       " 'Innenstadt',\n",
       " 'Junkersdorf',\n",
       " 'K8',\n",
       " 'KVB',\n",
       " 'Kalk',\n",
       " 'Kalscheuren',\n",
       " 'Kkw',\n",
       " 'Klettenberg',\n",
       " 'KÖLN',\n",
       " 'Lindenthal',\n",
       " 'Lindweiler',\n",
       " 'Longerich',\n",
       " 'Marienburg',\n",
       " 'Mauenheim',\n",
       " 'Merheim',\n",
       " 'Mitte',\n",
       " 'Mülheim',\n",
       " 'Müngersdorf',\n",
       " 'N',\n",
       " 'Neuehrenfeld',\n",
       " 'Niehl',\n",
       " 'Nippes',\n",
       " 'Ossendorf',\n",
       " 'Paffrath',\n",
       " 'Pesch',\n",
       " 'Pettenkoferstraße',\n",
       " 'Point',\n",
       " 'Poll',\n",
       " 'Porz',\n",
       " 'Q883719',\n",
       " 'Raderberg',\n",
       " 'Raderthal',\n",
       " 'Refrath',\n",
       " 'Riehl',\n",
       " 'Road',\n",
       " 'Rodenkirchen',\n",
       " 'Sauerlandstraße',\n",
       " 'Schanzenstraße',\n",
       " 'Schildgen',\n",
       " 'Schmiedegasse',\n",
       " 'Segment',\n",
       " 'Siegfriedstraße',\n",
       " 'Sielsdorf',\n",
       " 'Siemensstraße',\n",
       " 'Stammheim',\n",
       " 'Sülz',\n",
       " 'Trimbornstraße',\n",
       " 'Urbach',\n",
       " 'Vingst',\n",
       " 'Vogelsang',\n",
       " 'W',\n",
       " 'Waldbad',\n",
       " 'Wattstraße',\n",
       " 'Westhoven',\n",
       " 'Z3',\n",
       " 'Zollstock',\n",
       " 'bü5',\n",
       " 'covered_parking|',\n",
       " 'designated||',\n",
       " 'left|',\n",
       " 'left|left|right',\n",
       " 'left|right',\n",
       " 'left|through',\n",
       " 'left|through|right',\n",
       " 'left|through|through',\n",
       " 'left|through|through|through',\n",
       " 'lf7',\n",
       " 'none|none',\n",
       " 'none|none|right',\n",
       " 'right|right',\n",
       " 'through|right',\n",
       " 'through|through|right',\n",
       " 'through|through|through|right',\n",
       " 'zs3',\n",
       " '|not_left|yes'}"
      ]
     },
     "execution_count": 24,
     "metadata": {},
     "output_type": "execute_result"
    }
   ],
   "source": [
    "# print other keys\n",
    "pchars_other_value"
   ]
  },
  {
   "cell_type": "markdown",
   "metadata": {},
   "source": [
    "### Problems encountered\n",
    "A brief summary of the problems encountered during data exploration:\n",
    "* The city key does not only store the value \"Köln\" (Cologne in German), but information regarding districts and cities other than Cologne\n",
    "* Addresses are supringsingly well formated and are _not_ considered an issue\n",
    "* Two keys are used to store information regarding Cologne' districts (addr:suburb and addr:district) and postal codes (postal_code vs postcode)\n",
    "* Opening hours lack a standard schema for notation\n",
    "* Analyis of problemchars gave a good overview of potentially intresting data points\n",
    "* Interestingly, OSM users themselves repoted data point to be fixed using the FIXME tag"
   ]
  },
  {
   "cell_type": "markdown",
   "metadata": {},
   "source": [
    "### Fixing problems"
   ]
  },
  {
   "cell_type": "markdown",
   "metadata": {},
   "source": [
    "The following function is a prototype for mixing issues with OSM data. It accepts fixes via predefinied mappings and can make use of problemchars identified by the get_audit_tags() function."
   ]
  },
  {
   "cell_type": "code",
   "execution_count": 25,
   "metadata": {
    "collapsed": false
   },
   "outputs": [],
   "source": [
    "mapping = {\"Köln Rath/Heumar\" : \"Köln\",\n",
    "           \"Köln-Nippes\": \"Köln\", \n",
    "           \"51143,51145\" : \"51143\",}"
   ]
  },
  {
   "cell_type": "code",
   "execution_count": 38,
   "metadata": {
    "collapsed": true
   },
   "outputs": [],
   "source": [
    "def fix_problems(file=\"cologne_germany_sample.osm\", mapping=mapping, problemchars=problemchars):\n",
    "    \"\"\"\n",
    "    Given a valid XML input file, the function applies fixes to keys of the \"tag\" attribute given a mapping dict\n",
    "    and a list of problemchars\n",
    "    \"\"\"\n",
    "    fixed_dict = {}\n",
    "    tag = None\n",
    "    issue = None\n",
    "    \n",
    "    with open(file, \"r\", encoding=\"utf8\") as f:\n",
    "        \n",
    "        # loop over file\n",
    "        for event , elem in ET.iterparse(f):\n",
    "    \n",
    "            # only process \"tag\" tags\n",
    "            if elem.tag == \"tag\":\n",
    "        \n",
    "                # loop over tags of element\n",
    "                for tag in elem.iter(\"tag\"):\n",
    "                    \n",
    "                    # check if value is in mapping dict\n",
    "                    if tag.attrib[\"v\"] in mapping.keys():\n",
    "                        \n",
    "                        # record problematic key\n",
    "                        issue = tag.attrib[\"v\"]\n",
    "                        \n",
    "                        # loop over key value pairs in mapping dict\n",
    "                        for m in mapping:\n",
    "                                \n",
    "                            # apply fixes\n",
    "                            tag.attrib[\"v\"] = tag.attrib[\"v\"].replace(m, mapping[m])\n",
    "                            \n",
    "                        # record fix\n",
    "                        fix = tag.attrib[\"v\"]\n",
    "                    \n",
    "                    # check if key is inproblemchars list\n",
    "                    elif tag.attrib[\"k\"] in problemchars:\n",
    "                        \n",
    "                        # record problematic key\n",
    "                        issue = tag.attrib[\"k\"]\n",
    "                         \n",
    "                        # check for hiphen\n",
    "                        if re.search(re.compile(r'\\-'), tag.attrib[\"k\"]):\n",
    "                                \n",
    "                            # fix hiphen\n",
    "                            tag.attrib[\"k\"] = tag.attrib[\"k\"].replace(\"-\", \"_\")    \n",
    "                        \n",
    "                        # check for dot\n",
    "                        elif re.search(re.compile(r'\\.'), tag.attrib[\"k\"]):\n",
    "                            \n",
    "                            # fix dot\n",
    "                            tag.attrib[\"k\"] = tag.attrib[\"k\"].replace(\".\", \":\")\n",
    "                    \n",
    "                        # record fixed key\n",
    "                        fix = tag.attrib[\"k\"]\n",
    "                        \n",
    "                    # check if value is inproblemchars list\n",
    "                    #elif tag.attrib[\"v\"] in problemchars:\n",
    "                        \n",
    "                        # record problematic key\n",
    "                        #issue = tag.attrib[\"v\"]\n",
    "                         \n",
    "                        # check for hiphen\n",
    "                        #if re.search(re.compile(r'\\-'), tag.attrib[\"v\"]):\n",
    "                                \n",
    "                            # fix hiphen\n",
    "                            #tag.attrib[\"v\"] = tag.attrib[\"v\"].replace(\"-\", \"_\")    \n",
    "                        \n",
    "                        # check for dot\n",
    "                        #elif re.search(re.compile(r'\\.'), tag.attrib[\"v\"]):\n",
    "                            \n",
    "                            # fix dot\n",
    "                            #tag.attrib[\"v\"] = tag.attrib[\"v\"].replace(\".\", \":\")\n",
    "                    \n",
    "                        # record fixed key\n",
    "                        #fix = tag.attrib[\"v\"]\n",
    "                \n",
    "                    # update fixed_dict\n",
    "                    if issue and fix:\n",
    "                        fixed_dict[issue] = fix\n",
    "\n",
    "    return fixed_dict"
   ]
  },
  {
   "cell_type": "code",
   "execution_count": 39,
   "metadata": {
    "collapsed": false
   },
   "outputs": [
    {
     "data": {
      "text/plain": [
       "{'51143,51145': '51143',\n",
       " 'Köln Rath/Heumar': 'Köln',\n",
       " 'Köln-Nippes': 'Köln',\n",
       " 'church:part': 'church_part'}"
      ]
     },
     "execution_count": 39,
     "metadata": {},
     "output_type": "execute_result"
    }
   ],
   "source": [
    "test = fix_problems()\n",
    "test"
   ]
  },
  {
   "cell_type": "markdown",
   "metadata": {},
   "source": [
    "### Data overview"
   ]
  },
  {
   "cell_type": "markdown",
   "metadata": {},
   "source": [
    "#### Prepare XML data for ingest into MongoDB"
   ]
  },
  {
   "cell_type": "code",
   "execution_count": 239,
   "metadata": {
    "collapsed": true
   },
   "outputs": [],
   "source": [
    "#!/usr/bin/env python\n",
    "# -*- coding: utf-8 -*-\n",
    "import xml.etree.cElementTree as ET\n",
    "import pprint\n",
    "import re\n",
    "import codecs\n",
    "import json\n",
    "\n",
    "CREATED = [\"version\", \"changeset\", \"timestamp\", \"user\", \"uid\"]\n",
    "\n",
    "def shape_element(element):\n",
    "    \n",
    "    # initialize node dict\n",
    "    node = {}\n",
    "    \n",
    "    # initialize helper dicts and lists\n",
    "    created = {}\n",
    "    address = {}\n",
    "    pos = []\n",
    "    node_refs = []\n",
    "    \n",
    "    # only process \"node\" or \"way\" tags\n",
    "    if element.tag == \"node\" or element.tag == \"way\":\n",
    "\n",
    "        # add note type to node dict\n",
    "        node[\"type\"] = element.tag\n",
    "        \n",
    "        # loop over keys of element attributes\n",
    "        for key in element.attrib:\n",
    "        \n",
    "            # check if attribute is id or visible\n",
    "            if key == \"id\" or key == \"visible\":\n",
    "                \n",
    "                # add key and value to node dict\n",
    "                node[key] = element.attrib[key]\n",
    "            \n",
    "            # check if key in created array\n",
    "            elif key in CREATED:\n",
    "               \n",
    "                # add key and value to created dict\n",
    "                created[key] = element.attrib[key]\n",
    "           \n",
    "            # check if attribute is lat\n",
    "            elif key == \"lat\":\n",
    "               \n",
    "                # cast attribute to float and add to pos list\n",
    "                pos.insert(0,float(element.attrib[key]))\n",
    "            \n",
    "            # check if attribute is lon\n",
    "            elif key == \"lon\":\n",
    "                \n",
    "                # cast attribute to float and add to pos list\n",
    "                pos.insert(1,float(element.attrib[key]))\n",
    "            \n",
    "            # if not\n",
    "            else:\n",
    "            \n",
    "                # ignore\n",
    "                continue\n",
    "               \n",
    "        # loop over children of element\n",
    "        for child in element:\n",
    "            \n",
    "            # check for node references\n",
    "            if child.tag == \"nd\":\n",
    "                \n",
    "                # add ref attribute to node_refs list\n",
    "                node_refs.append(child.attrib[\"ref\"])\n",
    "                \n",
    "            else:\n",
    "        \n",
    "                # check if child key contains problematic characters\n",
    "                if re.search(problemchars, child.attrib[\"k\"]):\n",
    "            \n",
    "                    # ignore\n",
    "                    continue\n",
    "           \n",
    "                # check if child key does not contain more than 1 colon:\n",
    "                elif not child.attrib[\"k\"].count(\":\") > 1:\n",
    "                    \n",
    "                    # check if attribute key is in mapping\n",
    "                    if child.attrib[\"k\"] in mapping.keys() or child.attrib[\"v\"] in mapping.keys():\n",
    "                        \n",
    "                        # loop over mapping dict\n",
    "                        for m in mapping:\n",
    "                            \n",
    "                            # update key according to mapping\n",
    "                            child.attrib[\"k\"] = child.attrib[\"k\"].replace(m, mapping[m])\n",
    "                            \n",
    "                            # update value according to mapping\n",
    "                            child.attrib[\"v\"] = child.attrib[\"v\"].replace(m, mapping[m])\n",
    "           \n",
    "                    # check if attribute key starts with \"addr:\"\n",
    "                    if child.attrib[\"k\"].startswith(\"addr:\"):\n",
    "               \n",
    "                        # clean key\n",
    "                        clean_key = child.attrib[\"k\"].replace(\"addr:\", \"\")\n",
    "               \n",
    "                        # add key and value to address dict\n",
    "                        address[clean_key] = child.attrib[\"v\"]\n",
    "               \n",
    "                    # if not\n",
    "                    else:\n",
    "                   \n",
    "                        # add key and value to other dict\n",
    "                        node[child.attrib[\"k\"]] = child.attrib[\"v\"]\n",
    "            \n",
    "                # if it does contain more than 1 colon:\n",
    "                else:\n",
    "                \n",
    "                    # ignore\n",
    "                    continue\n",
    "       \n",
    "        # add helper dicts and list to node dict\n",
    "        if created:\n",
    "               \n",
    "            # add k,v for created dict\n",
    "            node[\"created\"] = created\n",
    "         \n",
    "        # if pos list contains elements\n",
    "        if pos:\n",
    "               \n",
    "            # add k,v for pos list\n",
    "            node[\"pos\"] = pos\n",
    "        \n",
    "        # if address dict contains elements\n",
    "        if address:\n",
    "               \n",
    "            # add k,v for address dict\n",
    "            node[\"address\"] = address\n",
    "            \n",
    "        # if node_refs dict contains elements\n",
    "        if node_refs:\n",
    "        \n",
    "            # add k,v for node_refs dict\n",
    "            node[\"node_refs\"] = node_refs\n",
    "               \n",
    "        return node\n",
    "   \n",
    "    else:\n",
    "       \n",
    "        return None"
   ]
  },
  {
   "cell_type": "code",
   "execution_count": 240,
   "metadata": {
    "collapsed": true
   },
   "outputs": [],
   "source": [
    "# code from case study\n",
    "\n",
    "def process_map(file_in, pretty = False):\n",
    "    # You do not need to change this file\n",
    "    file_out = \"{0}.json\".format(file_in)\n",
    "    data = []\n",
    "    with codecs.open(file_out, \"w\") as fo:\n",
    "        for _, element in ET.iterparse(file_in):\n",
    "            el = shape_element(element)\n",
    "            if el:\n",
    "                data.append(el)\n",
    "                if pretty:\n",
    "                    fo.write(json.dumps(el, indent=2)+\"\\n\")\n",
    "                else:\n",
    "                    fo.write(json.dumps(el) + \"\\n\")\n",
    "    return data"
   ]
  },
  {
   "cell_type": "code",
   "execution_count": 241,
   "metadata": {
    "collapsed": true
   },
   "outputs": [],
   "source": [
    "data = process_map(\"cologne_germany_sample.osm\", pretty=False)"
   ]
  },
  {
   "cell_type": "code",
   "execution_count": 223,
   "metadata": {
    "collapsed": true
   },
   "outputs": [
    {
     "data": {
      "text/plain": [
       "{'created': {'changeset': '43410968',\n",
       "  'timestamp': '2016-11-04T21:58:30Z',\n",
       "  'uid': '16478',\n",
       "  'user': 'Raymond',\n",
       "  'version': '1'},\n",
       " 'highway': 'footway',\n",
       " 'id': '451465982',\n",
       " 'node_refs': ['4482995966', '2141100739'],\n",
       " 'type': 'way'}"
      ]
     },
     "execution_count": 223,
     "metadata": {},
     "output_type": "execute_result"
    }
   ],
   "source": [
    "# check if data has been processed correctly\n",
    "data[-1]"
   ]
  },
  {
   "cell_type": "markdown",
   "metadata": {},
   "source": [
    "#### Inserting data into MongoDB"
   ]
  },
  {
   "cell_type": "markdown",
   "metadata": {},
   "source": [
    "Using mongoimport from UNIX shell in virtual machine:\n",
    "```\n",
    "mongoimport --db osm --collection cologne --type json --file /vagrant/cologne_germany_sample.json\n",
    "```"
   ]
  },
  {
   "cell_type": "code",
   "execution_count": 12,
   "metadata": {
    "collapsed": true
   },
   "outputs": [
    {
     "name": "stdout",
     "output_type": "stream",
     "text": [
      "-rw-r--r--  1 stefan  staff    41M Nov 13 14:46 cologne_germany_sample.json\r\n"
     ]
    }
   ],
   "source": [
    "# file size of sample JSON: 41 MB\n",
    "!ls -lh cologne_germany_sample.json"
   ]
  },
  {
   "cell_type": "markdown",
   "metadata": {},
   "source": [
    "#### Querying data from MongoDB"
   ]
  },
  {
   "cell_type": "code",
   "execution_count": 1,
   "metadata": {
    "collapsed": true
   },
   "outputs": [],
   "source": [
    "# setup pymongo, connect to MongoDB and select osm database\n",
    "from pymongo import MongoClient\n",
    "client = MongoClient(\"mongodb://localhost:27017\")\n",
    "db = client.osm.cologne"
   ]
  },
  {
   "cell_type": "code",
   "execution_count": 50,
   "metadata": {
    "collapsed": true
   },
   "outputs": [
    {
     "data": {
      "text/plain": [
       "{'_id': ObjectId('58287fc8a300d8a50baf9881'),\n",
       " 'created': {'changeset': '9176870',\n",
       "  'timestamp': '2011-08-31T14:41:21Z',\n",
       "  'uid': '81244',\n",
       "  'user': 'rurseekatze',\n",
       "  'version': '3'},\n",
       " 'id': '160058',\n",
       " 'pos': [50.8964366, 6.9105618],\n",
       " 'type': 'node'}"
      ]
     },
     "execution_count": 50,
     "metadata": {},
     "output_type": "execute_result"
    }
   ],
   "source": [
    "# test connection\n",
    "db.find_one()"
   ]
  },
  {
   "cell_type": "code",
   "execution_count": 129,
   "metadata": {
    "collapsed": false
   },
   "outputs": [],
   "source": [
    "# helper function to display cursor\n",
    "def get_cursor(query):\n",
    "    \"\"\"\n",
    "    Given a valid MongoDB aggregation query, the function returns its result as a list\n",
    "    \"\"\"\n",
    "    print(list(query))"
   ]
  },
  {
   "cell_type": "markdown",
   "metadata": {},
   "source": [
    "#### Summary statistics"
   ]
  },
  {
   "cell_type": "code",
   "execution_count": 5,
   "metadata": {
    "collapsed": false
   },
   "outputs": [
    {
     "data": {
      "text/plain": [
       "187163"
      ]
     },
     "execution_count": 5,
     "metadata": {},
     "output_type": "execute_result"
    }
   ],
   "source": [
    "# number of documents in database\n",
    "db.find().count()"
   ]
  },
  {
   "cell_type": "code",
   "execution_count": 51,
   "metadata": {
    "collapsed": false
   },
   "outputs": [
    {
     "data": {
      "text/plain": [
       "156596"
      ]
     },
     "execution_count": 51,
     "metadata": {},
     "output_type": "execute_result"
    }
   ],
   "source": [
    "# number of nodes\n",
    "db.find({\"type\": \"node\"}).count()"
   ]
  },
  {
   "cell_type": "code",
   "execution_count": 52,
   "metadata": {
    "collapsed": false
   },
   "outputs": [
    {
     "data": {
      "text/plain": [
       "30563"
      ]
     },
     "execution_count": 52,
     "metadata": {},
     "output_type": "execute_result"
    }
   ],
   "source": [
    "# number of ways\n",
    "db.find({\"type\": \"way\"}).count()"
   ]
  },
  {
   "cell_type": "code",
   "execution_count": 61,
   "metadata": {
    "collapsed": false
   },
   "outputs": [
    {
     "data": {
      "text/plain": [
       "886"
      ]
     },
     "execution_count": 61,
     "metadata": {},
     "output_type": "execute_result"
    }
   ],
   "source": [
    "# number of unique users\n",
    "len(db.distinct(\"created.user\"))"
   ]
  },
  {
   "cell_type": "code",
   "execution_count": 185,
   "metadata": {
    "collapsed": false
   },
   "outputs": [],
   "source": [
    "# top 5 users by number of created documents\n",
    "user_query = db.aggregate([\n",
    "        {\"$group\": {\"_id\": \"$created.user\", \"count\": {\"$sum\": 1}}},\n",
    "        {\"$sort\": {\"count\": -1}},\n",
    "        {\"$limit\" : 5}\n",
    "    ])"
   ]
  },
  {
   "cell_type": "markdown",
   "metadata": {},
   "source": [
    "The top 5 users created 70% of the documents in the database (130536/187163)"
   ]
  },
  {
   "cell_type": "code",
   "execution_count": 186,
   "metadata": {
    "collapsed": false
   },
   "outputs": [
    {
     "name": "stdout",
     "output_type": "stream",
     "text": [
      "[{'count': 71049, '_id': 'Teddy73'}, {'count': 32611, '_id': 'jotpe'}, {'count': 9617, '_id': 'catweazle67'}, {'count': 8669, '_id': 'cgn1234'}, {'count': 8590, '_id': 'okilimu'}]\n"
     ]
    }
   ],
   "source": [
    "get_cursor(user_query)"
   ]
  },
  {
   "cell_type": "code",
   "execution_count": 194,
   "metadata": {
    "collapsed": true
   },
   "outputs": [],
   "source": [
    "# count number of shops\n",
    "shop_query = db.aggregate([\n",
    "        {\"$match\": {\"shop\": {\"$exists\": 1}}},\n",
    "        {\"$group\": {\"_id\": None, \"count\": {\"$sum\": 1}}}\n",
    "    ])"
   ]
  },
  {
   "cell_type": "code",
   "execution_count": 195,
   "metadata": {
    "collapsed": false
   },
   "outputs": [
    {
     "name": "stdout",
     "output_type": "stream",
     "text": [
      "[{'count': 453, '_id': None}]\n"
     ]
    }
   ],
   "source": [
    "get_cursor(shop_query)"
   ]
  },
  {
   "cell_type": "code",
   "execution_count": 212,
   "metadata": {
    "collapsed": true
   },
   "outputs": [],
   "source": [
    "# count number of documents in cologne-ehrenfeld district (the district I used to live in)\n",
    "ehrenfeld_query = db.aggregate([\n",
    "        {\"$match\": {\"address.postcode\": \"50823\"}},\n",
    "        {\"$group\": {\"_id\": None, \"count\": {\"$sum\": 1}}}\n",
    "    ])"
   ]
  },
  {
   "cell_type": "code",
   "execution_count": 213,
   "metadata": {
    "collapsed": false
   },
   "outputs": [
    {
     "name": "stdout",
     "output_type": "stream",
     "text": [
      "[{'count': 308, '_id': None}]\n"
     ]
    }
   ],
   "source": [
    "get_cursor(ehrenfeld_query)"
   ]
  },
  {
   "cell_type": "markdown",
   "metadata": {},
   "source": [
    "### Additional ideas\n",
    "\n",
    "* What are the top 5 amenities?\n",
    "* Which are the top 3 cuisines?\n",
    "* Which historic sites exist in Cologne?\n",
    "* What are the top 5 shops?\n",
    "* Which leisure venues exist in Cologne?\n",
    "* How many gay venues exist in Cologne?"
   ]
  },
  {
   "cell_type": "code",
   "execution_count": 274,
   "metadata": {
    "collapsed": true
   },
   "outputs": [],
   "source": [
    "# top 5 amenities in Cologne\n",
    "amenity_query = db.aggregate([\n",
    "        {\"$match\": {\"amenity\": {\"$exists\": 1}}},\n",
    "        {\"$group\": {\"_id\": \"$amenity\", \"count\" : {\"$sum\": 1}}},\n",
    "        {\"$sort\": {\"count\": -1}},\n",
    "        {\"$limit\" : 5}\n",
    "    ])"
   ]
  },
  {
   "cell_type": "markdown",
   "metadata": {},
   "source": [
    "Cologne seems to be a city where parking is difficult, since the top amenity is considered parking (with bicycle parking ath the fourth position). Further, apart from restaurants and benches, post boxes are listed"
   ]
  },
  {
   "cell_type": "code",
   "execution_count": 275,
   "metadata": {
    "collapsed": false
   },
   "outputs": [
    {
     "name": "stdout",
     "output_type": "stream",
     "text": [
      "[{'count': 235, '_id': 'parking'}, {'count': 151, '_id': 'bench'}, {'count': 115, '_id': 'restaurant'}, {'count': 69, '_id': 'bicycle_parking'}, {'count': 61, '_id': 'post_box'}]\n"
     ]
    }
   ],
   "source": [
    "get_cursor(amenity_query)"
   ]
  },
  {
   "cell_type": "code",
   "execution_count": 277,
   "metadata": {
    "collapsed": false
   },
   "outputs": [],
   "source": [
    "# top 3 cuisines in Cologne\n",
    "cuisine_query = db.aggregate([\n",
    "        {\"$match\": {\"cuisine\": {\"$exists\": 1}}},\n",
    "        {\"$group\": {\"_id\": \"$cuisine\", \"count\" : {\"$sum\": 1}}},\n",
    "        {\"$sort\": {\"count\": -1}},\n",
    "        {\"$limit\" : 3}\n",
    "    ])"
   ]
  },
  {
   "cell_type": "markdown",
   "metadata": {},
   "source": [
    "Although only a few documents contain cuisine tags, the result is not unusual for Cologne. Being a city with a numerous Italian and Turkish community, top three cuisines are considered Italian, Turkish (Kebab is my proxy for Turkish here) and German."
   ]
  },
  {
   "cell_type": "code",
   "execution_count": 278,
   "metadata": {
    "collapsed": false
   },
   "outputs": [
    {
     "name": "stdout",
     "output_type": "stream",
     "text": [
      "[{'count': 14, '_id': 'italian'}, {'count': 8, '_id': 'kebab'}, {'count': 8, '_id': 'german'}]\n"
     ]
    }
   ],
   "source": [
    "get_cursor(cuisine_query)"
   ]
  },
  {
   "cell_type": "code",
   "execution_count": 228,
   "metadata": {
    "collapsed": false
   },
   "outputs": [],
   "source": [
    "# Which historic sites exist in Cologne?\n",
    "historic_query = db.aggregate([\n",
    "        {\"$match\": {\"historic\": {\"$exists\": 1}}},\n",
    "        {\"$group\": {\"_id\": \"$historic\", \"count\" : {\"$sum\": 1}}},\n",
    "        {\"$sort\": {\"count\": -1}}\n",
    "    ])"
   ]
  },
  {
   "cell_type": "markdown",
   "metadata": {},
   "source": [
    "The most frequent historic site is labeled memorial, probably related to world war 2"
   ]
  },
  {
   "cell_type": "code",
   "execution_count": 229,
   "metadata": {
    "collapsed": false
   },
   "outputs": [
    {
     "name": "stdout",
     "output_type": "stream",
     "text": [
      "[{'count': 164, '_id': 'memorial'}, {'count': 66, '_id': 'heritage'}, {'count': 5, '_id': 'wayside_cross'}, {'count': 3, '_id': 'fort'}, {'count': 2, '_id': 'yes'}, {'count': 2, '_id': 'archaeological_site'}, {'count': 2, '_id': 'wayside_shrine'}, {'count': 1, '_id': 'citywalls'}, {'count': 1, '_id': 'technical_monument'}, {'count': 1, '_id': 'building'}, {'count': 1, '_id': 'exhibit'}, {'count': 1, '_id': 'castle'}, {'count': 1, '_id': 'city_gate'}, {'count': 1, '_id': 'cemetery'}]\n"
     ]
    }
   ],
   "source": [
    "get_cursor(historic_query)"
   ]
  },
  {
   "cell_type": "code",
   "execution_count": 183,
   "metadata": {
    "collapsed": true
   },
   "outputs": [],
   "source": [
    "# Which are the top 5 shop categories in Cologne?\n",
    "shop_query2 = db.aggregate([\n",
    "        {\"$match\": {\"shop\": {\"$exists\": 1}}},\n",
    "        {\"$group\": {\"_id\": \"$shop\", \"count\" : {\"$sum\": 1}}},\n",
    "        {\"$sort\": {\"count\": -1}},\n",
    "        {\"$limit\" : 5}\n",
    "    ])"
   ]
  },
  {
   "cell_type": "markdown",
   "metadata": {},
   "source": [
    "No suprises here, the kiosk a.k.a. \"büdchen\", which means small shop where you can buy alcohol late at night in German, is the top shop in Cologne"
   ]
  },
  {
   "cell_type": "code",
   "execution_count": 184,
   "metadata": {
    "collapsed": false
   },
   "outputs": [
    {
     "name": "stdout",
     "output_type": "stream",
     "text": [
      "[{'count': 65, '_id': 'kiosk'}, {'count': 45, '_id': 'clothes'}, {'count': 29, '_id': 'hairdresser'}, {'count': 24, '_id': 'bakery'}, {'count': 23, '_id': 'supermarket'}]\n"
     ]
    }
   ],
   "source": [
    "get_cursor(shop_query2)"
   ]
  },
  {
   "cell_type": "code",
   "execution_count": 224,
   "metadata": {
    "collapsed": false
   },
   "outputs": [],
   "source": [
    "# Which leisure venues exist in Cologne?\n",
    "leisure_query = db.aggregate([\n",
    "        {\"$match\": {\"leisure\": {\"$exists\": 1}}},\n",
    "        {\"$group\": {\"_id\": \"$leisure\", \"count\" : {\"$sum\": 1}}},\n",
    "        {\"$sort\": {\"count\": -1}}\n",
    "    ])"
   ]
  },
  {
   "cell_type": "markdown",
   "metadata": {},
   "source": [
    "After consulting with Google translate, I learned that pitch is considered a synonym to playground. Thus having pitch as the most frequently listed leisure venue in Cologne makes sense "
   ]
  },
  {
   "cell_type": "code",
   "execution_count": 225,
   "metadata": {
    "collapsed": false
   },
   "outputs": [
    {
     "name": "stdout",
     "output_type": "stream",
     "text": [
      "[{'count': 64, '_id': 'pitch'}, {'count': 63, '_id': 'playground'}, {'count': 39, '_id': 'park'}, {'count': 17, '_id': 'sports_centre'}, {'count': 12, '_id': 'garden'}, {'count': 12, '_id': 'outdoor_seating'}, {'count': 6, '_id': 'swimming_pool'}, {'count': 4, '_id': 'horse_riding'}, {'count': 2, '_id': 'common'}, {'count': 2, '_id': 'dog_park'}, {'count': 2, '_id': 'nature_reserve'}, {'count': 1, '_id': 'fitness_station'}, {'count': 1, '_id': 'dance'}, {'count': 1, '_id': 'track'}, {'count': 1, '_id': 'tanning_salon'}, {'count': 1, '_id': 'marina'}, {'count': 1, '_id': 'adult_gaming_centre'}, {'count': 1, '_id': 'fitness_centre'}]\n"
     ]
    }
   ],
   "source": [
    "get_cursor(leisure_query)"
   ]
  },
  {
   "cell_type": "code",
   "execution_count": 220,
   "metadata": {
    "collapsed": true
   },
   "outputs": [],
   "source": [
    "# How many gay venues exist in Cologne?\n",
    "gay_query = db.aggregate([\n",
    "        {\"$match\": {\"gay\": {\"$exists\": 1}}},\n",
    "        {\"$group\": {\"_id\": None, \"count\" : {\"$sum\": 1}}},\n",
    "    ])"
   ]
  },
  {
   "cell_type": "markdown",
   "metadata": {},
   "source": [
    "Apparently there exist only 1 gay venue in our sample, which is cleary a strange result for Cologne (the capital of gays in Germany)."
   ]
  },
  {
   "cell_type": "code",
   "execution_count": 221,
   "metadata": {
    "collapsed": false
   },
   "outputs": [
    {
     "name": "stdout",
     "output_type": "stream",
     "text": [
      "[{'count': 1, '_id': None}]\n"
     ]
    }
   ],
   "source": [
    "get_cursor(gay_query)"
   ]
  },
  {
   "cell_type": "markdown",
   "metadata": {},
   "source": [
    "### Conclusion\n",
    "After my short review of Cologne's OSM data I am suprised of the general quality of the data, especially related to street names. Additionalyl OSM users tag documents which need to be fixed with corresponding tags (FIXME), which makes it easy for new users to contribute. Two problems exist which could be fixed easily (postal code and city tags), further opening times are recorded lacking a standard input format. Considering Cologne's status as the capital of gay people in Germany, it is suprising that only one document carries the tag \"gay\"."
   ]
  }
 ],
 "metadata": {
  "anaconda-cloud": {},
  "kernelspec": {
   "display_name": "Python [default]",
   "language": "python",
   "name": "python3"
  },
  "language_info": {
   "codemirror_mode": {
    "name": "ipython",
    "version": 3
   },
   "file_extension": ".py",
   "mimetype": "text/x-python",
   "name": "python",
   "nbconvert_exporter": "python",
   "pygments_lexer": "ipython3",
   "version": "3.5.2"
  }
 },
 "nbformat": 4,
 "nbformat_minor": 0
}
