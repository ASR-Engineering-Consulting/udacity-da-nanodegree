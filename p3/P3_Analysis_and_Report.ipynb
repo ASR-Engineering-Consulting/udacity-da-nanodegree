{
 "cells": [
  {
   "cell_type": "markdown",
   "metadata": {},
   "source": [
    "# Wrangle OpenStreetMap data\n",
    "## Udacity Data Analyst Nanodegree - Project 3"
   ]
  },
  {
   "cell_type": "markdown",
   "metadata": {},
   "source": [
    "### Introduction\n",
    "\n",
    "#### Map\n",
    "* Cologne, http://www.openstreetmap.org/#map=11/50.9387/6.8740\n",
    "* Before moving to Milan, Italy where I currently live, Cologne has been my home for several years. I know this city quite well and I am curious to improve its OSM data\n",
    "\n",
    "### Resources\n",
    "* Udacity course materials\n",
    "* [Python 3 documentation](https://docs.python.org/3/)\n",
    "* [MongoDB documentation](https://docs.mongodb.com/manual/)\n",
    "* [MongoDB driver documentation](https://docs.mongodb.com/ecosystem/drivers/python/)\n",
    "* [Markdown documentation](https://daringfireball.net/projects/markdown/syntax)"
   ]
  },
  {
   "cell_type": "markdown",
   "metadata": {},
   "source": [
    "#### Generate sample OSM file"
   ]
  },
  {
   "cell_type": "code",
   "execution_count": null,
   "metadata": {
    "collapsed": true
   },
   "outputs": [],
   "source": [
    "# !/usr/bin/env python\n",
    "# -*- coding: utf-8 -*-\n",
    "\n",
    "import xml.etree.ElementTree as ET  # Use cElementTree or lxml if too slow\n",
    "\n",
    "OSM_FILE = \"cologne_germany.osm\"  # Replace this with your osm file\n",
    "SAMPLE_FILE = \"cologne_germany_sample.osm\"\n",
    "\n",
    "k = 10 # Parameter: take every k-th top level element\n",
    "\n",
    "def get_element(osm_file, tags=('node', 'way', 'relation')):\n",
    "    \"\"\"Yield element if it is the right type of tag\n",
    "\n",
    "    Reference:\n",
    "    http://stackoverflow.com/questions/3095434/inserting-newlines-in-xml-file-generated-via-xml-etree-elementtree-in-python\n",
    "    \"\"\"\n",
    "    context = iter(ET.iterparse(osm_file, events=('start', 'end')))\n",
    "    _, root = next(context)\n",
    "    for event, elem in context:\n",
    "        if event == 'end' and elem.tag in tags:\n",
    "            yield elem\n",
    "            root.clear()\n",
    "\n",
    "\n",
    "with open(SAMPLE_FILE, 'wb') as output:\n",
    "    \"\"\"\n",
    "    Changed output of write to byte objects in order to work with Python 3.x\n",
    "    \n",
    "    Reference:\n",
    "    http://stackoverflow.com/questions/33054527/python-3-5-typeerror-a-bytes-like-object-is-required-not-str\n",
    "    \"\"\"\n",
    "    output.write(b'<?xml version=\"1.0\" encoding=\"UTF-8\"?>\\n')\n",
    "    output.write(b'<osm>\\n  ')\n",
    "\n",
    "    # Write every kth top level element\n",
    "    for i, element in enumerate(get_element(OSM_FILE)):\n",
    "        if i % k == 0:\n",
    "            output.write(ET.tostring(element, encoding='utf-8'))\n",
    "\n",
    "    output.write(b'</osm>')"
   ]
  },
  {
   "cell_type": "markdown",
   "metadata": {},
   "source": [
    "### Data exploration"
   ]
  },
  {
   "cell_type": "code",
   "execution_count": 140,
   "metadata": {
    "collapsed": true
   },
   "outputs": [],
   "source": [
    "# setup environment\n",
    "import xml.etree.ElementTree as ET\n",
    "import pprint\n",
    "import re"
   ]
  },
  {
   "cell_type": "markdown",
   "metadata": {},
   "source": [
    "#### Helper functions"
   ]
  },
  {
   "cell_type": "code",
   "execution_count": 106,
   "metadata": {
    "collapsed": true
   },
   "outputs": [],
   "source": [
    "def head_dict(input_dict, n=20):\n",
    "    \"\"\"\n",
    "    Returns the first n (default=20) items of a dict\n",
    "    \"\"\"\n",
    "    return dict(list(sorted(input_dict.items()))[0:n])\n",
    "\n",
    "def process_osm(file):"
   ]
  },
  {
   "cell_type": "markdown",
   "metadata": {},
   "source": [
    "#### Get overview of tags"
   ]
  },
  {
   "cell_type": "code",
   "execution_count": 143,
   "metadata": {
    "collapsed": true
   },
   "outputs": [],
   "source": [
    "def get_tag_counts(file=\"cologne_germany_sample.osm\"):\n",
    "    \"\"\"\n",
    "    Given a valid XML input file, the function returns a dict of tags and their respective counts\n",
    "    \"\"\"\n",
    "    # create tags dict\n",
    "    tag_counts = {}\n",
    "    \n",
    "    # open file\n",
    "    with open(file, \"r\", encoding=\"utf8\") as f:\n",
    "        \n",
    "        # loop over file\n",
    "        for event, elem in ET.iterparse(f):\n",
    "        \n",
    "            # check if tag is in dict\n",
    "            if elem.tag not in tag_counts.keys():\n",
    "    \n",
    "                # if not, add tag as new key\n",
    "                tag_counts[elem.tag] = 1\n",
    "        \n",
    "            # if so... \n",
    "            else:\n",
    "                \n",
    "                #increase count of identifed tag\n",
    "                tag_counts[elem.tag] += 1\n",
    "\n",
    "    return tag_counts"
   ]
  },
  {
   "cell_type": "code",
   "execution_count": 145,
   "metadata": {
    "collapsed": false,
    "scrolled": true
   },
   "outputs": [
    {
     "data": {
      "text/plain": [
       "{'member': 4594,\n",
       " 'nd': 235134,\n",
       " 'node': 156597,\n",
       " 'osm': 1,\n",
       " 'relation': 353,\n",
       " 'tag': 153299,\n",
       " 'way': 30566}"
      ]
     },
     "execution_count": 145,
     "metadata": {},
     "output_type": "execute_result"
    }
   ],
   "source": [
    "get_tag_counts()"
   ]
  },
  {
   "cell_type": "markdown",
   "metadata": {},
   "source": [
    "#### Get overview ot tag keys and values"
   ]
  },
  {
   "cell_type": "code",
   "execution_count": 100,
   "metadata": {
    "collapsed": false
   },
   "outputs": [],
   "source": [
    "def get_tag_types(file=\"cologne_germany_sample.osm\"):\n",
    "    \"\"\"\n",
    "    Given a valid XML input file, the function returns a dict of keys and corresponding counts of the \"tag\" attribute\n",
    "    \"\"\"\n",
    "    # create tags dict\n",
    "    tag_types = {}\n",
    "    \n",
    "    # open file\n",
    "    with open(file, \"r\", encoding=\"utf8\") as f:\n",
    "        \n",
    "        # loop over file\n",
    "        for event, elem in ET.iterparse(f):\n",
    "            \n",
    "            # inspect only \"tag\" elements\n",
    "            if elem.tag == \"tag\":\n",
    "        \n",
    "                # loop over \"tag\" elements\n",
    "                for tag in elem.iter(\"tag\"):\n",
    "                \n",
    "                    # check if tag key not in tags_types dict\n",
    "                    if tag.attrib[\"k\"] not in tag_types.keys():\n",
    "                        \n",
    "                        # if not add key with count 1\n",
    "                        tag_types[tag.attrib[\"k\"]] = 1\n",
    "                    \n",
    "                    else:\n",
    "                        \n",
    "                        # if so increase count\n",
    "                        tag_types[tag.attrib[\"k\"]] += 1      \n",
    "    \n",
    "    return tag_types"
   ]
  },
  {
   "cell_type": "code",
   "execution_count": 132,
   "metadata": {
    "collapsed": false
   },
   "outputs": [
    {
     "data": {
      "text/plain": [
       "{'Denkmalnummer': 2,\n",
       " 'FIXME': 39,\n",
       " 'TMC:cid_58:tabcd_1:Class': 46,\n",
       " 'TMC:cid_58:tabcd_1:Direction': 15,\n",
       " 'TMC:cid_58:tabcd_1:LCLversion': 46,\n",
       " 'TMC:cid_58:tabcd_1:LocationCode': 46,\n",
       " 'TMC:cid_58:tabcd_1:NextLocationCode': 28,\n",
       " 'TMC:cid_58:tabcd_1:PrevLocationCode': 28,\n",
       " 'TMC:cid_58:tabcd_1:TypeName': 1,\n",
       " 'TMC:cid_58:tabcd_1:TypeName:loc': 1,\n",
       " 'VRS:gemeinde': 196,\n",
       " 'VRS:name': 57,\n",
       " 'VRS:ortsteil': 196,\n",
       " 'VRS:ref': 195,\n",
       " 'abandoned': 3,\n",
       " 'access': 712,\n",
       " 'addr:city': 13392,\n",
       " 'addr:country': 13182,\n",
       " 'addr:district': 1,\n",
       " 'addr:housename': 18,\n",
       " 'addr:housenumber': 13337,\n",
       " 'addr:postcode': 13351,\n",
       " 'addr:street': 13395,\n",
       " 'addr:suburb': 246,\n",
       " 'admin_centre:postal_code': 1,\n",
       " 'admin_level': 15,\n",
       " 'advertising': 10,\n",
       " 'aerialway': 3,\n",
       " 'aerialway:heating': 2,\n",
       " 'aerialway:occupancy': 2,\n",
       " 'aeroway': 2,\n",
       " 'agricultural': 4,\n",
       " 'alt_name': 11,\n",
       " 'amenity': 1414,\n",
       " 'animal': 2,\n",
       " 'apartments': 1,\n",
       " 'architect': 21,\n",
       " 'area': 76,\n",
       " 'area:highway': 1,\n",
       " 'artist': 1,\n",
       " 'artist_name': 3,\n",
       " 'artwork_type': 5,\n",
       " 'asb': 5,\n",
       " 'atm': 17,\n",
       " 'attraction': 5,\n",
       " 'backrest': 71,\n",
       " 'bakehouse': 1,\n",
       " 'bar': 2,\n",
       " 'barrier': 888,\n",
       " 'basin': 1,\n",
       " 'beer_garden': 2,\n",
       " 'bench': 33,\n",
       " 'bic': 2,\n",
       " 'bicycle': 806,\n",
       " 'bicycle:backward': 1,\n",
       " 'bicycle_parking': 36,\n",
       " 'biergarten': 1,\n",
       " 'bike_ride': 2,\n",
       " 'bin': 17,\n",
       " 'biometric': 1,\n",
       " 'board_type': 3,\n",
       " 'boat': 3,\n",
       " 'bollard': 5,\n",
       " 'booking': 1,\n",
       " 'boundary': 39,\n",
       " 'brand': 37,\n",
       " 'breakfast': 4,\n",
       " 'bridge': 174,\n",
       " 'bridge:name': 12,\n",
       " 'bridleway': 1,\n",
       " 'building': 23639,\n",
       " 'building:colour': 243,\n",
       " 'building:demolished': 1,\n",
       " 'building:facade:colour': 3,\n",
       " 'building:facade:material': 4,\n",
       " 'building:height': 26,\n",
       " 'building:levels': 5789,\n",
       " 'building:levels:roof': 1,\n",
       " 'building:levels:top': 1,\n",
       " 'building:material': 36,\n",
       " 'building:min_height': 2,\n",
       " 'building:min_level': 30,\n",
       " 'building:part': 353,\n",
       " 'building:roof': 13,\n",
       " 'building:roof:colour': 1,\n",
       " 'building:roof:form': 6,\n",
       " 'building:roof:height': 16,\n",
       " 'building:roof:material': 1,\n",
       " 'building:roof:orientation': 16,\n",
       " 'building:roof:shape': 67,\n",
       " 'building:roof:style': 1,\n",
       " 'building:type': 5,\n",
       " 'building:use': 10941,\n",
       " 'buoy': 2,\n",
       " 'bus': 93,\n",
       " 'bus:lanes:backward': 1,\n",
       " 'button_operated': 1,\n",
       " 'by_night': 1,\n",
       " 'cables': 15,\n",
       " 'cafe': 6,\n",
       " 'cake': 1,\n",
       " 'camera:angle': 7,\n",
       " 'camera:direction': 9,\n",
       " 'camera:mount': 11,\n",
       " 'camera:type': 11,\n",
       " 'capacity': 80,\n",
       " 'capacity:disabled': 6,\n",
       " 'capacity:parent': 1,\n",
       " 'capacity:women': 2,\n",
       " 'centralkey': 1,\n",
       " 'change:lanes': 6,\n",
       " 'change:lanes:backward': 1,\n",
       " 'change:lanes:forward': 1,\n",
       " 'church:style': 2,\n",
       " 'cinema:3D': 1,\n",
       " 'circumference': 1,\n",
       " 'class:bicycle': 1,\n",
       " 'class:bicycle:commute': 4,\n",
       " 'class_listed': 2,\n",
       " 'club': 6,\n",
       " 'coffee': 2,\n",
       " 'collection_times': 34,\n",
       " 'collection_times:lastcheck': 3,\n",
       " 'color': 1,\n",
       " 'colour': 75,\n",
       " 'colour:arrow': 10,\n",
       " 'colour:back': 10,\n",
       " 'colour:text': 10,\n",
       " 'communication:mobile_phone': 3,\n",
       " 'community': 1,\n",
       " 'community:de': 1,\n",
       " 'community:en': 1,\n",
       " 'community:fr': 1,\n",
       " 'community:gender': 1,\n",
       " 'community_centre': 2,\n",
       " 'community_centre:for': 2,\n",
       " 'construction': 8,\n",
       " 'construction_end_date': 1,\n",
       " 'contact:email': 25,\n",
       " 'contact:fax': 25,\n",
       " 'contact:phone': 35,\n",
       " 'contact:website': 36,\n",
       " 'content': 1,\n",
       " 'conveying': 3,\n",
       " 'country': 1,\n",
       " 'covered': 90,\n",
       " 'craft': 20,\n",
       " 'created_by': 202,\n",
       " 'crossing': 146,\n",
       " 'crossing:barrier': 7,\n",
       " 'crossing:bell': 3,\n",
       " 'crossing:chicane': 4,\n",
       " 'crossing:light': 14,\n",
       " 'crossing:saltire': 2,\n",
       " 'crossing_ref': 28,\n",
       " 'cuisine': 102,\n",
       " 'currency:EUR': 1,\n",
       " 'cutting': 8,\n",
       " 'cycleway': 128,\n",
       " 'cycleway:bicycle': 1,\n",
       " 'cycleway:left': 4,\n",
       " 'cycleway:left:bicycle': 1,\n",
       " 'cycleway:left:foot': 1,\n",
       " 'cycleway:left:mandatory': 1,\n",
       " 'cycleway:left:oneway': 1,\n",
       " 'cycleway:left:segregated': 1,\n",
       " 'cycleway:left:smoothness': 1,\n",
       " 'cycleway:left:surface': 1,\n",
       " 'cycleway:right': 11,\n",
       " 'cycleway:right:bicycle': 1,\n",
       " 'cycleway:right:foot': 2,\n",
       " 'cycleway:right:oneway': 3,\n",
       " 'cycleway:right:segregated': 3,\n",
       " 'cycleway:right:smoothness': 1,\n",
       " 'cycleway:right:surface': 2,\n",
       " 'cycleway:surface': 1,\n",
       " 'dance:style': 1,\n",
       " 'dance:teaching': 1,\n",
       " 'date': 1,\n",
       " 'de:amtlicher_gemeindeschluessel': 1,\n",
       " 'de:regionalschluessel': 1,\n",
       " 'delivery': 1,\n",
       " 'demolished': 1,\n",
       " 'denomination': 45,\n",
       " 'denotation': 56,\n",
       " 'description': 89,\n",
       " 'description:de': 1,\n",
       " 'designation': 10,\n",
       " 'destination': 41,\n",
       " 'destination:backward': 2,\n",
       " 'destination:lanes': 15,\n",
       " 'destination:lanes:forward': 1,\n",
       " 'destination:ref': 37,\n",
       " 'destination:ref:lanes': 4,\n",
       " 'destination:symbol': 3,\n",
       " 'destination:symbol:lanes': 2,\n",
       " 'detail': 18,\n",
       " 'detour': 1,\n",
       " 'diameter': 1,\n",
       " 'dining': 1,\n",
       " 'diplomatic': 1,\n",
       " 'direction': 123,\n",
       " 'direction_east': 1,\n",
       " 'direction_north': 1,\n",
       " 'direction_south': 3,\n",
       " 'dispensing': 26,\n",
       " 'display': 5,\n",
       " 'distance': 3,\n",
       " 'disused': 4,\n",
       " 'disused:railway': 2,\n",
       " 'disused:railway:local_operated': 1,\n",
       " 'disused:railway:ref': 1,\n",
       " 'disused:railway:signal_box': 1,\n",
       " 'dog': 6,\n",
       " 'dogs': 5,\n",
       " 'dormitory': 11,\n",
       " 'drinking_water': 1,\n",
       " 'drinks': 1,\n",
       " 'drive_through': 3,\n",
       " 'education': 1,\n",
       " 'ele': 13,\n",
       " 'election:parliament': 1,\n",
       " 'election:part': 1,\n",
       " 'election:year': 1,\n",
       " 'electrified': 351,\n",
       " 'email': 48,\n",
       " 'embankment': 9,\n",
       " 'emergency': 33,\n",
       " 'end_date': 2,\n",
       " 'endpoint:busbar': 3,\n",
       " 'entrance': 837,\n",
       " 'equipment': 1,\n",
       " 'escalator': 2,\n",
       " 'exhibit': 1,\n",
       " 'expected_rcn_route_relations': 1,\n",
       " 'fast_food': 2,\n",
       " 'fax': 17,\n",
       " 'fee': 62,\n",
       " 'fee:times': 1,\n",
       " 'fence_type': 12,\n",
       " 'fenced': 2,\n",
       " 'fire_hydrant:diameter': 16,\n",
       " 'fire_hydrant:position': 16,\n",
       " 'fire_hydrant:type': 16,\n",
       " 'fireplace': 1,\n",
       " 'fixed': 20,\n",
       " 'fixme': 90,\n",
       " 'fixme2': 1,\n",
       " 'flowerbed': 1,\n",
       " 'flowers:height': 2,\n",
       " 'food': 1,\n",
       " 'foot': 767,\n",
       " 'footway': 8,\n",
       " 'frequency': 334,\n",
       " 'from': 26,\n",
       " 'ft_link': 2,\n",
       " 'fuel:HGV_diesel': 1,\n",
       " 'fuel:biodiesel': 1,\n",
       " 'fuel:diesel': 4,\n",
       " 'fuel:e10': 1,\n",
       " 'fuel:lpg': 1,\n",
       " 'fuel:octane_100': 1,\n",
       " 'fuel:octane_91': 2,\n",
       " 'fuel:octane_95': 4,\n",
       " 'fuel:octane_98': 4,\n",
       " 'garden:area': 3,\n",
       " 'gauge': 429,\n",
       " 'gay': 1,\n",
       " 'generator:source': 1,\n",
       " 'genus': 2,\n",
       " 'genus:de': 1,\n",
       " 'goods': 2,\n",
       " 'handrail': 5,\n",
       " 'handrail:center': 2,\n",
       " 'handrail:left': 15,\n",
       " 'handrail:right': 16,\n",
       " 'headway': 2,\n",
       " 'health_facility': 1,\n",
       " 'health_specialty': 1,\n",
       " 'health_specialty:dogtherapy': 1,\n",
       " 'health_specialty:psychotherapy': 1,\n",
       " 'health_specialty:speech_therapy': 1,\n",
       " 'healthcare': 1,\n",
       " 'healthcare:speciality': 3,\n",
       " 'height': 362,\n",
       " 'heritage': 87,\n",
       " 'heritage:ensemble': 16,\n",
       " 'heritage:operator': 87,\n",
       " 'heritage:operator:short': 17,\n",
       " 'heritage:ref': 87,\n",
       " 'heritage:since': 17,\n",
       " 'hgv': 15,\n",
       " 'hgv:conditional': 1,\n",
       " 'highspeed': 16,\n",
       " 'highway': 5285,\n",
       " 'historic': 256,\n",
       " 'historic:civilization': 2,\n",
       " 'history': 3,\n",
       " 'horse': 45,\n",
       " 'ice_cream': 3,\n",
       " 'icn_ref': 1,\n",
       " 'image': 105,\n",
       " 'incline': 43,\n",
       " 'indoor': 6,\n",
       " 'indoor_seating': 3,\n",
       " 'information': 23,\n",
       " 'inscription': 1,\n",
       " 'institution:pedagogy': 1,\n",
       " 'int_name': 1,\n",
       " 'int_ref': 40,\n",
       " 'intermittent': 1,\n",
       " 'internet_access': 7,\n",
       " 'internet_access:fee': 3,\n",
       " 'interval': 1,\n",
       " 'interval:evening': 1,\n",
       " 'interval:weekend': 1,\n",
       " 'is_in': 20,\n",
       " 'is_in:state_code': 1,\n",
       " 'junction': 18,\n",
       " 'kerb': 1,\n",
       " 'kerb:direction': 1,\n",
       " 'kerb:height': 1,\n",
       " 'lamp_mount': 26,\n",
       " 'lamp_ref_swd': 1,\n",
       " 'lamp_type': 26,\n",
       " 'landuse': 409,\n",
       " 'lanes': 596,\n",
       " 'lanes:backward': 30,\n",
       " 'lanes:forward': 33,\n",
       " 'lastcheck': 1,\n",
       " 'layer': 400,\n",
       " 'leaf_cycle': 1,\n",
       " 'leaf_type': 37,\n",
       " 'leaved_type': 1,\n",
       " 'leisure': 231,\n",
       " 'leisure_1': 1,\n",
       " 'length': 1,\n",
       " 'level': 138,\n",
       " 'levels': 2,\n",
       " 'light_rail': 4,\n",
       " 'line': 3,\n",
       " 'lit': 344,\n",
       " 'loc_name': 8,\n",
       " 'local_ref': 16,\n",
       " 'location': 1,\n",
       " 'lwn': 2,\n",
       " 'male': 1,\n",
       " 'man_made': 84,\n",
       " 'manhole': 1,\n",
       " 'map_size': 1,\n",
       " 'map_type': 1,\n",
       " 'material': 84,\n",
       " 'maxheight': 34,\n",
       " 'maxlength': 1,\n",
       " 'maxspeed': 1014,\n",
       " 'maxspeed:backward': 13,\n",
       " 'maxspeed:conditional': 1,\n",
       " 'maxspeed:forward': 13,\n",
       " 'maxspeed:hgv': 3,\n",
       " 'maxspeed:note': 1,\n",
       " 'maxspeed:type': 2,\n",
       " 'maxspeed:variable': 14,\n",
       " 'maxspeed:wet': 2,\n",
       " 'maxstay': 1,\n",
       " 'maxweight': 24,\n",
       " 'maxwidth': 3,\n",
       " 'memorial:addr': 159,\n",
       " 'memorial:text': 101,\n",
       " 'memorial:type': 162,\n",
       " 'memorial:website': 90,\n",
       " 'microbrewery': 4,\n",
       " 'military': 6,\n",
       " 'min_age': 1,\n",
       " 'min_height': 19,\n",
       " 'mofa': 2,\n",
       " 'mooring': 1,\n",
       " 'moped': 8,\n",
       " 'motor_vehicle': 67,\n",
       " 'motor_vehicle:conditional': 3,\n",
       " 'motorcar': 71,\n",
       " 'motorcycle': 30,\n",
       " 'motorroad': 35,\n",
       " 'mtb:description': 1,\n",
       " 'mtb:scale': 3,\n",
       " 'mtb:type': 2,\n",
       " 'museum': 1,\n",
       " 'name': 3704,\n",
       " 'name:cs': 1,\n",
       " 'name:de': 6,\n",
       " 'name:en': 6,\n",
       " 'name:etymology:wikidata': 1,\n",
       " 'name:fr': 2,\n",
       " 'name:hu': 1,\n",
       " 'name:it': 2,\n",
       " 'name:ksh': 3,\n",
       " 'name:local': 1,\n",
       " 'name:nl': 1,\n",
       " 'name:pl': 2,\n",
       " 'name:prefix': 1,\n",
       " 'name:ro': 1,\n",
       " 'name:ru': 2,\n",
       " 'name:tr': 1,\n",
       " 'name:zh': 2,\n",
       " 'nat_ref': 1,\n",
       " 'natural': 468,\n",
       " 'network': 154,\n",
       " 'noexit': 58,\n",
       " 'note': 298,\n",
       " 'note:2': 1,\n",
       " 'note:de': 15,\n",
       " 'note:en': 1,\n",
       " 'note:name': 10,\n",
       " 'note:nutzung': 1,\n",
       " 'note:osm': 3,\n",
       " 'note_2': 1,\n",
       " 'office': 43,\n",
       " 'office:VRS': 2,\n",
       " 'official_name': 3,\n",
       " 'old_name': 10,\n",
       " 'old_ref': 3,\n",
       " 'oneway': 938,\n",
       " 'oneway:bicycle': 10,\n",
       " 'oneway:foot': 1,\n",
       " 'onkz': 5,\n",
       " 'opening_hours': 189,\n",
       " 'operating_rules': 3,\n",
       " 'operator': 702,\n",
       " 'operator:VRS': 12,\n",
       " 'organic': 2,\n",
       " 'organisation': 3,\n",
       " 'origin': 1,\n",
       " 'osmarender:name': 4,\n",
       " 'osmarender:nameDirection': 2,\n",
       " 'osmc:symbol': 6,\n",
       " 'outdoor_seating': 25,\n",
       " 'outdoor_seating:comfort': 4,\n",
       " 'outdoor_seating_1': 1,\n",
       " 'overtaking': 1,\n",
       " 'overtaking:bus': 1,\n",
       " 'overtaking:hgv': 2,\n",
       " 'park_ride': 7,\n",
       " 'parking': 141,\n",
       " 'parking:condition:both': 10,\n",
       " 'parking:condition:both:default': 1,\n",
       " 'parking:condition:both:time_interval': 2,\n",
       " 'parking:condition:left': 13,\n",
       " 'parking:condition:left:2': 1,\n",
       " 'parking:condition:left:2:time_interval': 1,\n",
       " 'parking:condition:left:time_interval': 2,\n",
       " 'parking:condition:right': 14,\n",
       " 'parking:lane:both': 47,\n",
       " 'parking:lane:left': 22,\n",
       " 'parking:lane:right': 23,\n",
       " 'parking:lane:side': 1,\n",
       " 'passenger_lines': 86,\n",
       " 'payment:account_cards': 1,\n",
       " 'payment:bitcoin': 2,\n",
       " 'payment:coins': 41,\n",
       " 'payment:credit_cards': 2,\n",
       " 'payment:debit_cards': 3,\n",
       " 'payment:electronic_purses': 9,\n",
       " 'payment:ep_geldkarte': 1,\n",
       " 'payment:notes': 3,\n",
       " 'payment:telephone_cards': 9,\n",
       " 'person:date_of_birth': 39,\n",
       " 'person:date_of_death': 18,\n",
       " 'phases': 1,\n",
       " 'phone': 166,\n",
       " 'phone:mobile': 1,\n",
       " 'place': 38,\n",
       " 'placement': 17,\n",
       " 'placement:backward': 1,\n",
       " 'placement:forward': 1,\n",
       " 'platform_height': 1,\n",
       " 'platform_ref': 1,\n",
       " 'platform_section_sign_value': 1,\n",
       " 'playground': 5,\n",
       " 'population': 15,\n",
       " 'portal:construction': 1,\n",
       " 'portal:type': 1,\n",
       " 'pos': 59,\n",
       " 'post_box:type': 2,\n",
       " 'postal_code': 77,\n",
       " 'postal_code_level': 4,\n",
       " 'power': 104,\n",
       " 'power_supply': 2,\n",
       " 'priority_road': 2,\n",
       " 'production_date': 1,\n",
       " 'proposed': 1,\n",
       " 'protect_class': 2,\n",
       " 'protection_title': 1,\n",
       " 'psv': 9,\n",
       " 'pub': 2,\n",
       " 'public_transport': 280,\n",
       " 'public_transport:version': 21,\n",
       " 'public_viewing': 1,\n",
       " 'pump': 1,\n",
       " 'pzb': 6,\n",
       " 'quality': 1,\n",
       " 'rail': 2,\n",
       " 'railway': 1124,\n",
       " 'railway:catenary_mast': 1,\n",
       " 'railway:etcs': 2,\n",
       " 'railway:local_operated': 23,\n",
       " 'railway:lzb': 112,\n",
       " 'railway:milestone:catenary_mast': 50,\n",
       " 'railway:milestone:emergency_brake_override': 9,\n",
       " 'railway:note': 6,\n",
       " 'railway:platform:section': 1,\n",
       " 'railway:position': 52,\n",
       " 'railway:position:exact': 1,\n",
       " 'railway:preferred_direction': 48,\n",
       " 'railway:pzb': 133,\n",
       " 'railway:ref': 9,\n",
       " 'railway:signal:combined': 8,\n",
       " 'railway:signal:combined:form': 8,\n",
       " 'railway:signal:combined:function': 5,\n",
       " 'railway:signal:combined:height': 7,\n",
       " 'railway:signal:combined:states': 6,\n",
       " 'railway:signal:combined:substitute_signal': 2,\n",
       " 'railway:signal:departure': 2,\n",
       " 'railway:signal:departure:form': 2,\n",
       " 'railway:signal:departure:states': 2,\n",
       " 'railway:signal:direction': 102,\n",
       " 'railway:signal:distant': 30,\n",
       " 'railway:signal:distant:deactivated': 1,\n",
       " 'railway:signal:distant:form': 30,\n",
       " 'railway:signal:distant:height': 28,\n",
       " 'railway:signal:distant:repeated': 7,\n",
       " 'railway:signal:distant:shortened': 11,\n",
       " 'railway:signal:distant:states': 22,\n",
       " 'railway:signal:electricity': 1,\n",
       " 'railway:signal:electricity:form': 1,\n",
       " 'railway:signal:electricity:height': 1,\n",
       " 'railway:signal:electricity:type': 1,\n",
       " 'railway:signal:expected_position': 1,\n",
       " 'railway:signal:expected_position:height': 1,\n",
       " 'railway:signal:main': 34,\n",
       " 'railway:signal:main:deactivated': 1,\n",
       " 'railway:signal:main:form': 34,\n",
       " 'railway:signal:main:function': 19,\n",
       " 'railway:signal:main:height': 31,\n",
       " 'railway:signal:main:states': 19,\n",
       " 'railway:signal:main:substitute_signal': 11,\n",
       " 'railway:signal:minor': 22,\n",
       " 'railway:signal:minor:form': 22,\n",
       " 'railway:signal:minor:height': 10,\n",
       " 'railway:signal:minor:states': 11,\n",
       " 'railway:signal:position': 97,\n",
       " 'railway:signal:ring': 1,\n",
       " 'railway:signal:ring:form': 1,\n",
       " 'railway:signal:route': 9,\n",
       " 'railway:signal:route:form': 9,\n",
       " 'railway:signal:route:states': 9,\n",
       " 'railway:signal:shunting': 2,\n",
       " 'railway:signal:shunting:form': 2,\n",
       " 'railway:signal:shunting:height': 2,\n",
       " 'railway:signal:speed_limit': 30,\n",
       " 'railway:signal:speed_limit:deactivated': 1,\n",
       " 'railway:signal:speed_limit:form': 30,\n",
       " 'railway:signal:speed_limit:height': 17,\n",
       " 'railway:signal:speed_limit:speed': 28,\n",
       " 'railway:signal:speed_limit_distant': 4,\n",
       " 'railway:signal:speed_limit_distant:form': 4,\n",
       " 'railway:signal:speed_limit_distant:height': 1,\n",
       " 'railway:signal:speed_limit_distant:speed': 4,\n",
       " 'railway:signal:stop': 1,\n",
       " 'railway:signal:stop:form': 1,\n",
       " 'railway:signal:stop:height': 1,\n",
       " 'railway:signal:wrong_road': 2,\n",
       " 'railway:signal:wrong_road:form': 2,\n",
       " 'railway:signal_box': 1,\n",
       " 'railway:station_category': 1,\n",
       " 'railway:switch': 24,\n",
       " 'railway:switch:electric': 19,\n",
       " 'railway:track_ref': 4,\n",
       " 'railway:traffic_mode': 127,\n",
       " 'railway:turnout_side': 17,\n",
       " 'ramp': 14,\n",
       " 'ramp:bicycle': 2,\n",
       " 'ramp:luggage': 1,\n",
       " 'ramp:stroller': 2,\n",
       " 'ramp:wheelchair': 4,\n",
       " 'rating': 1,\n",
       " 'rcn_ref': 2,\n",
       " 'real_ale': 1,\n",
       " 'recycling:cans': 1,\n",
       " 'recycling:clothes': 11,\n",
       " 'recycling:glass': 31,\n",
       " 'recycling:glass_bottles': 10,\n",
       " 'recycling:shoes': 1,\n",
       " 'recycling_type': 27,\n",
       " 'red_turn:right': 1,\n",
       " 'ref': 836,\n",
       " 'ref:2': 1,\n",
       " 'ref:AST': 9,\n",
       " 'ref:VRS': 21,\n",
       " 'ref:circulation': 1,\n",
       " 'ref:isil': 5,\n",
       " 'reg_name': 11,\n",
       " 'reg_name:wikipedia': 2,\n",
       " 'reg_ref': 2,\n",
       " 'region': 1,\n",
       " 'religion': 56,\n",
       " 'resolution': 1,\n",
       " 'resource': 1,\n",
       " 'restaurant': 7,\n",
       " 'restriction': 122,\n",
       " 'river:waterway_distance': 2,\n",
       " 'roof': 6,\n",
       " 'roof:angle': 1,\n",
       " 'roof:colour': 288,\n",
       " 'roof:direction': 5,\n",
       " 'roof:edge': 4,\n",
       " 'roof:extent': 8,\n",
       " 'roof:height': 106,\n",
       " 'roof:levels': 159,\n",
       " 'roof:material': 123,\n",
       " 'roof:orientation': 437,\n",
       " 'roof:ridge': 7,\n",
       " 'roof:shape': 1325,\n",
       " 'roof:slope:direction': 8,\n",
       " 'roof:surface': 1,\n",
       " 'room': 1,\n",
       " 'route': 66,\n",
       " 'route_master': 12,\n",
       " 'route_ref': 6,\n",
       " 'ruins': 4,\n",
       " 'sac_scale': 8,\n",
       " 'scenery:category': 1,\n",
       " 'scenery:rating': 1,\n",
       " 'screen': 1,\n",
       " 'seamark': 2,\n",
       " 'seamark:beacon_lateral:category': 9,\n",
       " 'seamark:beacon_lateral:colour': 9,\n",
       " 'seamark:beacon_lateral:colour_pattern': 9,\n",
       " 'seamark:beacon_lateral:reflectivity': 9,\n",
       " 'seamark:beacon_lateral:shape': 9,\n",
       " 'seamark:buoy_lateral:category': 1,\n",
       " 'seamark:buoy_lateral:colour': 1,\n",
       " 'seamark:buoy_lateral:reflectivity': 1,\n",
       " 'seamark:buoy_lateral:shape': 1,\n",
       " 'seamark:cable_submarine:category': 1,\n",
       " 'seamark:distance_mark:category': 2,\n",
       " 'seamark:distance_mark:distance': 2,\n",
       " 'seamark:distance_mark:units': 2,\n",
       " 'seamark:harbour:category': 1,\n",
       " 'seamark:mooring:category': 7,\n",
       " 'seamark:mooring:reflectivity': 2,\n",
       " 'seamark:name': 1,\n",
       " 'seamark:notice:addition': 2,\n",
       " 'seamark:notice:category': 2,\n",
       " 'seamark:notice:distance_down': 1,\n",
       " 'seamark:notice:distance_up': 1,\n",
       " 'seamark:notice:function': 2,\n",
       " 'seamark:notice:impact': 2,\n",
       " 'seamark:notice:information': 1,\n",
       " 'seamark:restricted_area:information': 1,\n",
       " 'seamark:restricted_area:restriction': 2,\n",
       " 'seamark:small_craft_facility:category': 1,\n",
       " 'seamark:topmark:colour': 9,\n",
       " 'seamark:topmark:shape': 9,\n",
       " 'seamark:type': 29,\n",
       " 'seats': 50,\n",
       " 'seatsroof:ridge': 1,\n",
       " 'section': 1,\n",
       " 'segregated': 142,\n",
       " 'self_service': 2,\n",
       " 'service': 755,\n",
       " 'service:bicycle:repair': 1,\n",
       " 'service:bicycle:retail': 1,\n",
       " 'services': 1,\n",
       " 'shared_taxi': 18,\n",
       " 'shelter': 55,\n",
       " 'shelter_type': 4,\n",
       " 'shop': 453,\n",
       " 'shop:VRS': 12,\n",
       " 'shop:music:cd': 1,\n",
       " 'shop:music:new': 1,\n",
       " 'shop:music:second_hand': 1,\n",
       " 'shop:music:vinyl': 1,\n",
       " 'shop:pastry': 1,\n",
       " 'short': 1,\n",
       " 'short_name': 7,\n",
       " 'shower': 1,\n",
       " 'sidewalk': 93,\n",
       " 'sidewalk:both:surface': 1,\n",
       " 'sidewalk:both:wheelchair': 1,\n",
       " 'sidewalk:both:width': 1,\n",
       " 'sidewalk:right:surface': 1,\n",
       " 'sidewalk:smoothness': 1,\n",
       " 'sidewalk:surface': 6,\n",
       " 'site': 1,\n",
       " 'site_type': 1,\n",
       " 'skateboard': 7,\n",
       " 'ski': 3,\n",
       " 'smoking': 22,\n",
       " 'smoothness': 67,\n",
       " 'snack': 1,\n",
       " 'snacks': 1,\n",
       " 'snowmobile': 3,\n",
       " 'social_facility': 2,\n",
       " 'social_facility:for': 2,\n",
       " 'source': 3033,\n",
       " 'source:addr:housenumber': 1,\n",
       " 'source:date': 9,\n",
       " 'source:destination': 1,\n",
       " 'source:emergency': 1,\n",
       " 'source:geometry': 1,\n",
       " 'source:lit': 20,\n",
       " 'source:maxspeed': 73,\n",
       " 'source:name': 3,\n",
       " 'source:oneway': 1,\n",
       " 'source:platform_height': 1,\n",
       " 'source:population': 14,\n",
       " 'source:ref': 15,\n",
       " 'source_ref': 9,\n",
       " 'species': 1,\n",
       " 'species:de': 1,\n",
       " 'species:en': 1,\n",
       " 'sport': 73,\n",
       " 'stairwell': 6,\n",
       " 'stars': 3,\n",
       " 'start_date': 16,\n",
       " 'step.condition': 12,\n",
       " 'step.height': 13,\n",
       " 'step.length': 13,\n",
       " 'step_count': 16,\n",
       " 'strassen-nrw:abs': 11,\n",
       " 'structure': 1,\n",
       " 'subdenomination': 1,\n",
       " 'subject': 1,\n",
       " 'substation': 1,\n",
       " 'subway': 14,\n",
       " 'supervised': 16,\n",
       " 'support': 5,\n",
       " 'support:function': 1,\n",
       " 'surface': 770,\n",
       " 'surface.material': 14,\n",
       " 'surface_state': 1,\n",
       " 'surveillance': 15,\n",
       " 'surveillance:type': 11,\n",
       " 'surveillance:zone': 8,\n",
       " 'survey:date': 5,\n",
       " 'swing_gate:type': 1,\n",
       " 'symbol': 3,\n",
       " 'tactile_paving': 7,\n",
       " 'takeaway': 2,\n",
       " 'taxi': 1,\n",
       " 'temporary:date_off': 1,\n",
       " 'temporary:date_on': 1,\n",
       " 'temporary:motor_vehicle': 1,\n",
       " 'temporary:note': 1,\n",
       " 'tenant': 1,\n",
       " 'time': 2,\n",
       " 'timetable': 3,\n",
       " 'tmc': 29,\n",
       " 'to': 26,\n",
       " 'toilets': 1,\n",
       " 'toilets:disposal': 2,\n",
       " 'toilets:position': 1,\n",
       " 'toilets:wheelchair': 36,\n",
       " 'toll:N3': 7,\n",
       " 'tourism': 84,\n",
       " 'tower:type': 4,\n",
       " 'tracks': 32,\n",
       " 'tracktype': 148,\n",
       " 'tractor_type': 1,\n",
       " 'traffic': 3,\n",
       " 'traffic_calming': 26,\n",
       " 'traffic_sign': 20,\n",
       " 'traffic_signals': 8,\n",
       " 'traffic_signals:direction': 9,\n",
       " 'trail_visibility': 15,\n",
       " 'train': 36,\n",
       " 'training': 1,\n",
       " 'tram': 69,\n",
       " 'transformer': 1,\n",
       " 'tree': 1,\n",
       " 'tree_lined': 6,\n",
       " 'tunnel': 115,\n",
       " 'turn': 3,\n",
       " 'turn:lanes': 103,\n",
       " 'turn:lanes:backward': 13,\n",
       " 'turn:lanes:forward': 20,\n",
       " 'tv': 2,\n",
       " 'type': 357,\n",
       " 'uic_ref': 10,\n",
       " 'unisex': 1,\n",
       " 'university': 2,\n",
       " 'url': 3,\n",
       " 'usage': 174,\n",
       " 'use': 2,\n",
       " 'vehicle': 21,\n",
       " 'vending': 40,\n",
       " 'via': 7,\n",
       " 'via:2': 1,\n",
       " 'visibility': 5,\n",
       " 'voltage': 335,\n",
       " 'wall': 4,\n",
       " 'water': 5,\n",
       " 'waterway': 28,\n",
       " 'waterway:kilometer': 3,\n",
       " 'waterway:sign': 3,\n",
       " 'weather_protection': 10,\n",
       " 'website': 459,\n",
       " 'website:en': 2,\n",
       " 'wheelchair': 562,\n",
       " 'wheelchair:description': 34,\n",
       " 'wheelchair:description:de': 1,\n",
       " 'wheelchair_toilet': 5,\n",
       " 'width': 76,\n",
       " 'wifi': 1,\n",
       " 'wiki': 2,\n",
       " 'wiki:symbol': 3,\n",
       " 'wikidata': 27,\n",
       " 'wikipedia': 114,\n",
       " 'wires': 10,\n",
       " 'wood': 2,\n",
       " 'workrules': 107,\n",
       " 'wpt_description': 1,\n",
       " 'wpt_symbol': 1,\n",
       " 'year_of_construction': 18,\n",
       " 'zone:maxspeed': 7,\n",
       " 'zone:traffic': 84,\n",
       " 'zoo': 6}"
      ]
     },
     "execution_count": 132,
     "metadata": {},
     "output_type": "execute_result"
    }
   ],
   "source": [
    "get_tag_types()"
   ]
  },
  {
   "cell_type": "code",
   "execution_count": 108,
   "metadata": {
    "collapsed": false
   },
   "outputs": [],
   "source": [
    "tag_types = get_tag_types()"
   ]
  },
  {
   "cell_type": "code",
   "execution_count": 109,
   "metadata": {
    "collapsed": false
   },
   "outputs": [
    {
     "data": {
      "text/plain": [
       "{'Denkmalnummer': 2,\n",
       " 'FIXME': 39,\n",
       " 'TMC:cid_58:tabcd_1:Class': 46,\n",
       " 'TMC:cid_58:tabcd_1:Direction': 15,\n",
       " 'TMC:cid_58:tabcd_1:LCLversion': 46,\n",
       " 'TMC:cid_58:tabcd_1:LocationCode': 46,\n",
       " 'TMC:cid_58:tabcd_1:NextLocationCode': 28,\n",
       " 'TMC:cid_58:tabcd_1:PrevLocationCode': 28,\n",
       " 'TMC:cid_58:tabcd_1:TypeName': 1,\n",
       " 'TMC:cid_58:tabcd_1:TypeName:loc': 1,\n",
       " 'VRS:gemeinde': 196,\n",
       " 'VRS:name': 57,\n",
       " 'VRS:ortsteil': 196,\n",
       " 'VRS:ref': 195,\n",
       " 'abandoned': 3,\n",
       " 'access': 712,\n",
       " 'addr:city': 13392,\n",
       " 'addr:country': 13182,\n",
       " 'addr:district': 1,\n",
       " 'addr:housename': 18}"
      ]
     },
     "execution_count": 109,
     "metadata": {},
     "output_type": "execute_result"
    }
   ],
   "source": [
    "head_dict(tag_types)"
   ]
  },
  {
   "cell_type": "markdown",
   "metadata": {},
   "source": [
    "#### Explore \"fixme\" and \"fixed\" tag keys"
   ]
  },
  {
   "cell_type": "code",
   "execution_count": 128,
   "metadata": {
    "collapsed": true
   },
   "outputs": [],
   "source": [
    "def get_tag_key(file=\"cologne_germany_sample.osm\", key=\"FIXME\"):\n",
    "    \"\"\"\n",
    "    Given a valid XML input file, the function returns a list of values for the corresponding key of the \"tag\" attribute\n",
    "    \"\"\"\n",
    "    # create tags dict\n",
    "    tag_keys = []\n",
    "    \n",
    "    # open file\n",
    "    with open(file, \"r\", encoding=\"utf8\") as f:\n",
    "        \n",
    "        # loop over file\n",
    "        for event, elem in ET.iterparse(f):\n",
    "            \n",
    "            # inspect only \"tag\" elements\n",
    "            if elem.tag == \"tag\":\n",
    "        \n",
    "                # loop over \"tag\" elements\n",
    "                for tag in elem.iter(\"tag\"):\n",
    "                \n",
    "                    # check if tag key not in tags_types dict\n",
    "                    if tag.attrib[\"k\"] == key:\n",
    "                        \n",
    "                        # if not add key with count 1\n",
    "                        tag_keys.append(tag.attrib[\"v\"])\n",
    "                    \n",
    "                    else:\n",
    "                        continue     \n",
    "    \n",
    "    return set(tag_keys)"
   ]
  },
  {
   "cell_type": "code",
   "execution_count": 129,
   "metadata": {
    "collapsed": false
   },
   "outputs": [
    {
     "data": {
      "text/plain": [
       "{'Bitte Details ergänzen',\n",
       " 'Bitte Existenz des Defi prüfen.',\n",
       " 'Bitte Gebäude, Gebäudeteil oder Eingang zuordnen',\n",
       " 'Bitte näher bezeichnen. barrier=fence?',\n",
       " 'Diese Landuse Relation sollte man verkleinern',\n",
       " 'Gebäudeumrisse prüfen',\n",
       " 'Verbindung?',\n",
       " 'auch Eingang Ehrenstraße 2',\n",
       " 'bessere Beschreibung erforderlich',\n",
       " 'bitte Gebäude oder Gebäudeteil zuordnen',\n",
       " 'bitte Gebäude zuordnen',\n",
       " 'bitte Gebäude zuordnen (auf Bild in 12/2013 nicht vorhanden)',\n",
       " 'bitte Gebäude, Gebäudeteil oder Eingang zuordnen',\n",
       " 'bitte Gebäudeeingang oder Gebäudeteil zuordnen',\n",
       " 'bitte Gebäudeeingang zuordnen',\n",
       " 'bitte Gebäudeingang oder Gebäudeteil zuordnen',\n",
       " 'bitte Hauseingang bzw. Gebäudeteil zuordnen',\n",
       " 'bitte Hauseingang oder Gebäudeteil zuordnen',\n",
       " 'bitte Name und Details ergänzen',\n",
       " 'bitte Nutzungsart ergänzen',\n",
       " 'bitte genau zuordnen',\n",
       " 'bitte richtig zuordnen',\n",
       " 'ist dieser Abschnitt Einbahnstraße?',\n",
       " 'lage geschätzt, Juni 2013',\n",
       " 'landuse=grass für diese großen Planzkästen scheint mir etwas overdressed',\n",
       " 'maxspeed prüfen: unterschiedlich nach Richtung? Wo Grenze zwischen 50 und 60?',\n",
       " 'route_master sind für PTv2-Member',\n",
       " 'where does this oneway go?',\n",
       " 'wirklich residential und nicht path/track?'}"
      ]
     },
     "execution_count": 129,
     "metadata": {},
     "output_type": "execute_result"
    }
   ],
   "source": [
    "get_tag_key()"
   ]
  },
  {
   "cell_type": "code",
   "execution_count": 137,
   "metadata": {
    "collapsed": false
   },
   "outputs": [
    {
     "data": {
      "text/plain": [
       "{'Amsterdamer Straße ist stadteinwärts die Fortsetzung der Industriestr. (Trunk)  und liegt auf der optimalen Route für den Fernverkehr aus der Innenstadt in Richtung Ruhrgebiet, Hannover, Bremen, Berlin und Hamburg. Deshalb als primary road kennzeichnen!',\n",
       " 'Amsterdamer Straße ist stadteinwärts die Fortsetzung der Industriestr. (Trunk) und liegt auf der optimalen Route für den Fernverkehr aus der Innenstadt in Richtung Ruhrgebiet, Hannover, Bremen, Berlin und Hamburg. Deshalb als primary road kennzeichnen!',\n",
       " 'Auf B 59 stadteinwärts wird Verkehr Ri. Zentrum nach links auf die Äußere Kanalstr. gewiesen (wegen Verkehrsberuhigung) To Do: Steht der Wegweiser noch? Wenn ja, für fixme-Abschnitte highway=secondary setzen, da keine Fern- u. Regionalnetz-Funktion mehr!',\n",
       " 'Auf B 59 stadteinwärts wird Verkehr Ri. Zentrum nach links auf die Äußere Kanalstr. gewiesen. To Do: Steht der Wegweiser noch? Wenn ja, Subbelrather Str. als Parallele zur Venloer Str. (verkehrsberuhigt) regionale Netzfunktion. Deshalb highway=secondary',\n",
       " 'Einseitig isolierte Kennzeichnung als \"tertiary road\" am S-Bahnhof K-Dellbrück. Vorschlag: Kennzeichnung durch die Bahnunterführung und auf der Diepeschrather Str. fortsetzen. Alternative: als \"residental road\" zurückstufen.',\n",
       " 'Kennzeichnung der gesamten Poststraße als \"tertiary road\" um die einseitig isolierte Kennzeichnung als \"tertiary road\" an der Unterführung Bahnstrecke Köln-Troisdorf aufzuheben. Ausbauzustand und Kennzeichnung (Verkehrsschilder und Fahrbahnmarkierung) erl',\n",
       " 'Liegt auf einer leistungsfähigeren Umfahrung von Karolingerring, Chlodwigplatz und Ubierring (Rückbau, verkehrsberuhigt) in Richtung Verteilerkreis Süd, was auch durch eine DTV > 20.000 belegt ist. To Do: Survey, ob etwas gegen highway=primary spricht.',\n",
       " 'Liegt auf einer leistungsfähigeren Umfahrung von Karolingerring, Chlodwigplatz und Ubierring (Rückbau, verkehrsberuhigt) in Richtung Verteilerkreis Süd. Survey ergab: Route über Bischofsweg, Marktstr., Bonner Str. eher primary',\n",
       " 'Survey by Google Street View: Rochusstraße zwischen Magaretastraße und Venloer Str. ist keine Vorfahrtstraße, die Geschwindigkeit auf 30 km/h begrenzt, teilweise sehr eng und Einbahnstraße. To Do: Survey by car. Erwartetes Ergebnis: residental road.'}"
      ]
     },
     "execution_count": 137,
     "metadata": {},
     "output_type": "execute_result"
    }
   ],
   "source": [
    "get_tag_key(key=\"fixed\")"
   ]
  },
  {
   "cell_type": "markdown",
   "metadata": {},
   "source": [
    "#### Explore other intresting tags"
   ]
  },
  {
   "cell_type": "code",
   "execution_count": 130,
   "metadata": {
    "collapsed": false
   },
   "outputs": [
    {
     "data": {
      "text/plain": [
       "{'Porz'}"
      ]
     },
     "execution_count": 130,
     "metadata": {},
     "output_type": "execute_result"
    }
   ],
   "source": [
    "get_tag_key(key=\"addr:district\")"
   ]
  },
  {
   "cell_type": "code",
   "execution_count": 131,
   "metadata": {
    "collapsed": false
   },
   "outputs": [
    {
     "data": {
      "text/plain": [
       "{'Brück',\n",
       " 'Buchforst',\n",
       " 'Deutz',\n",
       " 'Grengel',\n",
       " 'Kalk',\n",
       " 'Lindenthal',\n",
       " 'Mülheim',\n",
       " 'Nippes',\n",
       " 'Ostheim',\n",
       " 'Poll',\n",
       " 'Sielsdorf',\n",
       " 'Urbach',\n",
       " 'Vingst'}"
      ]
     },
     "execution_count": 131,
     "metadata": {},
     "output_type": "execute_result"
    }
   ],
   "source": [
    "get_tag_key(key=\"addr:suburb\")"
   ]
  },
  {
   "cell_type": "code",
   "execution_count": 133,
   "metadata": {
    "collapsed": false
   },
   "outputs": [
    {
     "data": {
      "text/plain": [
       "{'Bayburt Kulturverein',\n",
       " 'Bürgerhaus Stollwerck',\n",
       " 'C103',\n",
       " 'Caritas Hospiz Johannes-Nepomuk-Haus',\n",
       " 'Doc-PT Praxis für Innere- und Allgemeinmedizin',\n",
       " 'Erik Wickberg-Haus',\n",
       " 'Feilenhof',\n",
       " 'HERZBERGMEDIA',\n",
       " 'Jüdisches Wohlfahrtszentrum',\n",
       " 'Kartonagenfabrik Seybold',\n",
       " 'Mo-Fr 09:30-18:30; Sa 09:30-16:00',\n",
       " 'Post Office',\n",
       " 'Raderthalgürtel',\n",
       " 'Schaltwerk',\n",
       " 'SkinWorks',\n",
       " 'TrauerHaus Müschenborn',\n",
       " 'Vereinsheim ESV Olympia Köln e.V.',\n",
       " 'Villa Hahnenburg'}"
      ]
     },
     "execution_count": 133,
     "metadata": {},
     "output_type": "execute_result"
    }
   ],
   "source": [
    "get_tag_key(key=\"addr:housename\")"
   ]
  },
  {
   "cell_type": "code",
   "execution_count": 135,
   "metadata": {
    "collapsed": false
   },
   "outputs": [
    {
     "data": {
      "text/plain": [
       "{'Chaussée Brunehaut (BE, F)',\n",
       " 'Deutz-Thermalbad',\n",
       " 'Dorint Sofitel An der Messe',\n",
       " 'Entschlafen der Gottesmutter',\n",
       " 'Gymnasium - Kaiserin-Theophanu-Schule',\n",
       " 'Haus der Begegnung',\n",
       " 'Kölner Seilbahn',\n",
       " 'LVR-Klinik Forensische Psychiatrie',\n",
       " 'Rhine Route - part Germany',\n",
       " 'Stotzheim'}"
      ]
     },
     "execution_count": 135,
     "metadata": {},
     "output_type": "execute_result"
    }
   ],
   "source": [
    "get_tag_key(key=\"alt_name\")"
   ]
  },
  {
   "cell_type": "code",
   "execution_count": 138,
   "metadata": {
    "collapsed": false
   },
   "outputs": [
    {
     "data": {
      "text/plain": [
       "{'board', 'guidepost', 'hikingmap', 'map', 'nature'}"
      ]
     },
     "execution_count": 138,
     "metadata": {},
     "output_type": "execute_result"
    }
   ],
   "source": [
    "get_tag_key(key=\"information\")"
   ]
  },
  {
   "cell_type": "code",
   "execution_count": 139,
   "metadata": {
    "collapsed": false
   },
   "outputs": [
    {
     "data": {
      "text/plain": [
       "{'50668',\n",
       " '50672',\n",
       " '50674',\n",
       " '50733',\n",
       " '50765',\n",
       " '50767',\n",
       " '50935',\n",
       " '50937',\n",
       " '50996',\n",
       " '51061',\n",
       " '51063',\n",
       " '51065',\n",
       " '51067',\n",
       " '51069',\n",
       " '51103',\n",
       " '51109',\n",
       " '51143,51145',\n",
       " '51145',\n",
       " '51147'}"
      ]
     },
     "execution_count": 139,
     "metadata": {},
     "output_type": "execute_result"
    }
   ],
   "source": [
    "get_tag_key(key=\"postal_code\")"
   ]
  },
  {
   "cell_type": "markdown",
   "metadata": {},
   "source": [
    "#### Audit tag keys"
   ]
  },
  {
   "cell_type": "code",
   "execution_count": 152,
   "metadata": {
    "collapsed": true
   },
   "outputs": [],
   "source": [
    "# complie regular expressions\n",
    "lower = re.compile(r'^([a-z]|_)*$')\n",
    "lower_colon = re.compile(r'^([a-z]|_)*:([a-z]|_)*$')\n",
    "problemchars = re.compile(r'[=\\+/&<>;\\'\"\\?%#$@\\,\\. \\t\\r\\n]')"
   ]
  },
  {
   "cell_type": "code",
   "execution_count": 161,
   "metadata": {
    "collapsed": true
   },
   "outputs": [],
   "source": [
    "def get_audit_tags(file=\"cologne_germany_sample.osm\"):\n",
    "    \"\"\"\n",
    "    tbd\n",
    "    \"\"\"\n",
    "    # create tags dict\n",
    "    audit_tags = {\"lower\": 0, \"lower_colon\": 0, \"problemchars\": 0, \"other\": 0}\n",
    "    problemchars_list = []\n",
    "    \n",
    "    # open file\n",
    "    with open(file, \"r\", encoding=\"utf8\") as f:\n",
    "        \n",
    "        # loop over file\n",
    "        for event, elem in ET.iterparse(f):\n",
    "    \n",
    "            if elem.tag == \"tag\":\n",
    "        \n",
    "                # loop over tags of element\n",
    "                for tag in elem.iter(\"tag\"):\n",
    "            \n",
    "                    # check for lower\n",
    "                    if re.search(lower, tag.attrib[\"k\"]):\n",
    "        \n",
    "                        # increase count\n",
    "                        audit_tags[\"lower\"] += 1\n",
    "        \n",
    "                    # check for lower_colon\n",
    "                    elif re.search(lower_colon, tag.attrib[\"k\"]):\n",
    "        \n",
    "                        # increase count\n",
    "                        audit_tags[\"lower_colon\"] += 1\n",
    "        \n",
    "                    # check for problemchars\n",
    "                    elif re.search(problemchars, tag.attrib[\"k\"]):\n",
    "                        \n",
    "                        # add value to problemchars list\n",
    "                        problemchars_list.append(tag.attrib[\"k\"])\n",
    "                        \n",
    "                        # increase count\n",
    "                        audit_tags[\"problemchars\"] += 1\n",
    "        \n",
    "                # else assign other\n",
    "                else:\n",
    "                    audit_tags[\"other\"] += 1\n",
    "        \n",
    "    return audit_tags, set(problemchars_list)"
   ]
  },
  {
   "cell_type": "code",
   "execution_count": 163,
   "metadata": {
    "collapsed": false
   },
   "outputs": [],
   "source": [
    "_ , test = get_audit_tags()"
   ]
  },
  {
   "cell_type": "code",
   "execution_count": 164,
   "metadata": {
    "collapsed": false
   },
   "outputs": [
    {
     "data": {
      "text/plain": [
       "{'step.condition', 'step.height', 'step.length', 'surface.material'}"
      ]
     },
     "execution_count": 164,
     "metadata": {},
     "output_type": "execute_result"
    }
   ],
   "source": [
    "test"
   ]
  },
  {
   "cell_type": "markdown",
   "metadata": {},
   "source": [
    "#### Fix problemchars"
   ]
  },
  {
   "cell_type": "code",
   "execution_count": null,
   "metadata": {
    "collapsed": true
   },
   "outputs": [],
   "source": [
    "# tbd"
   ]
  },
  {
   "cell_type": "markdown",
   "metadata": {},
   "source": [
    "#### Audit postal codes"
   ]
  },
  {
   "cell_type": "code",
   "execution_count": null,
   "metadata": {
    "collapsed": true
   },
   "outputs": [],
   "source": [
    "# tbd"
   ]
  },
  {
   "cell_type": "markdown",
   "metadata": {},
   "source": [
    "#### Audit street names"
   ]
  },
  {
   "cell_type": "code",
   "execution_count": null,
   "metadata": {
    "collapsed": true
   },
   "outputs": [],
   "source": [
    "# tbd"
   ]
  },
  {
   "cell_type": "markdown",
   "metadata": {},
   "source": [
    "#### Audit district/suburb"
   ]
  },
  {
   "cell_type": "code",
   "execution_count": null,
   "metadata": {
    "collapsed": true
   },
   "outputs": [],
   "source": [
    "# tbd"
   ]
  },
  {
   "cell_type": "markdown",
   "metadata": {},
   "source": [
    "#### Audit city"
   ]
  },
  {
   "cell_type": "markdown",
   "metadata": {},
   "source": [
    "#### Prepare XML data for ingest into MongoDB"
   ]
  },
  {
   "cell_type": "code",
   "execution_count": null,
   "metadata": {
    "collapsed": true
   },
   "outputs": [],
   "source": [
    "# tbd"
   ]
  },
  {
   "cell_type": "markdown",
   "metadata": {},
   "source": [
    "### Problems encountered\n",
    "tbd"
   ]
  },
  {
   "cell_type": "markdown",
   "metadata": {},
   "source": [
    "### Data overview\n",
    "tbd"
   ]
  },
  {
   "cell_type": "markdown",
   "metadata": {},
   "source": [
    "### Additional ideas\n",
    "tbd"
   ]
  },
  {
   "cell_type": "markdown",
   "metadata": {},
   "source": [
    "### Conclusion\n",
    "tbd"
   ]
  },
  {
   "cell_type": "code",
   "execution_count": null,
   "metadata": {
    "collapsed": false
   },
   "outputs": [],
   "source": []
  }
 ],
 "metadata": {
  "kernelspec": {
   "display_name": "Python 3",
   "language": "python",
   "name": "python3"
  },
  "language_info": {
   "codemirror_mode": {
    "name": "ipython",
    "version": 3
   },
   "file_extension": ".py",
   "mimetype": "text/x-python",
   "name": "python",
   "nbconvert_exporter": "python",
   "pygments_lexer": "ipython3",
   "version": "3.5.1"
  }
 },
 "nbformat": 4,
 "nbformat_minor": 0
}
