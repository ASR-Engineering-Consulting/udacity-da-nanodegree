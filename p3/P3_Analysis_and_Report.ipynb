{
 "cells": [
  {
   "cell_type": "markdown",
   "metadata": {},
   "source": [
    "# Wrangle OpenStreetMap data\n",
    "## Udacity Data Analyst Nanodegree - Project 3"
   ]
  },
  {
   "cell_type": "markdown",
   "metadata": {},
   "source": [
    "### Introduction\n",
    "\n",
    "#### Map\n",
    "* Cologne, http://www.openstreetmap.org/#map=11/50.9387/6.8740\n",
    "* Before moving to Milan, Italy where I currently live, Cologne has been my home for several years. I know this city quite well and I am curious to improve its OSM data\n",
    "\n",
    "### Resources\n",
    "* Udacity course materials\n",
    "* [Python 3 documentation](https://docs.python.org/3/)\n",
    "* [MongoDB documentation](https://docs.mongodb.com/manual/)\n",
    "* [MongoDB driver documentation](https://docs.mongodb.com/ecosystem/drivers/python/)\n",
    "* [Markdown documentation](https://daringfireball.net/projects/markdown/syntax)"
   ]
  },
  {
   "cell_type": "markdown",
   "metadata": {},
   "source": [
    "#### Generate sample OSM file"
   ]
  },
  {
   "cell_type": "code",
   "execution_count": 243,
   "metadata": {
    "collapsed": false
   },
   "outputs": [
    {
     "name": "stdout",
     "output_type": "stream",
     "text": [
      "-rw-r--r--@ 1 stefan  staff   376M Dec 11 17:14 cologne_germany.osm\r\n"
     ]
    }
   ],
   "source": [
    "# file size of original OSM file: 376 MB\n",
    "!ls -lh cologne_germany.osm"
   ]
  },
  {
   "cell_type": "code",
   "execution_count": 244,
   "metadata": {
    "collapsed": false
   },
   "outputs": [],
   "source": [
    "# !/usr/bin/env python\n",
    "# -*- coding: utf-8 -*-\n",
    "#\n",
    "#import xml.etree.ElementTree as ET  # Use cElementTree or lxml if too slow\n",
    "#\n",
    "#OSM_FILE = \"cologne_germany.osm\"  # Replace this with your osm file\n",
    "#SAMPLE_FILE = \"cologne_germany_sample.osm\"\n",
    "#\n",
    "#k = 10 # Parameter: take every k-th top level element\n",
    "#\n",
    "#def get_element(osm_file, tags=('node', 'way', 'relation')):\n",
    "#    \"\"\"Yield element if it is the right type of tag\n",
    "#\n",
    "#    Reference:\n",
    "#    http://stackoverflow.com/questions/3095434/inserting-newlines-in-xml-file-generated-via-xml-etree-elementtree-in-python\n",
    "#    \"\"\"\n",
    "#    context = iter(ET.iterparse(osm_file, events=('start', 'end')))\n",
    "#    _, root = next(context)\n",
    "#    for event, elem in context:\n",
    "#        if event == 'end' and elem.tag in tags:\n",
    "#            yield elem\n",
    "#            root.clear()\n",
    "#\n",
    "#\n",
    "#with open(SAMPLE_FILE, 'wb') as output:\n",
    "#    \"\"\"\n",
    "#    Changed output of write to byte objects in order to work with Python 3.x\n",
    "#    \n",
    "#    Reference:\n",
    "#    http://stackoverflow.com/questions/33054527/python-3-5-typeerror-a-bytes-like-object-is-required-not-str\n",
    "#    \"\"\"\n",
    "#    output.write(b'<?xml version=\"1.0\" encoding=\"UTF-8\"?>\\n')\n",
    "#    output.write(b'<osm>\\n  ')\n",
    "#\n",
    "#    # Write every kth top level element\n",
    "#    for i, element in enumerate(get_element(OSM_FILE)):\n",
    "#        if i % k == 0:\n",
    "#            output.write(ET.tostring(element, encoding='utf-8'))\n",
    "#\n",
    "#    output.write(b'</osm>')"
   ]
  },
  {
   "cell_type": "code",
   "execution_count": 245,
   "metadata": {
    "collapsed": true
   },
   "outputs": [
    {
     "name": "stdout",
     "output_type": "stream",
     "text": [
      "-rw-r--r--  1 stefan  staff    38M Nov 10 22:08 cologne_germany_sample.osm\r\n"
     ]
    }
   ],
   "source": [
    "# file size of sample OSM file: 38 MB\n",
    "!ls -lh cologne_germany_sample.osm"
   ]
  },
  {
   "cell_type": "markdown",
   "metadata": {},
   "source": [
    "### Data exploration"
   ]
  },
  {
   "cell_type": "code",
   "execution_count": 246,
   "metadata": {
    "collapsed": false
   },
   "outputs": [],
   "source": [
    "# setup environment\n",
    "import xml.etree.ElementTree as ET\n",
    "import pprint\n",
    "import re"
   ]
  },
  {
   "cell_type": "markdown",
   "metadata": {},
   "source": [
    "#### Helper functions"
   ]
  },
  {
   "cell_type": "code",
   "execution_count": 247,
   "metadata": {
    "collapsed": true
   },
   "outputs": [],
   "source": [
    "def head_input(input_in, n=20):\n",
    "    \"\"\"\n",
    "    Returns n (default=20) items of a dict/list\n",
    "    \"\"\"\n",
    "    if type(input_in) == type(dict()):\n",
    "        return dict(list(sorted(input_in.items()))[0:n])\n",
    "    elif type(input_in) == type(list()):\n",
    "        return input_in[0:n]\n",
    "    else:\n",
    "        return \"Non supported input type\""
   ]
  },
  {
   "cell_type": "markdown",
   "metadata": {},
   "source": [
    "#### Get overview of tags"
   ]
  },
  {
   "cell_type": "code",
   "execution_count": 248,
   "metadata": {
    "collapsed": false
   },
   "outputs": [],
   "source": [
    "def get_tag_counts(file=\"cologne_germany_sample.osm\"):\n",
    "    \"\"\"\n",
    "    Given a valid XML input file, the function returns a dict of tags and their respective counts\n",
    "    \"\"\"\n",
    "    # create tags dict\n",
    "    tag_counts = {}\n",
    "    \n",
    "    # open file\n",
    "    with open(file, \"r\", encoding=\"utf8\") as f:\n",
    "        \n",
    "        # loop over file\n",
    "        for event, elem in ET.iterparse(f):\n",
    "        \n",
    "            # check if tag is in dict\n",
    "            if elem.tag not in tag_counts.keys():\n",
    "    \n",
    "                # if not, add tag as new key\n",
    "                tag_counts[elem.tag] = 1\n",
    "        \n",
    "            # if so... \n",
    "            else:\n",
    "                \n",
    "                #increase count of identifed tag\n",
    "                tag_counts[elem.tag] += 1\n",
    "\n",
    "    return tag_counts"
   ]
  },
  {
   "cell_type": "code",
   "execution_count": 249,
   "metadata": {
    "collapsed": false
   },
   "outputs": [
    {
     "data": {
      "text/plain": [
       "{'relation': 353, 'way': 30566, 'member': 4594, 'nd': 235134, 'osm': 1, 'tag': 153299, 'node': 156597}"
      ]
     },
     "execution_count": 249,
     "metadata": {},
     "output_type": "execute_result"
    }
   ],
   "source": [
    "# print tag and counts of sample data\n",
    "get_tag_counts()"
   ]
  },
  {
   "cell_type": "markdown",
   "metadata": {},
   "source": [
    "#### Get overview ot tag keys and values"
   ]
  },
  {
   "cell_type": "code",
   "execution_count": 250,
   "metadata": {
    "collapsed": true
   },
   "outputs": [],
   "source": [
    "def get_tag_types(file=\"cologne_germany_sample.osm\"):\n",
    "    \"\"\"\n",
    "    Given a valid XML input file, the function returns a dict of keys and corresponding counts of the \"tag\" attribute\n",
    "    \"\"\"\n",
    "    # create tags dict\n",
    "    tag_types = {}\n",
    "    \n",
    "    # open file\n",
    "    with open(file, \"r\", encoding=\"utf8\") as f:\n",
    "        \n",
    "        # loop over file\n",
    "        for event, elem in ET.iterparse(f):\n",
    "            \n",
    "            # inspect only \"tag\" elements\n",
    "            if elem.tag == \"tag\":\n",
    "        \n",
    "                # loop over \"tag\" elements\n",
    "                for tag in elem.iter(\"tag\"):\n",
    "                \n",
    "                    # check if tag key not in tags_types dict\n",
    "                    if tag.attrib[\"k\"] not in tag_types.keys():\n",
    "                        \n",
    "                        # if not add key with count 1\n",
    "                        tag_types[tag.attrib[\"k\"]] = 1\n",
    "                    \n",
    "                    else:\n",
    "                        \n",
    "                        # if so increase count\n",
    "                        tag_types[tag.attrib[\"k\"]] += 1      \n",
    "    \n",
    "    return tag_types"
   ]
  },
  {
   "cell_type": "code",
   "execution_count": 251,
   "metadata": {
    "collapsed": true
   },
   "outputs": [],
   "source": [
    "tag_types = get_tag_types()"
   ]
  },
  {
   "cell_type": "code",
   "execution_count": 252,
   "metadata": {
    "collapsed": true
   },
   "outputs": [
    {
     "data": {
      "text/plain": [
       "{'TMC:cid_58:tabcd_1:LCLversion': 46, 'TMC:cid_58:tabcd_1:PrevLocationCode': 28, 'FIXME': 39, 'addr:housename': 18, 'addr:country': 13182, 'TMC:cid_58:tabcd_1:Class': 46, 'abandoned': 3, 'TMC:cid_58:tabcd_1:LocationCode': 46, 'TMC:cid_58:tabcd_1:NextLocationCode': 28, 'TMC:cid_58:tabcd_1:TypeName:loc': 1, 'TMC:cid_58:tabcd_1:TypeName': 1, 'addr:district': 1, 'VRS:ortsteil': 196, 'VRS:name': 57, 'VRS:gemeinde': 196, 'VRS:ref': 195, 'access': 712, 'TMC:cid_58:tabcd_1:Direction': 15, 'addr:city': 13392, 'Denkmalnummer': 2}"
      ]
     },
     "execution_count": 252,
     "metadata": {},
     "output_type": "execute_result"
    }
   ],
   "source": [
    "# get first 20 items in tag_types dict\n",
    "head_input(tag_types)"
   ]
  },
  {
   "cell_type": "code",
   "execution_count": 272,
   "metadata": {
    "collapsed": true
   },
   "outputs": [],
   "source": [
    "# pretty print all items in tag_types dict (produces a long list only used for exploration)\n",
    "#pprint.pprint(tag_types)"
   ]
  },
  {
   "cell_type": "code",
   "execution_count": 254,
   "metadata": {
    "collapsed": true
   },
   "outputs": [
    {
     "name": "stdout",
     "output_type": "stream",
     "text": [
      "{('access', 712),\n",
      " ('addr:city', 13392),\n",
      " ('addr:country', 13182),\n",
      " ('addr:housenumber', 13337),\n",
      " ('addr:postcode', 13351),\n",
      " ('addr:street', 13395),\n",
      " ('addr:suburb', 246),\n",
      " ('amenity', 1414),\n",
      " ('barrier', 888),\n",
      " ('bicycle', 806),\n",
      " ('building', 23639),\n",
      " ('building:colour', 243),\n",
      " ('building:levels', 5789),\n",
      " ('building:part', 353),\n",
      " ('building:use', 10941),\n",
      " ('created_by', 202),\n",
      " ('electrified', 351),\n",
      " ('entrance', 837),\n",
      " ('foot', 767),\n",
      " ('frequency', 334),\n",
      " ('gauge', 429),\n",
      " ('height', 362),\n",
      " ('highway', 5285),\n",
      " ('historic', 256),\n",
      " ('landuse', 409),\n",
      " ('lanes', 596),\n",
      " ('layer', 400),\n",
      " ('leisure', 231),\n",
      " ('lit', 344),\n",
      " ('maxspeed', 1014),\n",
      " ('name', 3704),\n",
      " ('natural', 468),\n",
      " ('note', 298),\n",
      " ('oneway', 938),\n",
      " ('operator', 702),\n",
      " ('public_transport', 280),\n",
      " ('railway', 1124),\n",
      " ('ref', 836),\n",
      " ('roof:colour', 288),\n",
      " ('roof:orientation', 437),\n",
      " ('roof:shape', 1325),\n",
      " ('service', 755),\n",
      " ('shop', 453),\n",
      " ('source', 3033),\n",
      " ('surface', 770),\n",
      " ('type', 357),\n",
      " ('voltage', 335),\n",
      " ('website', 459),\n",
      " ('wheelchair', 562)}\n"
     ]
    }
   ],
   "source": [
    "# print tag_types with more than 200 values\n",
    "pprint.pprint({(k,v) for k,v in tag_types.items() if v > 200})"
   ]
  },
  {
   "cell_type": "markdown",
   "metadata": {},
   "source": [
    "#### Explore \"fixme\" and \"fixed\" tag keys"
   ]
  },
  {
   "cell_type": "code",
   "execution_count": 255,
   "metadata": {
    "collapsed": false
   },
   "outputs": [],
   "source": [
    "def get_tag_key(file=\"cologne_germany_sample.osm\", key=\"FIXME\"):\n",
    "    \"\"\"\n",
    "    Given a valid XML input file, the function returns a list of values for the corresponding key of the \"tag\" attribute\n",
    "    \"\"\"\n",
    "    # create tags dict\n",
    "    tag_keys = []\n",
    "    \n",
    "    # open file\n",
    "    with open(file, \"r\", encoding=\"utf8\") as f:\n",
    "        \n",
    "        # loop over file\n",
    "        for event, elem in ET.iterparse(f):\n",
    "            \n",
    "            # inspect only \"tag\" elements\n",
    "            if elem.tag == \"tag\":\n",
    "        \n",
    "                # loop over \"tag\" elements\n",
    "                for tag in elem.iter(\"tag\"):\n",
    "                \n",
    "                    # check if tag key not in tags_types dict\n",
    "                    if tag.attrib[\"k\"] == key:\n",
    "                        \n",
    "                        # if not add key with count 1\n",
    "                        tag_keys.append(tag.attrib[\"v\"])\n",
    "                    \n",
    "                    else:\n",
    "                        continue     \n",
    "    \n",
    "    return set(tag_keys)"
   ]
  },
  {
   "cell_type": "code",
   "execution_count": 256,
   "metadata": {
    "collapsed": true
   },
   "outputs": [],
   "source": [
    "tag_key_fixme = get_tag_key()"
   ]
  },
  {
   "cell_type": "markdown",
   "metadata": {},
   "source": [
    "Most of the fixme notes are related to errors concerning buildings, e.g. where an entrance is located"
   ]
  },
  {
   "cell_type": "code",
   "execution_count": 259,
   "metadata": {
    "collapsed": true
   },
   "outputs": [
    {
     "name": "stdout",
     "output_type": "stream",
     "text": [
      "{'Bitte Details ergänzen',\n",
      " 'Bitte Existenz des Defi prüfen.',\n",
      " 'Bitte Gebäude, Gebäudeteil oder Eingang zuordnen',\n",
      " 'Bitte näher bezeichnen. barrier=fence?',\n",
      " 'Diese Landuse Relation sollte man verkleinern',\n",
      " 'Gebäudeumrisse prüfen',\n",
      " 'Verbindung?',\n",
      " 'auch Eingang Ehrenstraße 2',\n",
      " 'bessere Beschreibung erforderlich',\n",
      " 'bitte Gebäude oder Gebäudeteil zuordnen',\n",
      " 'bitte Gebäude zuordnen',\n",
      " 'bitte Gebäude zuordnen (auf Bild in 12/2013 nicht vorhanden)',\n",
      " 'bitte Gebäude, Gebäudeteil oder Eingang zuordnen',\n",
      " 'bitte Gebäudeeingang oder Gebäudeteil zuordnen',\n",
      " 'bitte Gebäudeeingang zuordnen',\n",
      " 'bitte Gebäudeingang oder Gebäudeteil zuordnen',\n",
      " 'bitte Hauseingang bzw. Gebäudeteil zuordnen',\n",
      " 'bitte Hauseingang oder Gebäudeteil zuordnen',\n",
      " 'bitte Name und Details ergänzen',\n",
      " 'bitte Nutzungsart ergänzen',\n",
      " 'bitte genau zuordnen',\n",
      " 'bitte richtig zuordnen',\n",
      " 'ist dieser Abschnitt Einbahnstraße?',\n",
      " 'lage geschätzt, Juni 2013',\n",
      " 'landuse=grass für diese großen Planzkästen scheint mir etwas overdressed',\n",
      " 'maxspeed prüfen: unterschiedlich nach Richtung? Wo Grenze zwischen 50 und '\n",
      " '60?',\n",
      " 'route_master sind für PTv2-Member',\n",
      " 'where does this oneway go?',\n",
      " 'wirklich residential und nicht path/track?'}\n"
     ]
    }
   ],
   "source": [
    "# pretty print FIXME notes\n",
    "pprint.pprint(tag_key_fixme)"
   ]
  },
  {
   "cell_type": "code",
   "execution_count": 260,
   "metadata": {
    "collapsed": true
   },
   "outputs": [],
   "source": [
    "tag_key_fixed = get_tag_key(key=\"fixed\")"
   ]
  },
  {
   "cell_type": "markdown",
   "metadata": {},
   "source": [
    "Most of the fixed tages are related to roads and how they are categorized"
   ]
  },
  {
   "cell_type": "code",
   "execution_count": 261,
   "metadata": {
    "collapsed": true
   },
   "outputs": [
    {
     "name": "stdout",
     "output_type": "stream",
     "text": [
      "{'Amsterdamer Straße ist stadteinwärts die Fortsetzung der Industriestr. '\n",
      " '(Trunk)  und liegt auf der optimalen Route für den Fernverkehr aus der '\n",
      " 'Innenstadt in Richtung Ruhrgebiet, Hannover, Bremen, Berlin und Hamburg. '\n",
      " 'Deshalb als primary road kennzeichnen!',\n",
      " 'Amsterdamer Straße ist stadteinwärts die Fortsetzung der Industriestr. '\n",
      " '(Trunk) und liegt auf der optimalen Route für den Fernverkehr aus der '\n",
      " 'Innenstadt in Richtung Ruhrgebiet, Hannover, Bremen, Berlin und Hamburg. '\n",
      " 'Deshalb als primary road kennzeichnen!',\n",
      " 'Auf B 59 stadteinwärts wird Verkehr Ri. Zentrum nach links auf die Äußere '\n",
      " 'Kanalstr. gewiesen (wegen Verkehrsberuhigung) To Do: Steht der Wegweiser '\n",
      " 'noch? Wenn ja, für fixme-Abschnitte highway=secondary setzen, da keine '\n",
      " 'Fern- u. Regionalnetz-Funktion mehr!',\n",
      " 'Auf B 59 stadteinwärts wird Verkehr Ri. Zentrum nach links auf die Äußere '\n",
      " 'Kanalstr. gewiesen. To Do: Steht der Wegweiser noch? Wenn ja, Subbelrather '\n",
      " 'Str. als Parallele zur Venloer Str. (verkehrsberuhigt) regionale '\n",
      " 'Netzfunktion. Deshalb highway=secondary',\n",
      " 'Einseitig isolierte Kennzeichnung als \"tertiary road\" am S-Bahnhof '\n",
      " 'K-Dellbrück. Vorschlag: Kennzeichnung durch die Bahnunterführung und auf '\n",
      " 'der Diepeschrather Str. fortsetzen. Alternative: als \"residental road\" '\n",
      " 'zurückstufen.',\n",
      " 'Kennzeichnung der gesamten Poststraße als \"tertiary road\" um die einseitig '\n",
      " 'isolierte Kennzeichnung als \"tertiary road\" an der Unterführung '\n",
      " 'Bahnstrecke Köln-Troisdorf aufzuheben. Ausbauzustand und Kennzeichnung '\n",
      " '(Verkehrsschilder und Fahrbahnmarkierung) erl',\n",
      " 'Liegt auf einer leistungsfähigeren Umfahrung von Karolingerring, '\n",
      " 'Chlodwigplatz und Ubierring (Rückbau, verkehrsberuhigt) in Richtung '\n",
      " 'Verteilerkreis Süd, was auch durch eine DTV > 20.000 belegt ist. To Do: '\n",
      " 'Survey, ob etwas gegen highway=primary spricht.',\n",
      " 'Liegt auf einer leistungsfähigeren Umfahrung von Karolingerring, '\n",
      " 'Chlodwigplatz und Ubierring (Rückbau, verkehrsberuhigt) in Richtung '\n",
      " 'Verteilerkreis Süd. Survey ergab: Route über Bischofsweg, Marktstr., '\n",
      " 'Bonner Str. eher primary',\n",
      " 'Survey by Google Street View: Rochusstraße zwischen Magaretastraße und '\n",
      " 'Venloer Str. ist keine Vorfahrtstraße, die Geschwindigkeit auf 30 km/h '\n",
      " 'begrenzt, teilweise sehr eng und Einbahnstraße. To Do: Survey by car. '\n",
      " 'Erwartetes Ergebnis: residental road.'}\n"
     ]
    }
   ],
   "source": [
    "# pretty print FIXED tags\n",
    "pprint.pprint(tag_key_fixed)"
   ]
  },
  {
   "cell_type": "markdown",
   "metadata": {},
   "source": [
    "#### Explore other interresting tags"
   ]
  },
  {
   "cell_type": "markdown",
   "metadata": {},
   "source": [
    "The correct key to indicate districts seems to be \"addr:suburb\" since \"addr:district\" yields only district of Cologne"
   ]
  },
  {
   "cell_type": "code",
   "execution_count": 262,
   "metadata": {
    "collapsed": false
   },
   "outputs": [
    {
     "data": {
      "text/plain": [
       "{'Porz'}"
      ]
     },
     "execution_count": 262,
     "metadata": {},
     "output_type": "execute_result"
    }
   ],
   "source": [
    "get_tag_key(key=\"addr:district\")"
   ]
  },
  {
   "cell_type": "code",
   "execution_count": 22,
   "metadata": {
    "collapsed": false
   },
   "outputs": [
    {
     "data": {
      "text/plain": [
       "{'Brück',\n",
       " 'Buchforst',\n",
       " 'Deutz',\n",
       " 'Grengel',\n",
       " 'Kalk',\n",
       " 'Lindenthal',\n",
       " 'Mülheim',\n",
       " 'Nippes',\n",
       " 'Ostheim',\n",
       " 'Poll',\n",
       " 'Sielsdorf',\n",
       " 'Urbach',\n",
       " 'Vingst'}"
      ]
     },
     "execution_count": 22,
     "metadata": {},
     "output_type": "execute_result"
    }
   ],
   "source": [
    "get_tag_key(key=\"addr:suburb\")"
   ]
  },
  {
   "cell_type": "markdown",
   "metadata": {},
   "source": [
    "I was wondering which information was stored with \"addr:housename\". Apparently no standard has been definied, since it is used for clubs, companies, opening times, addresses, etc - an opportunity for improvement? :-)"
   ]
  },
  {
   "cell_type": "code",
   "execution_count": 23,
   "metadata": {
    "collapsed": true
   },
   "outputs": [
    {
     "data": {
      "text/plain": [
       "{'Bayburt Kulturverein',\n",
       " 'Bürgerhaus Stollwerck',\n",
       " 'C103',\n",
       " 'Caritas Hospiz Johannes-Nepomuk-Haus',\n",
       " 'Doc-PT Praxis für Innere- und Allgemeinmedizin',\n",
       " 'Erik Wickberg-Haus',\n",
       " 'Feilenhof',\n",
       " 'HERZBERGMEDIA',\n",
       " 'Jüdisches Wohlfahrtszentrum',\n",
       " 'Kartonagenfabrik Seybold',\n",
       " 'Mo-Fr 09:30-18:30; Sa 09:30-16:00',\n",
       " 'Post Office',\n",
       " 'Raderthalgürtel',\n",
       " 'Schaltwerk',\n",
       " 'SkinWorks',\n",
       " 'TrauerHaus Müschenborn',\n",
       " 'Vereinsheim ESV Olympia Köln e.V.',\n",
       " 'Villa Hahnenburg'}"
      ]
     },
     "execution_count": 23,
     "metadata": {},
     "output_type": "execute_result"
    }
   ],
   "source": [
    "get_tag_key(key=\"addr:housename\")"
   ]
  },
  {
   "cell_type": "markdown",
   "metadata": {},
   "source": [
    "Sanity check passed, all documents containing \"addr:country\" refers to Germany (DE = Deutschland = Germany)"
   ]
  },
  {
   "cell_type": "code",
   "execution_count": 62,
   "metadata": {
    "collapsed": true
   },
   "outputs": [
    {
     "data": {
      "text/plain": [
       "{'DE'}"
      ]
     },
     "execution_count": 62,
     "metadata": {},
     "output_type": "execute_result"
    }
   ],
   "source": [
    "get_tag_key(key=\"addr:country\")"
   ]
  },
  {
   "cell_type": "markdown",
   "metadata": {},
   "source": [
    "The tag \"add:city\" yields another opportunity for improvement. Strictly speaking, the only valid value is \"Köln\" (= Cologne in German). All other values are related to either districts of Cologne or different cities"
   ]
  },
  {
   "cell_type": "code",
   "execution_count": 63,
   "metadata": {
    "collapsed": false
   },
   "outputs": [
    {
     "data": {
      "text/plain": [
       "{'Bergisch Gladbach', 'Hürth', 'Köln', 'Köln Rath/Heumar', 'Köln-Nippes'}"
      ]
     },
     "execution_count": 63,
     "metadata": {},
     "output_type": "execute_result"
    }
   ],
   "source": [
    "get_tag_key(key=\"addr:city\")"
   ]
  },
  {
   "cell_type": "markdown",
   "metadata": {},
   "source": [
    "I was curious about the quality of street names and decided to do an upfront visual check. Suprisingly the quality of street names in Cologne's OSM data is very good: An obvious case for trouble is the spelling of street names in Germany (Strasse vs. Straße, vs Str.) which does not seem to be an issue at all here (Note that <Name> Straße and <name>straße is correct, since we do distinguish between street with identical names this way  in Germany.)"
   ]
  },
  {
   "cell_type": "code",
   "execution_count": 64,
   "metadata": {
    "collapsed": true
   },
   "outputs": [],
   "source": [
    "tag_key_street = get_tag_key(key=\"addr:street\")"
   ]
  },
  {
   "cell_type": "code",
   "execution_count": 279,
   "metadata": {
    "collapsed": true
   },
   "outputs": [],
   "source": [
    "# pretty print tag_key_street (produces a long list only used for exploration)\n",
    "#pprint.pprint(tag_key_street)"
   ]
  },
  {
   "cell_type": "markdown",
   "metadata": {},
   "source": [
    "Unfortunately Cologne's data contains two tags for storing postal codes, \"addr:postcode\" and \"addr:postal_code\". Both should be merged into a single tag"
   ]
  },
  {
   "cell_type": "code",
   "execution_count": 65,
   "metadata": {
    "collapsed": false
   },
   "outputs": [
    {
     "data": {
      "text/plain": [
       "{'50354',\n",
       " '50667',\n",
       " '50668',\n",
       " '50670',\n",
       " '50672',\n",
       " '50674',\n",
       " '50676',\n",
       " '50677',\n",
       " '50678',\n",
       " '50679',\n",
       " '50733',\n",
       " '50735',\n",
       " '50737',\n",
       " '50739',\n",
       " '50765',\n",
       " '50767',\n",
       " '50823',\n",
       " '50825',\n",
       " '50827',\n",
       " '50829',\n",
       " '50858',\n",
       " '50859',\n",
       " '50931',\n",
       " '50933',\n",
       " '50935',\n",
       " '50937',\n",
       " '50939',\n",
       " '50968',\n",
       " '50969',\n",
       " '50996',\n",
       " '50997',\n",
       " '50999',\n",
       " '51061',\n",
       " '51063',\n",
       " '51065',\n",
       " '51067',\n",
       " '51069',\n",
       " '51103',\n",
       " '51105',\n",
       " '51107',\n",
       " '51109',\n",
       " '51143',\n",
       " '51145',\n",
       " '51147',\n",
       " '51149',\n",
       " '51427',\n",
       " '51467',\n",
       " '51469'}"
      ]
     },
     "execution_count": 65,
     "metadata": {},
     "output_type": "execute_result"
    }
   ],
   "source": [
    "get_tag_key(key=\"addr:postcode\")"
   ]
  },
  {
   "cell_type": "code",
   "execution_count": 68,
   "metadata": {
    "collapsed": false
   },
   "outputs": [
    {
     "data": {
      "text/plain": [
       "{'50668',\n",
       " '50672',\n",
       " '50674',\n",
       " '50733',\n",
       " '50765',\n",
       " '50767',\n",
       " '50935',\n",
       " '50937',\n",
       " '50996',\n",
       " '51061',\n",
       " '51063',\n",
       " '51065',\n",
       " '51067',\n",
       " '51069',\n",
       " '51103',\n",
       " '51109',\n",
       " '51143,51145',\n",
       " '51145',\n",
       " '51147'}"
      ]
     },
     "execution_count": 68,
     "metadata": {},
     "output_type": "execute_result"
    }
   ],
   "source": [
    "get_tag_key(key=\"postal_code\")"
   ]
  },
  {
   "cell_type": "markdown",
   "metadata": {},
   "source": [
    "Opening hours are mess lacking any standard"
   ]
  },
  {
   "cell_type": "code",
   "execution_count": 273,
   "metadata": {
    "collapsed": true
   },
   "outputs": [
    {
     "data": {
      "text/plain": [
       "{'20:00-02:00', 'Mo-Fr 08:30-20:00, Sa 08:00-20:00', 'Mo 12:00-19:00; Tu-Fr 10:00-20:00; Sa 09:00-16:00', 'Mo-Fr 09:00-18:00; Sa, Su, PH off', 'Mo-Fr 10:00-13:00; Mo-Fr 14:00-18:00; Sa 10:00-13:00', 'Mo-Sa 12:00-18:00', 'Mo-Sa 06:00-23:00', 'Mo-Fr 08:30-18:30; Sa 09:00-13:00', 'Mo,Tu 08:30-18:30; We 08:30-13:30, 14:30-18:30; We 08:30-18:30; Fr 08:30-13:30, 14:30-18:30; Sa 09:00-13:00', 'Mo-Th 09:00-12:00,14:00-17:00; Fr 09:00-12:00', 'Mo-Fr 08:30-19:00; Sa 08:30-18:30; Su 10:30-18:00', 'Mo-Fr 11:00-19:00; Sa 10:00-16:00; Su, PH off', 'Mo-Th 08:00-19:00; Fr 08:00-18:00; Sa 09:00-14:00', 'Mo-Th 15:00-01:00, Fr 15:00-02:00, Sa 12:00-02:00, Su,PH 12:00-01:00', 'Mo-Sa 11:30-19:00', 'Mo-Fr 09:30-18:00', 'Su-Th 11:00-23:00; Fr,Sa 11:00-02:00', 'Mo-Tu, Th-Fr 10:00-13:00, 15:00-18:30; We, Sa 10:00-13:00', 'Mo-Fr 09:00-18:30; Sa 10:00-14:00', 'Mo-We 06:00-23:00; Fr 06:00-24:00; Sa 07:00-24:00; Su 08:00-23:00', 'Mo,Tu 08:30-13:30, 14:30-18:30; We 08:30-14:00; Th,Fr 08:30-13:30,14:30-18:30; Sa 08:30-14:00', 'Mo-Fr 08:30-19:00; Sa 09:00-14:00', 'Mo, Th, Fr 12:00-20:00; Tu, We 15:00-20:00; Sa 10:00-20:00; Su, PH off', 'Mo-Fr 08:30-19:00; Sa 09:30-16:00', 'Mo-Fr 11:00-23:00; Sa 11:00-22:00', 'Mo-So 22:00 - 05:00, Sa-So ab 06:00', 'Mo-Fr 12:00+; Sa 18:00+', 'Mo-Sa 10:00-20:00', 'Mo-Fr 08:00-20:00; Sa 09:00-20:00', 'Mo-Su, PH 12:00-23:30', 'Feb-Nov: 09:30-17:45', 'Mo-Th 18:00-00:00; Fr, Sa 18:00-03:00', 'Mo-Fr 11:00-18:30', 'Mo-Su 09:00+', 'Mo-Fr 08:00-19:00;Sa 10:00-14:00', 'Mo-Sa 08:00-21:00', 'Mo-Sa 15:00-20:00', 'Mo-Sa 09:00+; Su 11:00+', 'Mo-Th 13:00-18:30; Fr 10:00-18:30; Sa 10:00-14:00', 'Mo-Sa 08:00-20:00; Su, PH off', 'Mo-Fr 08:30-19:00; Sa 09:00-16:00', 'We 15:00-17:00; Su 10:00-12:00', 'Mo-Su 11:00-15:00, 17:00-24:00', 'Mo-Sa 10:30-23:00; Su 09:00-18:00', 'Mo-Fr 10:00-19:00; Sa 10:00-18:00', 'Tu-Su 12:30-22:00', 'Mo-Su 17:00-01:00', 'Tu-Th 17:00-24:00, Fr-Sa 17:00-01:00, Su 17:00-24:00', 'Mo-Sa 07:00-22:00; Su, PH off', 'Mo-Sa 09:00-19:00', 'Mo-Fr 09:30-19:00; Sa 09:30-18:00', '10:00-24:00', 'Mo-Sa 18:00-00:00; Su off', 'Mo-Fr 08:30-17:00', 'Mo-Fr 10:00-19:00; Sa 10:00-18:00; Su, PH off', 'Mo off; Tu-Th 20:00-01:00, Fr-Sa 20:00-03:00, Su 19:00-01:00', 'Mo-Fr 09:00-13:00, 14:00-18:00', 'Mo-Fr 08:00-18:30; Sa 08:00-13:00', 'Mo-Sa 07:00-21:00; Su, PH off', 'Mo off; Tu-Su 10:00-17:00', 'Mo-Fr 10:00-19:00;Sa 10:00-17:00', 'Mo-Fr 08:00-18:30; Sa 07:30-15:00, Sa 07:30-18:00 \"im Außenbereich\"; Su 11:00-13:00', 'Mo,Tu 08:30-13:00,14:30-18:30;We 08:30-13:00;Th,Fr 08:30-13:00,14:30-18:30;Sa 09:00-13:00', 'Mo-Fr 08:00-18:30; Sa 08:30-13:30', 'Tu-Sa 12:00-15:00; 17:00+; Su 12:00+', 'Mo,Tu 08:00-13:00,14:00-18:30; We 08:00-13:00; Th,Fr 08:00-13:00,14:00-18:30;Sa 08:30-13:00', 'Mo-Th 18:00-01:00, Fr-Sa 18:00-03:00', 'Mo-Fr 06:30-18:30; Sa 06:00-13:00; Su 08:00-12:00', 'Mo-Fr 09:00-19:00; Sa 09:00-18:00; Su, PH off', 'We, Fr 08:00-13:00; Mo, Tu, Th 08:00-13:00, 14:30-18:00', '09:30-17:45', 'Tu-Fr 10:00-19:00; Sa 10:00-17:00; Su, PH off', 'Mo 09:00-12:00; We 15:00-17:00', 'Mo-Fr 08:00-17:00', 'Mo-Fr 09:30-19:00; Sa 09:30-16:00', 'Tu 10:00-12:00; We 16:00-18:00; Su 10:00-12:00', 'Mo-Fr 08:30-13:00,15:00-18:30; Sa 08:30-13:00', 'Mo-Fr 10:30 - 18:30, Sa 10:30 - 16:00', 'Mo-Su 11:30-23:30', 'Mo-Fr 08:30-18:30; Sa 08:30-13:00', 'Mo-Fr 10:00-13:00,14:00-18:00; Sa 10:00-14:00', 'Oct-Mar 10:00-16:00; Apr-Sep 10:00-18:00', 'Mo-Sa 11:00-19:30', 'Mo, Tu, Th, Fr 09:00-13:00, 14:00-18:00; Sa 10:00-13:00; We, Su, PH off', 'Mo-Fr 10:00-13:00, 14:00-18:00; Sa 10:30-13:00; Su, PH off', 'Mo', 'Mo-Fr 09:00-19:00; Sa 09:00-18:00', 'Mo-Fr 11:30-24:00; Sa 00:00-01:00,11:30-24:00; Su 00:00-01:00,11:30-23:00', '6:00-23:00', 'Mo-Sa 07:00-19:00', '24/7', 'Mo-Sa 10:00-20:00; Su, PH off', '05:00-24:00', 'Mo-Su 12:00-01:00', 'Mo-Fr 10:00-20:00; Sa 10:00-19:00; Su, PH off', 'Mo-Sa 10:00-19:00', 'Tu-Fr 12:00-18:30; Sa 12:00-16:30; Su,Mo,PH off', 'Mo-Fr 09:00-19:00; Sa 10:00-16:00; Su, PH off', 'Mo-Fr 09:00-20:00;Sa 09:00-16:00', 'Mo-Fr 09:00-19:00; Sa 09:00-17:00', 'Mo-Fr 8:00-18:00; Sa 8:00-12:00', 'Mo off; Tu-Su, PH 11:00-17:00; Dec24, Dec 25, Dec 31, Jan 01 off || \"Jeden ersten Donnerstag im Monat – KölnTag (außer an Feiertagen) 11 - 22 geöffnet; Karneval (Weiberfastnacht bis Karnevalsdienstag) geschlossen\"', 'Mo-Th 12:00-22:00; Fr-Su 12:00-22:30', 'Mo-Fr 07:45-18:00; Sa, Su, PH off', 'Mo-Sa 16:00-24:00; Su 10:00-24:00', 'Mo,Tu 09:00-13:00, 15:00-18:30; We 09:00-13:00; Th,Fr 09:00-13:00, 15:00-18:30; Sa 09:00-13:00', 'Mo-Sa 11:00-14:30,16:00-24:00; Tu off; Su 10:30-14:30,16:30-24:00', 'Mo-Th, Su 11:00-03:00; Fr-Sa 11:00-05:00', 'Mo-Fr 08:30-18:30; Sa 09:00-14:00', 'Mo-Fr 06:00-22:00, Sa 07:00-22:00; Su 08:00-22:00', 'Tu-Fr 12:00-15:00,17:00-23:00; Sa-Su 12:00-23:00; Mo off', 'Fr-Sa 23:00+', 'Mo-Fr 11:00-19:00; Sa 11:00-18:00;Su, PH off', 'Mo-Su 11:00-01:00', 'Mo-Th 10:00-14:00', '11:30-00:30', 'Mo-Fr 11:00-19:00; Sa 10:00-18:00; Su, PH off', 'Mo-Th 07:00-15:30; Fr 07:00-15:00; PH off', 'Mo-Sa 11:00-23:00; Su 14:30-22:30', 'Mo-Fr 12:00-14:00, 18:00-24:00; Sa 18:00-24:00; Su 12:00-14:00, 18:00-24:00', 'Mo-Th,Su off; Fr,Sa 21:00-04:00', 'Mo-Fr 08:00-18:30, Sa 08:30-14:00', 'Fr-Sa 20:00+', 'Mo-Sa 11:00-13:00|| Mo-Fr 09:00-19:00 \"de:nach Vereinbarung; en:on appointment\"', 'Mo-Fr 09:00-18:30; Sa 09:00-13:00', 'Su -Fr 11:45-14:30, 18:00-23:30; Sa 17:30-23:30', 'Mo-Fr 09:00-19:00; Sa-Su 10:00-19:00', 'Mo-Sa 10:00-23:00; Su,PH 10:00-22:00; Dec 24 10:00-15:00; Dec 31 10:00-06:00, Jan 1 12:00-22:00', 'Mo-Su 11:00-03:00', 'Mo-Th 08:00-12:00,14:00-18:00; We,Fr 08:00-12:00', 'Mo off; Tu-Sa 18:30-22:00; Su off', 'Mo 06:00-13:00,14:00-17:00; Tu-We 08:00-13:00; Th 08:00-13:00,14:00-19:00; Fr 08:00-13:00', 'Mo,Tu 08:30-13:00, 15:00-18:30; We 08:30-13:00; Th,Fr 08:30-13:00,15:00-18:30; Sa 08:30-13:00', 'Mo-Su 11:30-24:00', 'Mo-Th 09:00-21:00; Fr,Sa 09:00-22:00', 'Mo-Fr 06:00-18:30; Sa 06:00-13:00; Su 08:00-16:00', 'Mo-Fr 06:45-17:00', 'Mo-Fr 10:00-19:00; Sa 10:00-16:00', 'Mo-Su 08:00-23:00', 'Mo-Fr 05:00-18:00;Sa 06:00-13:00', 'Mo-Fr 08:00-18:30; Sa 07:30-14:00', 'Mo-Th 09:00-13:00,14:00-18:00; We 09:00-13:00,14:00-17:30; Fr 09:30-13:30', 'Mo-Sa 11:00-20:00', 'Mo,Tu 08:30-13:30, 14:30-18:30; We 08:30-13:30, 14:30-18:00; Th,Fr 08:30-13:30, 14:30-18:30; Sa 09:00-13:00', 'Mo,Tu 08:30-13:00, 15:00-18:30; We 08:30-13:0; Th 08:30-13:00, 15:00-18:30; Fr 08:30-13:30, 14:30-18:30; Sa 08:30-13:00', 'Mo-Sa 09:00+; Su 14:00+', 'Mo-Fr 08:30-19:00; Sa 09:00-18:00', 'Mo-Sa 07:00-22:00', 'Mo,We-Su,PH 12:00-17:00; Tu off', 'Tu-We 10:00-19:00; Th 11:00-21:00; Fr 10:00-19:00; Sa 09:00-16:00', 'Tu-Su 11:30-22:00', 'Mo-Sa 09:00-20:00', 'Mo-Fr 10:00-19:00', 'Mo-Fr 09:00-19:00; Sa 09:00-14:30', 'Tu-Sa 12:00-19:00', 'Mo,Tu,Th, Fr 08:00-19:00; Sa, Su 10:00-19:00', 'open; We, Sa 06:00-14:00 off', 'Mo-Sa 07:00-24:00', 'Mo-Fr 09:00-18:30; Sa 09:00-14:00', 'Mo-Fr 09:30-23:30; Sa-Su 10:00-22:00', 'Mo-We 08:30-13:00,14:00-16:30; Th 08:30-13:00,14:00-18:30; Fr 08:30-13:00', 'Mo-Fr 11:00-23:00; Sa 10:00-23:00', 'Mo-Sa 07:00-21:00', 'Mo-Fr 07:00-24:00; Sa 07:00-22:00', 'Su-Th 11:30-23:00; Fr-Sa 11:30-23:30'}"
      ]
     },
     "execution_count": 273,
     "metadata": {},
     "output_type": "execute_result"
    }
   ],
   "source": [
    "get_tag_key(key=\"opening_hours\")"
   ]
  },
  {
   "cell_type": "markdown",
   "metadata": {},
   "source": [
    "Lastly, I was curious about the meaning of \"alt_name\" and \"information\". Whereas \"alt_name\" seems to store names for buildings, information seems to store some data related to hiking"
   ]
  },
  {
   "cell_type": "code",
   "execution_count": 66,
   "metadata": {
    "collapsed": true
   },
   "outputs": [
    {
     "data": {
      "text/plain": [
       "{'Chaussée Brunehaut (BE, F)',\n",
       " 'Deutz-Thermalbad',\n",
       " 'Dorint Sofitel An der Messe',\n",
       " 'Entschlafen der Gottesmutter',\n",
       " 'Gymnasium - Kaiserin-Theophanu-Schule',\n",
       " 'Haus der Begegnung',\n",
       " 'Kölner Seilbahn',\n",
       " 'LVR-Klinik Forensische Psychiatrie',\n",
       " 'Rhine Route - part Germany',\n",
       " 'Stotzheim'}"
      ]
     },
     "execution_count": 66,
     "metadata": {},
     "output_type": "execute_result"
    }
   ],
   "source": [
    "get_tag_key(key=\"alt_name\")"
   ]
  },
  {
   "cell_type": "code",
   "execution_count": 67,
   "metadata": {
    "collapsed": true
   },
   "outputs": [
    {
     "data": {
      "text/plain": [
       "{'board', 'guidepost', 'hikingmap', 'map', 'nature'}"
      ]
     },
     "execution_count": 67,
     "metadata": {},
     "output_type": "execute_result"
    }
   ],
   "source": [
    "get_tag_key(key=\"information\")"
   ]
  },
  {
   "cell_type": "markdown",
   "metadata": {},
   "source": [
    "#### Audit tag keys"
   ]
  },
  {
   "cell_type": "markdown",
   "metadata": {},
   "source": [
    "Using regular expressions definied during the courss the data is audited"
   ]
  },
  {
   "cell_type": "code",
   "execution_count": 263,
   "metadata": {
    "collapsed": false
   },
   "outputs": [],
   "source": [
    "# complie regular expressions\n",
    "lower = re.compile(r'^([a-z]|_)*$')\n",
    "lower_colon = re.compile(r'^([a-z]|_)*:([a-z]|_)*$')\n",
    "problemchars = re.compile(r'[=\\+/&<>;\\'\"\\?%#$@\\,\\. \\t\\r\\n\\-]')"
   ]
  },
  {
   "cell_type": "code",
   "execution_count": 264,
   "metadata": {
    "collapsed": false
   },
   "outputs": [],
   "source": [
    "def get_audit_tags(file=\"cologne_germany_sample.osm\"):\n",
    "    \"\"\"\n",
    "    tbd\n",
    "    \"\"\"\n",
    "    # create tags dict\n",
    "    audit_tags = {\"lower\": 0, \"lower_colon\": 0, \"problemchars\": 0, \"other\": 0}\n",
    "    problemchars_list = []\n",
    "    \n",
    "    # open file\n",
    "    with open(file, \"r\", encoding=\"utf8\") as f:\n",
    "        \n",
    "        # loop over file\n",
    "        for _ , elem in ET.iterparse(f):\n",
    "    \n",
    "            if elem.tag == \"tag\":\n",
    "        \n",
    "                # loop over tags of element\n",
    "                for tag in elem.iter(\"tag\"):\n",
    "            \n",
    "                    # check for lower\n",
    "                    if re.search(lower, tag.attrib[\"k\"]):\n",
    "        \n",
    "                        # increase count\n",
    "                        audit_tags[\"lower\"] += 1\n",
    "        \n",
    "                    # check for lower_colon\n",
    "                    elif re.search(lower_colon, tag.attrib[\"k\"]):\n",
    "        \n",
    "                        # increase count\n",
    "                        audit_tags[\"lower_colon\"] += 1\n",
    "        \n",
    "                    # check for problemchars\n",
    "                    elif re.search(problemchars, tag.attrib[\"k\"]):\n",
    "                        \n",
    "                        # add value to problemchars list\n",
    "                        problemchars_list.append(tag.attrib[\"k\"])\n",
    "                        \n",
    "                        # increase count\n",
    "                        audit_tags[\"problemchars\"] += 1\n",
    "                  \n",
    "        \n",
    "                # else assign other\n",
    "                else:\n",
    "                    audit_tags[\"other\"] += 1\n",
    "        \n",
    "    return audit_tags, set(problemchars_list)"
   ]
  },
  {
   "cell_type": "code",
   "execution_count": 265,
   "metadata": {
    "collapsed": true
   },
   "outputs": [],
   "source": [
    "problemchars_count, problemchars = get_audit_tags()"
   ]
  },
  {
   "cell_type": "code",
   "execution_count": 268,
   "metadata": {
    "collapsed": false
   },
   "outputs": [
    {
     "data": {
      "text/plain": [
       "{'other': 153299, 'lower': 61444, 'problemchars': 63, 'lower_colon': 89518}"
      ]
     },
     "execution_count": 268,
     "metadata": {},
     "output_type": "execute_result"
    }
   ],
   "source": [
    "# print problemchar count per category\n",
    "problemchars_count"
   ]
  },
  {
   "cell_type": "code",
   "execution_count": 269,
   "metadata": {
    "collapsed": false
   },
   "outputs": [
    {
     "data": {
      "text/plain": [
       "{'step.height', 'step.length', 'step.condition', 'surface.material', 'strassen-nrw:abs'}"
      ]
     },
     "execution_count": 269,
     "metadata": {},
     "output_type": "execute_result"
    }
   ],
   "source": [
    "# print problemchars\n",
    "problemchars"
   ]
  },
  {
   "cell_type": "markdown",
   "metadata": {},
   "source": [
    "### Problems encountered\n",
    "A brief summary of the problems encountered during data exploration:\n",
    "* The city key does not only store the value \"Köln\" (Cologne in German), but information regarding districts and cities other than Cologne\n",
    "* Addresses are supringsingly well formated and are _not_ considered an issue\n",
    "* Two keys are used to store information regarding Cologne' districts (addr:suburb and addr:district) and postal codes (postal_code vs postcode)\n",
    "* Opening hours lack a standard schema for notation\n",
    "* Analyis of problemchars gave a good overview of potentially intresting data points\n",
    "* Interestingly, OSM users themselves repoted data point to be fixed using the FIXME tag"
   ]
  },
  {
   "cell_type": "markdown",
   "metadata": {},
   "source": [
    "### Fixing problems"
   ]
  },
  {
   "cell_type": "markdown",
   "metadata": {},
   "source": [
    "The following function is a prototype for mixing issues with OSM data. It accepts fixes via predefinied mappings and can make use of problemchars identified by the get_audit_tags() function."
   ]
  },
  {
   "cell_type": "code",
   "execution_count": 126,
   "metadata": {
    "collapsed": false
   },
   "outputs": [],
   "source": [
    "mapping = {\"Köln Rath/Heumar\" : \"Köln\",\n",
    "           \"Köln-Nippes\": \"Köln\", \n",
    "           \"51143,51145\" : \"51143\"}"
   ]
  },
  {
   "cell_type": "code",
   "execution_count": 172,
   "metadata": {
    "collapsed": true
   },
   "outputs": [],
   "source": [
    "def fix_problems(file=\"cologne_germany_sample.osm\", mapping=mapping, problemchars=problemchars):\n",
    "    \"\"\"\n",
    "    Given a valid XML input file, the function applies fixes to keys of the \"tag\" attribute given a mapping dict\n",
    "    and a list of problemchars\n",
    "    \"\"\"\n",
    "    fixed_dict = {}\n",
    "    tag = None\n",
    "    issue = None\n",
    "    \n",
    "    with open(file, \"r\", encoding=\"utf8\") as f:\n",
    "        \n",
    "        # loop over file\n",
    "        for event , elem in ET.iterparse(f):\n",
    "    \n",
    "            # only process \"tag\" tags\n",
    "            if elem.tag == \"tag\":\n",
    "        \n",
    "                # loop over tags of element\n",
    "                for tag in elem.iter(\"tag\"):\n",
    "                    \n",
    "                    # check if value is in mapping dict\n",
    "                    if tag.attrib[\"v\"] in mapping.keys():\n",
    "                        \n",
    "                        # record problematic key\n",
    "                        issue = tag.attrib[\"v\"]\n",
    "                        \n",
    "                        # loop over key value pairs in mapping dict\n",
    "                        for m in mapping:\n",
    "                                \n",
    "                            # apply fixes\n",
    "                            tag.attrib[\"v\"] = tag.attrib[\"v\"].replace(m, mapping[m])\n",
    "                            \n",
    "                        # record fix\n",
    "                        fix = tag.attrib[\"v\"]\n",
    "                    \n",
    "                    # check if key is inproblemchars list\n",
    "                    elif tag.attrib[\"k\"] in problemchars:\n",
    "                        \n",
    "                        # record problematic key\n",
    "                        issue = tag.attrib[\"k\"]\n",
    "                         \n",
    "                        # check for hiphen\n",
    "                        if re.search(re.compile(r'\\-'), tag.attrib[\"k\"]):\n",
    "                                \n",
    "                            # fix hiphen\n",
    "                            tag.attrib[\"k\"] = tag.attrib[\"k\"].replace(\"-\", \"_\")    \n",
    "                        \n",
    "                        # check for dot\n",
    "                        elif re.search(re.compile(r'\\.'), tag.attrib[\"k\"]):\n",
    "                            \n",
    "                            # fix dot\n",
    "                            tag.attrib[\"k\"] = tag.attrib[\"k\"].replace(\".\", \":\")\n",
    "                    \n",
    "                        # record fixed key\n",
    "                        fix = tag.attrib[\"k\"]\n",
    "                \n",
    "                    # update fixed_dict\n",
    "                    if issue and fix:\n",
    "                        fixed_dict[issue] = fix\n",
    "\n",
    "    return fixed_dict"
   ]
  },
  {
   "cell_type": "code",
   "execution_count": 173,
   "metadata": {
    "collapsed": false
   },
   "outputs": [
    {
     "data": {
      "text/plain": [
       "{'51143,51145': '51143',\n",
       " 'Köln Rath/Heumar': 'Köln',\n",
       " 'Köln-Nippes': 'Köln',\n",
       " 'step.condition': 'step:condition',\n",
       " 'step.height': 'step:height',\n",
       " 'step.length': 'step:length',\n",
       " 'strassen-nrw:abs': 'strassen_nrw:abs',\n",
       " 'surface.material': 'surface:material'}"
      ]
     },
     "execution_count": 173,
     "metadata": {},
     "output_type": "execute_result"
    }
   ],
   "source": [
    "test = fix_problems()\n",
    "test"
   ]
  },
  {
   "cell_type": "markdown",
   "metadata": {},
   "source": [
    "### Data overview"
   ]
  },
  {
   "cell_type": "markdown",
   "metadata": {},
   "source": [
    "#### Prepare XML data for ingest into MongoDB"
   ]
  },
  {
   "cell_type": "code",
   "execution_count": 239,
   "metadata": {
    "collapsed": true
   },
   "outputs": [],
   "source": [
    "#!/usr/bin/env python\n",
    "# -*- coding: utf-8 -*-\n",
    "import xml.etree.cElementTree as ET\n",
    "import pprint\n",
    "import re\n",
    "import codecs\n",
    "import json\n",
    "\n",
    "CREATED = [\"version\", \"changeset\", \"timestamp\", \"user\", \"uid\"]\n",
    "\n",
    "def shape_element(element):\n",
    "    \n",
    "    # initialize node dict\n",
    "    node = {}\n",
    "    \n",
    "    # initialize helper dicts and lists\n",
    "    created = {}\n",
    "    address = {}\n",
    "    pos = []\n",
    "    node_refs = []\n",
    "    \n",
    "    # only process \"node\" or \"way\" tags\n",
    "    if element.tag == \"node\" or element.tag == \"way\":\n",
    "\n",
    "        # add note type to node dict\n",
    "        node[\"type\"] = element.tag\n",
    "        \n",
    "        # loop over keys of element attributes\n",
    "        for key in element.attrib:\n",
    "        \n",
    "            # check if attribute is id or visible\n",
    "            if key == \"id\" or key == \"visible\":\n",
    "                \n",
    "                # add key and value to node dict\n",
    "                node[key] = element.attrib[key]\n",
    "            \n",
    "            # check if key in created array\n",
    "            elif key in CREATED:\n",
    "               \n",
    "                # add key and value to created dict\n",
    "                created[key] = element.attrib[key]\n",
    "           \n",
    "            # check if attribute is lat\n",
    "            elif key == \"lat\":\n",
    "               \n",
    "                # cast attribute to float and add to pos list\n",
    "                pos.insert(0,float(element.attrib[key]))\n",
    "            \n",
    "            # check if attribute is lon\n",
    "            elif key == \"lon\":\n",
    "                \n",
    "                # cast attribute to float and add to pos list\n",
    "                pos.insert(1,float(element.attrib[key]))\n",
    "            \n",
    "            # if not\n",
    "            else:\n",
    "            \n",
    "                # ignore\n",
    "                continue\n",
    "               \n",
    "        # loop over children of element\n",
    "        for child in element:\n",
    "            \n",
    "            # check for node references\n",
    "            if child.tag == \"nd\":\n",
    "                \n",
    "                # add ref attribute to node_refs list\n",
    "                node_refs.append(child.attrib[\"ref\"])\n",
    "                \n",
    "            else:\n",
    "        \n",
    "                # check if child key contains problematic characters\n",
    "                if re.search(problemchars, child.attrib[\"k\"]):\n",
    "            \n",
    "                    # ignore\n",
    "                    continue\n",
    "           \n",
    "                # check if child key does not contain more than 1 colon:\n",
    "                elif not child.attrib[\"k\"].count(\":\") > 1:\n",
    "                    \n",
    "                    # check if attribute key is in mapping\n",
    "                    if child.attrib[\"k\"] in mapping.keys() or child.attrib[\"v\"] in mapping.keys():\n",
    "                        \n",
    "                        # loop over mapping dict\n",
    "                        for m in mapping:\n",
    "                            \n",
    "                            # update key according to mapping\n",
    "                            child.attrib[\"k\"] = child.attrib[\"k\"].replace(m, mapping[m])\n",
    "                            \n",
    "                            # update value according to mapping\n",
    "                            child.attrib[\"v\"] = child.attrib[\"v\"].replace(m, mapping[m])\n",
    "           \n",
    "                    # check if attribute key starts with \"addr:\"\n",
    "                    if child.attrib[\"k\"].startswith(\"addr:\"):\n",
    "               \n",
    "                        # clean key\n",
    "                        clean_key = child.attrib[\"k\"].replace(\"addr:\", \"\")\n",
    "               \n",
    "                        # add key and value to address dict\n",
    "                        address[clean_key] = child.attrib[\"v\"]\n",
    "               \n",
    "                    # if not\n",
    "                    else:\n",
    "                   \n",
    "                        # add key and value to other dict\n",
    "                        node[child.attrib[\"k\"]] = child.attrib[\"v\"]\n",
    "            \n",
    "                # if it does contain more than 1 colon:\n",
    "                else:\n",
    "                \n",
    "                    # ignore\n",
    "                    continue\n",
    "       \n",
    "        # add helper dicts and list to node dict\n",
    "        if created:\n",
    "               \n",
    "            # add k,v for created dict\n",
    "            node[\"created\"] = created\n",
    "         \n",
    "        # if pos list contains elements\n",
    "        if pos:\n",
    "               \n",
    "            # add k,v for pos list\n",
    "            node[\"pos\"] = pos\n",
    "        \n",
    "        # if address dict contains elements\n",
    "        if address:\n",
    "               \n",
    "            # add k,v for address dict\n",
    "            node[\"address\"] = address\n",
    "            \n",
    "        # if node_refs dict contains elements\n",
    "        if node_refs:\n",
    "        \n",
    "            # add k,v for node_refs dict\n",
    "            node[\"node_refs\"] = node_refs\n",
    "               \n",
    "        return node\n",
    "   \n",
    "    else:\n",
    "       \n",
    "        return None"
   ]
  },
  {
   "cell_type": "code",
   "execution_count": 240,
   "metadata": {
    "collapsed": true
   },
   "outputs": [],
   "source": [
    "# code from case study\n",
    "\n",
    "def process_map(file_in, pretty = False):\n",
    "    # You do not need to change this file\n",
    "    file_out = \"{0}.json\".format(file_in)\n",
    "    data = []\n",
    "    with codecs.open(file_out, \"w\") as fo:\n",
    "        for _, element in ET.iterparse(file_in):\n",
    "            el = shape_element(element)\n",
    "            if el:\n",
    "                data.append(el)\n",
    "                if pretty:\n",
    "                    fo.write(json.dumps(el, indent=2)+\"\\n\")\n",
    "                else:\n",
    "                    fo.write(json.dumps(el) + \"\\n\")\n",
    "    return data"
   ]
  },
  {
   "cell_type": "code",
   "execution_count": 241,
   "metadata": {
    "collapsed": true
   },
   "outputs": [],
   "source": [
    "data = process_map(\"cologne_germany_sample.osm\", pretty=False)"
   ]
  },
  {
   "cell_type": "code",
   "execution_count": 223,
   "metadata": {
    "collapsed": true
   },
   "outputs": [
    {
     "data": {
      "text/plain": [
       "{'created': {'changeset': '43410968',\n",
       "  'timestamp': '2016-11-04T21:58:30Z',\n",
       "  'uid': '16478',\n",
       "  'user': 'Raymond',\n",
       "  'version': '1'},\n",
       " 'highway': 'footway',\n",
       " 'id': '451465982',\n",
       " 'node_refs': ['4482995966', '2141100739'],\n",
       " 'type': 'way'}"
      ]
     },
     "execution_count": 223,
     "metadata": {},
     "output_type": "execute_result"
    }
   ],
   "source": [
    "# check if data has been processed correctly\n",
    "data[-1]"
   ]
  },
  {
   "cell_type": "markdown",
   "metadata": {},
   "source": [
    "#### Inserting data into MongoDB"
   ]
  },
  {
   "cell_type": "markdown",
   "metadata": {},
   "source": [
    "Using mongoimport from UNIX shell in virtual machine:\n",
    "```\n",
    "mongoimport --db osm --collection cologne --type json --file /vagrant/cologne_germany_sample.json\n",
    "```"
   ]
  },
  {
   "cell_type": "code",
   "execution_count": 12,
   "metadata": {
    "collapsed": true
   },
   "outputs": [
    {
     "name": "stdout",
     "output_type": "stream",
     "text": [
      "-rw-r--r--  1 stefan  staff    41M Nov 13 14:46 cologne_germany_sample.json\r\n"
     ]
    }
   ],
   "source": [
    "# file size of sample JSON: 41 MB\n",
    "!ls -lh cologne_germany_sample.json"
   ]
  },
  {
   "cell_type": "markdown",
   "metadata": {},
   "source": [
    "#### Querying data from MongoDB"
   ]
  },
  {
   "cell_type": "code",
   "execution_count": 1,
   "metadata": {
    "collapsed": true
   },
   "outputs": [],
   "source": [
    "# setup pymongo, connect to MongoDB and select osm database\n",
    "from pymongo import MongoClient\n",
    "client = MongoClient(\"mongodb://localhost:27017\")\n",
    "db = client.osm.cologne"
   ]
  },
  {
   "cell_type": "code",
   "execution_count": 50,
   "metadata": {
    "collapsed": true
   },
   "outputs": [
    {
     "data": {
      "text/plain": [
       "{'_id': ObjectId('58287fc8a300d8a50baf9881'),\n",
       " 'created': {'changeset': '9176870',\n",
       "  'timestamp': '2011-08-31T14:41:21Z',\n",
       "  'uid': '81244',\n",
       "  'user': 'rurseekatze',\n",
       "  'version': '3'},\n",
       " 'id': '160058',\n",
       " 'pos': [50.8964366, 6.9105618],\n",
       " 'type': 'node'}"
      ]
     },
     "execution_count": 50,
     "metadata": {},
     "output_type": "execute_result"
    }
   ],
   "source": [
    "# test connection\n",
    "db.find_one()"
   ]
  },
  {
   "cell_type": "code",
   "execution_count": 129,
   "metadata": {
    "collapsed": false
   },
   "outputs": [],
   "source": [
    "# helper function to display cursor\n",
    "def get_cursor(query):\n",
    "    \"\"\"\n",
    "    Given a valid MongoDB aggregation query, the function returns its result as a list\n",
    "    \"\"\"\n",
    "    print(list(query))"
   ]
  },
  {
   "cell_type": "markdown",
   "metadata": {},
   "source": [
    "#### Summary statistics"
   ]
  },
  {
   "cell_type": "code",
   "execution_count": 5,
   "metadata": {
    "collapsed": false
   },
   "outputs": [
    {
     "data": {
      "text/plain": [
       "187163"
      ]
     },
     "execution_count": 5,
     "metadata": {},
     "output_type": "execute_result"
    }
   ],
   "source": [
    "# number of documents in database\n",
    "db.find().count()"
   ]
  },
  {
   "cell_type": "code",
   "execution_count": 51,
   "metadata": {
    "collapsed": false
   },
   "outputs": [
    {
     "data": {
      "text/plain": [
       "156596"
      ]
     },
     "execution_count": 51,
     "metadata": {},
     "output_type": "execute_result"
    }
   ],
   "source": [
    "# number of nodes\n",
    "db.find({\"type\": \"node\"}).count()"
   ]
  },
  {
   "cell_type": "code",
   "execution_count": 52,
   "metadata": {
    "collapsed": false
   },
   "outputs": [
    {
     "data": {
      "text/plain": [
       "30563"
      ]
     },
     "execution_count": 52,
     "metadata": {},
     "output_type": "execute_result"
    }
   ],
   "source": [
    "# number of ways\n",
    "db.find({\"type\": \"way\"}).count()"
   ]
  },
  {
   "cell_type": "code",
   "execution_count": 61,
   "metadata": {
    "collapsed": false
   },
   "outputs": [
    {
     "data": {
      "text/plain": [
       "886"
      ]
     },
     "execution_count": 61,
     "metadata": {},
     "output_type": "execute_result"
    }
   ],
   "source": [
    "# number of unique users\n",
    "len(db.distinct(\"created.user\"))"
   ]
  },
  {
   "cell_type": "code",
   "execution_count": 185,
   "metadata": {
    "collapsed": false
   },
   "outputs": [],
   "source": [
    "# top 5 users by number of created documents\n",
    "user_query = db.aggregate([\n",
    "        {\"$group\": {\"_id\": \"$created.user\", \"count\": {\"$sum\": 1}}},\n",
    "        {\"$sort\": {\"count\": -1}},\n",
    "        {\"$limit\" : 5}\n",
    "    ])"
   ]
  },
  {
   "cell_type": "markdown",
   "metadata": {},
   "source": [
    "The top 5 users created 70% of the documents in the database (130536/187163)"
   ]
  },
  {
   "cell_type": "code",
   "execution_count": 186,
   "metadata": {
    "collapsed": false
   },
   "outputs": [
    {
     "name": "stdout",
     "output_type": "stream",
     "text": [
      "[{'count': 71049, '_id': 'Teddy73'}, {'count': 32611, '_id': 'jotpe'}, {'count': 9617, '_id': 'catweazle67'}, {'count': 8669, '_id': 'cgn1234'}, {'count': 8590, '_id': 'okilimu'}]\n"
     ]
    }
   ],
   "source": [
    "get_cursor(user_query)"
   ]
  },
  {
   "cell_type": "code",
   "execution_count": 194,
   "metadata": {
    "collapsed": true
   },
   "outputs": [],
   "source": [
    "# count number of shops\n",
    "shop_query = db.aggregate([\n",
    "        {\"$match\": {\"shop\": {\"$exists\": 1}}},\n",
    "        {\"$group\": {\"_id\": None, \"count\": {\"$sum\": 1}}}\n",
    "    ])"
   ]
  },
  {
   "cell_type": "code",
   "execution_count": 195,
   "metadata": {
    "collapsed": false
   },
   "outputs": [
    {
     "name": "stdout",
     "output_type": "stream",
     "text": [
      "[{'count': 453, '_id': None}]\n"
     ]
    }
   ],
   "source": [
    "get_cursor(shop_query)"
   ]
  },
  {
   "cell_type": "code",
   "execution_count": 212,
   "metadata": {
    "collapsed": true
   },
   "outputs": [],
   "source": [
    "# count number of documents in cologne-ehrenfeld district (the district I used to live in)\n",
    "ehrenfeld_query = db.aggregate([\n",
    "        {\"$match\": {\"address.postcode\": \"50823\"}},\n",
    "        {\"$group\": {\"_id\": None, \"count\": {\"$sum\": 1}}}\n",
    "    ])"
   ]
  },
  {
   "cell_type": "code",
   "execution_count": 213,
   "metadata": {
    "collapsed": false
   },
   "outputs": [
    {
     "name": "stdout",
     "output_type": "stream",
     "text": [
      "[{'count': 308, '_id': None}]\n"
     ]
    }
   ],
   "source": [
    "get_cursor(ehrenfeld_query)"
   ]
  },
  {
   "cell_type": "markdown",
   "metadata": {},
   "source": [
    "### Additional ideas\n",
    "\n",
    "* What are the top 5 amenities?\n",
    "* Which are the top 3 cuisines?\n",
    "* Which historic sites exist in Cologne?\n",
    "* What are the top 5 shops?\n",
    "* Which leisure venues exist in Cologne?\n",
    "* How many gay venues exist in Cologne?"
   ]
  },
  {
   "cell_type": "code",
   "execution_count": 274,
   "metadata": {
    "collapsed": true
   },
   "outputs": [],
   "source": [
    "# top 5 amenities in Cologne\n",
    "amenity_query = db.aggregate([\n",
    "        {\"$match\": {\"amenity\": {\"$exists\": 1}}},\n",
    "        {\"$group\": {\"_id\": \"$amenity\", \"count\" : {\"$sum\": 1}}},\n",
    "        {\"$sort\": {\"count\": -1}},\n",
    "        {\"$limit\" : 5}\n",
    "    ])"
   ]
  },
  {
   "cell_type": "markdown",
   "metadata": {},
   "source": [
    "Cologne seems to be a city where parking is difficult, since the top amenity is considered parking (with bicycle parking ath the fourth position). Further, apart from restaurants and benches, post boxes are listed"
   ]
  },
  {
   "cell_type": "code",
   "execution_count": 275,
   "metadata": {
    "collapsed": false
   },
   "outputs": [
    {
     "name": "stdout",
     "output_type": "stream",
     "text": [
      "[{'count': 235, '_id': 'parking'}, {'count': 151, '_id': 'bench'}, {'count': 115, '_id': 'restaurant'}, {'count': 69, '_id': 'bicycle_parking'}, {'count': 61, '_id': 'post_box'}]\n"
     ]
    }
   ],
   "source": [
    "get_cursor(amenity_query)"
   ]
  },
  {
   "cell_type": "code",
   "execution_count": 277,
   "metadata": {
    "collapsed": false
   },
   "outputs": [],
   "source": [
    "# top 3 cuisines in Cologne\n",
    "cuisine_query = db.aggregate([\n",
    "        {\"$match\": {\"cuisine\": {\"$exists\": 1}}},\n",
    "        {\"$group\": {\"_id\": \"$cuisine\", \"count\" : {\"$sum\": 1}}},\n",
    "        {\"$sort\": {\"count\": -1}},\n",
    "        {\"$limit\" : 3}\n",
    "    ])"
   ]
  },
  {
   "cell_type": "markdown",
   "metadata": {},
   "source": [
    "Although only a few documents contain cuisine tags, the result is not unusual for Cologne. Being a city with a numerous Italian and Turkish community, top three cuisines are considered Italian, Turkish (Kebab is my proxy for Turkish here) and German."
   ]
  },
  {
   "cell_type": "code",
   "execution_count": 278,
   "metadata": {
    "collapsed": false
   },
   "outputs": [
    {
     "name": "stdout",
     "output_type": "stream",
     "text": [
      "[{'count': 14, '_id': 'italian'}, {'count': 8, '_id': 'kebab'}, {'count': 8, '_id': 'german'}]\n"
     ]
    }
   ],
   "source": [
    "get_cursor(cuisine_query)"
   ]
  },
  {
   "cell_type": "code",
   "execution_count": 228,
   "metadata": {
    "collapsed": false
   },
   "outputs": [],
   "source": [
    "# Which historic sites exist in Cologne?\n",
    "historic_query = db.aggregate([\n",
    "        {\"$match\": {\"historic\": {\"$exists\": 1}}},\n",
    "        {\"$group\": {\"_id\": \"$historic\", \"count\" : {\"$sum\": 1}}},\n",
    "        {\"$sort\": {\"count\": -1}}\n",
    "    ])"
   ]
  },
  {
   "cell_type": "markdown",
   "metadata": {},
   "source": [
    "The most frequent historic site is labeled memorial, probably related to world war 2"
   ]
  },
  {
   "cell_type": "code",
   "execution_count": 229,
   "metadata": {
    "collapsed": false
   },
   "outputs": [
    {
     "name": "stdout",
     "output_type": "stream",
     "text": [
      "[{'count': 164, '_id': 'memorial'}, {'count': 66, '_id': 'heritage'}, {'count': 5, '_id': 'wayside_cross'}, {'count': 3, '_id': 'fort'}, {'count': 2, '_id': 'yes'}, {'count': 2, '_id': 'archaeological_site'}, {'count': 2, '_id': 'wayside_shrine'}, {'count': 1, '_id': 'citywalls'}, {'count': 1, '_id': 'technical_monument'}, {'count': 1, '_id': 'building'}, {'count': 1, '_id': 'exhibit'}, {'count': 1, '_id': 'castle'}, {'count': 1, '_id': 'city_gate'}, {'count': 1, '_id': 'cemetery'}]\n"
     ]
    }
   ],
   "source": [
    "get_cursor(historic_query)"
   ]
  },
  {
   "cell_type": "code",
   "execution_count": 183,
   "metadata": {
    "collapsed": true
   },
   "outputs": [],
   "source": [
    "# Which are the top 5 shop categories in Cologne?\n",
    "shop_query2 = db.aggregate([\n",
    "        {\"$match\": {\"shop\": {\"$exists\": 1}}},\n",
    "        {\"$group\": {\"_id\": \"$shop\", \"count\" : {\"$sum\": 1}}},\n",
    "        {\"$sort\": {\"count\": -1}},\n",
    "        {\"$limit\" : 5}\n",
    "    ])"
   ]
  },
  {
   "cell_type": "markdown",
   "metadata": {},
   "source": [
    "No suprises here, the kiosk a.k.a. \"büdchen\", which means small shop where you can buy alcohol late at night in German, is the top shop in Cologne"
   ]
  },
  {
   "cell_type": "code",
   "execution_count": 184,
   "metadata": {
    "collapsed": false
   },
   "outputs": [
    {
     "name": "stdout",
     "output_type": "stream",
     "text": [
      "[{'count': 65, '_id': 'kiosk'}, {'count': 45, '_id': 'clothes'}, {'count': 29, '_id': 'hairdresser'}, {'count': 24, '_id': 'bakery'}, {'count': 23, '_id': 'supermarket'}]\n"
     ]
    }
   ],
   "source": [
    "get_cursor(shop_query2)"
   ]
  },
  {
   "cell_type": "code",
   "execution_count": 224,
   "metadata": {
    "collapsed": false
   },
   "outputs": [],
   "source": [
    "# Which leisure venues exist in Cologne?\n",
    "leisure_query = db.aggregate([\n",
    "        {\"$match\": {\"leisure\": {\"$exists\": 1}}},\n",
    "        {\"$group\": {\"_id\": \"$leisure\", \"count\" : {\"$sum\": 1}}},\n",
    "        {\"$sort\": {\"count\": -1}}\n",
    "    ])"
   ]
  },
  {
   "cell_type": "markdown",
   "metadata": {},
   "source": [
    "After consulting with Google translate, I learned that pitch is considered a synonym to playground. Thus having pitch as the most frequently listed leisure venue in Cologne makes sense "
   ]
  },
  {
   "cell_type": "code",
   "execution_count": 225,
   "metadata": {
    "collapsed": false
   },
   "outputs": [
    {
     "name": "stdout",
     "output_type": "stream",
     "text": [
      "[{'count': 64, '_id': 'pitch'}, {'count': 63, '_id': 'playground'}, {'count': 39, '_id': 'park'}, {'count': 17, '_id': 'sports_centre'}, {'count': 12, '_id': 'garden'}, {'count': 12, '_id': 'outdoor_seating'}, {'count': 6, '_id': 'swimming_pool'}, {'count': 4, '_id': 'horse_riding'}, {'count': 2, '_id': 'common'}, {'count': 2, '_id': 'dog_park'}, {'count': 2, '_id': 'nature_reserve'}, {'count': 1, '_id': 'fitness_station'}, {'count': 1, '_id': 'dance'}, {'count': 1, '_id': 'track'}, {'count': 1, '_id': 'tanning_salon'}, {'count': 1, '_id': 'marina'}, {'count': 1, '_id': 'adult_gaming_centre'}, {'count': 1, '_id': 'fitness_centre'}]\n"
     ]
    }
   ],
   "source": [
    "get_cursor(leisure_query)"
   ]
  },
  {
   "cell_type": "code",
   "execution_count": 220,
   "metadata": {
    "collapsed": true
   },
   "outputs": [],
   "source": [
    "# How many gay venues exist in Cologne?\n",
    "gay_query = db.aggregate([\n",
    "        {\"$match\": {\"gay\": {\"$exists\": 1}}},\n",
    "        {\"$group\": {\"_id\": None, \"count\" : {\"$sum\": 1}}},\n",
    "    ])"
   ]
  },
  {
   "cell_type": "markdown",
   "metadata": {},
   "source": [
    "Apparently there exist only 1 gay venue in our sample, which is cleary a strange result for Cologne (the capital of gays in Germany)."
   ]
  },
  {
   "cell_type": "code",
   "execution_count": 221,
   "metadata": {
    "collapsed": false
   },
   "outputs": [
    {
     "name": "stdout",
     "output_type": "stream",
     "text": [
      "[{'count': 1, '_id': None}]\n"
     ]
    }
   ],
   "source": [
    "get_cursor(gay_query)"
   ]
  },
  {
   "cell_type": "markdown",
   "metadata": {},
   "source": [
    "### Conclusion\n",
    "After my short review of Cologne's OSM data I am suprised of the general quality of the data, especially related to street names. Additionalyl OSM users tag documents which need to be fixed with corresponding tags (FIXME), which makes it easy for new users to contribute. Two problems exist which could be fixed easily (postal code and city tags), further opening times are recorded lacking a standard input format. Considering Cologne's status as the capital of gay people in Germany, it is suprising that only one document carries the tag \"gay\"."
   ]
  }
 ],
 "metadata": {
  "kernelspec": {
   "display_name": "Python 3",
   "language": "python",
   "name": "python3"
  },
  "language_info": {
   "codemirror_mode": {
    "name": "ipython",
    "version": 3
   },
   "file_extension": ".py",
   "mimetype": "text/x-python",
   "name": "python",
   "nbconvert_exporter": "python",
   "pygments_lexer": "ipython3",
   "version": "3.4.4"
  }
 },
 "nbformat": 4,
 "nbformat_minor": 0
}
