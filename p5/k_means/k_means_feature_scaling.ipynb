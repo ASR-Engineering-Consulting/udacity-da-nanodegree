{
 "cells": [
  {
   "cell_type": "heading",
   "metadata": {
    "collapsed": true
   },
   "level": 1,
   "source": [
    "Notebook for kmeans clustering and feature scaling quizzes"
   ]
  },
  {
   "cell_type": "code",
   "execution_count": null,
   "metadata": {},
   "outputs": [],
   "source": [
    "# import required modules\n",
    "import pickle\n",
    "from __future__ import division"
   ]
  },
  {
   "cell_type": "code",
   "execution_count": 26,
   "metadata": {},
   "outputs": [
    {
     "data": {
      "text/plain": [
       "{'bonus': 97343619,\n 'deferral_payments': 32083396,\n 'deferred_income': -27992891,\n 'director_fees': 1398517,\n 'email_address': 'NaN',\n 'exercised_stock_options': 311764000,\n 'expenses': 5235198,\n 'from_messages': 'NaN',\n 'from_poi_to_this_person': 'NaN',\n 'from_this_person_to_poi': 'NaN',\n 'loan_advances': 83925000,\n 'long_term_incentive': 48521928,\n 'other': 42667589,\n 'poi': False,\n 'restricted_stock': 130322299,\n 'restricted_stock_deferred': -7576788,\n 'salary': 26704229,\n 'shared_receipt_with_poi': 'NaN',\n 'to_messages': 'NaN',\n 'total_payments': 309886585,\n 'total_stock_value': 434509511}"
      ]
     },
     "execution_count": 26,
     "metadata": {},
     "output_type": "execute_result"
    }
   ],
   "source": [
    "# load project data\n",
    "data_dict = pickle.load( open(\"final_project/final_project_dataset.pkl\", \"r\") )\n",
    "data_dict.pop(\"TOTAL\", 0)"
   ]
  },
  {
   "cell_type": "code",
   "execution_count": 15,
   "metadata": {
    "collapsed": false
   },
   "outputs": [
    {
     "name": "stdout",
     "output_type": "stream",
     "text": [
      "[26704229, 1111258, 1072321, 1060932, 655037, 510364, 492375, 440698, 428780, 420636, 415189, 404338, 374125, 370448, 365788, 365163, 365038, 357091, 349487, 339288, 330546, 329078, 317543, 314288, 309946, 304588, 304110, 288589, 288558, 288542, 278601, 278601, 275101, 274975, 273746, 272880, 271442, 269076, 267102, 267093, 265214, 263413, 262788, 262663, 261879, 261809, 261516, 259996, 257486, 251654, 250100, 249201, 248546, 248146, 248017, 247338, 243293, 240189, 239671, 239502, 236457, 231946, 231330, 229284, 224305, 222093, 221003, 216582, 213999, 213625, 211844, 211788, 210692, 210500, 206121, 201955, 199157, 197091, 192008, 187922, 184899, 182245, 174246, 170941, 162779, 158403, 130724, 96840, 94941, 85274, 80818, 76399, 63744, 6615, 477]\n"
     ]
    }
   ],
   "source": [
    "# get cleaned salary data\n",
    "eso = list()\n",
    "\n",
    "for v in data_dict.itervalues():\n",
    "    \n",
    "    if v[\"salary\"] != \"NaN\":\n",
    "        eso.append(v[\"salary\"])\n",
    "\n",
    "eso.sort(reverse=True)\n",
    "print(eso)"
   ]
  },
  {
   "cell_type": "code",
   "execution_count": 16,
   "metadata": {},
   "outputs": [],
   "source": [
    "# manually implement feature scaling\n",
    "def featureScaling(arr):\n",
    "    \n",
    "    res = list()\n",
    "   \n",
    "    #for e in arr:\n",
    "    #    res.append((e - min(arr)) / (max(arr) -  min(arr)))\n",
    "    res.append([((e - min(arr)) / (max(arr) - min(arr))) for e in arr])\n",
    "        \n",
    "    return res"
   ]
  },
  {
   "cell_type": "code",
   "execution_count": 17,
   "metadata": {},
   "outputs": [
    {
     "name": "stdout",
     "output_type": "stream",
     "text": [
      "[[0.0, 0.4166666666666667, 1.0]]\n"
     ]
    }
   ],
   "source": [
    "# test manual feature scaling\n",
    "data = [115, 140, 175]\n",
    "print featureScaling(data)"
   ]
  },
  {
   "cell_type": "code",
   "execution_count": 27,
   "metadata": {},
   "outputs": [],
   "source": [
    "# get clean salary and stock options data\n",
    "salaries = list()\n",
    "stock_options = list()\n",
    "\n",
    "for v in data_dict.itervalues():\n",
    "    if v[\"salary\"] != \"NaN\":\n",
    "        salaries.append(v[\"salary\"])\n",
    "    if v[\"exercised_stock_options\"] != \"NaN\":\n",
    "        stock_options.append(v[\"exercised_stock_options\"])"
   ]
  },
  {
   "cell_type": "code",
   "execution_count": 36,
   "metadata": {
    "collapsed": true
   },
   "outputs": [
    {
     "name": "stdout",
     "output_type": "stream",
     "text": [
      "Salary value of 200.000 is now 0.179624\nOption value of 1.000.000 is now 0.029021\n"
     ]
    }
   ],
   "source": [
    "# manually compute scaled values for 200.000 salary and 1.000.000 stock option\n",
    "scaled_salary_man = (200000 - min(salaries)) / (max(salaries) - min(salaries))\n",
    "print \"Salary value of 200.000 is now %f\" % (scaled_salary_man)\n",
    "\n",
    "scaled_option_man = (1000000 - min(stock_options)) / (max(stock_options) - min(stock_options))\n",
    "print \"Option value of 1.000.000 is now %f\" % (scaled_option_man)"
   ]
  },
  {
   "cell_type": "code",
   "execution_count": 32,
   "metadata": {},
   "outputs": [
    {
     "name": "stderr",
     "output_type": "stream",
     "text": [
      "/Users/stefan/anaconda/envs/legacy/lib/python2.7/site-packages/sklearn/preprocessing/data.py:321: DeprecationWarning: Passing 1d arrays as data is deprecated in 0.17 and will raise ValueError in 0.19. Reshape your data either using X.reshape(-1, 1) if your data has a single feature or X.reshape(1, -1) if it contains a single sample.\n  warnings.warn(DEPRECATION_MSG_1D, DeprecationWarning)\n/Users/stefan/anaconda/envs/legacy/lib/python2.7/site-packages/sklearn/preprocessing/data.py:321: DeprecationWarning: Passing 1d arrays as data is deprecated in 0.17 and will raise ValueError in 0.19. Reshape your data either using X.reshape(-1, 1) if your data has a single feature or X.reshape(1, -1) if it contains a single sample.\n  warnings.warn(DEPRECATION_MSG_1D, DeprecationWarning)\n"
     ]
    }
   ],
   "source": [
    "# apply feature scaling\n",
    "from sklearn.preprocessing import MinMaxScaler\n",
    "min_max_scaler = MinMaxScaler()\n",
    "\n",
    "# get min/max values\n",
    "scaled_salaries = min_max_scaler.fit(salaries)\n",
    "scaled_options = min_max_scaler.fit(stock_options)"
   ]
  }
 ],
 "metadata": {
  "kernelspec": {
   "display_name": "Python 2",
   "language": "python",
   "name": "python2"
  },
  "language_info": {
   "codemirror_mode": {
    "name": "ipython",
    "version": 2.0
   },
   "file_extension": ".py",
   "mimetype": "text/x-python",
   "name": "python",
   "nbconvert_exporter": "python",
   "pygments_lexer": "ipython2",
   "version": "2.7.6"
  }
 },
 "nbformat": 4,
 "nbformat_minor": 0
}