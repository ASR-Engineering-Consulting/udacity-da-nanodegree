{
 "cells": [
  {
   "cell_type": "markdown",
   "metadata": {},
   "source": [
    "# Investigate a Dataset\n",
    "## Udacity Data Analyst Nanodegree - Project 2\n",
    "\n",
    "### Introduction\n",
    "This notebook investigates the [Titanic](https://www.kaggle.com/c/titanic/data) dataset containing demographics and passenger information from 891 of the 2224 passengers and crew on board the Titanic.\n",
    "\n",
    "### Questions\n",
    "The analysis of the Titanic dataset deals mainly with the relationship between survival of an individual and variables such as his:\n",
    "* sex\n",
    "* age\n",
    "* passenger class\n",
    "* ticket (fare) price\n",
    "* number of siblings/spouses on board\n",
    "* number of parents/children on board\n",
    "\n",
    "Therefore we are investigating the following main question: Which factors made survival of an individual more likely?\n",
    "During the course of analysis we are also  looking at the following specific questions:\n",
    "1. How did sex, age and socio-economic (passenger class / ticket price) status influence survival?\n",
    "2. How did relationships on board (number of siblings/spouses/parents/children) influence survival?\n",
    "\n",
    "### Resources\n",
    "* Udacity \"Intro to data analysis\" material\n",
    "* [Python 3 documentation](https://docs.python.org/3/)\n",
    "* [Pandas documentation](http://pandas.pydata.org/pandas-docs/stable/)\n",
    "* [NumPy documentation](http://docs.scipy.org/doc/)\n",
    "* [Matplotlib documentation](http://matplotlib.org/contents.html#)\n",
    "* [Markdown documentation](https://daringfireball.net/projects/markdown/syntax)\n",
    "* [20 Python libraries you aren't using (but should)](https://www.oreilly.com/learning/20-python-libraries-you-arent-using-but-should)"
   ]
  },
  {
   "cell_type": "markdown",
   "metadata": {},
   "source": [
    "### Environment setup"
   ]
  },
  {
   "cell_type": "code",
   "execution_count": 21,
   "metadata": {
    "collapsed": false
   },
   "outputs": [],
   "source": [
    "# load required modules\n",
    "import pandas as pd\n",
    "import numpy as np\n",
    "import matplotlib.pyplot as plt\n",
    "\n",
    "# display plots inside the notebook\n",
    "%matplotlib inline\n",
    "\n",
    "# ensure compatibility with Python 2.x\n",
    "# from __future__ import print_function"
   ]
  },
  {
   "cell_type": "markdown",
   "metadata": {},
   "source": [
    "### Data ingestion"
   ]
  },
  {
   "cell_type": "code",
   "execution_count": 4,
   "metadata": {
    "collapsed": true
   },
   "outputs": [],
   "source": [
    "# load dataset from local file system\n",
    "titanic = pd.read_csv(\"titanic_data.csv\")"
   ]
  },
  {
   "cell_type": "markdown",
   "metadata": {},
   "source": [
    "### Data exploration"
   ]
  },
  {
   "cell_type": "code",
   "execution_count": 5,
   "metadata": {
    "collapsed": false
   },
   "outputs": [
    {
     "data": {
      "text/html": [
       "<div>\n",
       "<table border=\"1\" class=\"dataframe\">\n",
       "  <thead>\n",
       "    <tr style=\"text-align: right;\">\n",
       "      <th></th>\n",
       "      <th>PassengerId</th>\n",
       "      <th>Survived</th>\n",
       "      <th>Pclass</th>\n",
       "      <th>Name</th>\n",
       "      <th>Sex</th>\n",
       "      <th>Age</th>\n",
       "      <th>SibSp</th>\n",
       "      <th>Parch</th>\n",
       "      <th>Ticket</th>\n",
       "      <th>Fare</th>\n",
       "      <th>Cabin</th>\n",
       "      <th>Embarked</th>\n",
       "    </tr>\n",
       "  </thead>\n",
       "  <tbody>\n",
       "    <tr>\n",
       "      <th>0</th>\n",
       "      <td>1</td>\n",
       "      <td>0</td>\n",
       "      <td>3</td>\n",
       "      <td>Braund, Mr. Owen Harris</td>\n",
       "      <td>male</td>\n",
       "      <td>22.0</td>\n",
       "      <td>1</td>\n",
       "      <td>0</td>\n",
       "      <td>A/5 21171</td>\n",
       "      <td>7.2500</td>\n",
       "      <td>NaN</td>\n",
       "      <td>S</td>\n",
       "    </tr>\n",
       "    <tr>\n",
       "      <th>1</th>\n",
       "      <td>2</td>\n",
       "      <td>1</td>\n",
       "      <td>1</td>\n",
       "      <td>Cumings, Mrs. John Bradley (Florence Briggs Th...</td>\n",
       "      <td>female</td>\n",
       "      <td>38.0</td>\n",
       "      <td>1</td>\n",
       "      <td>0</td>\n",
       "      <td>PC 17599</td>\n",
       "      <td>71.2833</td>\n",
       "      <td>C85</td>\n",
       "      <td>C</td>\n",
       "    </tr>\n",
       "    <tr>\n",
       "      <th>2</th>\n",
       "      <td>3</td>\n",
       "      <td>1</td>\n",
       "      <td>3</td>\n",
       "      <td>Heikkinen, Miss. Laina</td>\n",
       "      <td>female</td>\n",
       "      <td>26.0</td>\n",
       "      <td>0</td>\n",
       "      <td>0</td>\n",
       "      <td>STON/O2. 3101282</td>\n",
       "      <td>7.9250</td>\n",
       "      <td>NaN</td>\n",
       "      <td>S</td>\n",
       "    </tr>\n",
       "    <tr>\n",
       "      <th>3</th>\n",
       "      <td>4</td>\n",
       "      <td>1</td>\n",
       "      <td>1</td>\n",
       "      <td>Futrelle, Mrs. Jacques Heath (Lily May Peel)</td>\n",
       "      <td>female</td>\n",
       "      <td>35.0</td>\n",
       "      <td>1</td>\n",
       "      <td>0</td>\n",
       "      <td>113803</td>\n",
       "      <td>53.1000</td>\n",
       "      <td>C123</td>\n",
       "      <td>S</td>\n",
       "    </tr>\n",
       "    <tr>\n",
       "      <th>4</th>\n",
       "      <td>5</td>\n",
       "      <td>0</td>\n",
       "      <td>3</td>\n",
       "      <td>Allen, Mr. William Henry</td>\n",
       "      <td>male</td>\n",
       "      <td>35.0</td>\n",
       "      <td>0</td>\n",
       "      <td>0</td>\n",
       "      <td>373450</td>\n",
       "      <td>8.0500</td>\n",
       "      <td>NaN</td>\n",
       "      <td>S</td>\n",
       "    </tr>\n",
       "  </tbody>\n",
       "</table>\n",
       "</div>"
      ],
      "text/plain": [
       "   PassengerId  Survived  Pclass  \\\n",
       "0            1         0       3   \n",
       "1            2         1       1   \n",
       "2            3         1       3   \n",
       "3            4         1       1   \n",
       "4            5         0       3   \n",
       "\n",
       "                                                Name     Sex   Age  SibSp  \\\n",
       "0                            Braund, Mr. Owen Harris    male  22.0      1   \n",
       "1  Cumings, Mrs. John Bradley (Florence Briggs Th...  female  38.0      1   \n",
       "2                             Heikkinen, Miss. Laina  female  26.0      0   \n",
       "3       Futrelle, Mrs. Jacques Heath (Lily May Peel)  female  35.0      1   \n",
       "4                           Allen, Mr. William Henry    male  35.0      0   \n",
       "\n",
       "   Parch            Ticket     Fare Cabin Embarked  \n",
       "0      0         A/5 21171   7.2500   NaN        S  \n",
       "1      0          PC 17599  71.2833   C85        C  \n",
       "2      0  STON/O2. 3101282   7.9250   NaN        S  \n",
       "3      0            113803  53.1000  C123        S  \n",
       "4      0            373450   8.0500   NaN        S  "
      ]
     },
     "execution_count": 5,
     "metadata": {},
     "output_type": "execute_result"
    }
   ],
   "source": [
    "# show first 5 rows of dataset\n",
    "titanic.head()"
   ]
  },
  {
   "cell_type": "code",
   "execution_count": 6,
   "metadata": {
    "collapsed": false,
    "scrolled": true
   },
   "outputs": [
    {
     "data": {
      "text/html": [
       "<div>\n",
       "<table border=\"1\" class=\"dataframe\">\n",
       "  <thead>\n",
       "    <tr style=\"text-align: right;\">\n",
       "      <th></th>\n",
       "      <th>PassengerId</th>\n",
       "      <th>Survived</th>\n",
       "      <th>Pclass</th>\n",
       "      <th>Name</th>\n",
       "      <th>Sex</th>\n",
       "      <th>Age</th>\n",
       "      <th>SibSp</th>\n",
       "      <th>Parch</th>\n",
       "      <th>Ticket</th>\n",
       "      <th>Fare</th>\n",
       "      <th>Cabin</th>\n",
       "      <th>Embarked</th>\n",
       "    </tr>\n",
       "  </thead>\n",
       "  <tbody>\n",
       "    <tr>\n",
       "      <th>886</th>\n",
       "      <td>887</td>\n",
       "      <td>0</td>\n",
       "      <td>2</td>\n",
       "      <td>Montvila, Rev. Juozas</td>\n",
       "      <td>male</td>\n",
       "      <td>27.0</td>\n",
       "      <td>0</td>\n",
       "      <td>0</td>\n",
       "      <td>211536</td>\n",
       "      <td>13.00</td>\n",
       "      <td>NaN</td>\n",
       "      <td>S</td>\n",
       "    </tr>\n",
       "    <tr>\n",
       "      <th>887</th>\n",
       "      <td>888</td>\n",
       "      <td>1</td>\n",
       "      <td>1</td>\n",
       "      <td>Graham, Miss. Margaret Edith</td>\n",
       "      <td>female</td>\n",
       "      <td>19.0</td>\n",
       "      <td>0</td>\n",
       "      <td>0</td>\n",
       "      <td>112053</td>\n",
       "      <td>30.00</td>\n",
       "      <td>B42</td>\n",
       "      <td>S</td>\n",
       "    </tr>\n",
       "    <tr>\n",
       "      <th>888</th>\n",
       "      <td>889</td>\n",
       "      <td>0</td>\n",
       "      <td>3</td>\n",
       "      <td>Johnston, Miss. Catherine Helen \"Carrie\"</td>\n",
       "      <td>female</td>\n",
       "      <td>NaN</td>\n",
       "      <td>1</td>\n",
       "      <td>2</td>\n",
       "      <td>W./C. 6607</td>\n",
       "      <td>23.45</td>\n",
       "      <td>NaN</td>\n",
       "      <td>S</td>\n",
       "    </tr>\n",
       "    <tr>\n",
       "      <th>889</th>\n",
       "      <td>890</td>\n",
       "      <td>1</td>\n",
       "      <td>1</td>\n",
       "      <td>Behr, Mr. Karl Howell</td>\n",
       "      <td>male</td>\n",
       "      <td>26.0</td>\n",
       "      <td>0</td>\n",
       "      <td>0</td>\n",
       "      <td>111369</td>\n",
       "      <td>30.00</td>\n",
       "      <td>C148</td>\n",
       "      <td>C</td>\n",
       "    </tr>\n",
       "    <tr>\n",
       "      <th>890</th>\n",
       "      <td>891</td>\n",
       "      <td>0</td>\n",
       "      <td>3</td>\n",
       "      <td>Dooley, Mr. Patrick</td>\n",
       "      <td>male</td>\n",
       "      <td>32.0</td>\n",
       "      <td>0</td>\n",
       "      <td>0</td>\n",
       "      <td>370376</td>\n",
       "      <td>7.75</td>\n",
       "      <td>NaN</td>\n",
       "      <td>Q</td>\n",
       "    </tr>\n",
       "  </tbody>\n",
       "</table>\n",
       "</div>"
      ],
      "text/plain": [
       "     PassengerId  Survived  Pclass                                      Name  \\\n",
       "886          887         0       2                     Montvila, Rev. Juozas   \n",
       "887          888         1       1              Graham, Miss. Margaret Edith   \n",
       "888          889         0       3  Johnston, Miss. Catherine Helen \"Carrie\"   \n",
       "889          890         1       1                     Behr, Mr. Karl Howell   \n",
       "890          891         0       3                       Dooley, Mr. Patrick   \n",
       "\n",
       "        Sex   Age  SibSp  Parch      Ticket   Fare Cabin Embarked  \n",
       "886    male  27.0      0      0      211536  13.00   NaN        S  \n",
       "887  female  19.0      0      0      112053  30.00   B42        S  \n",
       "888  female   NaN      1      2  W./C. 6607  23.45   NaN        S  \n",
       "889    male  26.0      0      0      111369  30.00  C148        C  \n",
       "890    male  32.0      0      0      370376   7.75   NaN        Q  "
      ]
     },
     "execution_count": 6,
     "metadata": {},
     "output_type": "execute_result"
    }
   ],
   "source": [
    "# show last 5 rows of dataset\n",
    "titanic.tail()"
   ]
  },
  {
   "cell_type": "markdown",
   "metadata": {},
   "source": [
    "#### Summary statistics\n",
    "Describe summary statistics\n",
    "* PassengerId: 891 passengers on board\n",
    "* Survived: Only 38% of the passengers survived.\n",
    "* PClass: Only few passengers could afford first class, most, about 50% spent their time on board in third class\n",
    "* Age: Only 714 observations contain information for age, potential data cleaning exercise? Mean age 30 with high std, youngest passenger still a baby, oldest passenger an old man(?) at age 80. He seems to be an extreme outlier, since the average age in the third percentile is 38.\n",
    "* SibSp: Mean somewhat misleading, high std. There seems to be either a large family on board or someone married to many wifes (8)\n",
    "* Parch: There seems to be a large family onboard (6 children)\n",
    "* Fare: Mean price for a titanic ticket was 32 USD, high std. Apparently some passengers did not pay anything for their ticket (min = 0), while some potentially wealthy passengers paid up to 512 USD\n",
    "\n",
    "Investigate interesting data points\n",
    "* What does high standard deviation of Survied mean?\n",
    "* Passengers in highest class (Pclass = 1)\n",
    "* Youngest and oldest passenger on board (Age = 0.42/80)\n",
    "* Who belonged to the large family?\n",
    "* Who paid nothing at all and the maxium price?"
   ]
  },
  {
   "cell_type": "code",
   "execution_count": 7,
   "metadata": {
    "collapsed": false
   },
   "outputs": [
    {
     "data": {
      "text/html": [
       "<div>\n",
       "<table border=\"1\" class=\"dataframe\">\n",
       "  <thead>\n",
       "    <tr style=\"text-align: right;\">\n",
       "      <th></th>\n",
       "      <th>PassengerId</th>\n",
       "      <th>Survived</th>\n",
       "      <th>Pclass</th>\n",
       "      <th>Age</th>\n",
       "      <th>SibSp</th>\n",
       "      <th>Parch</th>\n",
       "      <th>Fare</th>\n",
       "    </tr>\n",
       "  </thead>\n",
       "  <tbody>\n",
       "    <tr>\n",
       "      <th>count</th>\n",
       "      <td>891.000000</td>\n",
       "      <td>891.000000</td>\n",
       "      <td>891.000000</td>\n",
       "      <td>714.000000</td>\n",
       "      <td>891.000000</td>\n",
       "      <td>891.000000</td>\n",
       "      <td>891.000000</td>\n",
       "    </tr>\n",
       "    <tr>\n",
       "      <th>mean</th>\n",
       "      <td>446.000000</td>\n",
       "      <td>0.383838</td>\n",
       "      <td>2.308642</td>\n",
       "      <td>29.699118</td>\n",
       "      <td>0.523008</td>\n",
       "      <td>0.381594</td>\n",
       "      <td>32.204208</td>\n",
       "    </tr>\n",
       "    <tr>\n",
       "      <th>std</th>\n",
       "      <td>257.353842</td>\n",
       "      <td>0.486592</td>\n",
       "      <td>0.836071</td>\n",
       "      <td>14.526497</td>\n",
       "      <td>1.102743</td>\n",
       "      <td>0.806057</td>\n",
       "      <td>49.693429</td>\n",
       "    </tr>\n",
       "    <tr>\n",
       "      <th>min</th>\n",
       "      <td>1.000000</td>\n",
       "      <td>0.000000</td>\n",
       "      <td>1.000000</td>\n",
       "      <td>0.420000</td>\n",
       "      <td>0.000000</td>\n",
       "      <td>0.000000</td>\n",
       "      <td>0.000000</td>\n",
       "    </tr>\n",
       "    <tr>\n",
       "      <th>25%</th>\n",
       "      <td>223.500000</td>\n",
       "      <td>0.000000</td>\n",
       "      <td>2.000000</td>\n",
       "      <td>20.125000</td>\n",
       "      <td>0.000000</td>\n",
       "      <td>0.000000</td>\n",
       "      <td>7.910400</td>\n",
       "    </tr>\n",
       "    <tr>\n",
       "      <th>50%</th>\n",
       "      <td>446.000000</td>\n",
       "      <td>0.000000</td>\n",
       "      <td>3.000000</td>\n",
       "      <td>28.000000</td>\n",
       "      <td>0.000000</td>\n",
       "      <td>0.000000</td>\n",
       "      <td>14.454200</td>\n",
       "    </tr>\n",
       "    <tr>\n",
       "      <th>75%</th>\n",
       "      <td>668.500000</td>\n",
       "      <td>1.000000</td>\n",
       "      <td>3.000000</td>\n",
       "      <td>38.000000</td>\n",
       "      <td>1.000000</td>\n",
       "      <td>0.000000</td>\n",
       "      <td>31.000000</td>\n",
       "    </tr>\n",
       "    <tr>\n",
       "      <th>max</th>\n",
       "      <td>891.000000</td>\n",
       "      <td>1.000000</td>\n",
       "      <td>3.000000</td>\n",
       "      <td>80.000000</td>\n",
       "      <td>8.000000</td>\n",
       "      <td>6.000000</td>\n",
       "      <td>512.329200</td>\n",
       "    </tr>\n",
       "  </tbody>\n",
       "</table>\n",
       "</div>"
      ],
      "text/plain": [
       "       PassengerId    Survived      Pclass         Age       SibSp  \\\n",
       "count   891.000000  891.000000  891.000000  714.000000  891.000000   \n",
       "mean    446.000000    0.383838    2.308642   29.699118    0.523008   \n",
       "std     257.353842    0.486592    0.836071   14.526497    1.102743   \n",
       "min       1.000000    0.000000    1.000000    0.420000    0.000000   \n",
       "25%     223.500000    0.000000    2.000000   20.125000    0.000000   \n",
       "50%     446.000000    0.000000    3.000000   28.000000    0.000000   \n",
       "75%     668.500000    1.000000    3.000000   38.000000    1.000000   \n",
       "max     891.000000    1.000000    3.000000   80.000000    8.000000   \n",
       "\n",
       "            Parch        Fare  \n",
       "count  891.000000  891.000000  \n",
       "mean     0.381594   32.204208  \n",
       "std      0.806057   49.693429  \n",
       "min      0.000000    0.000000  \n",
       "25%      0.000000    7.910400  \n",
       "50%      0.000000   14.454200  \n",
       "75%      0.000000   31.000000  \n",
       "max      6.000000  512.329200  "
      ]
     },
     "execution_count": 7,
     "metadata": {},
     "output_type": "execute_result"
    }
   ],
   "source": [
    "# calculate summary statistics\n",
    "titanic.describe()"
   ]
  },
  {
   "cell_type": "markdown",
   "metadata": {},
   "source": [
    "#### Helper functions"
   ]
  },
  {
   "cell_type": "code",
   "execution_count": 62,
   "metadata": {
    "collapsed": false
   },
   "outputs": [],
   "source": [
    "# helper functions to print rows containing the min/max value of a variable\n",
    "def titanic_min(variable):\n",
    "    \"\"\"\n",
    "    Given a variable present in the titanic data set, the function prints the rows containing the min value\n",
    "    \"\"\"\n",
    "    print(\"Information for min values of %s:\" % variable)\n",
    "    print(titanic.ix[titanic[variable] == min(titanic[variable])])\n",
    "    \n",
    "def titanic_max(variable):\n",
    "    \"\"\"\n",
    "    Given a variable present in the titanic data set, the function prints the row containing the max value\n",
    "    \"\"\"\n",
    "    print(\"Information for max values of %s:\" % variable)\n",
    "    print(titanic.ix[titanic[variable] == max(titanic[variable])])"
   ]
  },
  {
   "cell_type": "markdown",
   "metadata": {},
   "source": [
    "#### Visualization\n",
    "Besides looking at plain figures, we also like to investigate our data visually."
   ]
  },
  {
   "cell_type": "code",
   "execution_count": 8,
   "metadata": {
    "collapsed": false
   },
   "outputs": [
    {
     "data": {
      "text/plain": [
       "<matplotlib.axes._subplots.AxesSubplot at 0x117e3f278>"
      ]
     },
     "execution_count": 8,
     "metadata": {},
     "output_type": "execute_result"
    },
    {
     "data": {
      "image/png": "[encoded data removed]",
      "text/plain": [
       "<matplotlib.figure.Figure at 0x117b5f8d0>"
      ]
     },
     "metadata": {},
     "output_type": "display_data"
    }
   ],
   "source": [
    "# plot survival data\n",
    "titanic[\"Survived\"].hist()"
   ]
  },
  {
   "cell_type": "code",
   "execution_count": 9,
   "metadata": {
    "collapsed": false,
    "scrolled": true
   },
   "outputs": [
    {
     "data": {
      "text/plain": [
       "<matplotlib.axes._subplots.AxesSubplot at 0x104f0c9b0>"
      ]
     },
     "execution_count": 9,
     "metadata": {},
     "output_type": "execute_result"
    },
    {
     "data": {
      "image/png": "[encoded data removed]",
      "text/plain": [
       "<matplotlib.figure.Figure at 0x117e3fd68>"
      ]
     },
     "metadata": {},
     "output_type": "display_data"
    }
   ],
   "source": [
    "# plot passenger class data\n",
    "titanic[\"Pclass\"].hist()"
   ]
  },
  {
   "cell_type": "code",
   "execution_count": 10,
   "metadata": {
    "collapsed": false
   },
   "outputs": [
    {
     "data": {
      "text/plain": [
       "<matplotlib.axes._subplots.AxesSubplot at 0x104f27550>"
      ]
     },
     "execution_count": 10,
     "metadata": {},
     "output_type": "execute_result"
    },
    {
     "data": {
      "image/png": "[encoded data removed]",
      "text/plain": [
       "<matplotlib.figure.Figure at 0x117d2bac8>"
      ]
     },
     "metadata": {},
     "output_type": "display_data"
    }
   ],
   "source": [
    "# plot age data\n",
    "titanic[\"Age\"].hist()"
   ]
  },
  {
   "cell_type": "code",
   "execution_count": 67,
   "metadata": {
    "collapsed": false
   },
   "outputs": [
    {
     "name": "stdout",
     "output_type": "stream",
     "text": [
      "Information for min values of Age:\n",
      "     PassengerId  Survived  Pclass                             Name   Sex  \\\n",
      "803          804         1       3  Thomas, Master. Assad Alexander  male   \n",
      "\n",
      "      Age  SibSp  Parch Ticket    Fare Cabin Embarked  \n",
      "803  0.42      0      1   2625  8.5167   NaN        C  \n"
     ]
    }
   ],
   "source": [
    "# print information about youngest passenger\n",
    "titanic_min(\"Age\")"
   ]
  },
  {
   "cell_type": "code",
   "execution_count": 68,
   "metadata": {
    "collapsed": false
   },
   "outputs": [
    {
     "name": "stdout",
     "output_type": "stream",
     "text": [
      "Information for max values of Age:\n",
      "     PassengerId  Survived  Pclass                                  Name  \\\n",
      "630          631         1       1  Barkworth, Mr. Algernon Henry Wilson   \n",
      "\n",
      "      Sex   Age  SibSp  Parch Ticket  Fare Cabin Embarked  \n",
      "630  male  80.0      0      0  27042  30.0   A23        S  \n"
     ]
    }
   ],
   "source": [
    "# print information about oldest passenger\n",
    "titanic_max(\"Age\")"
   ]
  },
  {
   "cell_type": "code",
   "execution_count": 11,
   "metadata": {
    "collapsed": false
   },
   "outputs": [
    {
     "data": {
      "text/plain": [
       "<matplotlib.axes._subplots.AxesSubplot at 0x117dc90f0>"
      ]
     },
     "execution_count": 11,
     "metadata": {},
     "output_type": "execute_result"
    },
    {
     "data": {
      "image/png": "[encoded data removed]",
      "text/plain": [
       "<matplotlib.figure.Figure at 0x11a7a4358>"
      ]
     },
     "metadata": {},
     "output_type": "display_data"
    }
   ],
   "source": [
    "# plot sibling/spouse data\n",
    "titanic[\"SibSp\"].plot(kind=\"hist\")"
   ]
  },
  {
   "cell_type": "code",
   "execution_count": 60,
   "metadata": {
    "collapsed": false
   },
   "outputs": [
    {
     "name": "stdout",
     "output_type": "stream",
     "text": [
      "Information for min values of SibSp:\n",
      "     PassengerId  Survived  Pclass  \\\n",
      "2              3         1       3   \n",
      "4              5         0       3   \n",
      "5              6         0       3   \n",
      "6              7         0       1   \n",
      "8              9         1       3   \n",
      "11            12         1       1   \n",
      "12            13         0       3   \n",
      "14            15         0       3   \n",
      "15            16         1       2   \n",
      "17            18         1       2   \n",
      "19            20         1       3   \n",
      "20            21         0       2   \n",
      "21            22         1       2   \n",
      "22            23         1       3   \n",
      "23            24         1       1   \n",
      "26            27         0       3   \n",
      "28            29         1       3   \n",
      "29            30         0       3   \n",
      "30            31         0       1   \n",
      "32            33         1       3   \n",
      "33            34         0       2   \n",
      "36            37         1       3   \n",
      "37            38         0       3   \n",
      "42            43         0       3   \n",
      "44            45         1       3   \n",
      "45            46         0       3   \n",
      "47            48         1       3   \n",
      "51            52         0       3   \n",
      "54            55         0       1   \n",
      "55            56         1       1   \n",
      "..           ...       ...     ...   \n",
      "848          849         0       2   \n",
      "851          852         0       3   \n",
      "853          854         1       1   \n",
      "855          856         1       3   \n",
      "857          858         1       1   \n",
      "858          859         1       3   \n",
      "859          860         0       3   \n",
      "862          863         1       1   \n",
      "864          865         0       2   \n",
      "865          866         1       2   \n",
      "867          868         0       1   \n",
      "868          869         0       3   \n",
      "870          871         0       3   \n",
      "872          873         0       1   \n",
      "873          874         0       3   \n",
      "875          876         1       3   \n",
      "876          877         0       3   \n",
      "877          878         0       3   \n",
      "878          879         0       3   \n",
      "879          880         1       1   \n",
      "880          881         1       2   \n",
      "881          882         0       3   \n",
      "882          883         0       3   \n",
      "883          884         0       2   \n",
      "884          885         0       3   \n",
      "885          886         0       3   \n",
      "886          887         0       2   \n",
      "887          888         1       1   \n",
      "889          890         1       1   \n",
      "890          891         0       3   \n",
      "\n",
      "                                                  Name     Sex   Age  SibSp  \\\n",
      "2                               Heikkinen, Miss. Laina  female  26.0      0   \n",
      "4                             Allen, Mr. William Henry    male  35.0      0   \n",
      "5                                     Moran, Mr. James    male   NaN      0   \n",
      "6                              McCarthy, Mr. Timothy J    male  54.0      0   \n",
      "8    Johnson, Mrs. Oscar W (Elisabeth Vilhelmina Berg)  female  27.0      0   \n",
      "11                            Bonnell, Miss. Elizabeth  female  58.0      0   \n",
      "12                      Saundercock, Mr. William Henry    male  20.0      0   \n",
      "14                Vestrom, Miss. Hulda Amanda Adolfina  female  14.0      0   \n",
      "15                    Hewlett, Mrs. (Mary D Kingcome)   female  55.0      0   \n",
      "17                        Williams, Mr. Charles Eugene    male   NaN      0   \n",
      "19                             Masselmani, Mrs. Fatima  female   NaN      0   \n",
      "20                                Fynney, Mr. Joseph J    male  35.0      0   \n",
      "21                               Beesley, Mr. Lawrence    male  34.0      0   \n",
      "22                         McGowan, Miss. Anna \"Annie\"  female  15.0      0   \n",
      "23                        Sloper, Mr. William Thompson    male  28.0      0   \n",
      "26                             Emir, Mr. Farred Chehab    male   NaN      0   \n",
      "28                       O'Dwyer, Miss. Ellen \"Nellie\"  female   NaN      0   \n",
      "29                                 Todoroff, Mr. Lalio    male   NaN      0   \n",
      "30                            Uruchurtu, Don. Manuel E    male  40.0      0   \n",
      "32                            Glynn, Miss. Mary Agatha  female   NaN      0   \n",
      "33                               Wheadon, Mr. Edward H    male  66.0      0   \n",
      "36                                    Mamee, Mr. Hanna    male   NaN      0   \n",
      "37                            Cann, Mr. Ernest Charles    male  21.0      0   \n",
      "42                                 Kraeff, Mr. Theodor    male   NaN      0   \n",
      "44                       Devaney, Miss. Margaret Delia  female  19.0      0   \n",
      "45                            Rogers, Mr. William John    male   NaN      0   \n",
      "47                           O'Driscoll, Miss. Bridget  female   NaN      0   \n",
      "51                        Nosworthy, Mr. Richard Cater    male  21.0      0   \n",
      "54                      Ostby, Mr. Engelhart Cornelius    male  65.0      0   \n",
      "55                                   Woolner, Mr. Hugh    male   NaN      0   \n",
      "..                                                 ...     ...   ...    ...   \n",
      "848                                  Harper, Rev. John    male  28.0      0   \n",
      "851                                Svensson, Mr. Johan    male  74.0      0   \n",
      "853                          Lines, Miss. Mary Conover  female  16.0      0   \n",
      "855                         Aks, Mrs. Sam (Leah Rosen)  female  18.0      0   \n",
      "857                             Daly, Mr. Peter Denis     male  51.0      0   \n",
      "858              Baclini, Mrs. Solomon (Latifa Qurban)  female  24.0      0   \n",
      "859                                   Razi, Mr. Raihed    male   NaN      0   \n",
      "862  Swift, Mrs. Frederick Joel (Margaret Welles Ba...  female  48.0      0   \n",
      "864                             Gill, Mr. John William    male  24.0      0   \n",
      "865                           Bystrom, Mrs. (Karolina)  female  42.0      0   \n",
      "867               Roebling, Mr. Washington Augustus II    male  31.0      0   \n",
      "868                        van Melkebeke, Mr. Philemon    male   NaN      0   \n",
      "870                                  Balkic, Mr. Cerin    male  26.0      0   \n",
      "872                           Carlsson, Mr. Frans Olof    male  33.0      0   \n",
      "873                        Vander Cruyssen, Mr. Victor    male  47.0      0   \n",
      "875                   Najib, Miss. Adele Kiamie \"Jane\"  female  15.0      0   \n",
      "876                      Gustafsson, Mr. Alfred Ossian    male  20.0      0   \n",
      "877                               Petroff, Mr. Nedelio    male  19.0      0   \n",
      "878                                 Laleff, Mr. Kristo    male   NaN      0   \n",
      "879      Potter, Mrs. Thomas Jr (Lily Alexenia Wilson)  female  56.0      0   \n",
      "880       Shelley, Mrs. William (Imanita Parrish Hall)  female  25.0      0   \n",
      "881                                 Markun, Mr. Johann    male  33.0      0   \n",
      "882                       Dahlberg, Miss. Gerda Ulrika  female  22.0      0   \n",
      "883                      Banfield, Mr. Frederick James    male  28.0      0   \n",
      "884                             Sutehall, Mr. Henry Jr    male  25.0      0   \n",
      "885               Rice, Mrs. William (Margaret Norton)  female  39.0      0   \n",
      "886                              Montvila, Rev. Juozas    male  27.0      0   \n",
      "887                       Graham, Miss. Margaret Edith  female  19.0      0   \n",
      "889                              Behr, Mr. Karl Howell    male  26.0      0   \n",
      "890                                Dooley, Mr. Patrick    male  32.0      0   \n",
      "\n",
      "     Parch            Ticket     Fare        Cabin Embarked  \n",
      "2        0  STON/O2. 3101282   7.9250          NaN        S  \n",
      "4        0            373450   8.0500          NaN        S  \n",
      "5        0            330877   8.4583          NaN        Q  \n",
      "6        0             17463  51.8625          E46        S  \n",
      "8        2            347742  11.1333          NaN        S  \n",
      "11       0            113783  26.5500         C103        S  \n",
      "12       0         A/5. 2151   8.0500          NaN        S  \n",
      "14       0            350406   7.8542          NaN        S  \n",
      "15       0            248706  16.0000          NaN        S  \n",
      "17       0            244373  13.0000          NaN        S  \n",
      "19       0              2649   7.2250          NaN        C  \n",
      "20       0            239865  26.0000          NaN        S  \n",
      "21       0            248698  13.0000          D56        S  \n",
      "22       0            330923   8.0292          NaN        Q  \n",
      "23       0            113788  35.5000           A6        S  \n",
      "26       0              2631   7.2250          NaN        C  \n",
      "28       0            330959   7.8792          NaN        Q  \n",
      "29       0            349216   7.8958          NaN        S  \n",
      "30       0          PC 17601  27.7208          NaN        C  \n",
      "32       0            335677   7.7500          NaN        Q  \n",
      "33       0        C.A. 24579  10.5000          NaN        S  \n",
      "36       0              2677   7.2292          NaN        C  \n",
      "37       0        A./5. 2152   8.0500          NaN        S  \n",
      "42       0            349253   7.8958          NaN        C  \n",
      "44       0            330958   7.8792          NaN        Q  \n",
      "45       0   S.C./A.4. 23567   8.0500          NaN        S  \n",
      "47       0             14311   7.7500          NaN        Q  \n",
      "51       0        A/4. 39886   7.8000          NaN        S  \n",
      "54       1            113509  61.9792          B30        C  \n",
      "55       0             19947  35.5000          C52        S  \n",
      "..     ...               ...      ...          ...      ...  \n",
      "848      1            248727  33.0000          NaN        S  \n",
      "851      0            347060   7.7750          NaN        S  \n",
      "853      1          PC 17592  39.4000          D28        S  \n",
      "855      1            392091   9.3500          NaN        S  \n",
      "857      0            113055  26.5500          E17        S  \n",
      "858      3              2666  19.2583          NaN        C  \n",
      "859      0              2629   7.2292          NaN        C  \n",
      "862      0             17466  25.9292          D17        S  \n",
      "864      0            233866  13.0000          NaN        S  \n",
      "865      0            236852  13.0000          NaN        S  \n",
      "867      0          PC 17590  50.4958          A24        S  \n",
      "868      0            345777   9.5000          NaN        S  \n",
      "870      0            349248   7.8958          NaN        S  \n",
      "872      0               695   5.0000  B51 B53 B55        S  \n",
      "873      0            345765   9.0000          NaN        S  \n",
      "875      0              2667   7.2250          NaN        C  \n",
      "876      0              7534   9.8458          NaN        S  \n",
      "877      0            349212   7.8958          NaN        S  \n",
      "878      0            349217   7.8958          NaN        S  \n",
      "879      1             11767  83.1583          C50        C  \n",
      "880      1            230433  26.0000          NaN        S  \n",
      "881      0            349257   7.8958          NaN        S  \n",
      "882      0              7552  10.5167          NaN        S  \n",
      "883      0  C.A./SOTON 34068  10.5000          NaN        S  \n",
      "884      0   SOTON/OQ 392076   7.0500          NaN        S  \n",
      "885      5            382652  29.1250          NaN        Q  \n",
      "886      0            211536  13.0000          NaN        S  \n",
      "887      0            112053  30.0000          B42        S  \n",
      "889      0            111369  30.0000         C148        C  \n",
      "890      0            370376   7.7500          NaN        Q  \n",
      "\n",
      "[608 rows x 12 columns]\n",
      "\n",
      "\n",
      "Information for max values of SibSp:\n",
      "     PassengerId  Survived  Pclass                               Name     Sex  \\\n",
      "159          160         0       3         Sage, Master. Thomas Henry    male   \n",
      "180          181         0       3       Sage, Miss. Constance Gladys  female   \n",
      "201          202         0       3                Sage, Mr. Frederick    male   \n",
      "324          325         0       3           Sage, Mr. George John Jr    male   \n",
      "792          793         0       3            Sage, Miss. Stella Anna  female   \n",
      "846          847         0       3           Sage, Mr. Douglas Bullen    male   \n",
      "863          864         0       3  Sage, Miss. Dorothy Edith \"Dolly\"  female   \n",
      "\n",
      "     Age  SibSp  Parch    Ticket   Fare Cabin Embarked  \n",
      "159  NaN      8      2  CA. 2343  69.55   NaN        S  \n",
      "180  NaN      8      2  CA. 2343  69.55   NaN        S  \n",
      "201  NaN      8      2  CA. 2343  69.55   NaN        S  \n",
      "324  NaN      8      2  CA. 2343  69.55   NaN        S  \n",
      "792  NaN      8      2  CA. 2343  69.55   NaN        S  \n",
      "846  NaN      8      2  CA. 2343  69.55   NaN        S  \n",
      "863  NaN      8      2  CA. 2343  69.55   NaN        S  \n"
     ]
    }
   ],
   "source": [
    "# print information about max/min values\n",
    "titanic_min_max(\"SibSp\")"
   ]
  },
  {
   "cell_type": "code",
   "execution_count": 12,
   "metadata": {
    "collapsed": false
   },
   "outputs": [
    {
     "data": {
      "text/plain": [
       "<matplotlib.axes._subplots.AxesSubplot at 0x11a909b00>"
      ]
     },
     "execution_count": 12,
     "metadata": {},
     "output_type": "execute_result"
    },
    {
     "data": {
      "image/png": "[encoded data removed]",
      "text/plain": [
       "<matplotlib.figure.Figure at 0x11a9a7748>"
      ]
     },
     "metadata": {},
     "output_type": "display_data"
    }
   ],
   "source": [
    "# plot parent/child data\n",
    "titanic[\"Parch\"].plot(kind=\"hist\")"
   ]
  },
  {
   "cell_type": "code",
   "execution_count": 61,
   "metadata": {
    "collapsed": false
   },
   "outputs": [
    {
     "name": "stdout",
     "output_type": "stream",
     "text": [
      "Information for min values of Parch:\n",
      "     PassengerId  Survived  Pclass  \\\n",
      "0              1         0       3   \n",
      "1              2         1       1   \n",
      "2              3         1       3   \n",
      "3              4         1       1   \n",
      "4              5         0       3   \n",
      "5              6         0       3   \n",
      "6              7         0       1   \n",
      "9             10         1       2   \n",
      "11            12         1       1   \n",
      "12            13         0       3   \n",
      "14            15         0       3   \n",
      "15            16         1       2   \n",
      "17            18         1       2   \n",
      "18            19         0       3   \n",
      "19            20         1       3   \n",
      "20            21         0       2   \n",
      "21            22         1       2   \n",
      "22            23         1       3   \n",
      "23            24         1       1   \n",
      "26            27         0       3   \n",
      "28            29         1       3   \n",
      "29            30         0       3   \n",
      "30            31         0       1   \n",
      "31            32         1       1   \n",
      "32            33         1       3   \n",
      "33            34         0       2   \n",
      "34            35         0       1   \n",
      "35            36         0       1   \n",
      "36            37         1       3   \n",
      "37            38         0       3   \n",
      "..           ...       ...     ...   \n",
      "847          848         0       3   \n",
      "849          850         1       1   \n",
      "851          852         0       3   \n",
      "854          855         0       2   \n",
      "857          858         1       1   \n",
      "859          860         0       3   \n",
      "860          861         0       3   \n",
      "861          862         0       2   \n",
      "862          863         1       1   \n",
      "864          865         0       2   \n",
      "865          866         1       2   \n",
      "866          867         1       2   \n",
      "867          868         0       1   \n",
      "868          869         0       3   \n",
      "870          871         0       3   \n",
      "872          873         0       1   \n",
      "873          874         0       3   \n",
      "874          875         1       2   \n",
      "875          876         1       3   \n",
      "876          877         0       3   \n",
      "877          878         0       3   \n",
      "878          879         0       3   \n",
      "881          882         0       3   \n",
      "882          883         0       3   \n",
      "883          884         0       2   \n",
      "884          885         0       3   \n",
      "886          887         0       2   \n",
      "887          888         1       1   \n",
      "889          890         1       1   \n",
      "890          891         0       3   \n",
      "\n",
      "                                                  Name     Sex   Age  SibSp  \\\n",
      "0                              Braund, Mr. Owen Harris    male  22.0      1   \n",
      "1    Cumings, Mrs. John Bradley (Florence Briggs Th...  female  38.0      1   \n",
      "2                               Heikkinen, Miss. Laina  female  26.0      0   \n",
      "3         Futrelle, Mrs. Jacques Heath (Lily May Peel)  female  35.0      1   \n",
      "4                             Allen, Mr. William Henry    male  35.0      0   \n",
      "5                                     Moran, Mr. James    male   NaN      0   \n",
      "6                              McCarthy, Mr. Timothy J    male  54.0      0   \n",
      "9                  Nasser, Mrs. Nicholas (Adele Achem)  female  14.0      1   \n",
      "11                            Bonnell, Miss. Elizabeth  female  58.0      0   \n",
      "12                      Saundercock, Mr. William Henry    male  20.0      0   \n",
      "14                Vestrom, Miss. Hulda Amanda Adolfina  female  14.0      0   \n",
      "15                    Hewlett, Mrs. (Mary D Kingcome)   female  55.0      0   \n",
      "17                        Williams, Mr. Charles Eugene    male   NaN      0   \n",
      "18   Vander Planke, Mrs. Julius (Emelia Maria Vande...  female  31.0      1   \n",
      "19                             Masselmani, Mrs. Fatima  female   NaN      0   \n",
      "20                                Fynney, Mr. Joseph J    male  35.0      0   \n",
      "21                               Beesley, Mr. Lawrence    male  34.0      0   \n",
      "22                         McGowan, Miss. Anna \"Annie\"  female  15.0      0   \n",
      "23                        Sloper, Mr. William Thompson    male  28.0      0   \n",
      "26                             Emir, Mr. Farred Chehab    male   NaN      0   \n",
      "28                       O'Dwyer, Miss. Ellen \"Nellie\"  female   NaN      0   \n",
      "29                                 Todoroff, Mr. Lalio    male   NaN      0   \n",
      "30                            Uruchurtu, Don. Manuel E    male  40.0      0   \n",
      "31      Spencer, Mrs. William Augustus (Marie Eugenie)  female   NaN      1   \n",
      "32                            Glynn, Miss. Mary Agatha  female   NaN      0   \n",
      "33                               Wheadon, Mr. Edward H    male  66.0      0   \n",
      "34                             Meyer, Mr. Edgar Joseph    male  28.0      1   \n",
      "35                      Holverson, Mr. Alexander Oskar    male  42.0      1   \n",
      "36                                    Mamee, Mr. Hanna    male   NaN      0   \n",
      "37                            Cann, Mr. Ernest Charles    male  21.0      0   \n",
      "..                                                 ...     ...   ...    ...   \n",
      "847                                 Markoff, Mr. Marin    male  35.0      0   \n",
      "849       Goldenberg, Mrs. Samuel L (Edwiga Grabowska)  female   NaN      1   \n",
      "851                                Svensson, Mr. Johan    male  74.0      0   \n",
      "854      Carter, Mrs. Ernest Courtenay (Lilian Hughes)  female  44.0      1   \n",
      "857                             Daly, Mr. Peter Denis     male  51.0      0   \n",
      "859                                   Razi, Mr. Raihed    male   NaN      0   \n",
      "860                            Hansen, Mr. Claus Peter    male  41.0      2   \n",
      "861                        Giles, Mr. Frederick Edward    male  21.0      1   \n",
      "862  Swift, Mrs. Frederick Joel (Margaret Welles Ba...  female  48.0      0   \n",
      "864                             Gill, Mr. John William    male  24.0      0   \n",
      "865                           Bystrom, Mrs. (Karolina)  female  42.0      0   \n",
      "866                       Duran y More, Miss. Asuncion  female  27.0      1   \n",
      "867               Roebling, Mr. Washington Augustus II    male  31.0      0   \n",
      "868                        van Melkebeke, Mr. Philemon    male   NaN      0   \n",
      "870                                  Balkic, Mr. Cerin    male  26.0      0   \n",
      "872                           Carlsson, Mr. Frans Olof    male  33.0      0   \n",
      "873                        Vander Cruyssen, Mr. Victor    male  47.0      0   \n",
      "874              Abelson, Mrs. Samuel (Hannah Wizosky)  female  28.0      1   \n",
      "875                   Najib, Miss. Adele Kiamie \"Jane\"  female  15.0      0   \n",
      "876                      Gustafsson, Mr. Alfred Ossian    male  20.0      0   \n",
      "877                               Petroff, Mr. Nedelio    male  19.0      0   \n",
      "878                                 Laleff, Mr. Kristo    male   NaN      0   \n",
      "881                                 Markun, Mr. Johann    male  33.0      0   \n",
      "882                       Dahlberg, Miss. Gerda Ulrika  female  22.0      0   \n",
      "883                      Banfield, Mr. Frederick James    male  28.0      0   \n",
      "884                             Sutehall, Mr. Henry Jr    male  25.0      0   \n",
      "886                              Montvila, Rev. Juozas    male  27.0      0   \n",
      "887                       Graham, Miss. Margaret Edith  female  19.0      0   \n",
      "889                              Behr, Mr. Karl Howell    male  26.0      0   \n",
      "890                                Dooley, Mr. Patrick    male  32.0      0   \n",
      "\n",
      "     Parch            Ticket      Fare        Cabin Embarked  \n",
      "0        0         A/5 21171    7.2500          NaN        S  \n",
      "1        0          PC 17599   71.2833          C85        C  \n",
      "2        0  STON/O2. 3101282    7.9250          NaN        S  \n",
      "3        0            113803   53.1000         C123        S  \n",
      "4        0            373450    8.0500          NaN        S  \n",
      "5        0            330877    8.4583          NaN        Q  \n",
      "6        0             17463   51.8625          E46        S  \n",
      "9        0            237736   30.0708          NaN        C  \n",
      "11       0            113783   26.5500         C103        S  \n",
      "12       0         A/5. 2151    8.0500          NaN        S  \n",
      "14       0            350406    7.8542          NaN        S  \n",
      "15       0            248706   16.0000          NaN        S  \n",
      "17       0            244373   13.0000          NaN        S  \n",
      "18       0            345763   18.0000          NaN        S  \n",
      "19       0              2649    7.2250          NaN        C  \n",
      "20       0            239865   26.0000          NaN        S  \n",
      "21       0            248698   13.0000          D56        S  \n",
      "22       0            330923    8.0292          NaN        Q  \n",
      "23       0            113788   35.5000           A6        S  \n",
      "26       0              2631    7.2250          NaN        C  \n",
      "28       0            330959    7.8792          NaN        Q  \n",
      "29       0            349216    7.8958          NaN        S  \n",
      "30       0          PC 17601   27.7208          NaN        C  \n",
      "31       0          PC 17569  146.5208          B78        C  \n",
      "32       0            335677    7.7500          NaN        Q  \n",
      "33       0        C.A. 24579   10.5000          NaN        S  \n",
      "34       0          PC 17604   82.1708          NaN        C  \n",
      "35       0            113789   52.0000          NaN        S  \n",
      "36       0              2677    7.2292          NaN        C  \n",
      "37       0        A./5. 2152    8.0500          NaN        S  \n",
      "..     ...               ...       ...          ...      ...  \n",
      "847      0            349213    7.8958          NaN        C  \n",
      "849      0             17453   89.1042          C92        C  \n",
      "851      0            347060    7.7750          NaN        S  \n",
      "854      0            244252   26.0000          NaN        S  \n",
      "857      0            113055   26.5500          E17        S  \n",
      "859      0              2629    7.2292          NaN        C  \n",
      "860      0            350026   14.1083          NaN        S  \n",
      "861      0             28134   11.5000          NaN        S  \n",
      "862      0             17466   25.9292          D17        S  \n",
      "864      0            233866   13.0000          NaN        S  \n",
      "865      0            236852   13.0000          NaN        S  \n",
      "866      0     SC/PARIS 2149   13.8583          NaN        C  \n",
      "867      0          PC 17590   50.4958          A24        S  \n",
      "868      0            345777    9.5000          NaN        S  \n",
      "870      0            349248    7.8958          NaN        S  \n",
      "872      0               695    5.0000  B51 B53 B55        S  \n",
      "873      0            345765    9.0000          NaN        S  \n",
      "874      0         P/PP 3381   24.0000          NaN        C  \n",
      "875      0              2667    7.2250          NaN        C  \n",
      "876      0              7534    9.8458          NaN        S  \n",
      "877      0            349212    7.8958          NaN        S  \n",
      "878      0            349217    7.8958          NaN        S  \n",
      "881      0            349257    7.8958          NaN        S  \n",
      "882      0              7552   10.5167          NaN        S  \n",
      "883      0  C.A./SOTON 34068   10.5000          NaN        S  \n",
      "884      0   SOTON/OQ 392076    7.0500          NaN        S  \n",
      "886      0            211536   13.0000          NaN        S  \n",
      "887      0            112053   30.0000          B42        S  \n",
      "889      0            111369   30.0000         C148        C  \n",
      "890      0            370376    7.7500          NaN        Q  \n",
      "\n",
      "[678 rows x 12 columns]\n",
      "\n",
      "\n",
      "Information for max values of Parch:\n",
      "     PassengerId  Survived  Pclass                                     Name  \\\n",
      "678          679         0       3  Goodwin, Mrs. Frederick (Augusta Tyler)   \n",
      "\n",
      "        Sex   Age  SibSp  Parch   Ticket  Fare Cabin Embarked  \n",
      "678  female  43.0      1      6  CA 2144  46.9   NaN        S  \n"
     ]
    }
   ],
   "source": [
    "# print information about min/max parent/child data\n",
    "titanic_min_max(\"Parch\")"
   ]
  },
  {
   "cell_type": "code",
   "execution_count": 13,
   "metadata": {
    "collapsed": false
   },
   "outputs": [
    {
     "data": {
      "text/plain": [
       "<matplotlib.axes._subplots.AxesSubplot at 0x11ba60e48>"
      ]
     },
     "execution_count": 13,
     "metadata": {},
     "output_type": "execute_result"
    },
    {
     "data": {
      "image/png": "[encoded data removed]",
      "text/plain": [
       "<matplotlib.figure.Figure at 0x11e8c6a90>"
      ]
     },
     "metadata": {},
     "output_type": "display_data"
    }
   ],
   "source": [
    "# plot fare data\n",
    "titanic[\"Fare\"].plot(kind=\"hist\")"
   ]
  },
  {
   "cell_type": "code",
   "execution_count": 42,
   "metadata": {
    "collapsed": false
   },
   "outputs": [
    {
     "data": {
      "text/plain": [
       "<matplotlib.axes._subplots.AxesSubplot at 0x11fcb56d8>"
      ]
     },
     "execution_count": 42,
     "metadata": {},
     "output_type": "execute_result"
    },
    {
     "data": {
      "image/png": "[encoded data removed]",
      "text/plain": [
       "<matplotlib.figure.Figure at 0x11fc1a438>"
      ]
     },
     "metadata": {},
     "output_type": "display_data"
    }
   ],
   "source": [
    "# plot fare data as box plot\n",
    "titanic[\"Fare\"].plot(kind=\"box\")"
   ]
  },
  {
   "cell_type": "code",
   "execution_count": 13,
   "metadata": {
    "collapsed": false
   },
   "outputs": [
    {
     "name": "stdout",
     "output_type": "stream",
     "text": [
      "     PassengerId  Survived  Pclass                              Name   Sex  \\\n",
      "179          180         0       3               Leonard, Mr. Lionel  male   \n",
      "263          264         0       1             Harrison, Mr. William  male   \n",
      "271          272         1       3      Tornquist, Mr. William Henry  male   \n",
      "277          278         0       2       Parkes, Mr. Francis \"Frank\"  male   \n",
      "302          303         0       3   Johnson, Mr. William Cahoone Jr  male   \n",
      "413          414         0       2    Cunningham, Mr. Alfred Fleming  male   \n",
      "466          467         0       2             Campbell, Mr. William  male   \n",
      "481          482         0       2  Frost, Mr. Anthony Wood \"Archie\"  male   \n",
      "597          598         0       3               Johnson, Mr. Alfred  male   \n",
      "633          634         0       1     Parr, Mr. William Henry Marsh  male   \n",
      "674          675         0       2        Watson, Mr. Ennis Hastings  male   \n",
      "732          733         0       2              Knight, Mr. Robert J  male   \n",
      "806          807         0       1            Andrews, Mr. Thomas Jr  male   \n",
      "815          816         0       1                  Fry, Mr. Richard  male   \n",
      "822          823         0       1   Reuchlin, Jonkheer. John George  male   \n",
      "\n",
      "      Age  SibSp  Parch  Ticket  Fare Cabin Embarked  \n",
      "179  36.0      0      0    LINE   0.0   NaN        S  \n",
      "263  40.0      0      0  112059   0.0   B94        S  \n",
      "271  25.0      0      0    LINE   0.0   NaN        S  \n",
      "277   NaN      0      0  239853   0.0   NaN        S  \n",
      "302  19.0      0      0    LINE   0.0   NaN        S  \n",
      "413   NaN      0      0  239853   0.0   NaN        S  \n",
      "466   NaN      0      0  239853   0.0   NaN        S  \n",
      "481   NaN      0      0  239854   0.0   NaN        S  \n",
      "597  49.0      0      0    LINE   0.0   NaN        S  \n",
      "633   NaN      0      0  112052   0.0   NaN        S  \n",
      "674   NaN      0      0  239856   0.0   NaN        S  \n",
      "732   NaN      0      0  239855   0.0   NaN        S  \n",
      "806  39.0      0      0  112050   0.0   A36        S  \n",
      "815   NaN      0      0  112058   0.0  B102        S  \n",
      "822  38.0      0      0   19972   0.0   NaN        S  \n"
     ]
    }
   ],
   "source": [
    "# print passengers who paid the minimum fare price\n",
    "print(titanic.ix[titanic[\"Fare\"] == min(titanic[\"Fare\"])])"
   ]
  },
  {
   "cell_type": "code",
   "execution_count": 61,
   "metadata": {
    "collapsed": false
   },
   "outputs": [
    {
     "name": "stdout",
     "output_type": "stream",
     "text": [
      "     PassengerId  Survived  Pclass                                Name  \\\n",
      "258          259         1       1                    Ward, Miss. Anna   \n",
      "679          680         1       1  Cardeza, Mr. Thomas Drake Martinez   \n",
      "737          738         1       1              Lesurer, Mr. Gustave J   \n",
      "\n",
      "        Sex   Age  SibSp  Parch    Ticket      Fare        Cabin Embarked  \n",
      "258  female  35.0      0      0  PC 17755  512.3292          NaN        C  \n",
      "679    male  36.0      0      1  PC 17755  512.3292  B51 B53 B55        C  \n",
      "737    male  35.0      0      0  PC 17755  512.3292         B101        C  \n"
     ]
    }
   ],
   "source": [
    "# print passengers who paid the maximum fare price\n",
    "print(titanic.ix[titanic[\"Fare\"] == max(titanic[\"Fare\"])])"
   ]
  },
  {
   "cell_type": "code",
   "execution_count": 62,
   "metadata": {
    "collapsed": false
   },
   "outputs": [
    {
     "data": {
      "text/plain": [
       "<matplotlib.axes._subplots.AxesSubplot at 0x123488400>"
      ]
     },
     "execution_count": 62,
     "metadata": {},
     "output_type": "execute_result"
    },
    {
     "data": {
      "image/png": "[encoded data removed]",
      "text/plain": [
       "<matplotlib.figure.Figure at 0x121209898>"
      ]
     },
     "metadata": {},
     "output_type": "display_data"
    }
   ],
   "source": [
    "# plot sibling/spouse data\n",
    "titanic[\"SibSp\"].hist()"
   ]
  },
  {
   "cell_type": "code",
   "execution_count": 63,
   "metadata": {
    "collapsed": false
   },
   "outputs": [
    {
     "data": {
      "text/plain": [
       "<matplotlib.axes._subplots.AxesSubplot at 0x123514320>"
      ]
     },
     "execution_count": 63,
     "metadata": {},
     "output_type": "execute_result"
    },
    {
     "data": {
      "image/png": "[encoded data removed]",
      "text/plain": [
       "<matplotlib.figure.Figure at 0x1236a7dd8>"
      ]
     },
     "metadata": {},
     "output_type": "display_data"
    }
   ],
   "source": [
    "# plot parent/child data\n",
    "titanic[\"Parch\"].hist()"
   ]
  },
  {
   "cell_type": "markdown",
   "metadata": {},
   "source": [
    "### Analysis"
   ]
  },
  {
   "cell_type": "code",
   "execution_count": 35,
   "metadata": {
    "collapsed": false
   },
   "outputs": [
    {
     "data": {
      "text/plain": [
       "Sex\n",
       "female    44.479818\n",
       "male      25.523893\n",
       "Name: Fare, dtype: float64"
      ]
     },
     "execution_count": 35,
     "metadata": {},
     "output_type": "execute_result"
    }
   ],
   "source": [
    "titanic_by_sex = titanic.groupby(\"Sex\")"
   ]
  },
  {
   "cell_type": "code",
   "execution_count": 36,
   "metadata": {
    "collapsed": false
   },
   "outputs": [
    {
     "data": {
      "text/plain": [
       "Sex\n",
       "female    44.479818\n",
       "male      25.523893\n",
       "Name: Fare, dtype: float64"
      ]
     },
     "execution_count": 36,
     "metadata": {},
     "output_type": "execute_result"
    }
   ],
   "source": [
    "titanic_by_sex[\"Fare\"].mean()"
   ]
  },
  {
   "cell_type": "code",
   "execution_count": 33,
   "metadata": {
    "collapsed": false
   },
   "outputs": [
    {
     "data": {
      "text/plain": [
       "Sex\n",
       "female    0.742038\n",
       "male      0.188908\n",
       "Name: Survived, dtype: float64"
      ]
     },
     "execution_count": 33,
     "metadata": {},
     "output_type": "execute_result"
    }
   ],
   "source": [
    "titanic_by_sex[\"Survived\"].mean()"
   ]
  },
  {
   "cell_type": "code",
   "execution_count": 34,
   "metadata": {
    "collapsed": false
   },
   "outputs": [
    {
     "data": {
      "text/plain": [
       "<matplotlib.axes._subplots.AxesSubplot at 0x11fbf4978>"
      ]
     },
     "execution_count": 34,
     "metadata": {},
     "output_type": "execute_result"
    },
    {
     "data": {
      "image/png": "[encoded data removed]",
      "text/plain": [
       "<matplotlib.figure.Figure at 0x11fc06128>"
      ]
     },
     "metadata": {},
     "output_type": "display_data"
    }
   ],
   "source": [
    "titanic_by_sex[\"Survived\"].mean().plot(kind=\"bar\")"
   ]
  },
  {
   "cell_type": "code",
   "execution_count": 37,
   "metadata": {
    "collapsed": true
   },
   "outputs": [],
   "source": [
    "titanic_by_sex_and_class = titanic.groupby([\"Sex\", \"Pclass\"])"
   ]
  },
  {
   "cell_type": "code",
   "execution_count": 40,
   "metadata": {
    "collapsed": false
   },
   "outputs": [
    {
     "data": {
      "text/html": [
       "<div>\n",
       "<table border=\"1\" class=\"dataframe\">\n",
       "  <thead>\n",
       "    <tr style=\"text-align: right;\">\n",
       "      <th></th>\n",
       "      <th></th>\n",
       "      <th></th>\n",
       "      <th>Age</th>\n",
       "      <th>Fare</th>\n",
       "    </tr>\n",
       "    <tr>\n",
       "      <th>Sex</th>\n",
       "      <th>Pclass</th>\n",
       "      <th></th>\n",
       "      <th></th>\n",
       "      <th></th>\n",
       "    </tr>\n",
       "  </thead>\n",
       "  <tbody>\n",
       "    <tr>\n",
       "      <th rowspan=\"24\" valign=\"top\">female</th>\n",
       "      <th rowspan=\"8\" valign=\"top\">1</th>\n",
       "      <th>count</th>\n",
       "      <td>85.000000</td>\n",
       "      <td>94.000000</td>\n",
       "    </tr>\n",
       "    <tr>\n",
       "      <th>mean</th>\n",
       "      <td>34.611765</td>\n",
       "      <td>106.125798</td>\n",
       "    </tr>\n",
       "    <tr>\n",
       "      <th>std</th>\n",
       "      <td>13.612052</td>\n",
       "      <td>74.259988</td>\n",
       "    </tr>\n",
       "    <tr>\n",
       "      <th>min</th>\n",
       "      <td>2.000000</td>\n",
       "      <td>25.929200</td>\n",
       "    </tr>\n",
       "    <tr>\n",
       "      <th>25%</th>\n",
       "      <td>23.000000</td>\n",
       "      <td>57.244800</td>\n",
       "    </tr>\n",
       "    <tr>\n",
       "      <th>50%</th>\n",
       "      <td>35.000000</td>\n",
       "      <td>82.664550</td>\n",
       "    </tr>\n",
       "    <tr>\n",
       "      <th>75%</th>\n",
       "      <td>44.000000</td>\n",
       "      <td>134.500000</td>\n",
       "    </tr>\n",
       "    <tr>\n",
       "      <th>max</th>\n",
       "      <td>63.000000</td>\n",
       "      <td>512.329200</td>\n",
       "    </tr>\n",
       "    <tr>\n",
       "      <th rowspan=\"8\" valign=\"top\">2</th>\n",
       "      <th>count</th>\n",
       "      <td>74.000000</td>\n",
       "      <td>76.000000</td>\n",
       "    </tr>\n",
       "    <tr>\n",
       "      <th>mean</th>\n",
       "      <td>28.722973</td>\n",
       "      <td>21.970121</td>\n",
       "    </tr>\n",
       "    <tr>\n",
       "      <th>std</th>\n",
       "      <td>12.872702</td>\n",
       "      <td>10.891796</td>\n",
       "    </tr>\n",
       "    <tr>\n",
       "      <th>min</th>\n",
       "      <td>2.000000</td>\n",
       "      <td>10.500000</td>\n",
       "    </tr>\n",
       "    <tr>\n",
       "      <th>25%</th>\n",
       "      <td>22.250000</td>\n",
       "      <td>13.000000</td>\n",
       "    </tr>\n",
       "    <tr>\n",
       "      <th>50%</th>\n",
       "      <td>28.000000</td>\n",
       "      <td>22.000000</td>\n",
       "    </tr>\n",
       "    <tr>\n",
       "      <th>75%</th>\n",
       "      <td>36.000000</td>\n",
       "      <td>26.062500</td>\n",
       "    </tr>\n",
       "    <tr>\n",
       "      <th>max</th>\n",
       "      <td>57.000000</td>\n",
       "      <td>65.000000</td>\n",
       "    </tr>\n",
       "    <tr>\n",
       "      <th rowspan=\"8\" valign=\"top\">3</th>\n",
       "      <th>count</th>\n",
       "      <td>102.000000</td>\n",
       "      <td>144.000000</td>\n",
       "    </tr>\n",
       "    <tr>\n",
       "      <th>mean</th>\n",
       "      <td>21.750000</td>\n",
       "      <td>16.118810</td>\n",
       "    </tr>\n",
       "    <tr>\n",
       "      <th>std</th>\n",
       "      <td>12.729964</td>\n",
       "      <td>11.690314</td>\n",
       "    </tr>\n",
       "    <tr>\n",
       "      <th>min</th>\n",
       "      <td>0.750000</td>\n",
       "      <td>6.750000</td>\n",
       "    </tr>\n",
       "    <tr>\n",
       "      <th>25%</th>\n",
       "      <td>14.125000</td>\n",
       "      <td>7.854200</td>\n",
       "    </tr>\n",
       "    <tr>\n",
       "      <th>50%</th>\n",
       "      <td>21.500000</td>\n",
       "      <td>12.475000</td>\n",
       "    </tr>\n",
       "    <tr>\n",
       "      <th>75%</th>\n",
       "      <td>29.750000</td>\n",
       "      <td>20.221875</td>\n",
       "    </tr>\n",
       "    <tr>\n",
       "      <th>max</th>\n",
       "      <td>63.000000</td>\n",
       "      <td>69.550000</td>\n",
       "    </tr>\n",
       "    <tr>\n",
       "      <th rowspan=\"24\" valign=\"top\">male</th>\n",
       "      <th rowspan=\"8\" valign=\"top\">1</th>\n",
       "      <th>count</th>\n",
       "      <td>101.000000</td>\n",
       "      <td>122.000000</td>\n",
       "    </tr>\n",
       "    <tr>\n",
       "      <th>mean</th>\n",
       "      <td>41.281386</td>\n",
       "      <td>67.226127</td>\n",
       "    </tr>\n",
       "    <tr>\n",
       "      <th>std</th>\n",
       "      <td>15.139570</td>\n",
       "      <td>77.548021</td>\n",
       "    </tr>\n",
       "    <tr>\n",
       "      <th>min</th>\n",
       "      <td>0.920000</td>\n",
       "      <td>0.000000</td>\n",
       "    </tr>\n",
       "    <tr>\n",
       "      <th>25%</th>\n",
       "      <td>30.000000</td>\n",
       "      <td>27.728100</td>\n",
       "    </tr>\n",
       "    <tr>\n",
       "      <th>50%</th>\n",
       "      <td>40.000000</td>\n",
       "      <td>41.262500</td>\n",
       "    </tr>\n",
       "    <tr>\n",
       "      <th>75%</th>\n",
       "      <td>51.000000</td>\n",
       "      <td>78.459375</td>\n",
       "    </tr>\n",
       "    <tr>\n",
       "      <th>max</th>\n",
       "      <td>80.000000</td>\n",
       "      <td>512.329200</td>\n",
       "    </tr>\n",
       "    <tr>\n",
       "      <th rowspan=\"8\" valign=\"top\">2</th>\n",
       "      <th>count</th>\n",
       "      <td>99.000000</td>\n",
       "      <td>108.000000</td>\n",
       "    </tr>\n",
       "    <tr>\n",
       "      <th>mean</th>\n",
       "      <td>30.740707</td>\n",
       "      <td>19.741782</td>\n",
       "    </tr>\n",
       "    <tr>\n",
       "      <th>std</th>\n",
       "      <td>14.793894</td>\n",
       "      <td>14.922235</td>\n",
       "    </tr>\n",
       "    <tr>\n",
       "      <th>min</th>\n",
       "      <td>0.670000</td>\n",
       "      <td>0.000000</td>\n",
       "    </tr>\n",
       "    <tr>\n",
       "      <th>25%</th>\n",
       "      <td>23.000000</td>\n",
       "      <td>12.331250</td>\n",
       "    </tr>\n",
       "    <tr>\n",
       "      <th>50%</th>\n",
       "      <td>30.000000</td>\n",
       "      <td>13.000000</td>\n",
       "    </tr>\n",
       "    <tr>\n",
       "      <th>75%</th>\n",
       "      <td>36.750000</td>\n",
       "      <td>26.000000</td>\n",
       "    </tr>\n",
       "    <tr>\n",
       "      <th>max</th>\n",
       "      <td>70.000000</td>\n",
       "      <td>73.500000</td>\n",
       "    </tr>\n",
       "    <tr>\n",
       "      <th rowspan=\"8\" valign=\"top\">3</th>\n",
       "      <th>count</th>\n",
       "      <td>253.000000</td>\n",
       "      <td>347.000000</td>\n",
       "    </tr>\n",
       "    <tr>\n",
       "      <th>mean</th>\n",
       "      <td>26.507589</td>\n",
       "      <td>12.661633</td>\n",
       "    </tr>\n",
       "    <tr>\n",
       "      <th>std</th>\n",
       "      <td>12.159514</td>\n",
       "      <td>11.681696</td>\n",
       "    </tr>\n",
       "    <tr>\n",
       "      <th>min</th>\n",
       "      <td>0.420000</td>\n",
       "      <td>0.000000</td>\n",
       "    </tr>\n",
       "    <tr>\n",
       "      <th>25%</th>\n",
       "      <td>20.000000</td>\n",
       "      <td>7.750000</td>\n",
       "    </tr>\n",
       "    <tr>\n",
       "      <th>50%</th>\n",
       "      <td>25.000000</td>\n",
       "      <td>7.925000</td>\n",
       "    </tr>\n",
       "    <tr>\n",
       "      <th>75%</th>\n",
       "      <td>33.000000</td>\n",
       "      <td>10.008300</td>\n",
       "    </tr>\n",
       "    <tr>\n",
       "      <th>max</th>\n",
       "      <td>74.000000</td>\n",
       "      <td>69.550000</td>\n",
       "    </tr>\n",
       "  </tbody>\n",
       "</table>\n",
       "</div>"
      ],
      "text/plain": [
       "                            Age        Fare\n",
       "Sex    Pclass                              \n",
       "female 1      count   85.000000   94.000000\n",
       "              mean    34.611765  106.125798\n",
       "              std     13.612052   74.259988\n",
       "              min      2.000000   25.929200\n",
       "              25%     23.000000   57.244800\n",
       "              50%     35.000000   82.664550\n",
       "              75%     44.000000  134.500000\n",
       "              max     63.000000  512.329200\n",
       "       2      count   74.000000   76.000000\n",
       "              mean    28.722973   21.970121\n",
       "              std     12.872702   10.891796\n",
       "              min      2.000000   10.500000\n",
       "              25%     22.250000   13.000000\n",
       "              50%     28.000000   22.000000\n",
       "              75%     36.000000   26.062500\n",
       "              max     57.000000   65.000000\n",
       "       3      count  102.000000  144.000000\n",
       "              mean    21.750000   16.118810\n",
       "              std     12.729964   11.690314\n",
       "              min      0.750000    6.750000\n",
       "              25%     14.125000    7.854200\n",
       "              50%     21.500000   12.475000\n",
       "              75%     29.750000   20.221875\n",
       "              max     63.000000   69.550000\n",
       "male   1      count  101.000000  122.000000\n",
       "              mean    41.281386   67.226127\n",
       "              std     15.139570   77.548021\n",
       "              min      0.920000    0.000000\n",
       "              25%     30.000000   27.728100\n",
       "              50%     40.000000   41.262500\n",
       "              75%     51.000000   78.459375\n",
       "              max     80.000000  512.329200\n",
       "       2      count   99.000000  108.000000\n",
       "              mean    30.740707   19.741782\n",
       "              std     14.793894   14.922235\n",
       "              min      0.670000    0.000000\n",
       "              25%     23.000000   12.331250\n",
       "              50%     30.000000   13.000000\n",
       "              75%     36.750000   26.000000\n",
       "              max     70.000000   73.500000\n",
       "       3      count  253.000000  347.000000\n",
       "              mean    26.507589   12.661633\n",
       "              std     12.159514   11.681696\n",
       "              min      0.420000    0.000000\n",
       "              25%     20.000000    7.750000\n",
       "              50%     25.000000    7.925000\n",
       "              75%     33.000000   10.008300\n",
       "              max     74.000000   69.550000"
      ]
     },
     "execution_count": 40,
     "metadata": {},
     "output_type": "execute_result"
    }
   ],
   "source": [
    "titanic_by_sex_and_class[[\"Age\", \"Fare\"]].describe()"
   ]
  },
  {
   "cell_type": "markdown",
   "metadata": {},
   "source": [
    "### Data cleaning\n",
    "\n",
    "Columns to consider\n",
    "* Age == NaN\n",
    "* Ticket == Line\n",
    "* Cabin == NaN"
   ]
  },
  {
   "cell_type": "code",
   "execution_count": null,
   "metadata": {
    "collapsed": true
   },
   "outputs": [],
   "source": []
  }
 ],
 "metadata": {
  "kernelspec": {
   "display_name": "Python 3",
   "language": "python",
   "name": "python3"
  },
  "language_info": {
   "codemirror_mode": {
    "name": "ipython",
    "version": 3
   },
   "file_extension": ".py",
   "mimetype": "text/x-python",
   "name": "python",
   "nbconvert_exporter": "python",
   "pygments_lexer": "ipython3",
   "version": "3.4.4"
  }
 },
 "nbformat": 4,
 "nbformat_minor": 0
}
