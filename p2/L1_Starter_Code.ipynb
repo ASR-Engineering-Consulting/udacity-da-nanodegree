{
 "cells": [
  {
   "cell_type": "markdown",
   "metadata": {},
   "source": [
    "Before we get started, a couple of reminders to keep in mind when using iPython notebooks:\n",
    "\n",
    "- Remember that you can see from the left side of a code cell when it was last run if there is a number within the brackets.\n",
    "- When you start a new notebook session, make sure you run all of the cells up to the point where you last left off. Even if the output is still visible from when you ran the cells in your previous session, the kernel starts in a fresh state so you'll need to reload the data, etc. on a new session.\n",
    "- The previous point is useful to keep in mind if your answers do not match what is expected in the lesson's quizzes. Try reloading the data and run all of the processing steps one by one in order to make sure that you are working with the same variables and data that are at each quiz stage.\n",
    "\n",
    "\n",
    "## Load Data from CSVs"
   ]
  },
  {
   "cell_type": "code",
   "execution_count": 1,
   "metadata": {
    "collapsed": true
   },
   "outputs": [],
   "source": [
    "import unicodecsv\n",
    "\n",
    "## Longer version of code (replaced with shorter, equivalent version below)\n",
    "\n",
    "# enrollments = []\n",
    "# f = open('enrollments.csv', 'rb')\n",
    "# reader = unicodecsv.DictReader(f)\n",
    "# for row in reader:\n",
    "#     enrollments.append(row)\n",
    "# f.close()\n",
    "\n",
    "with open('enrollments.csv', 'rb') as f:\n",
    "    reader = unicodecsv.DictReader(f)\n",
    "    enrollments = list(reader)"
   ]
  },
  {
   "cell_type": "code",
   "execution_count": 2,
   "metadata": {
    "collapsed": false
   },
   "outputs": [
    {
     "name": "stdout",
     "output_type": "stream",
     "text": [
      "{'utc_date': '2015-01-09', 'total_minutes_visited': '11.6793745', 'projects_completed': '0.0', 'lessons_completed': '0.0', 'acct': '0', 'num_courses_visited': '1.0'}\n",
      "{'lesson_key': '3176718735', 'processing_state': 'EVALUATED', 'assigned_rating': 'UNGRADED', 'account_key': '256', 'completion_date': '2015-01-16', 'creation_date': '2015-01-14'}\n"
     ]
    }
   ],
   "source": [
    "#####################################\n",
    "#                 1                 #\n",
    "#####################################\n",
    "\n",
    "## Read in the data from daily_engagement.csv and project_submissions.csv \n",
    "## and store the results in the below variables.\n",
    "## Then look at the first row of each table.\n",
    "\n",
    "def csv_loader(file_name):\n",
    "    \"\"\"\n",
    "    Reads a CSV using unicodecsv module and returns a list\n",
    "    \"\"\"\n",
    "    with open(file_name, \"rb\") as f:\n",
    "        reader = unicodecsv.DictReader(f)\n",
    "        return list(reader)\n",
    "\n",
    "daily_engagement = csv_loader(\"daily_engagement.csv\")\n",
    "print(daily_engagement[0])\n",
    "project_submissions = csv_loader(\"project_submissions.csv\")\n",
    "print(project_submissions[0])"
   ]
  },
  {
   "cell_type": "markdown",
   "metadata": {},
   "source": [
    "## Fixing Data Types"
   ]
  },
  {
   "cell_type": "code",
   "execution_count": 3,
   "metadata": {
    "collapsed": false
   },
   "outputs": [
    {
     "data": {
      "text/plain": [
       "{'account_key': '448',\n",
       " 'cancel_date': datetime.datetime(2015, 1, 14, 0, 0),\n",
       " 'days_to_cancel': 65,\n",
       " 'is_canceled': True,\n",
       " 'is_udacity': True,\n",
       " 'join_date': datetime.datetime(2014, 11, 10, 0, 0),\n",
       " 'status': 'canceled'}"
      ]
     },
     "execution_count": 3,
     "metadata": {},
     "output_type": "execute_result"
    }
   ],
   "source": [
    "from datetime import datetime as dt\n",
    "\n",
    "# Takes a date as a string, and returns a Python datetime object. \n",
    "# If there is no date given, returns None\n",
    "def parse_date(date):\n",
    "    if date == '':\n",
    "        return None\n",
    "    else:\n",
    "        return dt.strptime(date, '%Y-%m-%d')\n",
    "    \n",
    "# Takes a string which is either an empty string or represents an integer,\n",
    "# and returns an int or None.\n",
    "def parse_maybe_int(i):\n",
    "    if i == '':\n",
    "        return None\n",
    "    else:\n",
    "        return int(i)\n",
    "\n",
    "# Clean up the data types in the enrollments table\n",
    "for enrollment in enrollments:\n",
    "    enrollment['cancel_date'] = parse_date(enrollment['cancel_date'])\n",
    "    enrollment['days_to_cancel'] = parse_maybe_int(enrollment['days_to_cancel'])\n",
    "    enrollment['is_canceled'] = enrollment['is_canceled'] == 'True'\n",
    "    enrollment['is_udacity'] = enrollment['is_udacity'] == 'True'\n",
    "    enrollment['join_date'] = parse_date(enrollment['join_date'])\n",
    "    \n",
    "enrollments[0]"
   ]
  },
  {
   "cell_type": "code",
   "execution_count": 4,
   "metadata": {
    "collapsed": false
   },
   "outputs": [
    {
     "data": {
      "text/plain": [
       "{'acct': '0',\n",
       " 'lessons_completed': 0,\n",
       " 'num_courses_visited': 1,\n",
       " 'projects_completed': 0,\n",
       " 'total_minutes_visited': 11.6793745,\n",
       " 'utc_date': datetime.datetime(2015, 1, 9, 0, 0)}"
      ]
     },
     "execution_count": 4,
     "metadata": {},
     "output_type": "execute_result"
    }
   ],
   "source": [
    "# Clean up the data types in the engagement table\n",
    "for engagement_record in daily_engagement:\n",
    "    engagement_record['lessons_completed'] = int(float(engagement_record['lessons_completed']))\n",
    "    engagement_record['num_courses_visited'] = int(float(engagement_record['num_courses_visited']))\n",
    "    engagement_record['projects_completed'] = int(float(engagement_record['projects_completed']))\n",
    "    engagement_record['total_minutes_visited'] = float(engagement_record['total_minutes_visited'])\n",
    "    engagement_record['utc_date'] = parse_date(engagement_record['utc_date'])\n",
    "    \n",
    "daily_engagement[0]"
   ]
  },
  {
   "cell_type": "code",
   "execution_count": 5,
   "metadata": {
    "collapsed": false
   },
   "outputs": [
    {
     "data": {
      "text/plain": [
       "{'account_key': '256',\n",
       " 'assigned_rating': 'UNGRADED',\n",
       " 'completion_date': datetime.datetime(2015, 1, 16, 0, 0),\n",
       " 'creation_date': datetime.datetime(2015, 1, 14, 0, 0),\n",
       " 'lesson_key': '3176718735',\n",
       " 'processing_state': 'EVALUATED'}"
      ]
     },
     "execution_count": 5,
     "metadata": {},
     "output_type": "execute_result"
    }
   ],
   "source": [
    "# Clean up the data types in the submissions table\n",
    "for submission in project_submissions:\n",
    "    submission['completion_date'] = parse_date(submission['completion_date'])\n",
    "    submission['creation_date'] = parse_date(submission['creation_date'])\n",
    "\n",
    "project_submissions[0]"
   ]
  },
  {
   "cell_type": "markdown",
   "metadata": {},
   "source": [
    "Note when running the above cells that we are actively changing the contents of our data variables. If you try to run these cells multiple times in the same session, an error will occur.\n",
    "\n",
    "## Investigating the Data"
   ]
  },
  {
   "cell_type": "code",
   "execution_count": 6,
   "metadata": {
    "collapsed": false
   },
   "outputs": [
    {
     "name": "stdout",
     "output_type": "stream",
     "text": [
      "1640 136240 3642\n"
     ]
    }
   ],
   "source": [
    "#####################################\n",
    "#                 2                 #\n",
    "#####################################\n",
    "\n",
    "## Find the total number of rows and the number of unique students (account keys)\n",
    "## in each table.\n",
    "\n",
    "# Part 1\n",
    "print(\n",
    "    len(enrollments),\n",
    "    len(daily_engagement),\n",
    "    len(project_submissions)\n",
    "    )\n",
    "\n"
   ]
  },
  {
   "cell_type": "code",
   "execution_count": 14,
   "metadata": {
    "collapsed": false
   },
   "outputs": [],
   "source": [
    "# Part 2\n",
    "def get_unique_students(file_name):\n",
    "    \"\"\"\n",
    "    Retrieves a list of unique account keys from the specified file\n",
    "    \"\"\"\n",
    "    unqiue_students = set()\n",
    "    for e in file_name:\n",
    "        unqiue_students.add(e[\"account_key\"])\n",
    "    return unqiue_students\n",
    "                            \n",
    "u_enrollments = get_unique_students(enrollments)\n",
    "u_daily_engagement = get_unique_students(daily_engagement)\n",
    "u_project_submissions = get_unique_students(project_submissions)"
   ]
  },
  {
   "cell_type": "code",
   "execution_count": 15,
   "metadata": {
    "collapsed": false
   },
   "outputs": [
    {
     "name": "stdout",
     "output_type": "stream",
     "text": [
      "1302 1237 743\n"
     ]
    }
   ],
   "source": [
    "print(\n",
    "    len(u_enrollments),\n",
    "    len(u_daily_engagement),\n",
    "    len(u_project_submissions)\n",
    "    )"
   ]
  },
  {
   "cell_type": "markdown",
   "metadata": {},
   "source": [
    "## Problems in the Data"
   ]
  },
  {
   "cell_type": "code",
   "execution_count": 13,
   "metadata": {
    "collapsed": false
   },
   "outputs": [
    {
     "ename": "KeyError",
     "evalue": "'acct'",
     "output_type": "error",
     "traceback": [
      "\u001b[1;31m---------------------------------------------------------------------------\u001b[0m",
      "\u001b[1;31mKeyError\u001b[0m                                  Traceback (most recent call last)",
      "\u001b[1;32m<ipython-input-13-b3e60fe7896b>\u001b[0m in \u001b[0;36m<module>\u001b[1;34m()\u001b[0m\n\u001b[0;32m      5\u001b[0m \u001b[1;31m## Rename the \"acct\" column in the daily_engagement table to \"account_key\".\u001b[0m\u001b[1;33m\u001b[0m\u001b[1;33m\u001b[0m\u001b[0m\n\u001b[0;32m      6\u001b[0m \u001b[1;32mfor\u001b[0m \u001b[0mengagement_record\u001b[0m \u001b[1;32min\u001b[0m \u001b[0mdaily_engagement\u001b[0m\u001b[1;33m:\u001b[0m\u001b[1;33m\u001b[0m\u001b[0m\n\u001b[1;32m----> 7\u001b[1;33m     \u001b[0mengagement_record\u001b[0m\u001b[1;33m[\u001b[0m\u001b[1;34m'account_key'\u001b[0m\u001b[1;33m]\u001b[0m \u001b[1;33m=\u001b[0m \u001b[0mengagement_record\u001b[0m\u001b[1;33m[\u001b[0m\u001b[1;34m'acct'\u001b[0m\u001b[1;33m]\u001b[0m\u001b[1;33m\u001b[0m\u001b[0m\n\u001b[0m\u001b[0;32m      8\u001b[0m     \u001b[1;32mdel\u001b[0m\u001b[1;33m[\u001b[0m\u001b[0mengagement_record\u001b[0m\u001b[1;33m[\u001b[0m\u001b[1;34m'acct'\u001b[0m\u001b[1;33m]\u001b[0m\u001b[1;33m]\u001b[0m\u001b[1;33m\u001b[0m\u001b[0m\n",
      "\u001b[1;31mKeyError\u001b[0m: 'acct'"
     ]
    }
   ],
   "source": [
    "#####################################\n",
    "#                 3                 #\n",
    "#####################################\n",
    "\n",
    "## Rename the \"acct\" column in the daily_engagement table to \"account_key\".\n",
    "for engagement_record in daily_engagement:\n",
    "    engagement_record['account_key'] = engagement_record['acct']\n",
    "    del[engagement_record['acct']]"
   ]
  },
  {
   "cell_type": "markdown",
   "metadata": {},
   "source": [
    "## Missing Engagement Records"
   ]
  },
  {
   "cell_type": "code",
   "execution_count": 16,
   "metadata": {
    "collapsed": false
   },
   "outputs": [
    {
     "name": "stdout",
     "output_type": "stream",
     "text": [
      "\n",
      " {'is_udacity': False, 'status': 'canceled', 'account_key': '1219', 'days_to_cancel': 0, 'cancel_date': datetime.datetime(2014, 11, 12, 0, 0), 'join_date': datetime.datetime(2014, 11, 12, 0, 0), 'is_canceled': True}\n",
      "\n",
      " {'is_udacity': False, 'status': 'canceled', 'account_key': '871', 'days_to_cancel': 0, 'cancel_date': datetime.datetime(2014, 11, 13, 0, 0), 'join_date': datetime.datetime(2014, 11, 13, 0, 0), 'is_canceled': True}\n",
      "\n",
      " {'is_udacity': False, 'status': 'canceled', 'account_key': '1218', 'days_to_cancel': 0, 'cancel_date': datetime.datetime(2014, 11, 15, 0, 0), 'join_date': datetime.datetime(2014, 11, 15, 0, 0), 'is_canceled': True}\n",
      "\n",
      " {'is_udacity': False, 'status': 'canceled', 'account_key': '654', 'days_to_cancel': 0, 'cancel_date': datetime.datetime(2014, 12, 4, 0, 0), 'join_date': datetime.datetime(2014, 12, 4, 0, 0), 'is_canceled': True}\n",
      "\n",
      " {'is_udacity': False, 'status': 'canceled', 'account_key': '654', 'days_to_cancel': 0, 'cancel_date': datetime.datetime(2014, 12, 4, 0, 0), 'join_date': datetime.datetime(2014, 12, 4, 0, 0), 'is_canceled': True}\n",
      "\n",
      " {'is_udacity': False, 'status': 'canceled', 'account_key': '654', 'days_to_cancel': 0, 'cancel_date': datetime.datetime(2014, 12, 3, 0, 0), 'join_date': datetime.datetime(2014, 12, 3, 0, 0), 'is_canceled': True}\n",
      "\n",
      " {'is_udacity': False, 'status': 'canceled', 'account_key': '964', 'days_to_cancel': 0, 'cancel_date': datetime.datetime(2014, 12, 4, 0, 0), 'join_date': datetime.datetime(2014, 12, 4, 0, 0), 'is_canceled': True}\n",
      "\n",
      " {'is_udacity': False, 'status': 'canceled', 'account_key': '817', 'days_to_cancel': 0, 'cancel_date': datetime.datetime(2014, 12, 9, 0, 0), 'join_date': datetime.datetime(2014, 12, 9, 0, 0), 'is_canceled': True}\n",
      "\n",
      " {'is_udacity': False, 'status': 'canceled', 'account_key': '1171', 'days_to_cancel': 0, 'cancel_date': datetime.datetime(2015, 1, 7, 0, 0), 'join_date': datetime.datetime(2015, 1, 7, 0, 0), 'is_canceled': True}\n",
      "\n",
      " {'is_udacity': False, 'status': 'canceled', 'account_key': '884', 'days_to_cancel': 0, 'cancel_date': datetime.datetime(2015, 1, 8, 0, 0), 'join_date': datetime.datetime(2015, 1, 8, 0, 0), 'is_canceled': True}\n",
      "\n",
      " {'is_udacity': False, 'status': 'canceled', 'account_key': '875', 'days_to_cancel': 0, 'cancel_date': datetime.datetime(2014, 11, 17, 0, 0), 'join_date': datetime.datetime(2014, 11, 17, 0, 0), 'is_canceled': True}\n",
      "\n",
      " {'is_udacity': False, 'status': 'canceled', 'account_key': '1120', 'days_to_cancel': 0, 'cancel_date': datetime.datetime(2014, 12, 4, 0, 0), 'join_date': datetime.datetime(2014, 12, 4, 0, 0), 'is_canceled': True}\n",
      "\n",
      " {'is_udacity': False, 'status': 'canceled', 'account_key': '728', 'days_to_cancel': 0, 'cancel_date': datetime.datetime(2014, 12, 5, 0, 0), 'join_date': datetime.datetime(2014, 12, 5, 0, 0), 'is_canceled': True}\n",
      "\n",
      " {'is_udacity': False, 'status': 'canceled', 'account_key': '1191', 'days_to_cancel': 0, 'cancel_date': datetime.datetime(2015, 1, 11, 0, 0), 'join_date': datetime.datetime(2015, 1, 11, 0, 0), 'is_canceled': True}\n",
      "\n",
      " {'is_udacity': True, 'status': 'canceled', 'account_key': '1304', 'days_to_cancel': 59, 'cancel_date': datetime.datetime(2015, 3, 10, 0, 0), 'join_date': datetime.datetime(2015, 1, 10, 0, 0), 'is_canceled': True}\n",
      "\n",
      " {'is_udacity': True, 'status': 'canceled', 'account_key': '1304', 'days_to_cancel': 99, 'cancel_date': datetime.datetime(2015, 6, 17, 0, 0), 'join_date': datetime.datetime(2015, 3, 10, 0, 0), 'is_canceled': True}\n",
      "\n",
      " {'is_udacity': False, 'status': 'canceled', 'account_key': '1010', 'days_to_cancel': 0, 'cancel_date': datetime.datetime(2015, 1, 11, 0, 0), 'join_date': datetime.datetime(2015, 1, 11, 0, 0), 'is_canceled': True}\n",
      "\n",
      " {'is_udacity': False, 'status': 'canceled', 'account_key': '841', 'days_to_cancel': 0, 'cancel_date': datetime.datetime(2014, 11, 12, 0, 0), 'join_date': datetime.datetime(2014, 11, 12, 0, 0), 'is_canceled': True}\n",
      "\n",
      " {'is_udacity': False, 'status': 'canceled', 'account_key': '707', 'days_to_cancel': 0, 'cancel_date': datetime.datetime(2014, 12, 3, 0, 0), 'join_date': datetime.datetime(2014, 12, 3, 0, 0), 'is_canceled': True}\n",
      "\n",
      " {'is_udacity': False, 'status': 'canceled', 'account_key': '717', 'days_to_cancel': 0, 'cancel_date': datetime.datetime(2014, 12, 4, 0, 0), 'join_date': datetime.datetime(2014, 12, 4, 0, 0), 'is_canceled': True}\n",
      "\n",
      " {'is_udacity': False, 'status': 'canceled', 'account_key': '727', 'days_to_cancel': 0, 'cancel_date': datetime.datetime(2014, 12, 7, 0, 0), 'join_date': datetime.datetime(2014, 12, 7, 0, 0), 'is_canceled': True}\n",
      "\n",
      " {'is_udacity': False, 'status': 'canceled', 'account_key': '1273', 'days_to_cancel': 0, 'cancel_date': datetime.datetime(2015, 1, 12, 0, 0), 'join_date': datetime.datetime(2015, 1, 12, 0, 0), 'is_canceled': True}\n",
      "\n",
      " {'is_udacity': False, 'status': 'canceled', 'account_key': '1238', 'days_to_cancel': 0, 'cancel_date': datetime.datetime(2014, 11, 10, 0, 0), 'join_date': datetime.datetime(2014, 11, 10, 0, 0), 'is_canceled': True}\n",
      "\n",
      " {'is_udacity': False, 'status': 'canceled', 'account_key': '1044', 'days_to_cancel': 0, 'cancel_date': datetime.datetime(2015, 2, 8, 0, 0), 'join_date': datetime.datetime(2015, 2, 8, 0, 0), 'is_canceled': True}\n",
      "\n",
      " {'is_udacity': False, 'status': 'canceled', 'account_key': '749', 'days_to_cancel': 0, 'cancel_date': datetime.datetime(2015, 3, 5, 0, 0), 'join_date': datetime.datetime(2015, 3, 5, 0, 0), 'is_canceled': True}\n",
      "\n",
      " {'is_udacity': False, 'status': 'canceled', 'account_key': '1129', 'days_to_cancel': 0, 'cancel_date': datetime.datetime(2015, 3, 7, 0, 0), 'join_date': datetime.datetime(2015, 3, 7, 0, 0), 'is_canceled': True}\n",
      "\n",
      " {'is_udacity': False, 'status': 'canceled', 'account_key': '1129', 'days_to_cancel': 0, 'cancel_date': datetime.datetime(2015, 2, 11, 0, 0), 'join_date': datetime.datetime(2015, 2, 11, 0, 0), 'is_canceled': True}\n",
      "\n",
      " {'is_udacity': False, 'status': 'canceled', 'account_key': '926', 'days_to_cancel': 0, 'cancel_date': datetime.datetime(2015, 4, 6, 0, 0), 'join_date': datetime.datetime(2015, 4, 6, 0, 0), 'is_canceled': True}\n",
      "\n",
      " {'is_udacity': False, 'status': 'canceled', 'account_key': '711', 'days_to_cancel': 0, 'cancel_date': datetime.datetime(2015, 5, 8, 0, 0), 'join_date': datetime.datetime(2015, 5, 8, 0, 0), 'is_canceled': True}\n",
      "\n",
      " {'is_udacity': False, 'status': 'canceled', 'account_key': '803', 'days_to_cancel': 0, 'cancel_date': datetime.datetime(2015, 1, 8, 0, 0), 'join_date': datetime.datetime(2015, 1, 8, 0, 0), 'is_canceled': True}\n",
      "\n",
      " {'is_udacity': False, 'status': 'canceled', 'account_key': '799', 'days_to_cancel': 0, 'cancel_date': datetime.datetime(2015, 2, 6, 0, 0), 'join_date': datetime.datetime(2015, 2, 6, 0, 0), 'is_canceled': True}\n",
      "\n",
      " {'is_udacity': False, 'status': 'canceled', 'account_key': '789', 'days_to_cancel': 0, 'cancel_date': datetime.datetime(2015, 2, 6, 0, 0), 'join_date': datetime.datetime(2015, 2, 6, 0, 0), 'is_canceled': True}\n",
      "\n",
      " {'is_udacity': False, 'status': 'canceled', 'account_key': '819', 'days_to_cancel': 0, 'cancel_date': datetime.datetime(2015, 3, 4, 0, 0), 'join_date': datetime.datetime(2015, 3, 4, 0, 0), 'is_canceled': True}\n",
      "\n",
      " {'is_udacity': False, 'status': 'canceled', 'account_key': '819', 'days_to_cancel': 0, 'cancel_date': datetime.datetime(2015, 3, 4, 0, 0), 'join_date': datetime.datetime(2015, 3, 4, 0, 0), 'is_canceled': True}\n",
      "\n",
      " {'is_udacity': False, 'status': 'canceled', 'account_key': '902', 'days_to_cancel': 0, 'cancel_date': datetime.datetime(2015, 5, 29, 0, 0), 'join_date': datetime.datetime(2015, 5, 29, 0, 0), 'is_canceled': True}\n",
      "\n",
      " {'is_udacity': False, 'status': 'canceled', 'account_key': '996', 'days_to_cancel': 0, 'cancel_date': datetime.datetime(2015, 5, 29, 0, 0), 'join_date': datetime.datetime(2015, 5, 29, 0, 0), 'is_canceled': True}\n",
      "\n",
      " {'is_udacity': False, 'status': 'canceled', 'account_key': '1213', 'days_to_cancel': 0, 'cancel_date': datetime.datetime(2015, 1, 12, 0, 0), 'join_date': datetime.datetime(2015, 1, 12, 0, 0), 'is_canceled': True}\n",
      "\n",
      " {'is_udacity': False, 'status': 'canceled', 'account_key': '733', 'days_to_cancel': 0, 'cancel_date': datetime.datetime(2015, 1, 12, 0, 0), 'join_date': datetime.datetime(2015, 1, 12, 0, 0), 'is_canceled': True}\n",
      "\n",
      " {'is_udacity': False, 'status': 'canceled', 'account_key': '1237', 'days_to_cancel': 0, 'cancel_date': datetime.datetime(2015, 5, 28, 0, 0), 'join_date': datetime.datetime(2015, 5, 28, 0, 0), 'is_canceled': True}\n",
      "\n",
      " {'is_udacity': True, 'status': 'canceled', 'account_key': '1069', 'days_to_cancel': 0, 'cancel_date': datetime.datetime(2015, 6, 1, 0, 0), 'join_date': datetime.datetime(2015, 6, 1, 0, 0), 'is_canceled': True}\n",
      "\n",
      " {'is_udacity': False, 'status': 'canceled', 'account_key': '1086', 'days_to_cancel': 0, 'cancel_date': datetime.datetime(2015, 6, 9, 0, 0), 'join_date': datetime.datetime(2015, 6, 9, 0, 0), 'is_canceled': True}\n",
      "\n",
      " {'is_udacity': False, 'status': 'canceled', 'account_key': '1190', 'days_to_cancel': 0, 'cancel_date': datetime.datetime(2015, 3, 6, 0, 0), 'join_date': datetime.datetime(2015, 3, 6, 0, 0), 'is_canceled': True}\n",
      "\n",
      " {'is_udacity': False, 'status': 'canceled', 'account_key': '914', 'days_to_cancel': 0, 'cancel_date': datetime.datetime(2015, 4, 2, 0, 0), 'join_date': datetime.datetime(2015, 4, 2, 0, 0), 'is_canceled': True}\n",
      "\n",
      " {'is_udacity': False, 'status': 'canceled', 'account_key': '914', 'days_to_cancel': 0, 'cancel_date': datetime.datetime(2015, 7, 17, 0, 0), 'join_date': datetime.datetime(2015, 7, 17, 0, 0), 'is_canceled': True}\n",
      "\n",
      " {'is_udacity': False, 'status': 'canceled', 'account_key': '968', 'days_to_cancel': 0, 'cancel_date': datetime.datetime(2015, 7, 17, 0, 0), 'join_date': datetime.datetime(2015, 7, 17, 0, 0), 'is_canceled': True}\n",
      "\n",
      " {'is_udacity': False, 'status': 'canceled', 'account_key': '1155', 'days_to_cancel': 0, 'cancel_date': datetime.datetime(2015, 7, 17, 0, 0), 'join_date': datetime.datetime(2015, 7, 17, 0, 0), 'is_canceled': True}\n",
      "\n",
      " {'is_udacity': False, 'status': 'canceled', 'account_key': '766', 'days_to_cancel': 0, 'cancel_date': datetime.datetime(2015, 5, 10, 0, 0), 'join_date': datetime.datetime(2015, 5, 10, 0, 0), 'is_canceled': True}\n",
      "\n",
      " {'is_udacity': False, 'status': 'canceled', 'account_key': '739', 'days_to_cancel': 0, 'cancel_date': datetime.datetime(2015, 4, 5, 0, 0), 'join_date': datetime.datetime(2015, 4, 5, 0, 0), 'is_canceled': True}\n",
      "\n",
      " {'is_udacity': False, 'status': 'canceled', 'account_key': '1222', 'days_to_cancel': 0, 'cancel_date': datetime.datetime(2015, 4, 7, 0, 0), 'join_date': datetime.datetime(2015, 4, 7, 0, 0), 'is_canceled': True}\n",
      "\n",
      " {'is_udacity': False, 'status': 'canceled', 'account_key': '1125', 'days_to_cancel': 0, 'cancel_date': datetime.datetime(2015, 5, 31, 0, 0), 'join_date': datetime.datetime(2015, 5, 31, 0, 0), 'is_canceled': True}\n",
      "\n",
      " {'is_udacity': False, 'status': 'canceled', 'account_key': '1025', 'days_to_cancel': 0, 'cancel_date': datetime.datetime(2015, 6, 7, 0, 0), 'join_date': datetime.datetime(2015, 6, 7, 0, 0), 'is_canceled': True}\n",
      "\n",
      " {'is_udacity': False, 'status': 'canceled', 'account_key': '750', 'days_to_cancel': 0, 'cancel_date': datetime.datetime(2015, 6, 6, 0, 0), 'join_date': datetime.datetime(2015, 6, 6, 0, 0), 'is_canceled': True}\n",
      "\n",
      " {'is_udacity': False, 'status': 'canceled', 'account_key': '889', 'days_to_cancel': 0, 'cancel_date': datetime.datetime(2015, 8, 11, 0, 0), 'join_date': datetime.datetime(2015, 8, 11, 0, 0), 'is_canceled': True}\n",
      "\n",
      " {'is_udacity': False, 'status': 'canceled', 'account_key': '737', 'days_to_cancel': 0, 'cancel_date': datetime.datetime(2014, 11, 10, 0, 0), 'join_date': datetime.datetime(2014, 11, 10, 0, 0), 'is_canceled': True}\n",
      "\n",
      " {'is_udacity': False, 'status': 'canceled', 'account_key': '878', 'days_to_cancel': 0, 'cancel_date': datetime.datetime(2014, 11, 10, 0, 0), 'join_date': datetime.datetime(2014, 11, 10, 0, 0), 'is_canceled': True}\n",
      "\n",
      " {'is_udacity': False, 'status': 'canceled', 'account_key': '981', 'days_to_cancel': 0, 'cancel_date': datetime.datetime(2015, 2, 7, 0, 0), 'join_date': datetime.datetime(2015, 2, 7, 0, 0), 'is_canceled': True}\n",
      "\n",
      " {'is_udacity': True, 'status': 'current', 'account_key': '1101', 'days_to_cancel': None, 'cancel_date': None, 'join_date': datetime.datetime(2015, 2, 25, 0, 0), 'is_canceled': False}\n",
      "\n",
      " {'is_udacity': False, 'status': 'canceled', 'account_key': '1148', 'days_to_cancel': 0, 'cancel_date': datetime.datetime(2015, 3, 9, 0, 0), 'join_date': datetime.datetime(2015, 3, 9, 0, 0), 'is_canceled': True}\n",
      "\n",
      " {'is_udacity': False, 'status': 'canceled', 'account_key': '1186', 'days_to_cancel': 0, 'cancel_date': datetime.datetime(2015, 3, 11, 0, 0), 'join_date': datetime.datetime(2015, 3, 11, 0, 0), 'is_canceled': True}\n",
      "\n",
      " {'is_udacity': False, 'status': 'canceled', 'account_key': '725', 'days_to_cancel': 0, 'cancel_date': datetime.datetime(2014, 12, 6, 0, 0), 'join_date': datetime.datetime(2014, 12, 6, 0, 0), 'is_canceled': True}\n",
      "\n",
      " {'is_udacity': False, 'status': 'canceled', 'account_key': '1145', 'days_to_cancel': 0, 'cancel_date': datetime.datetime(2015, 4, 4, 0, 0), 'join_date': datetime.datetime(2015, 4, 4, 0, 0), 'is_canceled': True}\n",
      "\n",
      " {'is_udacity': False, 'status': 'canceled', 'account_key': '802', 'days_to_cancel': 0, 'cancel_date': datetime.datetime(2015, 1, 8, 0, 0), 'join_date': datetime.datetime(2015, 1, 8, 0, 0), 'is_canceled': True}\n",
      "\n",
      " {'is_udacity': False, 'status': 'canceled', 'account_key': '664', 'days_to_cancel': 0, 'cancel_date': datetime.datetime(2015, 1, 8, 0, 0), 'join_date': datetime.datetime(2015, 1, 8, 0, 0), 'is_canceled': True}\n",
      "\n",
      " {'is_udacity': False, 'status': 'canceled', 'account_key': '997', 'days_to_cancel': 0, 'cancel_date': datetime.datetime(2015, 1, 12, 0, 0), 'join_date': datetime.datetime(2015, 1, 12, 0, 0), 'is_canceled': True}\n",
      "\n",
      " {'is_udacity': False, 'status': 'canceled', 'account_key': '870', 'days_to_cancel': 0, 'cancel_date': datetime.datetime(2015, 5, 12, 0, 0), 'join_date': datetime.datetime(2015, 5, 12, 0, 0), 'is_canceled': True}\n",
      "\n",
      " {'is_udacity': False, 'status': 'canceled', 'account_key': '1284', 'days_to_cancel': 0, 'cancel_date': datetime.datetime(2015, 1, 13, 0, 0), 'join_date': datetime.datetime(2015, 1, 13, 0, 0), 'is_canceled': True}\n",
      "\n",
      " {'is_udacity': False, 'status': 'canceled', 'account_key': '1079', 'days_to_cancel': 0, 'cancel_date': datetime.datetime(2015, 2, 9, 0, 0), 'join_date': datetime.datetime(2015, 2, 9, 0, 0), 'is_canceled': True}\n",
      "\n",
      " {'is_udacity': False, 'status': 'canceled', 'account_key': '1063', 'days_to_cancel': 0, 'cancel_date': datetime.datetime(2015, 7, 14, 0, 0), 'join_date': datetime.datetime(2015, 7, 14, 0, 0), 'is_canceled': True}\n",
      "\n",
      " {'is_udacity': False, 'status': 'canceled', 'account_key': '1270', 'days_to_cancel': 0, 'cancel_date': datetime.datetime(2015, 7, 20, 0, 0), 'join_date': datetime.datetime(2015, 7, 20, 0, 0), 'is_canceled': True}\n",
      "\n",
      " {'is_udacity': False, 'status': 'canceled', 'account_key': '1291', 'days_to_cancel': 0, 'cancel_date': datetime.datetime(2015, 6, 3, 0, 0), 'join_date': datetime.datetime(2015, 6, 3, 0, 0), 'is_canceled': True}\n",
      "\n",
      " {'is_udacity': False, 'status': 'canceled', 'account_key': '1241', 'days_to_cancel': 0, 'cancel_date': datetime.datetime(2015, 6, 9, 0, 0), 'join_date': datetime.datetime(2015, 6, 9, 0, 0), 'is_canceled': True}\n"
     ]
    }
   ],
   "source": [
    "#####################################\n",
    "#                 4                 #\n",
    "#####################################\n",
    "\n",
    "## Find any one student enrollments where the student is missing from the daily engagement table.\n",
    "## Output that enrollment.\n",
    "\n",
    "for e in enrollments:\n",
    "    if e[\"account_key\"] not in u_daily_engagement:\n",
    "        print(\"\\n\", e)"
   ]
  },
  {
   "cell_type": "markdown",
   "metadata": {},
   "source": [
    "## Checking for More Problem Records"
   ]
  },
  {
   "cell_type": "code",
   "execution_count": 18,
   "metadata": {
    "collapsed": false
   },
   "outputs": [
    {
     "name": "stdout",
     "output_type": "stream",
     "text": [
      "\n",
      " Index: 467 \n",
      " Correspoinding record: \n",
      " {'is_udacity': True, 'status': 'canceled', 'account_key': '1304', 'days_to_cancel': 59, 'cancel_date': datetime.datetime(2015, 3, 10, 0, 0), 'join_date': datetime.datetime(2015, 1, 10, 0, 0), 'is_canceled': True}\n",
      "\n",
      " Index: 468 \n",
      " Correspoinding record: \n",
      " {'is_udacity': True, 'status': 'canceled', 'account_key': '1304', 'days_to_cancel': 99, 'cancel_date': datetime.datetime(2015, 6, 17, 0, 0), 'join_date': datetime.datetime(2015, 3, 10, 0, 0), 'is_canceled': True}\n",
      "\n",
      " Index: 1378 \n",
      " Correspoinding record: \n",
      " {'is_udacity': True, 'status': 'current', 'account_key': '1101', 'days_to_cancel': None, 'cancel_date': None, 'join_date': datetime.datetime(2015, 2, 25, 0, 0), 'is_canceled': False}\n"
     ]
    }
   ],
   "source": [
    "#####################################\n",
    "#                 5                 #\n",
    "#####################################\n",
    "\n",
    "## Find the number of surprising data points (enrollments missing from\n",
    "## the engagement table) that remain, if any.\n",
    "\n",
    "for ix, e in enumerate(enrollments):\n",
    "    if e[\"account_key\"] not in u_daily_engagement and e[\"join_date\"] != e[\"cancel_date\"]:\n",
    "        print(\"\\n\", \"Index: %i\" % ix, \"\\n Correspoinding record: \\n %s\" % e)"
   ]
  },
  {
   "cell_type": "markdown",
   "metadata": {},
   "source": [
    "## Tracking Down the Remaining Problems"
   ]
  },
  {
   "cell_type": "code",
   "execution_count": 19,
   "metadata": {
    "collapsed": false
   },
   "outputs": [
    {
     "data": {
      "text/plain": [
       "6"
      ]
     },
     "execution_count": 19,
     "metadata": {},
     "output_type": "execute_result"
    }
   ],
   "source": [
    "# Create a set of the account keys for all Udacity test accounts\n",
    "udacity_test_accounts = set()\n",
    "for enrollment in enrollments:\n",
    "    if enrollment['is_udacity']:\n",
    "        udacity_test_accounts.add(enrollment['account_key'])\n",
    "len(udacity_test_accounts)"
   ]
  },
  {
   "cell_type": "code",
   "execution_count": 20,
   "metadata": {
    "collapsed": true
   },
   "outputs": [],
   "source": [
    "# Given some data with an account_key field, removes any records corresponding to Udacity test accounts\n",
    "def remove_udacity_accounts(data):\n",
    "    non_udacity_data = []\n",
    "    for data_point in data:\n",
    "        if data_point['account_key'] not in udacity_test_accounts:\n",
    "            non_udacity_data.append(data_point)\n",
    "    return non_udacity_data"
   ]
  },
  {
   "cell_type": "code",
   "execution_count": 21,
   "metadata": {
    "collapsed": false
   },
   "outputs": [
    {
     "name": "stdout",
     "output_type": "stream",
     "text": [
      "1622 135656 3634\n"
     ]
    }
   ],
   "source": [
    "# Remove Udacity test accounts from all three tables\n",
    "non_udacity_enrollments = remove_udacity_accounts(enrollments)\n",
    "non_udacity_engagement = remove_udacity_accounts(daily_engagement)\n",
    "non_udacity_submissions = remove_udacity_accounts(project_submissions)\n",
    "\n",
    "print(\n",
    "    len(non_udacity_enrollments),\n",
    "    len(non_udacity_engagement),\n",
    "    len(non_udacity_submissions))"
   ]
  },
  {
   "cell_type": "markdown",
   "metadata": {},
   "source": [
    "## Refining the Question"
   ]
  },
  {
   "cell_type": "code",
   "execution_count": 22,
   "metadata": {
    "collapsed": false
   },
   "outputs": [
    {
     "data": {
      "text/plain": [
       "995"
      ]
     },
     "execution_count": 22,
     "metadata": {},
     "output_type": "execute_result"
    }
   ],
   "source": [
    "#####################################\n",
    "#                 6                 #\n",
    "#####################################\n",
    "\n",
    "## Create a dictionary named paid_students containing all students who either\n",
    "## haven't canceled yet or who remained enrolled for more than 7 days. The keys\n",
    "## should be account keys, and the values should be the date the student enrolled.\n",
    "\n",
    "paid_students = dict()\n",
    "\n",
    "for e in non_udacity_enrollments:\n",
    "    # check wether days_to_cancel == None or days_to_cancel > 7\n",
    "    if e[\"days_to_cancel\"] == None or e[\"days_to_cancel\"] > 7:\n",
    "        # store account key and join date in temporary variables\n",
    "        temp_key = e[\"account_key\"]\n",
    "        temp_date = e[\"join_date\"]\n",
    "        # check wether account key already exists in temp variable or if join date > existing join date\n",
    "        if temp_key not in paid_students or temp_date > paid_students[temp_key]:\n",
    "            # add account_key and enrollment_date to\n",
    "            paid_students[temp_key] = temp_date\n",
    "        \n",
    "len(paid_students)"
   ]
  },
  {
   "cell_type": "markdown",
   "metadata": {},
   "source": [
    "## Getting Data from First Week"
   ]
  },
  {
   "cell_type": "code",
   "execution_count": 23,
   "metadata": {
    "collapsed": true
   },
   "outputs": [],
   "source": [
    "# Takes a student's join date and the date of a specific engagement record,\n",
    "# and returns True if that engagement record happened within one week\n",
    "# of the student joining.\n",
    "def within_one_week(join_date, engagement_date):\n",
    "    time_delta = engagement_date - join_date\n",
    "    return time_delta.days >= 0 and time_delta.days < 7"
   ]
  },
  {
   "cell_type": "code",
   "execution_count": 24,
   "metadata": {
    "collapsed": true
   },
   "outputs": [],
   "source": [
    "def remove_free_trial_cancels(data):\n",
    "    new_data = []\n",
    "    for data_point in data:\n",
    "        if data_point['account_key'] in paid_students:\n",
    "            new_data.append(data_point)\n",
    "    return new_data\n",
    "\n",
    "paid_enrollments = remove_free_trial_cancels(non_udacity_enrollments)\n",
    "paid_engagement = remove_free_trial_cancels(non_udacity_engagement)\n",
    "paid_submissions = remove_free_trial_cancels(non_udacity_submissions)"
   ]
  },
  {
   "cell_type": "code",
   "execution_count": 25,
   "metadata": {
    "collapsed": false
   },
   "outputs": [
    {
     "data": {
      "text/plain": [
       "6919"
      ]
     },
     "execution_count": 25,
     "metadata": {},
     "output_type": "execute_result"
    }
   ],
   "source": [
    "#####################################\n",
    "#                 7                 #\n",
    "#####################################\n",
    "\n",
    "## Create a list of rows from the engagement table including only rows where\n",
    "## the student is one of the paid students you just found, and the date is within\n",
    "## one week of the student's join date.\n",
    "\n",
    "paid_engagement_in_first_week = []\n",
    "\n",
    "# loop over engagements\n",
    "for e in non_udacity_engagement:\n",
    "    # check if student is in paid students and if engagement date is valid\n",
    "    if e[\"account_key\"] in paid_students and within_one_week(paid_students[e[\"account_key\"]], e[\"utc_date\"]) == True:\n",
    "        paid_engagement_in_first_week.append(e)\n",
    "    \n",
    "len(paid_engagement_in_first_week)"
   ]
  },
  {
   "cell_type": "markdown",
   "metadata": {},
   "source": [
    "## Exploring Student Engagement"
   ]
  },
  {
   "cell_type": "code",
   "execution_count": 26,
   "metadata": {
    "collapsed": true
   },
   "outputs": [],
   "source": [
    "from collections import defaultdict\n",
    "\n",
    "# Create a dictionary of engagement grouped by student.\n",
    "# The keys are account keys, and the values are lists of engagement records.\n",
    "engagement_by_account = defaultdict(list)\n",
    "for engagement_record in paid_engagement_in_first_week:\n",
    "    account_key = engagement_record['account_key']\n",
    "    engagement_by_account[account_key].append(engagement_record)"
   ]
  },
  {
   "cell_type": "code",
   "execution_count": 27,
   "metadata": {
    "collapsed": true
   },
   "outputs": [],
   "source": [
    "# Create a dictionary with the total minutes each student spent in the classroom during the first week.\n",
    "# The keys are account keys, and the values are numbers (total minutes)\n",
    "total_minutes_by_account = {}\n",
    "for account_key, engagement_for_student in engagement_by_account.items():\n",
    "    total_minutes = 0\n",
    "    for engagement_record in engagement_for_student:\n",
    "        total_minutes += engagement_record['total_minutes_visited']\n",
    "    total_minutes_by_account[account_key] = total_minutes"
   ]
  },
  {
   "cell_type": "code",
   "execution_count": 28,
   "metadata": {
    "collapsed": false
   },
   "outputs": [
    {
     "name": "stdout",
     "output_type": "stream",
     "text": [
      "Mean: 306.708326753\n",
      "Standard deviation: 412.996933409\n",
      "Minimum: 0.0\n",
      "Maximum: 3564.7332645\n"
     ]
    }
   ],
   "source": [
    "import numpy as np\n",
    "\n",
    "# Summarize the data about minutes spent in the classroom\n",
    "total_minutes = list(total_minutes_by_account.values())\n",
    "\n",
    "print('Mean:', np.mean(total_minutes))\n",
    "print('Standard deviation:', np.std(total_minutes))\n",
    "print('Minimum:', np.min(total_minutes))\n",
    "print('Maximum:', np.max(total_minutes))"
   ]
  },
  {
   "cell_type": "markdown",
   "metadata": {},
   "source": [
    "## Debugging Data Analysis Code"
   ]
  },
  {
   "cell_type": "code",
   "execution_count": 29,
   "metadata": {
    "collapsed": false
   },
   "outputs": [],
   "source": [
    "#####################################\n",
    "#                 8                 #\n",
    "#####################################\n",
    "\n",
    "## Go through a similar process as before to see if there is a problem.\n",
    "## Locate at least one surprising piece of data, output it, and take a look at it.\n",
    "\n",
    "for k,v in total_minutes_by_account.items():\n",
    "    if v > 7200:\n",
    "        print(\"\\n\", \"account key: \", k, \"value: \", v)"
   ]
  },
  {
   "cell_type": "code",
   "execution_count": 30,
   "metadata": {
    "collapsed": false
   },
   "outputs": [
    {
     "name": "stdout",
     "output_type": "stream",
     "text": [
      "{'utc_date': datetime.datetime(2015, 1, 9, 0, 0), 'account_key': '0', 'total_minutes_visited': 11.6793745, 'projects_completed': 0, 'lessons_completed': 0, 'num_courses_visited': 1} {'utc_date': datetime.datetime(2015, 1, 9, 0, 0), 'account_key': '0', 'total_minutes_visited': 11.6793745, 'projects_completed': 0, 'lessons_completed': 0, 'num_courses_visited': 1} {'utc_date': datetime.datetime(2015, 1, 9, 0, 0), 'account_key': '0', 'total_minutes_visited': 11.6793745, 'projects_completed': 0, 'lessons_completed': 0, 'num_courses_visited': 1} {'utc_date': datetime.datetime(2015, 1, 9, 0, 0), 'account_key': '0', 'total_minutes_visited': 11.6793745, 'projects_completed': 0, 'lessons_completed': 0, 'num_courses_visited': 1}\n"
     ]
    }
   ],
   "source": [
    "print(\n",
    "    paid_engagement_in_first_week[\"account_key\" == 460],\n",
    "    paid_engagement_in_first_week[\"account_key\" == 140],\n",
    "    paid_engagement_in_first_week[\"account_key\" == 108],\n",
    "    paid_engagement_in_first_week[\"account_key\" == 78]\n",
    ")"
   ]
  },
  {
   "cell_type": "markdown",
   "metadata": {},
   "source": [
    "## Lessons Completed in First Week"
   ]
  },
  {
   "cell_type": "code",
   "execution_count": 59,
   "metadata": {
    "collapsed": false
   },
   "outputs": [
    {
     "name": "stdout",
     "output_type": "stream",
     "text": [
      "Mean: 1.636181 Standard deviation: 3.002561 Min: 0.000000 Max: 36.000000\n"
     ]
    },
    {
     "data": {
      "image/png": "[encoded data removed]",
      "text/plain": [
       "<matplotlib.figure.Figure at 0xcb06a20>"
      ]
     },
     "metadata": {},
     "output_type": "display_data"
    }
   ],
   "source": [
    "#####################################\n",
    "#                 9                 #\n",
    "#####################################\n",
    "\n",
    "## Adapt the code above to find the mean, standard deviation, minimum, and maximum for\n",
    "## the number of lessons completed by each student during the first week. Try creating\n",
    "## one or more functions to re-use the code above.\n",
    "\n",
    "def group_data(data, key_name):\n",
    "    \"\"\"\n",
    "    Given data in dict form and a key, the function returns a grouped data set\n",
    "    \"\"\"\n",
    "    grouped_data = defaultdict(list)\n",
    "    \n",
    "    for e in data:\n",
    "        key = e[key_name]\n",
    "        grouped_data[key].append(e)\n",
    "    return grouped_data\n",
    "\n",
    "engagement_by_account = group_data(paid_engagement_in_first_week, \"account_key\")\n",
    "\n",
    "def sum_grouped_data(data, field_name):\n",
    "    \"\"\"\n",
    "    Given data in dict form and a field name, the function returns sum of the field name per key\n",
    "    \"\"\"\n",
    "    summed_data = {}\n",
    "    \n",
    "    for key, values in data.items():\n",
    "        total = 0\n",
    "        for value in values:\n",
    "            total += value[field_name]\n",
    "        summed_data[key] = total\n",
    "    return summed_data\n",
    "\n",
    "total_lessons_per_account = sum_grouped_data(engagement_by_account, \"lessons_completed\")\n",
    "    \n",
    "def describe_data(data):\n",
    "    \"\"\"\n",
    "    Given a dataset the function returns mean, std. deviation, min and max\n",
    "    \"\"\"\n",
    "    print(\n",
    "        \"Mean: %f\" % np.mean(data),\n",
    "        \"Standard deviation: %f\" % np.std(data),\n",
    "        \"Min: %f\" % np.min(data),\n",
    "        \"Max: %f\" % np.max(data))\n",
    "    plt.hist(data)\n",
    "    \n",
    "describe_data(list(total_lessons_per_account.values()))"
   ]
  },
  {
   "cell_type": "markdown",
   "metadata": {},
   "source": [
    "## Number of Visits in First Week"
   ]
  },
  {
   "cell_type": "code",
   "execution_count": 32,
   "metadata": {
    "collapsed": false
   },
   "outputs": [],
   "source": [
    "######################################\n",
    "#                 10                 #\n",
    "######################################\n",
    "\n",
    "## Find the mean, standard deviation, minimum, and maximum for the number of\n",
    "## days each student visits the classroom during the first week.\n",
    "\n",
    "for el in paid_engagement_in_first_week:\n",
    "    if el[\"num_courses_visited\"] > 0:\n",
    "        el[\"has_visited\"] = 1\n",
    "    else:\n",
    "        el[\"has_visited\"] = 0"
   ]
  },
  {
   "cell_type": "code",
   "execution_count": 33,
   "metadata": {
    "collapsed": false
   },
   "outputs": [
    {
     "name": "stdout",
     "output_type": "stream",
     "text": [
      "Mean: 2.867337 Standard deviation: 2.255198 Min: 0.000000 Max: 7.000000\n"
     ]
    }
   ],
   "source": [
    "engagement_by_account = group_data(paid_engagement_in_first_week, \"account_key\")\n",
    "total_visits_per_day_per_account = sum_grouped_data(engagement_by_account, \"has_visited\")\n",
    "describe_data(list(total_visits_per_day_per_account.values()))"
   ]
  },
  {
   "cell_type": "markdown",
   "metadata": {},
   "source": [
    "## Splitting out Passing Students"
   ]
  },
  {
   "cell_type": "code",
   "execution_count": 34,
   "metadata": {
    "collapsed": false
   },
   "outputs": [
    {
     "name": "stdout",
     "output_type": "stream",
     "text": [
      "Passing:  0 Not passing:  0\n"
     ]
    }
   ],
   "source": [
    "######################################\n",
    "#                 11                 #\n",
    "######################################\n",
    "\n",
    "## Create two lists of engagement data for paid students in the first week.\n",
    "## The first list should contain data for students who eventually pass the\n",
    "## subway project, and the second list should contain data for students\n",
    "## who do not.\n",
    "\n",
    "subway_project_lesson_keys = ['746169184', '3176718735']\n",
    "\n",
    "passing_engagement = []\n",
    "non_passing_engagement = []\n",
    "\n",
    "# loop over project submission data\n",
    "for el in paid_submissions:\n",
    "\n",
    "    # check if project submission account key is in engagement data\n",
    "    if el[\"account_key\"] in paid_engagement:\n",
    "\n",
    "        print(e[\"account_key\"])\n",
    "        \n",
    "        # check if lesson key is in subway_project_lesson key\n",
    "        if el[\"lesson_key\"]  in subway_project_lesson_keys:\n",
    "            \n",
    "            print(e[\"lesson_key\"])\n",
    "    \n",
    "            # check if assigned_rating is PASSED or DISTINCTION\n",
    "            if el[\"assigned_rating\"]  in [\"PASSED\", \"DISTINCTION\"]:\n",
    "                \n",
    "                print(e[\"assigned_rating\"])\n",
    "                \n",
    "                # if so, add record to passing_engagement list\n",
    "                passing_engagement.append(el)\n",
    "        \n",
    "            # else add record to non_passing_engagement list\n",
    "            else:\n",
    "                non_passing_engagement.append(el)\n",
    "                \n",
    "print(\"Passing: \", len(passing_engagement), \"Not passing: \", len(non_passing_engagement)) "
   ]
  },
  {
   "cell_type": "code",
   "execution_count": 35,
   "metadata": {
    "collapsed": false
   },
   "outputs": [
    {
     "name": "stdout",
     "output_type": "stream",
     "text": [
      "4527\n",
      "2392\n"
     ]
    }
   ],
   "source": [
    "subway_project_lesson_keys = ['746169184', '3176718735']\n",
    "\n",
    "pass_subway_project = set()\n",
    "\n",
    "for el in paid_submissions: \n",
    "    if ((el[\"lesson_key\"] in subway_project_lesson_keys) and\n",
    "            (el[\"assigned_rating\"] == 'PASSED' or el[\"assigned_rating\"] == 'DISTINCTION')):\n",
    "        pass_subway_project.add(el['account_key'])\n",
    "\n",
    "len(pass_subway_project)\n",
    "\n",
    "passing_engagement = []\n",
    "non_passing_engagement = []\n",
    "\n",
    "for el in paid_engagement_in_first_week:\n",
    "    if el['account_key'] in pass_subway_project:\n",
    "        passing_engagement.append(el)\n",
    "    else:\n",
    "        non_passing_engagement.append(el)\n",
    "\n",
    "print(len(passing_engagement))\n",
    "print(len(non_passing_engagement))"
   ]
  },
  {
   "cell_type": "markdown",
   "metadata": {},
   "source": [
    "## Comparing the Two Student Groups"
   ]
  },
  {
   "cell_type": "code",
   "execution_count": 41,
   "metadata": {
    "collapsed": false
   },
   "outputs": [
    {
     "name": "stdout",
     "output_type": "stream",
     "text": [
      "Minutes \n",
      "\n",
      "Mean: 394.586046 Standard deviation: 448.499519 Min: 0.000000 Max: 3564.733264\n",
      "Mean: 143.326474 Standard deviation: 269.538619 Min: 0.000000 Max: 1768.522749\n",
      "\n",
      " Lessons \n",
      "\n",
      "Mean: 2.052550 Standard deviation: 3.142227 Min: 0.000000 Max: 36.000000\n",
      "Mean: 0.862069 Standard deviation: 2.549160 Min: 0.000000 Max: 27.000000\n",
      "\n",
      " Days \n",
      "\n",
      "Mean: 3.384853 Standard deviation: 2.258821 Min: 0.000000 Max: 7.000000\n",
      "Mean: 1.905172 Standard deviation: 1.905731 Min: 0.000000 Max: 7.000000\n",
      "\n",
      " Projects \n",
      "\n",
      "Mean: 0.009274 Standard deviation: 0.110810 Min: 0.000000 Max: 2.000000\n",
      "Mean: 0.000000 Standard deviation: 0.000000 Min: 0.000000 Max: 0.000000\n"
     ]
    }
   ],
   "source": [
    "######################################\n",
    "#                 12                 #\n",
    "######################################\n",
    "\n",
    "## Compute some metrics you're interested in and see how they differ for\n",
    "## students who pass the subway project vs. students who don't. A good\n",
    "## starting point would be the metrics we looked at earlier (minutes spent\n",
    "## in the classroom, lessons completed, and days visited).\n",
    "\n",
    "# prepare passing data\n",
    "passing_engagement_grouped = group_data(passing_engagement, \"account_key\")\n",
    "non_passing_engagement_grouped = group_data(non_passing_engagement, \"account_key\")\n",
    "\n",
    "passing_minutes = sum_grouped_data(passing_engagement_grouped, \"total_minutes_visited\")\n",
    "passing_lessons = sum_grouped_data(passing_engagement_grouped, \"lessons_completed\")\n",
    "passing_days = sum_grouped_data(passing_engagement_grouped, \"has_visited\")\n",
    "passing_projects = sum_grouped_data(passing_engagement_grouped, \"projects_completed\")\n",
    "\n",
    "# prepare non passing data\n",
    "non_passing_minutes = sum_grouped_data(non_passing_engagement_grouped, \"total_minutes_visited\")\n",
    "non_passing_lessons = sum_grouped_data(non_passing_engagement_grouped, \"lessons_completed\")\n",
    "non_passing_days = sum_grouped_data(non_passing_engagement_grouped, \"has_visited\")\n",
    "non_passing_projects = sum_grouped_data(non_passing_engagement_grouped, \"projects_completed\")\n",
    "\n",
    "# compare\n",
    "print(\"Minutes\", \"\\n\")\n",
    "describe_data(list(passing_minutes.values()))\n",
    "describe_data(list(non_passing_minutes.values()))\n",
    "\n",
    "print(\"\\n\", \"Lessons\", \"\\n\")\n",
    "describe_data(list(passing_lessons.values()))\n",
    "describe_data(list(non_passing_lessons.values()))\n",
    "\n",
    "print(\"\\n\", \"Days\", \"\\n\")\n",
    "describe_data(list(passing_days.values()))\n",
    "describe_data(list(non_passing_days.values()))\n",
    "\n",
    "print(\"\\n\", \"Projects\", \"\\n\")\n",
    "describe_data(list(passing_projects.values()))\n",
    "describe_data(list(non_passing_projects.values()))"
   ]
  },
  {
   "cell_type": "code",
   "execution_count": 37,
   "metadata": {
    "collapsed": false
   },
   "outputs": [
    {
     "data": {
      "text/plain": [
       "[{'account_key': '0',\n",
       "  'has_visited': 1,\n",
       "  'lessons_completed': 0,\n",
       "  'num_courses_visited': 1,\n",
       "  'projects_completed': 0,\n",
       "  'total_minutes_visited': 11.6793745,\n",
       "  'utc_date': datetime.datetime(2015, 1, 9, 0, 0)},\n",
       " {'account_key': '0',\n",
       "  'has_visited': 1,\n",
       "  'lessons_completed': 0,\n",
       "  'num_courses_visited': 2,\n",
       "  'projects_completed': 0,\n",
       "  'total_minutes_visited': 37.2848873333,\n",
       "  'utc_date': datetime.datetime(2015, 1, 10, 0, 0)}]"
      ]
     },
     "execution_count": 37,
     "metadata": {},
     "output_type": "execute_result"
    }
   ],
   "source": [
    "passing_engagement[0:2]"
   ]
  },
  {
   "cell_type": "markdown",
   "metadata": {},
   "source": [
    "## Making Histograms"
   ]
  },
  {
   "cell_type": "code",
   "execution_count": 51,
   "metadata": {
    "collapsed": false
   },
   "outputs": [],
   "source": [
    "######################################\n",
    "#                 13                 #\n",
    "######################################\n",
    "\n",
    "## Make histograms of the three metrics we looked at earlier for both\n",
    "## students who passed the subway project and students who didn't. You\n",
    "## might also want to make histograms of any other metrics you examined.\n",
    "\n",
    "# setup\n",
    "%matplotlib inline\n",
    "import matplotlib.pyplot as plt"
   ]
  },
  {
   "cell_type": "code",
   "execution_count": 52,
   "metadata": {
    "collapsed": false
   },
   "outputs": [
    {
     "data": {
      "text/plain": [
       "(array([ 370.,  155.,   83.,   19.,   10.,    4.,    2.,    3.,    0.,    1.]),\n",
       " array([    0.        ,   356.47332645,   712.9466529 ,  1069.41997935,\n",
       "         1425.8933058 ,  1782.36663225,  2138.8399587 ,  2495.31328515,\n",
       "         2851.7866116 ,  3208.25993805,  3564.7332645 ]),\n",
       " <a list of 10 Patch objects>)"
      ]
     },
     "execution_count": 52,
     "metadata": {},
     "output_type": "execute_result"
    },
    {
     "data": {
      "image/png": "[encoded data removed]",
      "text/plain": [
       "<matplotlib.figure.Figure at 0xc7e29b0>"
      ]
     },
     "metadata": {},
     "output_type": "display_data"
    }
   ],
   "source": [
    "# minutes passing\n",
    "plt.title(\"Passing students by minute\")\n",
    "plt.hist(list(passing_minutes.values()))"
   ]
  },
  {
   "cell_type": "code",
   "execution_count": 53,
   "metadata": {
    "collapsed": false
   },
   "outputs": [
    {
     "data": {
      "text/plain": [
       "(array([ 272.,   34.,   17.,    9.,    6.,    2.,    1.,    5.,    0.,    2.]),\n",
       " array([    0.        ,   176.85227493,   353.70454987,   530.5568248 ,\n",
       "          707.40909973,   884.26137467,  1061.1136496 ,  1237.96592453,\n",
       "         1414.81819947,  1591.6704744 ,  1768.52274933]),\n",
       " <a list of 10 Patch objects>)"
      ]
     },
     "execution_count": 53,
     "metadata": {},
     "output_type": "execute_result"
    },
    {
     "data": {
      "image/png": "[encoded data removed]",
      "text/plain": [
       "<matplotlib.figure.Figure at 0xc7b02e8>"
      ]
     },
     "metadata": {},
     "output_type": "display_data"
    }
   ],
   "source": [
    "# minutes non-passing\n",
    "plt.title(\"_NON_ Passing students by minute\")\n",
    "plt.hist(list(non_passing_minutes.values()))"
   ]
  },
  {
   "cell_type": "code",
   "execution_count": 54,
   "metadata": {
    "collapsed": false
   },
   "outputs": [
    {
     "data": {
      "text/plain": [
       "(array([ 516.,   97.,   23.,    4.,    3.,    3.,    0.,    0.,    0.,    1.]),\n",
       " array([  0. ,   3.6,   7.2,  10.8,  14.4,  18. ,  21.6,  25.2,  28.8,\n",
       "         32.4,  36. ]),\n",
       " <a list of 10 Patch objects>)"
      ]
     },
     "execution_count": 54,
     "metadata": {},
     "output_type": "execute_result"
    },
    {
     "data": {
      "image/png": "[encoded data removed]",
      "text/plain": [
       "<matplotlib.figure.Figure at 0xc8bdc18>"
      ]
     },
     "metadata": {},
     "output_type": "display_data"
    }
   ],
   "source": [
    "# lessons\n",
    "plt.title(\"Passing students by lessons\")\n",
    "plt.hist(list(passing_lessons.values()))"
   ]
  },
  {
   "cell_type": "code",
   "execution_count": 55,
   "metadata": {
    "collapsed": false
   },
   "outputs": [
    {
     "data": {
      "text/plain": [
       "(array([ 317.,   17.,    6.,    4.,    1.,    1.,    0.,    1.,    0.,    1.]),\n",
       " array([  0. ,   2.7,   5.4,   8.1,  10.8,  13.5,  16.2,  18.9,  21.6,\n",
       "         24.3,  27. ]),\n",
       " <a list of 10 Patch objects>)"
      ]
     },
     "execution_count": 55,
     "metadata": {},
     "output_type": "execute_result"
    },
    {
     "data": {
      "image/png": "[encoded data removed]",
      "text/plain": [
       "<matplotlib.figure.Figure at 0xc7b0e48>"
      ]
     },
     "metadata": {},
     "output_type": "display_data"
    }
   ],
   "source": [
    "# lessons non-passing\n",
    "plt.title(\"_NON_ Passing students by lessons\")\n",
    "plt.hist(list(non_passing_lessons.values()))"
   ]
  },
  {
   "cell_type": "code",
   "execution_count": 61,
   "metadata": {
    "collapsed": false
   },
   "outputs": [
    {
     "data": {
      "text/plain": [
       "(array([ 87.,  82.,  79.,   0.,  91.,  77.,   0.,  85.,  78.,  68.]),\n",
       " array([ 0. ,  0.7,  1.4,  2.1,  2.8,  3.5,  4.2,  4.9,  5.6,  6.3,  7. ]),\n",
       " <a list of 10 Patch objects>)"
      ]
     },
     "execution_count": 61,
     "metadata": {},
     "output_type": "execute_result"
    },
    {
     "data": {
      "image/png": "[encoded data removed]",
      "text/plain": [
       "<matplotlib.figure.Figure at 0xc71ae10>"
      ]
     },
     "metadata": {},
     "output_type": "display_data"
    }
   ],
   "source": [
    "# days\n",
    "plt.title(\"Passing students by days\")\n",
    "plt.hist(list(passing_days.values()))"
   ]
  },
  {
   "cell_type": "code",
   "execution_count": 57,
   "metadata": {
    "collapsed": false
   },
   "outputs": [
    {
     "data": {
      "text/plain": [
       "(array([ 97.,  90.,  56.,   0.,  41.,  15.,   0.,  24.,  17.,   8.]),\n",
       " array([ 0. ,  0.7,  1.4,  2.1,  2.8,  3.5,  4.2,  4.9,  5.6,  6.3,  7. ]),\n",
       " <a list of 10 Patch objects>)"
      ]
     },
     "execution_count": 57,
     "metadata": {},
     "output_type": "execute_result"
    },
    {
     "data": {
      "image/png": "[encoded data removed]",
      "text/plain": [
       "<matplotlib.figure.Figure at 0xc7289e8>"
      ]
     },
     "metadata": {},
     "output_type": "display_data"
    }
   ],
   "source": [
    "# days non-passing\n",
    "plt.title(\"_NON_ Passing students by days\")\n",
    "plt.hist(list(non_passing_days.values()))"
   ]
  },
  {
   "cell_type": "markdown",
   "metadata": {},
   "source": [
    "## Improving Plots and Sharing Findings"
   ]
  },
  {
   "cell_type": "code",
   "execution_count": 64,
   "metadata": {
    "collapsed": false
   },
   "outputs": [
    {
     "data": {
      "text/plain": [
       "(array([ 97.,  90.,  56.,  41.,  15.,  24.,  17.,   8.]),\n",
       " array([ 0.   ,  0.875,  1.75 ,  2.625,  3.5  ,  4.375,  5.25 ,  6.125,  7.   ]),\n",
       " <a list of 8 Patch objects>)"
      ]
     },
     "execution_count": 64,
     "metadata": {},
     "output_type": "execute_result"
    },
    {
     "data": {
      "image/png": "[encoded data removed]",
      "text/plain": [
       "<matplotlib.figure.Figure at 0xc194c18>"
      ]
     },
     "metadata": {},
     "output_type": "display_data"
    }
   ],
   "source": [
    "######################################\n",
    "#                 14                 #\n",
    "######################################\n",
    "\n",
    "## Make a more polished version of at least one of your visualizations\n",
    "## from earlier. Try importing the seaborn library to make the visualization\n",
    "## look better, adding axis labels and a title, and changing one or more\n",
    "## arguments to the hist() function.\n",
    "import seaborn as sns\n",
    "\n",
    "# seaborn only\n",
    "plt.title(\"_NON_ Passing students by days with S-E-A-B-O-R-N\")\n",
    "plt.xlabel(\"days spent in the classroom\")\n",
    "plt.ylabel(\"frequency\")\n",
    "plt.hist(list(non_passing_days.values()), bins=8)"
   ]
  },
  {
   "cell_type": "code",
   "execution_count": null,
   "metadata": {
    "collapsed": true
   },
   "outputs": [],
   "source": []
  }
 ],
 "metadata": {
  "kernelspec": {
   "display_name": "Python 3",
   "language": "python",
   "name": "python3"
  },
  "language_info": {
   "codemirror_mode": {
    "name": "ipython",
    "version": 3
   },
   "file_extension": ".py",
   "mimetype": "text/x-python",
   "name": "python",
   "nbconvert_exporter": "python",
   "pygments_lexer": "ipython3",
   "version": "3.5.1"
  }
 },
 "nbformat": 4,
 "nbformat_minor": 0
}
